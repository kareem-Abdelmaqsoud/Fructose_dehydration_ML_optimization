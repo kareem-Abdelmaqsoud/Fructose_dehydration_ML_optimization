{
  "nbformat": 4,
  "nbformat_minor": 0,
  "metadata": {
    "colab": {
      "name": "Demonstration.ipynb",
      "provenance": [],
      "collapsed_sections": []
    },
    "kernelspec": {
      "name": "python3",
      "display_name": "Python 3"
    },
    "language_info": {
      "name": "python"
    }
  },
  "cells": [
    {
      "cell_type": "markdown",
      "metadata": {
        "id": "eieiWpLm0hE5"
      },
      "source": [
        "## Importing the needed libraries"
      ]
    },
    {
      "cell_type": "code",
      "metadata": {
        "id": "jmzs7JKN0gIM"
      },
      "source": [
        "import numpy as np # array operations\n",
        "import pandas as pd # dataframe operations\n",
        "from scipy.stats import norm\n",
        "\n",
        "# plotting\n",
        "import matplotlib.pyplot as plt \n",
        "from matplotlib.ticker import (MultipleLocator,FormatStrFormatter,AutoMinorLocator)\n",
        "from mpl_toolkits.mplot3d import Axes3D\n",
        "import seaborn as sns\n",
        "\n",
        "# Machine learning related functions\n",
        "from sklearn.preprocessing import StandardScaler #normalizinginputs\n",
        "from sklearn.decomposition import PCA  # principal component analysis\n",
        "from sklearn.gaussian_process import GaussianProcessRegressor \n",
        "from sklearn.preprocessing import StandardScaler\n",
        "from sklearn.metrics import r2_score,mean_squared_error\n",
        "from sklearn.ensemble import RandomForestRegressor\n",
        "from sklearn.model_selection import train_test_split\n",
        "\n",
        "from numpy import mean\n",
        "from numpy import std\n",
        "from sklearn.datasets import make_classification\n",
        "from sklearn.model_selection import KFold\n",
        "from sklearn.model_selection import cross_val_score\n",
        "\n",
        "from tqdm.auto import tqdm #progress bar \n",
        "from warnings import filterwarnings #disable warnings\n",
        "filterwarnings('ignore')\n",
        "from IPython import display \n",
        "%matplotlib inline"
      ],
      "execution_count": 2,
      "outputs": []
    },
    {
      "cell_type": "markdown",
      "metadata": {
        "id": "0oEjRAWKJ32U"
      },
      "source": [
        "## uploading the dataset"
      ]
    },
    {
      "cell_type": "code",
      "metadata": {
        "id": "g_bVlLHZ1D9h",
        "colab": {
          "resources": {
            "http://localhost:8080/nbextensions/google.colab/files.js": {
              "data": "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",
              "ok": true,
              "headers": [
                [
                  "content-type",
                  "application/javascript"
                ]
              ],
              "status": 200,
              "status_text": ""
            }
          },
          "base_uri": "https://localhost:8080/",
          "height": 74
        },
        "outputId": "d8b19430-2771-44a8-c745-23e49b8800d0"
      },
      "source": [
        "from google.colab import files\n",
        "uploaded = files.upload()"
      ],
      "execution_count": 3,
      "outputs": [
        {
          "output_type": "display_data",
          "data": {
            "text/html": [
              "\n",
              "     <input type=\"file\" id=\"files-f28388ab-59c4-4c44-a125-14f58f8d2ad2\" name=\"files[]\" multiple disabled\n",
              "        style=\"border:none\" />\n",
              "     <output id=\"result-f28388ab-59c4-4c44-a125-14f58f8d2ad2\">\n",
              "      Upload widget is only available when the cell has been executed in the\n",
              "      current browser session. Please rerun this cell to enable.\n",
              "      </output>\n",
              "      <script src=\"/nbextensions/google.colab/files.js\"></script> "
            ],
            "text/plain": [
              "<IPython.core.display.HTML object>"
            ]
          },
          "metadata": {}
        },
        {
          "output_type": "stream",
          "name": "stdout",
          "text": [
            "Saving Rate_dataset.csv to Rate_dataset.csv\n"
          ]
        }
      ]
    },
    {
      "cell_type": "markdown",
      "metadata": {
        "id": "iUwSAH1ERtmS"
      },
      "source": [
        "## Data Preprocessing"
      ]
    },
    {
      "cell_type": "code",
      "metadata": {
        "id": "rJ5jzYP0RsdT"
      },
      "source": [
        "# read the dataset\n",
        "\n",
        "df = pd.read_csv('Rate_dataset.csv', sep=\",\")\n",
        "\n",
        "# remove missing values\n",
        "\n",
        "df = df[df['Si/Al'].notna()]\n",
        "\n",
        "# remove uncommon catalysts\n",
        "df = df[df['Catalyst'] !='KL']\n",
        "df = df[df['Catalyst'] !='KL (modified) *']\n",
        "df = df[df['Catalyst'] !='H-MCM-22']\n",
        "df = df[df['Catalyst'] !='Al-SBA15']\n",
        "df = df[df['Catalyst'] !='BEA(modified) *']\n",
        "df = df[df['Catalyst'] !='ZSM-5 (modified) *']\n",
        "df = df[df['Catalyst'] !='USY (modified) *']\n",
        "\n",
        "# convert the temperature from celcuis to Kelvin\n",
        "\n",
        "df['T(k)'] = df['Temperature ( °C)']+273"
      ],
      "execution_count": 4,
      "outputs": []
    },
    {
      "cell_type": "code",
      "metadata": {
        "colab": {
          "base_uri": "https://localhost:8080/"
        },
        "id": "YzXpLHQZK9ao",
        "outputId": "db3038f7-c856-4e42-c2b5-cb790de08dd9"
      },
      "source": [
        "# mount drive to save the plot pictures \n",
        "from google.colab import drive\n",
        "drive.mount('/content/gdrive')"
      ],
      "execution_count": 5,
      "outputs": [
        {
          "output_type": "stream",
          "name": "stdout",
          "text": [
            "Mounted at /content/gdrive\n"
          ]
        }
      ]
    },
    {
      "cell_type": "markdown",
      "metadata": {
        "id": "qYv2tD3sLYUE"
      },
      "source": [
        "### Compare the reaction rate constant obtained by two different methods"
      ]
    },
    {
      "cell_type": "code",
      "metadata": {
        "id": "UuAMD2r6R3Jj",
        "colab": {
          "base_uri": "https://localhost:8080/",
          "height": 300
        },
        "outputId": "4237e343-62e2-439e-be52-adbfd63d97d3"
      },
      "source": [
        "plt.plot(df[df['rate_constant_3(1/(min.g))']<=3.5]['Conversion_rate '], df[df['rate_constant_3(1/(min.g))']<=3.5]['rate_constant_1(1/(min.g))'], 'o', label = \"Method #1\")\n",
        "plt.plot(df[df['rate_constant_3(1/(min.g))']<=3.5]['Conversion_rate '], df[df['rate_constant_3(1/(min.g))']<=3.5]['rate_constant_2(1/(min.g))'], 'o', label = \"Method #2\")\n",
        "plt.xlabel(\"Fructose Conversion (mol%)\", Fontsize = 14)\n",
        "plt.ylabel(\"Rate Constant (1/(min*g))\",Fontsize = 14)\n",
        "plt.legend(fontsize = 14)\n",
        "plt.title(\"Rate Constant vs. Conversion\", fontsize = 14)\n",
        "images_dir = '/content/gdrive/My Drive'\n",
        "plt.savefig(f\"{images_dir}/rate_conversion.png\", bbox_inches='tight', dpi = 160)"
      ],
      "execution_count": 6,
      "outputs": [
        {
          "output_type": "display_data",
          "data": {
            "image/png": "[encoded data removed]",
            "text/plain": [
              "<Figure size 432x288 with 1 Axes>"
            ]
          },
          "metadata": {
            "needs_background": "light"
          }
        }
      ]
    },
    {
      "cell_type": "markdown",
      "metadata": {
        "id": "WRCpJ7hKPhfF"
      },
      "source": [
        "### Proceed with Method #2"
      ]
    },
    {
      "cell_type": "markdown",
      "metadata": {
        "id": "YfDxnq931Sdu"
      },
      "source": [
        "## Confirming First order kinetics using time dependent data from a paper"
      ]
    },
    {
      "cell_type": "code",
      "metadata": {
        "id": "BStDNhZaGZN9"
      },
      "source": [
        "mass = 4      # grams\n",
        "time = np.arange(30,330,30)\n",
        "X_experimental= np.array([15,25,45,50,62,64,75,80,82,85])\n",
        "S = np.array([15,27,40,46,42,45,41,40,39,38])"
      ],
      "execution_count": 7,
      "outputs": []
    },
    {
      "cell_type": "code",
      "metadata": {
        "id": "uVTgDnKE1tnD"
      },
      "source": [
        "# k units are 1/(min*gram)\n",
        "k = np.log(1/(1-X_experimental[-1]/100))*S[-1]/100/(time[-1]*mass) \n",
        "X_model = (1-np.exp((-1*k*time*mass)/(S/100)))*100"
      ],
      "execution_count": 8,
      "outputs": []
    },
    {
      "cell_type": "code",
      "metadata": {
        "colab": {
          "base_uri": "https://localhost:8080/",
          "height": 300
        },
        "id": "J4jdna8g2YCG",
        "outputId": "42d0a375-1c8c-4030-cd1d-a88f68adbd78"
      },
      "source": [
        "plt.plot(time,  X_model*S/100, 'o', label = \"Actual Yield\")\n",
        "plt.plot(time, X_experimental*S/100, 'o', label = \"Theoretical Yield\")\n",
        "plt.xlabel(\"Time (minutes)\",Fontsize = 14)\n",
        "plt.ylabel('HMF Yield %',Fontsize = 14)\n",
        "plt.title(\"Yield vs. time\",Fontsize = 14)\n",
        "plt.legend(fontsize = 12)\n",
        "images_dir = '/content/gdrive/My Drive'\n",
        "plt.savefig(f\"{images_dir}/time_model_yield.png\", bbox_inches='tight', dpi = 160)"
      ],
      "execution_count": 9,
      "outputs": [
        {
          "output_type": "display_data",
          "data": {
            "image/png": "[encoded data removed]",
            "text/plain": [
              "<Figure size 432x288 with 1 Axes>"
            ]
          },
          "metadata": {
            "needs_background": "light"
          }
        }
      ]
    },
    {
      "cell_type": "code",
      "metadata": {
        "id": "WgyCcVAlKyGy"
      },
      "source": [
        "dictionary = {\"Time\":time,\"X_experimental\":X_experimental,\"Selectivity\":S, \"X_theoritical\": X_model}\n",
        "dataframe = pd.DataFrame(dictionary)"
      ],
      "execution_count": 10,
      "outputs": []
    },
    {
      "cell_type": "code",
      "metadata": {
        "colab": {
          "base_uri": "https://localhost:8080/",
          "height": 363
        },
        "id": "XYuHw8BoLVEE",
        "outputId": "39a583f0-0051-4cfb-ba0c-1e50555cc32c"
      },
      "source": [
        "dataframe"
      ],
      "execution_count": 11,
      "outputs": [
        {
          "output_type": "execute_result",
          "data": {
            "text/html": [
              "<div>\n",
              "<style scoped>\n",
              "    .dataframe tbody tr th:only-of-type {\n",
              "        vertical-align: middle;\n",
              "    }\n",
              "\n",
              "    .dataframe tbody tr th {\n",
              "        vertical-align: top;\n",
              "    }\n",
              "\n",
              "    .dataframe thead th {\n",
              "        text-align: right;\n",
              "    }\n",
              "</style>\n",
              "<table border=\"1\" class=\"dataframe\">\n",
              "  <thead>\n",
              "    <tr style=\"text-align: right;\">\n",
              "      <th></th>\n",
              "      <th>Time</th>\n",
              "      <th>X_experimental</th>\n",
              "      <th>Selectivity</th>\n",
              "      <th>X_theoritical</th>\n",
              "    </tr>\n",
              "  </thead>\n",
              "  <tbody>\n",
              "    <tr>\n",
              "      <th>0</th>\n",
              "      <td>30</td>\n",
              "      <td>15</td>\n",
              "      <td>15</td>\n",
              "      <td>38.159007</td>\n",
              "    </tr>\n",
              "    <tr>\n",
              "      <th>1</th>\n",
              "      <td>60</td>\n",
              "      <td>25</td>\n",
              "      <td>27</td>\n",
              "      <td>41.374718</td>\n",
              "    </tr>\n",
              "    <tr>\n",
              "      <th>2</th>\n",
              "      <td>90</td>\n",
              "      <td>45</td>\n",
              "      <td>40</td>\n",
              "      <td>41.764741</td>\n",
              "    </tr>\n",
              "    <tr>\n",
              "      <th>3</th>\n",
              "      <td>120</td>\n",
              "      <td>50</td>\n",
              "      <td>46</td>\n",
              "      <td>46.574094</td>\n",
              "    </tr>\n",
              "    <tr>\n",
              "      <th>4</th>\n",
              "      <td>150</td>\n",
              "      <td>62</td>\n",
              "      <td>42</td>\n",
              "      <td>57.608442</td>\n",
              "    </tr>\n",
              "    <tr>\n",
              "      <th>5</th>\n",
              "      <td>180</td>\n",
              "      <td>64</td>\n",
              "      <td>45</td>\n",
              "      <td>61.756916</td>\n",
              "    </tr>\n",
              "    <tr>\n",
              "      <th>6</th>\n",
              "      <td>210</td>\n",
              "      <td>75</td>\n",
              "      <td>41</td>\n",
              "      <td>70.794538</td>\n",
              "    </tr>\n",
              "    <tr>\n",
              "      <th>7</th>\n",
              "      <td>240</td>\n",
              "      <td>80</td>\n",
              "      <td>40</td>\n",
              "      <td>76.350097</td>\n",
              "    </tr>\n",
              "    <tr>\n",
              "      <th>8</th>\n",
              "      <td>270</td>\n",
              "      <td>82</td>\n",
              "      <td>39</td>\n",
              "      <td>81.054965</td>\n",
              "    </tr>\n",
              "    <tr>\n",
              "      <th>9</th>\n",
              "      <td>300</td>\n",
              "      <td>85</td>\n",
              "      <td>38</td>\n",
              "      <td>85.000000</td>\n",
              "    </tr>\n",
              "  </tbody>\n",
              "</table>\n",
              "</div>"
            ],
            "text/plain": [
              "   Time  X_experimental  Selectivity  X_theoritical\n",
              "0    30              15           15      38.159007\n",
              "1    60              25           27      41.374718\n",
              "2    90              45           40      41.764741\n",
              "3   120              50           46      46.574094\n",
              "4   150              62           42      57.608442\n",
              "5   180              64           45      61.756916\n",
              "6   210              75           41      70.794538\n",
              "7   240              80           40      76.350097\n",
              "8   270              82           39      81.054965\n",
              "9   300              85           38      85.000000"
            ]
          },
          "metadata": {},
          "execution_count": 11
        }
      ]
    },
    {
      "cell_type": "code",
      "metadata": {
        "colab": {
          "base_uri": "https://localhost:8080/",
          "height": 300
        },
        "id": "_LPl6GylIbcR",
        "outputId": "df382fe6-bb75-4ebe-9439-d25cd8553ffc"
      },
      "source": [
        "plt.plot(time, X_experimental, 'o', label = 'experimental conversion')\n",
        "plt.plot(time, X_model, 'o', label = \"theoritical conversion\")\n",
        "plt.xlabel(\"Time (minutes)\",Fontsize = 14)\n",
        "plt.ylabel('Fructose conversion %',Fontsize = 14)\n",
        "plt.title(\"Conversion vs. time\",Fontsize = 14)\n",
        "plt.legend(fontsize = 12)\n",
        "images_dir = '/content/gdrive/My Drive'\n",
        "plt.savefig(f\"{images_dir}/time_model_conversion.png\", bbox_inches='tight', dpi = 160)"
      ],
      "execution_count": 12,
      "outputs": [
        {
          "output_type": "display_data",
          "data": {
            "image/png": "[encoded data removed]",
            "text/plain": [
              "<Figure size 432x288 with 1 Axes>"
            ]
          },
          "metadata": {
            "needs_background": "light"
          }
        }
      ]
    },
    {
      "cell_type": "markdown",
      "metadata": {
        "id": "HDn0042bNQl0"
      },
      "source": [
        "### Normalize all the rate constants to be at a temperature of 165°C using the Arrhenius equation"
      ]
    },
    {
      "cell_type": "code",
      "metadata": {
        "id": "wSTIcKq1NNaq"
      },
      "source": [
        "# constants\n",
        "T_2 = 165+273\n",
        "R = 8.314"
      ],
      "execution_count": 13,
      "outputs": []
    },
    {
      "cell_type": "code",
      "metadata": {
        "id": "RaTfJ5mcN4sZ"
      },
      "source": [
        "# H-MOR zeolite calculation\n",
        "Ea_mor = 141000\n",
        "df_mor = df[df['Catalyst'] == 'H-MOR']\n",
        "df_mor['normalized_k'] = df_mor['rate_constant_2(1/(min.g))']*np.exp(-(Ea_mor/R)*(1/T_2-1/df_mor['T(k)']))"
      ],
      "execution_count": 14,
      "outputs": []
    },
    {
      "cell_type": "code",
      "metadata": {
        "id": "V_vV0P5RN-xa"
      },
      "source": [
        "# H-ZSM zeolite calculation\n",
        "Ea_zsm = 132000\n",
        "df_zsm = df[df['Catalyst'] == 'H-ZSM-5']\n",
        "df_zsm['normalized_k'] = df_zsm['rate_constant_2(1/(min.g))']*np.exp(-(Ea_zsm/R)*(1/T_2-1/df_zsm['T(k)']))"
      ],
      "execution_count": 15,
      "outputs": []
    },
    {
      "cell_type": "code",
      "metadata": {
        "id": "gSWvwxWhOChZ"
      },
      "source": [
        "# H-BEA zeolite calculation\n",
        "Ea_bea = 142000\n",
        "df_bea = df[df['Catalyst'] == 'H-BEA']\n",
        "df_bea['normalized_k'] = df_bea['rate_constant_2(1/(min.g))']*np.exp(-(Ea_bea/R)*(1/T_2-1/df_bea['T(k)']))"
      ],
      "execution_count": 16,
      "outputs": []
    },
    {
      "cell_type": "code",
      "metadata": {
        "id": "_0XMyrjIOK8B"
      },
      "source": [
        "# H-USY zeolite calculation\n",
        "Ea_usy = 205000\n",
        "df_usy = df[df['Catalyst'] == 'H-USY']\n",
        "df_usy['normalized_k'] = df_usy['rate_constant_2(1/(min.g))']*np.exp(-(Ea_usy/R)*(1/T_2-1/df_usy['T(k)']))"
      ],
      "execution_count": 17,
      "outputs": []
    },
    {
      "cell_type": "code",
      "metadata": {
        "id": "fhfqtxZ3ORxS"
      },
      "source": [
        "frames = [df_mor, df_zsm ,df_bea, df_usy]\n",
        "df_2 = pd.concat(frames)\n",
        "df= df_2"
      ],
      "execution_count": 18,
      "outputs": []
    },
    {
      "cell_type": "markdown",
      "metadata": {
        "id": "cdzxO-J6OYkg"
      },
      "source": [
        "### Handling typos"
      ]
    },
    {
      "cell_type": "code",
      "metadata": {
        "id": "DGijH6g_OZ8d"
      },
      "source": [
        "df.loc[df['Type of catalyst'] =='Transition Metal Zolite','Type of catalyst'] = 'Transition Metal Zeolite'\n",
        "df.loc[df['Type of catalyst'] =='Protonated Zeolites','Type of catalyst'] = 'Protonated Zeolite'\n",
        "df.loc[df['Solvent_system'] =='Single Phase','Solvent_system'] = 'Single phase'\n",
        "df.loc[df['Solvent_system'] =='Biphasic ','Solvent_system'] = 'Biphasic'\n",
        "df.loc[df['Phase_1'] =='water','Phase_1'] = 'Water'\n",
        "df.loc[df['Phase_1'] =='Water ','Phase_1'] = 'Water'\n",
        "df.loc[df['Phase_1'] =='THF ','Phase_1'] = 'THF'\n",
        "df.loc[df['Phase_2'] =='THF ','Phase_2'] = 'THF'"
      ],
      "execution_count": 25,
      "outputs": []
    },
    {
      "cell_type": "markdown",
      "metadata": {
        "id": "0YI_2FOpOeMO"
      },
      "source": [
        "### Handling missing values"
      ]
    },
    {
      "cell_type": "code",
      "metadata": {
        "id": "uaLwdtekObOb"
      },
      "source": [
        "#handling Nan\n",
        "df['Phase_2'] = df['Phase_2'].fillna(\"one_phase\")\n",
        "for i in ['Surface_area_(m2/g)_BET','V(mic)_(cm3/g)','V(mesopore)_(cm3/g)','TPD_(NH3)_(micmol/g)','Lewis/Brosnted _acid_Sites','V(pore)_(cm3/g)']:\n",
        "    df[i] = df[i].fillna(df.groupby('Catalyst')[i].transform('mean'))"
      ],
      "execution_count": 27,
      "outputs": []
    },
    {
      "cell_type": "markdown",
      "metadata": {
        "id": "sK-MjrFsOkaM"
      },
      "source": [
        "### Removing outliers"
      ]
    },
    {
      "cell_type": "code",
      "metadata": {
        "colab": {
          "base_uri": "https://localhost:8080/"
        },
        "id": "EuK_S96DOgOR",
        "outputId": "9e3b0c50-f394-4eb3-dbf4-4698ec00966d"
      },
      "source": [
        "# put a limit on high values because of data unavailability\n",
        "df = df[df['normalized_k']<=0.4]\n",
        "df.shape"
      ],
      "execution_count": 28,
      "outputs": [
        {
          "output_type": "execute_result",
          "data": {
            "text/plain": [
              "(63, 41)"
            ]
          },
          "metadata": {},
          "execution_count": 28
        }
      ]
    },
    {
      "cell_type": "markdown",
      "metadata": {
        "id": "kLG71MiuPCCr"
      },
      "source": [
        "### Remove unimportant features"
      ]
    },
    {
      "cell_type": "code",
      "metadata": {
        "id": "vwETopHzO10L"
      },
      "source": [
        "df = df.drop(columns=['Mass_Cat_(g)',\t'Volume_(ml)'\t,'Substrate_amount','Fructose Conversion','HMF Selectivity','initial_rate(mol/(L.min))',\t'rate_constant(1/min)','Time (min)','M/Al (ie Sn, Cu..)','time_rate(min)'])\n",
        "df = df[df['Si/Al'].notna()]"
      ],
      "execution_count": 29,
      "outputs": []
    },
    {
      "cell_type": "code",
      "metadata": {
        "id": "0fwoaiafPNgY"
      },
      "source": [
        "df = df.drop(columns=['Selectivity_rate ','Conversion_rate ','intial concentration(M)','T(k)','b ','normalized_constant','Solvent system', 'V(mesopore)_(cm3/g)'])"
      ],
      "execution_count": 30,
      "outputs": []
    },
    {
      "cell_type": "code",
      "metadata": {
        "id": "xSaCD0FNPPEH"
      },
      "source": [
        "df =df.drop(columns=['Type of catalyst', 'Catalyst' , 'Phase_2','Lewis/Brosnted _acid_Sites','rate_constant_1(1/(min.g))','rate_constant_3(1/(min.g))'])"
      ],
      "execution_count": 31,
      "outputs": []
    },
    {
      "cell_type": "code",
      "metadata": {
        "colab": {
          "base_uri": "https://localhost:8080/"
        },
        "id": "XQNsA5n6PE9g",
        "outputId": "5d0a1512-4041-43b2-e899-89a0d11172c5"
      },
      "source": [
        "df.shape"
      ],
      "execution_count": 32,
      "outputs": [
        {
          "output_type": "execute_result",
          "data": {
            "text/plain": [
              "(63, 17)"
            ]
          },
          "metadata": {},
          "execution_count": 32
        }
      ]
    },
    {
      "cell_type": "markdown",
      "metadata": {
        "id": "lCRr7IoaROcw"
      },
      "source": [
        "## Data Analysis"
      ]
    },
    {
      "cell_type": "code",
      "metadata": {
        "colab": {
          "base_uri": "https://localhost:8080/",
          "height": 304
        },
        "id": "PCaL-RjCRRFd",
        "outputId": "bdd0322c-9731-43bc-a44c-a1eb2a54ef8e"
      },
      "source": [
        "plt.plot(df_mor[df_mor['normalized_k']<=0.4]['Selectivity_rate '], df_mor[df_mor['normalized_k']<=0.4]['normalized_k'], 'o', label = \"H-MOR\")\n",
        "plt.plot(df_zsm[df_zsm['normalized_k']<=0.4]['Selectivity_rate '], df_zsm[df_zsm['normalized_k']<=0.4]['normalized_k'], 'o', label = \"H-zsm\")\n",
        "plt.plot(df_bea[df_bea['normalized_k']<=0.4]['Selectivity_rate '], df_bea[df_bea['normalized_k']<=0.4]['normalized_k'], 'o', label = \"H-bea\")\n",
        "plt.plot(df_usy[df_usy['normalized_k']<=0.4]['Selectivity_rate '], df_usy[df_usy['normalized_k']<=0.4]['normalized_k'], 'o', label = \"H-USY\")\n",
        "plt.legend()\n",
        "plt.xlabel(\"HMF Selectivity (%)\", fontsize=14)\n",
        "plt.ylabel(\"Rate Constant (k) (1/min)\",fontsize=14)\n",
        "plt.title(\"Rate Constant vs. Selectivity\", fontsize = 14)\n",
        "plt.xticks(fontsize=14)\n",
        "plt.yticks(fontsize=14)\n",
        "images_dir = '/content/gdrive/My Drive'\n",
        "plt.savefig(f\"{images_dir}/Selectivity_conversion_1.png\", bbox_inches='tight', dpi = 160)"
      ],
      "execution_count": 33,
      "outputs": [
        {
          "output_type": "display_data",
          "data": {
            "image/png": "[encoded data removed]",
            "text/plain": [
              "<Figure size 432x288 with 1 Axes>"
            ]
          },
          "metadata": {
            "needs_background": "light"
          }
        }
      ]
    },
    {
      "cell_type": "code",
      "metadata": {
        "colab": {
          "base_uri": "https://localhost:8080/",
          "height": 304
        },
        "id": "-ntslKaCVv3N",
        "outputId": "1b489eb3-5b06-47f2-d967-a5de1aae0470"
      },
      "source": [
        "plt.plot(df_mor[df_mor['normalized_k']<=0.4]['HMF Yield'], df_mor[df_mor['normalized_k']<=0.4]['normalized_k'], 'o', label = \"H-MOR\")\n",
        "plt.plot(df_zsm[df_zsm['normalized_k']<=0.4]['HMF Yield'], df_zsm[df_zsm['normalized_k']<=0.4]['normalized_k'], 'o', label = \"H-zsm\")\n",
        "plt.plot(df_bea[df_bea['normalized_k']<=0.4]['HMF Yield'], df_bea[df_bea['normalized_k']<=0.4]['normalized_k'], 'o', label = \"H-bea\")\n",
        "plt.plot(df_usy[df_usy['normalized_k']<=0.4]['HMF Yield'], df_usy[df_usy['normalized_k']<=0.4]['normalized_k'], 'o', label = \"H-USY\")\n",
        "plt.legend()\n",
        "plt.xlabel(\"HMF yield (mol%)\", fontsize=14)\n",
        "plt.ylabel(\"Rate Constant (k) (1/min)\",fontsize=14)\n",
        "plt.title(\"Rate Constant vs. yield\", fontsize = 14)\n",
        "plt.xticks(fontsize=14)\n",
        "plt.yticks(fontsize=14)\n",
        "images_dir = '/content/gdrive/My Drive'\n",
        "plt.savefig(f\"{images_dir}/rate_yield.png\", bbox_inches='tight', dpi = 160)"
      ],
      "execution_count": 34,
      "outputs": [
        {
          "output_type": "display_data",
          "data": {
            "image/png": "[encoded data removed]",
            "text/plain": [
              "<Figure size 432x288 with 1 Axes>"
            ]
          },
          "metadata": {
            "needs_background": "light"
          }
        }
      ]
    },
    {
      "cell_type": "code",
      "metadata": {
        "colab": {
          "base_uri": "https://localhost:8080/"
        },
        "id": "Q4BvzLSZ4N3u",
        "outputId": "cc1de0fc-6933-460d-b8e3-9a3ed9b82f09"
      },
      "source": [
        "df[\"Solvent_system\"].unique()"
      ],
      "execution_count": 43,
      "outputs": [
        {
          "output_type": "execute_result",
          "data": {
            "text/plain": [
              "array(['Biphasic', 'Single phase'], dtype=object)"
            ]
          },
          "metadata": {},
          "execution_count": 43
        }
      ]
    },
    {
      "cell_type": "code",
      "metadata": {
        "id": "F_awOe31Z68n"
      },
      "source": [
        "df_2 = df[df['Solvent_system']==\"Single phase\"]"
      ],
      "execution_count": 44,
      "outputs": []
    },
    {
      "cell_type": "code",
      "metadata": {
        "colab": {
          "base_uri": "https://localhost:8080/",
          "height": 304
        },
        "id": "SlP_GXgLWtHZ",
        "outputId": "f08838a0-8616-45c6-d3bd-248e9c4976f3"
      },
      "source": [
        "plt.plot(df[df['Solvent_system']=='Biphasic']['HMF Yield'],df[df['Solvent_system']=='Biphasic']['normalized_k'],'o', label = \"Biphasic\")\n",
        "plt.plot(df_2[df_2['Phase_1']== \"Water\"]['HMF Yield'],df_2[df_2['Phase_1']== \"Water\"]['normalized_k'],'o', label =\"Single phase (Water)\" )\n",
        "plt.plot(df_2[df_2['Phase_1']!= \"Water\"]['HMF Yield'],df_2[df_2['Phase_1']!= \"Water\"]['normalized_k'],'o', label =\"Single phase (Organic)\" )\n",
        "plt.legend(loc= 'upper left')\n",
        "plt.xlabel(\"HMF Selectivity (%)\", fontsize=14)\n",
        "plt.ylabel(\"Rate Constant (k) (1/min)\",fontsize=14)\n",
        "plt.title(\"Rate Constant vs. Selectivity\", fontsize = 14)\n",
        "plt.xticks(fontsize=14)\n",
        "plt.yticks(fontsize=14)\n",
        "images_dir = '/content/gdrive/My Drive'\n",
        "plt.savefig(f\"{images_dir}/Selectivity_conversion.png\", bbox_inches='tight', dpi = 160)"
      ],
      "execution_count": 45,
      "outputs": [
        {
          "output_type": "display_data",
          "data": {
            "image/png": "[encoded data removed]",
            "text/plain": [
              "<Figure size 432x288 with 1 Axes>"
            ]
          },
          "metadata": {
            "needs_background": "light"
          }
        }
      ]
    },
    {
      "cell_type": "code",
      "metadata": {
        "colab": {
          "base_uri": "https://localhost:8080/",
          "height": 304
        },
        "id": "voMk_Kx-RW7g",
        "outputId": "22dfcfe4-d03b-42f0-fe39-ead4416f073b"
      },
      "source": [
        "plt.plot(df['max_diameter_sphere_diffusing(A)'], df['normalized_k'], 'o')\n",
        "plt.xlabel('max diameter of sphere diffusing(A)', fontsize=14)\n",
        "plt.ylabel('rate constant', fontsize=14)\n",
        "plt.xticks(fontsize=14)\n",
        "plt.yticks(fontsize=14)\n",
        "plt.title(\"Rate consant vs. Diffusion Diameter\", fontsize = 14)\n",
        "images_dir = '/content/gdrive/My Drive'\n",
        "plt.savefig(f\"{images_dir}/yield_diameter.png\", bbox_inches='tight', dpi = 160)"
      ],
      "execution_count": 46,
      "outputs": [
        {
          "output_type": "display_data",
          "data": {
            "image/png": "[encoded data removed]",
            "text/plain": [
              "<Figure size 432x288 with 1 Axes>"
            ]
          },
          "metadata": {
            "needs_background": "light"
          }
        }
      ]
    },
    {
      "cell_type": "code",
      "metadata": {
        "colab": {
          "base_uri": "https://localhost:8080/",
          "height": 304
        },
        "id": "tdjRNg_ST0e8",
        "outputId": "819a27c9-d0db-4733-f7d7-baff9d64c766"
      },
      "source": [
        "plt.plot(df['Accessible_Volume(%)'], df['normalized_k'], 'o')\n",
        "plt.xlabel('Accessible_Volume(%)',fontsize=14)\n",
        "plt.ylabel('rate constant',fontsize=14)\n",
        "plt.xticks(fontsize=14)\n",
        "plt.yticks(fontsize=14)\n",
        "plt.title(\"Rate consant vs. Diffusion Diameter\", fontsize = 14)\n",
        "images_dir = '/content/gdrive/My Drive'\n",
        "plt.savefig(f\"{images_dir}/yield_diameter.png\", bbox_inches='tight', dpi = 160)"
      ],
      "execution_count": 47,
      "outputs": [
        {
          "output_type": "display_data",
          "data": {
            "image/png": "[encoded data removed]",
            "text/plain": [
              "<Figure size 432x288 with 1 Axes>"
            ]
          },
          "metadata": {
            "needs_background": "light"
          }
        }
      ]
    },
    {
      "cell_type": "code",
      "metadata": {
        "colab": {
          "base_uri": "https://localhost:8080/",
          "height": 304
        },
        "id": "AePmpiaPVkLP",
        "outputId": "5e7dbf3b-0d36-4263-e82b-d2f50a5b9247"
      },
      "source": [
        "plt.plot(df[df['HMF Yield']<=80]['max_diameter_sphere_diffusing(A)'], df[df['HMF Yield']<=80]['HMF Yield'], 'o')\n",
        "plt.xlabel('max diameter of sphere diffusing(A)',fontsize=14)\n",
        "plt.ylabel('HMF Yield (mol%)',fontsize=14)\n",
        "plt.xticks(fontsize=14)\n",
        "plt.yticks(fontsize=14)\n",
        "plt.title(\"Yield vs. Diffusion Diameter\", fontsize = 14)\n",
        "images_dir = '/content/gdrive/My Drive'\n",
        "plt.savefig(f\"{images_dir}/yield_diameter.png\", bbox_inches='tight', dpi = 160)"
      ],
      "execution_count": 48,
      "outputs": [
        {
          "output_type": "display_data",
          "data": {
            "image/png": "[encoded data removed]",
            "text/plain": [
              "<Figure size 432x288 with 1 Axes>"
            ]
          },
          "metadata": {
            "needs_background": "light"
          }
        }
      ]
    },
    {
      "cell_type": "code",
      "metadata": {
        "colab": {
          "base_uri": "https://localhost:8080/",
          "height": 304
        },
        "id": "4rvIvBbNUpZI",
        "outputId": "dfefa43d-3f84-4edd-d9f3-d28854b5df56"
      },
      "source": [
        "plt.plot(df[df['HMF Yield']<=80]['Accessible_Volume(%)'], df[df['HMF Yield']<=80]['HMF Yield'], 'o')\n",
        "plt.xlabel('Accessible Volume (%)',fontsize=14)\n",
        "plt.ylabel('HMF Yield (mol%)',fontsize=14)\n",
        "plt.xticks(fontsize=14)\n",
        "plt.yticks(fontsize=14)\n",
        "plt.title(\"Yield vs. Accessible Volume\", fontsize = 14)\n",
        "images_dir = '/content/gdrive/My Drive'\n",
        "plt.savefig(f\"{images_dir}/Yield_access_vol.png\", bbox_inches='tight', dpi = 160)"
      ],
      "execution_count": 49,
      "outputs": [
        {
          "output_type": "display_data",
          "data": {
            "image/png": "[encoded data removed]",
            "text/plain": [
              "<Figure size 432x288 with 1 Axes>"
            ]
          },
          "metadata": {
            "needs_background": "light"
          }
        }
      ]
    },
    {
      "cell_type": "code",
      "metadata": {
        "id": "xJ5h3rIFVbpg"
      },
      "source": [
        "df =df.drop(columns=['Phase_1', 'Solvent_system', 'Avg_pore_diameter(nm)','Surface_area_(m2/g)_BET','V(pore)_(cm3/g)','V(mic)_(cm3/g)'])"
      ],
      "execution_count": 50,
      "outputs": []
    },
    {
      "cell_type": "markdown",
      "metadata": {
        "id": "zFkecwl1cwxj"
      },
      "source": [
        "## Regression"
      ]
    },
    {
      "cell_type": "code",
      "metadata": {
        "id": "qC5CFNdmctug"
      },
      "source": [
        "# 'Temperature ( °C)'\n",
        "features = df.drop(columns = ['normalized_k',\"HMF Yield\"]).values\n",
        "feature_list = list(df.drop(columns = ['normalized_k',\"HMF Yield\"]).columns)\n",
        "labels = df['normalized_k'].values"
      ],
      "execution_count": 51,
      "outputs": []
    },
    {
      "cell_type": "code",
      "metadata": {
        "id": "huTrXYqYcz-y"
      },
      "source": [
        "# Using Skicit-learn to split data into training and testing sets\n",
        "from sklearn.model_selection import train_test_split\n",
        "# Split the data into training and testing sets\n",
        "train_features, test_features, train_labels, test_labels = train_test_split(features, labels, test_size = 0.2, random_state = 42)"
      ],
      "execution_count": 52,
      "outputs": []
    },
    {
      "cell_type": "code",
      "metadata": {
        "colab": {
          "base_uri": "https://localhost:8080/"
        },
        "id": "dRiVEXtmc3fg",
        "outputId": "5c83e1a5-6b79-427b-a59c-08c28a7a2de3"
      },
      "source": [
        "print('Training Features Shape:', train_features.shape)\n",
        "print('Training Labels Shape:', train_labels.shape)\n",
        "print('Testing Features Shape:', test_features.shape)\n",
        "print('Testing Labels Shape:', test_labels.shape)"
      ],
      "execution_count": 53,
      "outputs": [
        {
          "output_type": "stream",
          "name": "stdout",
          "text": [
            "Training Features Shape: (50, 9)\n",
            "Training Labels Shape: (50,)\n",
            "Testing Features Shape: (13, 9)\n",
            "Testing Labels Shape: (13,)\n"
          ]
        }
      ]
    },
    {
      "cell_type": "code",
      "metadata": {
        "colab": {
          "base_uri": "https://localhost:8080/"
        },
        "id": "bWrXuieOc6e4",
        "outputId": "45084c02-fe14-4cc2-efc5-d477759b98da"
      },
      "source": [
        "# The baseline predictions are the historical averages\n",
        "baseline_preds = np.mean(test_labels)\n",
        "# Baseline errors, and display average baseline error\n",
        "baseline_errors = abs(baseline_preds - test_labels)\n",
        "print('Average baseline error: ', round(np.mean(baseline_errors), 5))"
      ],
      "execution_count": 54,
      "outputs": [
        {
          "output_type": "stream",
          "name": "stdout",
          "text": [
            "Average baseline error:  0.02802\n"
          ]
        }
      ]
    },
    {
      "cell_type": "markdown",
      "metadata": {
        "id": "T1kGDOa0c-p8"
      },
      "source": [
        "### Random Hyperparameter search for Random forest"
      ]
    },
    {
      "cell_type": "code",
      "metadata": {
        "id": "d7kR7Mhrc7kR"
      },
      "source": [
        "# use random research to find the best hyperparameters for RF\n",
        "from sklearn.model_selection import RandomizedSearchCV\n",
        "# Number of trees in random forest\n",
        "n_estimators = [int(x) for x in np.linspace(start = 200, stop = 2000, num = 10)]\n",
        "# Number of features to consider at every split\n",
        "max_features = ['auto', 'sqrt']\n",
        "# Maximum number of levels in tree\n",
        "max_depth = [int(x) for x in np.linspace(10, 110, num = 11)]\n",
        "max_depth.append(None)\n",
        "# Minimum number of samples required to split a node\n",
        "min_samples_split = [2, 5, 10]\n",
        "# Minimum number of samples required at each leaf node\n",
        "min_samples_leaf = [1, 2, 4]\n",
        "# Method of selecting samples for training each tree\n",
        "bootstrap = [True, False]\n",
        "# Create the random grid\n",
        "random_grid = {'n_estimators': n_estimators,\n",
        "               'max_features': max_features,\n",
        "               'max_depth': max_depth,\n",
        "               'min_samples_split': min_samples_split,\n",
        "               'min_samples_leaf': min_samples_leaf,\n",
        "               'bootstrap': bootstrap}"
      ],
      "execution_count": 55,
      "outputs": []
    },
    {
      "cell_type": "code",
      "metadata": {
        "colab": {
          "base_uri": "https://localhost:8080/"
        },
        "id": "hoyl-uZwdEKB",
        "outputId": "c5d71ec9-a85d-4152-c243-0c3348685abf"
      },
      "source": [
        "# Use the random grid to search for best hyperparameters\n",
        "# First create the base model to tune\n",
        "rf = RandomForestRegressor()\n",
        "# Random search of parameters, using 3 fold cross validation, \n",
        "# search across 100 different combinations, and use all available cores\n",
        "rf_random = RandomizedSearchCV(estimator = rf, param_distributions = random_grid, n_iter = 100, cv = 3, verbose=2, random_state=42, n_jobs = -1)\n",
        "# Fit the random search model\n",
        "rf_random.fit(train_features, train_labels)"
      ],
      "execution_count": 56,
      "outputs": [
        {
          "output_type": "stream",
          "name": "stdout",
          "text": [
            "Fitting 3 folds for each of 100 candidates, totalling 300 fits\n"
          ]
        },
        {
          "output_type": "stream",
          "name": "stderr",
          "text": [
            "[Parallel(n_jobs=-1)]: Using backend LokyBackend with 2 concurrent workers.\n",
            "[Parallel(n_jobs=-1)]: Done  37 tasks      | elapsed:   39.0s\n",
            "[Parallel(n_jobs=-1)]: Done 158 tasks      | elapsed:  2.7min\n",
            "[Parallel(n_jobs=-1)]: Done 300 out of 300 | elapsed:  5.1min finished\n"
          ]
        },
        {
          "output_type": "execute_result",
          "data": {
            "text/plain": [
              "RandomizedSearchCV(cv=3, error_score=nan,\n",
              "                   estimator=RandomForestRegressor(bootstrap=True,\n",
              "                                                   ccp_alpha=0.0,\n",
              "                                                   criterion='mse',\n",
              "                                                   max_depth=None,\n",
              "                                                   max_features='auto',\n",
              "                                                   max_leaf_nodes=None,\n",
              "                                                   max_samples=None,\n",
              "                                                   min_impurity_decrease=0.0,\n",
              "                                                   min_impurity_split=None,\n",
              "                                                   min_samples_leaf=1,\n",
              "                                                   min_samples_split=2,\n",
              "                                                   min_weight_fraction_leaf=0.0,\n",
              "                                                   n_estimators=100,\n",
              "                                                   n_jobs=None, oob_score=Fals...\n",
              "                   param_distributions={'bootstrap': [True, False],\n",
              "                                        'max_depth': [10, 20, 30, 40, 50, 60,\n",
              "                                                      70, 80, 90, 100, 110,\n",
              "                                                      None],\n",
              "                                        'max_features': ['auto', 'sqrt'],\n",
              "                                        'min_samples_leaf': [1, 2, 4],\n",
              "                                        'min_samples_split': [2, 5, 10],\n",
              "                                        'n_estimators': [200, 400, 600, 800,\n",
              "                                                         1000, 1200, 1400, 1600,\n",
              "                                                         1800, 2000]},\n",
              "                   pre_dispatch='2*n_jobs', random_state=42, refit=True,\n",
              "                   return_train_score=False, scoring=None, verbose=2)"
            ]
          },
          "metadata": {},
          "execution_count": 56
        }
      ]
    },
    {
      "cell_type": "code",
      "metadata": {
        "colab": {
          "base_uri": "https://localhost:8080/"
        },
        "id": "hnKZr9yUdFYx",
        "outputId": "5df87a44-cc42-4d88-9bfc-d97ca95b6c97"
      },
      "source": [
        "rf_random.best_estimator_"
      ],
      "execution_count": 57,
      "outputs": [
        {
          "output_type": "execute_result",
          "data": {
            "text/plain": [
              "RandomForestRegressor(bootstrap=False, ccp_alpha=0.0, criterion='mse',\n",
              "                      max_depth=None, max_features='sqrt', max_leaf_nodes=None,\n",
              "                      max_samples=None, min_impurity_decrease=0.0,\n",
              "                      min_impurity_split=None, min_samples_leaf=1,\n",
              "                      min_samples_split=2, min_weight_fraction_leaf=0.0,\n",
              "                      n_estimators=400, n_jobs=None, oob_score=False,\n",
              "                      random_state=None, verbose=0, warm_start=False)"
            ]
          },
          "metadata": {},
          "execution_count": 57
        }
      ]
    },
    {
      "cell_type": "code",
      "metadata": {
        "id": "NvqGbwCddHS5"
      },
      "source": [
        "#best_random.fit(train_features, train_labels)\n",
        "best_random = rf_random.best_estimator_\n",
        "best_random.fit(train_features, train_labels)\n",
        "random_accuracy = best_random.score(test_features, test_labels)"
      ],
      "execution_count": 58,
      "outputs": []
    },
    {
      "cell_type": "markdown",
      "metadata": {
        "id": "KIjGQsbHdPkR"
      },
      "source": [
        "### Compare Random Forest with a baseline model"
      ]
    },
    {
      "cell_type": "code",
      "metadata": {
        "id": "X_SqrJP5dI9Z"
      },
      "source": [
        "base_model = RandomForestRegressor(n_estimators = 1000, random_state = 42)\n",
        "base_model.fit(train_features, train_labels)\n",
        "base_accuracy = base_model.score(test_features, test_labels)"
      ],
      "execution_count": 59,
      "outputs": []
    },
    {
      "cell_type": "code",
      "metadata": {
        "colab": {
          "base_uri": "https://localhost:8080/"
        },
        "id": "8DCuJ2__dVgB",
        "outputId": "b3bdccf6-8ab4-4fc9-a930-9cf0acd18868"
      },
      "source": [
        "print('Improvement of {:0.2f}%.'.format( 100 * (random_accuracy - base_accuracy) / base_accuracy))"
      ],
      "execution_count": 60,
      "outputs": [
        {
          "output_type": "stream",
          "name": "stdout",
          "text": [
            "Improvement of -1.76%.\n"
          ]
        }
      ]
    },
    {
      "cell_type": "markdown",
      "metadata": {
        "id": "GqXKKe2XdocF"
      },
      "source": [
        "### Random Forest Training"
      ]
    },
    {
      "cell_type": "code",
      "metadata": {
        "colab": {
          "base_uri": "https://localhost:8080/"
        },
        "id": "MNB5AsWIdbBP",
        "outputId": "faa6a665-c2f4-483f-ecb4-92f4e2688ae3"
      },
      "source": [
        "rf  = best_random\n",
        "rf.fit(train_features, train_labels)"
      ],
      "execution_count": 61,
      "outputs": [
        {
          "output_type": "execute_result",
          "data": {
            "text/plain": [
              "RandomForestRegressor(bootstrap=False, ccp_alpha=0.0, criterion='mse',\n",
              "                      max_depth=None, max_features='sqrt', max_leaf_nodes=None,\n",
              "                      max_samples=None, min_impurity_decrease=0.0,\n",
              "                      min_impurity_split=None, min_samples_leaf=1,\n",
              "                      min_samples_split=2, min_weight_fraction_leaf=0.0,\n",
              "                      n_estimators=400, n_jobs=None, oob_score=False,\n",
              "                      random_state=None, verbose=0, warm_start=False)"
            ]
          },
          "metadata": {},
          "execution_count": 61
        }
      ]
    },
    {
      "cell_type": "code",
      "metadata": {
        "colab": {
          "base_uri": "https://localhost:8080/"
        },
        "id": "iCOIvzGGdYAq",
        "outputId": "2758dbfb-449b-42e6-cc2d-f13ae934850e"
      },
      "source": [
        "# Use the forest's predict method on the test data\n",
        "train_pred = rf.predict(train_features)\n",
        "# Use the forest's predict method on the test data\n",
        "predictions = rf.predict(test_features)\n",
        "# Calculate the absolute errors\n",
        "errors_train = (train_pred - train_labels)**2\n",
        "errors = (predictions - test_labels)**2\n",
        "# Print out the mean absolute error (mae)\n",
        "print('Mean Absolute Error(train):', round(np.sqrt(np.mean(errors_train)), 5), 'degrees.')\n",
        "print('Mean Absolute Error(test):', round(np.sqrt(np.mean(errors)), 5), 'degrees.')"
      ],
      "execution_count": 62,
      "outputs": [
        {
          "output_type": "stream",
          "name": "stdout",
          "text": [
            "Mean Absolute Error(train): 8e-05 degrees.\n",
            "Mean Absolute Error(test): 0.01251 degrees.\n"
          ]
        }
      ]
    },
    {
      "cell_type": "code",
      "metadata": {
        "colab": {
          "base_uri": "https://localhost:8080/",
          "height": 303
        },
        "id": "hDsouAWrdv5u",
        "outputId": "e6239660-7454-4288-d225-af21bd80e44b"
      },
      "source": [
        "#print(\"Accuracy = \", rf.score(train_features,train_labels)*100)\n",
        "plt.plot(train_labels, train_labels, '-',linewidth=0.2,color = '#1f77b4')\n",
        "plt.plot(train_labels,train_pred , 'o',color = '#ff7f0e', label='train_predictions')\n",
        "plt.plot(test_labels,predictions , 'o',color = '#2ca02c', label ='test_prediction')\n",
        "plt.text(0.001,0.15,'CV RMSE= 0.03 (11.5%)')\n",
        "plt.style.use('seaborn-pastel')\n",
        "\n",
        "plt.title('Rate Constant Model', fontsize= 14)\n",
        "plt.xlabel('k Experimental (1/min)', fontsize= 14)\n",
        "plt.ylabel('k Prediction (1/min)',fontsize= 14)\n",
        "plt.xticks(fontsize=12)\n",
        "plt.yticks(fontsize=12)\n",
        "plt.legend(fontsize=12)\n",
        "\n",
        "images_dir = '/content/gdrive/My Drive'\n",
        "plt.savefig(f\"{images_dir}/rate_train_final.png\", bbox_inches='tight', dpi = 160)"
      ],
      "execution_count": 63,
      "outputs": [
        {
          "output_type": "display_data",
          "data": {
            "image/png": "[encoded data removed]",
            "text/plain": [
              "<Figure size 432x288 with 1 Axes>"
            ]
          },
          "metadata": {
            "needs_background": "light"
          }
        }
      ]
    },
    {
      "cell_type": "markdown",
      "metadata": {
        "id": "OQmZU7C-d28r"
      },
      "source": [
        "### Feature importance"
      ]
    },
    {
      "cell_type": "code",
      "metadata": {
        "id": "oKY-Ppqwd5B7"
      },
      "source": [
        "from sklearn.feature_selection import SelectFromModel\n",
        "model = SelectFromModel(rf, prefit= True)"
      ],
      "execution_count": 64,
      "outputs": []
    },
    {
      "cell_type": "code",
      "metadata": {
        "colab": {
          "base_uri": "https://localhost:8080/"
        },
        "id": "b9yJUPN9d6eD",
        "outputId": "a27e3b1c-f1ea-46a2-84cd-74b6ab28c580"
      },
      "source": [
        "# Get numerical feature importances\n",
        "importances = list(base_model.feature_importances_)\n",
        "# List of tuples with variable and importance\n",
        "feature_importances = [(feature, round(importance, 2)) for feature, importance in zip(feature_list, importances)]\n",
        "# Sort the feature importances by most important first\n",
        "feature_importances = sorted(feature_importances, key = lambda x: x[1], reverse = True)\n",
        "# Print out the feature and importances \n",
        "[print('Variable: {:20} Importance: {}'.format(*pair)) for pair in feature_importances];"
      ],
      "execution_count": 65,
      "outputs": [
        {
          "output_type": "stream",
          "name": "stdout",
          "text": [
            "Variable: rate_constant_2(1/(min.g)) Importance: 0.61\n",
            "Variable: TPD_(NH3)_(micmol/g) Importance: 0.14\n",
            "Variable: catalyst_substrate_loading Importance: 0.07\n",
            "Variable: Total_dipole_moment(D) Importance: 0.05\n",
            "Variable: Temperature ( °C)    Importance: 0.05\n",
            "Variable: Si/Al                Importance: 0.03\n",
            "Variable: Accessible_Volume(%) Importance: 0.03\n",
            "Variable: max_diameter_sphere_diffusing(A) Importance: 0.02\n",
            "Variable: phase_2/phase_1      Importance: 0.02\n"
          ]
        }
      ]
    },
    {
      "cell_type": "code",
      "metadata": {
        "colab": {
          "base_uri": "https://localhost:8080/",
          "height": 297
        },
        "id": "GeVE_Z2rd9Yp",
        "outputId": "900feee3-6142-45d8-86c4-5208ca84ef5e"
      },
      "source": [
        "labels= [\"Dipole Moment\", \"Si/Al\", \"BET Surface Area\", \"Catalyst/Substrate Loading\",\"TPD\", \"phase_2/phase_1\"]\n",
        "sizes = [0.3,0.15,0.14,0.1,0.09,0.08]\n",
        "#colors\n",
        "#colors = ['#ff9999','#66b3ff','#99ff99','#ffcc99']\n",
        "plt.title(\"k prediction feature importance\", size = 16)\n",
        "\n",
        "#explsion\n",
        "explode = (0.05,0.05,0.05,0.05, 0.05,0.05)\n",
        "plt.pie(sizes, labels=labels, autopct='%1.1f%%', startangle=90, pctdistance=0.85, explode = explode,  textprops={'fontsize': 14})\n",
        "#draw circle\n",
        "centre_circle = plt.Circle((0,0),0.70,fc='white')\n",
        "fig = plt.gcf()\n",
        "fig.gca().add_artist(centre_circle)\n",
        "# Equal aspect ratio ensures that pie is drawn as a circle\n",
        "#ax1.axis('equal')  \n",
        "plt.tight_layout()\n",
        "images_dir = '/content/gdrive/My Drive'\n",
        "plt.savefig(f\"{images_dir}/feature_importance_1.png\", dpi = 160)"
      ],
      "execution_count": 66,
      "outputs": [
        {
          "output_type": "display_data",
          "data": {
            "image/png": "[encoded data removed]",
            "text/plain": [
              "<Figure size 432x288 with 1 Axes>"
            ]
          },
          "metadata": {}
        }
      ]
    },
    {
      "cell_type": "markdown",
      "metadata": {
        "id": "gG6cLYKJeCfm"
      },
      "source": [
        "### Evaluate performance using K-fold cross Validation"
      ]
    },
    {
      "cell_type": "code",
      "metadata": {
        "id": "8EWFAkszOU7w"
      },
      "source": [
        "# 'Temperature ( °C)'\n",
        "features = df.drop(columns = ['normalized_k',\"HMF Yield\"]).values\n",
        "feature_list = list(df.drop(columns = ['normalized_k',\"HMF Yield\"]).columns)\n",
        "labels = df['normalized_k'].values"
      ],
      "execution_count": 69,
      "outputs": []
    },
    {
      "cell_type": "code",
      "metadata": {
        "colab": {
          "base_uri": "https://localhost:8080/"
        },
        "id": "-JLGA_o4eCxs",
        "outputId": "3c4e1e65-cd0d-4803-dee1-e45fc0c62fda"
      },
      "source": [
        "# New random forest with only the two most important variables\n",
        "model = best_random \n",
        "cv = KFold(n_splits=5, random_state=1, shuffle=True)\n",
        "scores = cross_val_score(model, features, labels, scoring='neg_root_mean_squared_error', cv=cv, n_jobs=-1)\n",
        "# report performance\n",
        "print('RMSE: %.4f (%.4f)' % (np.abs(mean(scores)), np.std(scores)))\n",
        "#print('accuracy %.3f (%.3f)' % (np.abs(mean(model.score)), std(scores)))"
      ],
      "execution_count": 70,
      "outputs": [
        {
          "output_type": "stream",
          "name": "stdout",
          "text": [
            "RMSE: 0.0298 (0.0149)\n"
          ]
        }
      ]
    },
    {
      "cell_type": "code",
      "metadata": {
        "colab": {
          "base_uri": "https://localhost:8080/"
        },
        "id": "iLfQe61uePGB",
        "outputId": "f2fa0273-b46d-4249-f7a8-f87c1988ff96"
      },
      "source": [
        "# spanning range scaled error\n",
        "range = np.max(labels)-np.min(labels)\n",
        "print(\"scaled error: %.1f\" % (np.abs(mean(scores))/range*100),\"%\")"
      ],
      "execution_count": 71,
      "outputs": [
        {
          "output_type": "stream",
          "name": "stdout",
          "text": [
            "scaled error: 11.4 %\n"
          ]
        }
      ]
    }
  ]
}