{
  "nbformat": 4,
  "nbformat_minor": 0,
  "metadata": {
    "colab": {
      "name": "Rate_model.ipynb",
      "provenance": [],
      "collapsed_sections": []
    },
    "kernelspec": {
      "display_name": "Python 3",
      "name": "python3"
    },
    "language_info": {
      "name": "python"
    }
  },
  "cells": [
    {
      "cell_type": "code",
      "metadata": {
        "id": "igvi_Ya616-6"
      },
      "source": [
        "import numpy as np # array operations\n",
        "import pandas as pd # dataframe operations\n",
        "from scipy.stats import norm\n",
        "\n",
        "# plotting\n",
        "import matplotlib.pyplot as plt \n",
        "from matplotlib.ticker import (MultipleLocator,FormatStrFormatter,AutoMinorLocator)\n",
        "from mpl_toolkits.mplot3d import Axes3D\n",
        "import seaborn as sns\n",
        "\n",
        "# Machine learning related functions\n",
        "from sklearn.preprocessing import StandardScaler #normalizinginputs\n",
        "from sklearn.decomposition import PCA  # principal component analysis\n",
        "from sklearn.gaussian_process import GaussianProcessRegressor \n",
        "from sklearn.preprocessing import StandardScaler\n",
        "from sklearn.metrics import r2_score,mean_squared_error\n",
        "from sklearn.ensemble import RandomForestRegressor\n",
        "from sklearn.model_selection import train_test_split\n",
        "\n",
        "from numpy import mean\n",
        "from numpy import std\n",
        "from sklearn.datasets import make_classification\n",
        "from sklearn.model_selection import KFold\n",
        "from sklearn.model_selection import cross_val_score\n",
        "\n",
        "from tqdm.auto import tqdm #progress bar \n",
        "from warnings import filterwarnings #disable warnings\n",
        "filterwarnings('ignore')\n",
        "from IPython import display \n",
        "%matplotlib inline"
      ],
      "execution_count": 1,
      "outputs": []
    },
    {
      "cell_type": "code",
      "metadata": {
        "colab": {
          "resources": {
            "http://localhost:8080/nbextensions/google.colab/files.js": {
              "data": "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",
              "ok": true,
              "headers": [
                [
                  "content-type",
                  "application/javascript"
                ]
              ],
              "status": 200,
              "status_text": ""
            }
          },
          "base_uri": "https://localhost:8080/",
          "height": 73
        },
        "id": "swAmGxR72DlD",
        "outputId": "a55947c3-928c-45ea-c1d6-de2f0e31ce5d"
      },
      "source": [
        "from google.colab import files\n",
        "uploaded = files.upload()"
      ],
      "execution_count": 2,
      "outputs": [
        {
          "output_type": "display_data",
          "data": {
            "text/html": [
              "\n",
              "     <input type=\"file\" id=\"files-0b4aa0c1-115a-415d-85d9-686572b00483\" name=\"files[]\" multiple disabled\n",
              "        style=\"border:none\" />\n",
              "     <output id=\"result-0b4aa0c1-115a-415d-85d9-686572b00483\">\n",
              "      Upload widget is only available when the cell has been executed in the\n",
              "      current browser session. Please rerun this cell to enable.\n",
              "      </output>\n",
              "      <script src=\"/nbextensions/google.colab/files.js\"></script> "
            ],
            "text/plain": [
              "<IPython.core.display.HTML object>"
            ]
          },
          "metadata": {}
        },
        {
          "output_type": "stream",
          "text": [
            "Saving Rate_dataset_cleaned.csv to Rate_dataset_cleaned.csv\n"
          ],
          "name": "stdout"
        }
      ]
    },
    {
      "cell_type": "markdown",
      "metadata": {
        "id": "1W7Mj_9X2IfD"
      },
      "source": [
        "## Data preprocessing"
      ]
    },
    {
      "cell_type": "code",
      "metadata": {
        "id": "K4Llt23s2E9c"
      },
      "source": [
        "df = pd.read_csv('Rate_dataset.csv', sep=\",\")\n",
        "df = df[df['Si/Al'].notna()]\n",
        "# remove DMSO\n",
        "df = df[df['Phase_1'] !='DMSO']\n",
        "df = df[df['Phase_2'] !='DMSO']\n",
        "# remove uncommon catalysts\n",
        "df = df[df['Catalyst'] !='KL']\n",
        "df = df[df['Catalyst'] !='KL (modified) *']\n",
        "df = df[df['Catalyst'] !='H-MCM-22']\n",
        "df = df[df['Catalyst'] !='Al-SBA15']\n",
        "df = df[df['Catalyst'] !='BEA(modified) *']\n",
        "df = df[df['Catalyst'] !='ZSM-5 (modified) *']\n",
        "df = df[df['Catalyst'] !='USY (modified) *']\n",
        "# kelvin temp \n",
        "df['T(k)'] = df['Temperature ( °C)']+273"
      ],
      "execution_count": 3,
      "outputs": []
    },
    {
      "cell_type": "code",
      "metadata": {
        "id": "q662au5V2LBG"
      },
      "source": [
        "pd.set_option('display.max_colwidth', None)\n",
        "pd.set_option(\"max_rows\", None)"
      ],
      "execution_count": 4,
      "outputs": []
    },
    {
      "cell_type": "code",
      "metadata": {
        "colab": {
          "base_uri": "https://localhost:8080/"
        },
        "id": "E0TgZE-iBBVz",
        "outputId": "199b6d9c-8e78-411d-c536-cd105cffb2c7"
      },
      "source": [
        "df.shape"
      ],
      "execution_count": 5,
      "outputs": [
        {
          "output_type": "execute_result",
          "data": {
            "text/plain": [
              "(79, 36)"
            ]
          },
          "metadata": {},
          "execution_count": 5
        }
      ]
    },
    {
      "cell_type": "code",
      "metadata": {
        "colab": {
          "base_uri": "https://localhost:8080/",
          "height": 265
        },
        "id": "_B35zEHxu69g",
        "outputId": "05bd98ec-8756-46aa-ee00-e1934a570dab"
      },
      "source": [
        "plt.plot(df[df['Solvent_system']=='Biphasic']['Fructose Conversion'],df[df['Solvent_system']=='Biphasic']['HMF Selectivity'],'o', label = \"Biphasic\")\n",
        "plt.plot(df[df['Solvent_system']=='Single phase']['Fructose Conversion'],df[df['Solvent_system']=='Single phase']['HMF Selectivity'],'o', label =\"Single phase\" )\n",
        "plt.legend(loc = 'upper left')\n",
        "plt.show()"
      ],
      "execution_count": null,
      "outputs": [
        {
          "output_type": "display_data",
          "data": {
            "image/png": "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\n",
            "text/plain": [
              "<Figure size 432x288 with 1 Axes>"
            ]
          },
          "metadata": {
            "needs_background": "light"
          }
        }
      ]
    },
    {
      "cell_type": "markdown",
      "metadata": {
        "id": "KpLLgMtKE2Uu"
      },
      "source": [
        "## Temperature Normalization"
      ]
    },
    {
      "cell_type": "code",
      "metadata": {
        "id": "i40Ky1Hl4-SL"
      },
      "source": [
        "# constants\n",
        "T_2 = 165+273\n",
        "R = 8.314"
      ],
      "execution_count": null,
      "outputs": []
    },
    {
      "cell_type": "code",
      "metadata": {
        "id": "ill6QLPe5SJv"
      },
      "source": [
        "Ea_mor = 141000\n",
        "df_mor = df[df['Catalyst'] == 'H-MOR']\n",
        "df_mor['normalized_k'] = df_mor['rate_constant(1/min)']*np.exp(-(Ea_mor/R)*(1/T_2-1/df_mor['T(k)']))"
      ],
      "execution_count": null,
      "outputs": []
    },
    {
      "cell_type": "code",
      "metadata": {
        "id": "J167GYb76N0t"
      },
      "source": [
        "Ea_zsm = 132000\n",
        "df_zsm = df[df['Catalyst'] == 'H-ZSM-5']\n",
        "df_zsm['normalized_k'] = df_zsm['rate_constant(1/min)']*np.exp(-(Ea_zsm/R)*(1/T_2-1/df_zsm['T(k)']))"
      ],
      "execution_count": null,
      "outputs": []
    },
    {
      "cell_type": "code",
      "metadata": {
        "id": "IujQZYAb70UV"
      },
      "source": [
        "# Ea_zsm_mod = 6.90146185e+04 \n",
        "# df_zsm_mod = df[df['Catalyst'] =='ZSM-5 (modified) *' ]\n",
        "# df_zsm_mod['normalized_k'] = df_zsm_mod['rate_constant(1/min)']*np.exp(-(Ea_zsm_mod/R)*(1/T_2-1/df_zsm_mod['T(k)']))"
      ],
      "execution_count": null,
      "outputs": []
    },
    {
      "cell_type": "code",
      "metadata": {
        "id": "aRxLT0oe8S6k"
      },
      "source": [
        "Ea_bea = 142000\n",
        "df_bea = df[df['Catalyst'] == 'H-BEA']\n",
        "df_bea['normalized_k'] = df_bea['rate_constant(1/min)']*np.exp(-(Ea_bea/R)*(1/T_2-1/df_bea['T(k)']))"
      ],
      "execution_count": null,
      "outputs": []
    },
    {
      "cell_type": "code",
      "metadata": {
        "id": "APjgoD-88xNt"
      },
      "source": [
        "# Ea_usy = 63400\n",
        "# df_usy = df[df['Catalyst'] == 'H-USY']\n",
        "# df_usy['normalized_k'] = df_usy['rate_constant(1/min)']*np.exp(-(Ea_usy/R)*(1/T_2-1/df_usy['T(k)']))"
      ],
      "execution_count": null,
      "outputs": []
    },
    {
      "cell_type": "code",
      "metadata": {
        "id": "3H_KF2DgoMsg"
      },
      "source": [
        "Ea_usy = 205000\n",
        "df_usy = df[df['Catalyst'] == 'H-USY']\n",
        "df_usy['normalized_k'] = df_usy['rate_constant(1/min)']*np.exp(-(Ea_usy/R)*(1/T_2-1/df_usy['T(k)']))"
      ],
      "execution_count": null,
      "outputs": []
    },
    {
      "cell_type": "code",
      "metadata": {
        "id": "eRFs1B2M9llz"
      },
      "source": [
        "# Ea_P_Y = 149000\n",
        "# df_P_Y = df[df['Catalyst'] == 'Y_P']\n",
        "# df_P_Y['normalized_k'] = df_P_Y['rate_constant(1/min)']*np.exp(-(Ea_P_Y/R)*(1/T_2-1/df_P_Y['T(k)']))"
      ],
      "execution_count": null,
      "outputs": []
    },
    {
      "cell_type": "code",
      "metadata": {
        "id": "DKafsEoE9xlS"
      },
      "source": [
        "frames = [df_mor, df_zsm ,df_bea, df_usy]\n",
        "df_2 = pd.concat(frames)"
      ],
      "execution_count": null,
      "outputs": []
    },
    {
      "cell_type": "code",
      "metadata": {
        "id": "02w-qr84-o7v"
      },
      "source": [
        "df= df_2"
      ],
      "execution_count": null,
      "outputs": []
    },
    {
      "cell_type": "code",
      "metadata": {
        "id": "OZhMz8Kz_DIF"
      },
      "source": [
        "#Handling typos  110\n",
        "df.loc[df['Type of catalyst'] =='Transition Metal Zolite','Type of catalyst'] = 'Transition Metal Zeolite'\n",
        "df.loc[df['Type of catalyst'] =='Protonated Zeolites','Type of catalyst'] = 'Protonated Zeolite'\n",
        "df.loc[df['Solvent_system'] =='Single Phase','Solvent system'] = 'Single phase'\n",
        "df.loc[df['Solvent_system'] =='Biphasic ','Solvent system'] = 'Biphasic'\n",
        "df.loc[df['Phase_1'] =='water','Phase_1'] = 'Water'\n",
        "df.loc[df['Phase_1'] =='Water ','Phase_1'] = 'Water'\n",
        "df.loc[df['Phase_1'] =='THF ','Phase_1'] = 'THF'\n",
        "df.loc[df['Phase_2'] =='THF ','Phase_2'] = 'THF'"
      ],
      "execution_count": null,
      "outputs": []
    },
    {
      "cell_type": "code",
      "metadata": {
        "id": "7IgucOJnAWiE"
      },
      "source": [
        "#handling Nan\n",
        "df['Phase_2'] = df['Phase_2'].fillna(\"one_phase\")\n",
        "for i in ['Surface_area_(m2/g)_BET','V(mic)_(cm3/g)','V(mesopore)_(cm3/g)','TPD_(NH3)_(micmol/g)','Lewis/Brosnted _acid_Sites','V(pore)_(cm3/g)']:\n",
        "    df[i] = df[i].fillna(df.groupby('Catalyst')[i].transform('mean'))"
      ],
      "execution_count": null,
      "outputs": []
    },
    {
      "cell_type": "code",
      "metadata": {
        "colab": {
          "base_uri": "https://localhost:8080/"
        },
        "id": "vG28Uh9MFC1v",
        "outputId": "3db8c348-0a3c-4044-aaa6-ea5bbe9680d2"
      },
      "source": [
        "# put a limit on high values because of data unavailability\n",
        "df = df[df['normalized_k']<=0.03]\n",
        "df.shape"
      ],
      "execution_count": null,
      "outputs": [
        {
          "output_type": "execute_result",
          "data": {
            "text/plain": [
              "(62, 38)"
            ]
          },
          "metadata": {},
          "execution_count": 48
        }
      ]
    },
    {
      "cell_type": "code",
      "metadata": {
        "id": "rfN6b2y1F8Gk",
        "colab": {
          "base_uri": "https://localhost:8080/"
        },
        "outputId": "af2c86f6-eecb-4aa8-b6fb-809dd433d85d"
      },
      "source": [
        "# mount drive\n",
        "from google.colab import drive\n",
        "drive.mount('/content/gdrive')"
      ],
      "execution_count": null,
      "outputs": [
        {
          "output_type": "stream",
          "text": [
            "Drive already mounted at /content/gdrive; to attempt to forcibly remount, call drive.mount(\"/content/gdrive\", force_remount=True).\n"
          ],
          "name": "stdout"
        }
      ]
    },
    {
      "cell_type": "code",
      "metadata": {
        "colab": {
          "base_uri": "https://localhost:8080/",
          "height": 304
        },
        "id": "QB6dZFA9pzyo",
        "outputId": "2496e4c4-3f22-4e43-abc6-7dc84a6cb23f"
      },
      "source": [
        "plt.plot(df['Conversion_rate '], df['normalized_k'], 'o')\n",
        "plt.xlabel('Conversion (mol%)',fontsize=14)\n",
        "plt.ylabel(\"Rate Constant (1/min)\",fontsize=14)\n",
        "plt.xticks(fontsize=14)\n",
        "plt.yticks(fontsize=14)\n",
        "plt.title(\"Rate Constant vs. Conversion\", fontsize = 14)\n",
        "images_dir = '/content/gdrive/My Drive'\n",
        "plt.savefig(f\"{images_dir}/K_conversion.png\", bbox_inches='tight', dpi = 160)"
      ],
      "execution_count": null,
      "outputs": [
        {
          "output_type": "display_data",
          "data": {
            "image/png": "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\n",
            "text/plain": [
              "<Figure size 432x288 with 1 Axes>"
            ]
          },
          "metadata": {
            "needs_background": "light"
          }
        }
      ]
    },
    {
      "cell_type": "code",
      "metadata": {
        "colab": {
          "base_uri": "https://localhost:8080/",
          "height": 304
        },
        "id": "2vUdU6BzPBVZ",
        "outputId": "d8da5979-b723-490a-9056-8ac2a20ecb3e"
      },
      "source": [
        "plt.plot(df['max_diameter_sphere_diffusing(A)'], df['HMF Yield'], 'o')\n",
        "plt.xlabel('max diameter of sphere diffusing(A)',fontsize=14)\n",
        "plt.ylabel('HMF Yield (mol%)',fontsize=14)\n",
        "plt.xticks(fontsize=14)\n",
        "plt.yticks(fontsize=14)\n",
        "plt.title(\"Yield vs. Diffusion Diameter\", fontsize = 14)\n",
        "images_dir = '/content/gdrive/My Drive'\n",
        "plt.savefig(f\"{images_dir}/yield_diameter.png\", bbox_inches='tight', dpi = 160)"
      ],
      "execution_count": null,
      "outputs": [
        {
          "output_type": "display_data",
          "data": {
            "image/png": "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\n",
            "text/plain": [
              "<Figure size 432x288 with 1 Axes>"
            ]
          },
          "metadata": {
            "needs_background": "light"
          }
        }
      ]
    },
    {
      "cell_type": "code",
      "metadata": {
        "colab": {
          "base_uri": "https://localhost:8080/",
          "height": 304
        },
        "id": "wJyJ5nD4PJ9R",
        "outputId": "aa4889a8-11fb-4884-d3ac-8501c597ede5"
      },
      "source": [
        "plt.plot(df['Accessible_Volume(A^3)'], df['HMF Yield'], 'o')\n",
        "plt.xlabel('Accessible Volume (A^3)',fontsize=14)\n",
        "plt.ylabel('HMF Yield (mol%)',fontsize=14)\n",
        "plt.xticks(fontsize=14)\n",
        "plt.yticks(fontsize=14)\n",
        "plt.title(\"Yield vs. Accessible Volume\", fontsize = 14)\n",
        "images_dir = '/content/gdrive/My Drive'\n",
        "plt.savefig(f\"{images_dir}/Yield_access_vol.png\", bbox_inches='tight', dpi = 160)"
      ],
      "execution_count": null,
      "outputs": [
        {
          "output_type": "display_data",
          "data": {
            "image/png": "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\n",
            "text/plain": [
              "<Figure size 432x288 with 1 Axes>"
            ]
          },
          "metadata": {
            "needs_background": "light"
          }
        }
      ]
    },
    {
      "cell_type": "code",
      "metadata": {
        "id": "FXCbKzYAHNuu"
      },
      "source": [
        "from scipy.optimize import curve_fit\n",
        "def f(x, A, B): # this is your 'straight line' y=f(x)\n",
        "    return A*x + B"
      ],
      "execution_count": null,
      "outputs": []
    },
    {
      "cell_type": "code",
      "metadata": {
        "colab": {
          "base_uri": "https://localhost:8080/",
          "height": 304
        },
        "id": "ltwhwYccFy1K",
        "outputId": "f0a58021-f89c-4725-be2d-f8ff617a1edb"
      },
      "source": [
        "plt.plot(df['Selectivity_rate '], df['normalized_k'], 'o')\n",
        "x = df['Selectivity_rate ']\n",
        "y = df['normalized_k']\n",
        "popt, pcov = curve_fit(f, x, y) # your data x, y to fit\n",
        "plt.plot(x,y, \"o\")\n",
        "plt.plot(x,x*popt[0]+popt[1])\n",
        "plt.xlabel('Selectivity (%)',fontsize=14)\n",
        "plt.ylabel(\"Rate Constant (1/min)\",fontsize=14)\n",
        "plt.xticks(fontsize=14)\n",
        "plt.yticks(fontsize=14)\n",
        "plt.title(\"Rate Constant vs. HMf Selectivity\", fontsize = 14)\n",
        "images_dir = '/content/gdrive/My Drive'\n",
        "plt.savefig(f\"{images_dir}/K_selectivity.png\", bbox_inches='tight', dpi = 160)"
      ],
      "execution_count": null,
      "outputs": [
        {
          "output_type": "display_data",
          "data": {
            "image/png": "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\n",
            "text/plain": [
              "<Figure size 432x288 with 1 Axes>"
            ]
          },
          "metadata": {
            "needs_background": "light"
          }
        }
      ]
    },
    {
      "cell_type": "code",
      "metadata": {
        "id": "Pu2-vJiyqOjc"
      },
      "source": [
        "df_2 = df[df['Solvent system']=='Single phase']"
      ],
      "execution_count": null,
      "outputs": []
    },
    {
      "cell_type": "code",
      "metadata": {
        "colab": {
          "base_uri": "https://localhost:8080/",
          "height": 304
        },
        "id": "iooXF1pJuLut",
        "outputId": "85d9b070-23a2-42f1-838f-9fc059eb9820"
      },
      "source": [
        "plt.plot(df_mor[df_mor['normalized_k']<=0.03]['Selectivity_rate '], df_mor[df_mor['normalized_k']<=0.03]['normalized_k'], 'o', label = \"H-MOR\")\n",
        "plt.plot(df_zsm[df_zsm['normalized_k']<=0.03]['Selectivity_rate '], df_zsm[df_zsm['normalized_k']<=0.03]['normalized_k'], 'o', label = \"H-zsm\")\n",
        "plt.plot(df_bea[df_bea['normalized_k']<=0.03]['Selectivity_rate '], df_bea[df_bea['normalized_k']<=0.03]['normalized_k'], 'o', label = \"H-bea\")\n",
        "plt.plot(df_usy[df_usy['normalized_k']<=0.03]['Selectivity_rate '], df_usy[df_usy['normalized_k']<=0.03]['normalized_k'], 'o', label = \"H-USY\")\n",
        "plt.legend()\n",
        "plt.xlabel(\"HMF Selectivity (%)\", fontsize=14)\n",
        "plt.ylabel(\"Rate Constant (k) (1/min)\",fontsize=14)\n",
        "plt.title(\"Rate Constant vs. Selectivity\", fontsize = 14)\n",
        "plt.xticks(fontsize=14)\n",
        "plt.yticks(fontsize=14)\n",
        "images_dir = '/content/gdrive/My Drive'\n",
        "plt.savefig(f\"{images_dir}/Selectivity_conversion_1.png\", bbox_inches='tight', dpi = 160)"
      ],
      "execution_count": null,
      "outputs": [
        {
          "output_type": "display_data",
          "data": {
            "image/png": "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\n",
            "text/plain": [
              "<Figure size 432x288 with 1 Axes>"
            ]
          },
          "metadata": {
            "needs_background": "light"
          }
        }
      ]
    },
    {
      "cell_type": "code",
      "metadata": {
        "colab": {
          "base_uri": "https://localhost:8080/",
          "height": 304
        },
        "id": "jZP57wbfnQLj",
        "outputId": "77a2a8aa-379e-4f47-8dad-8a1c0292f84c"
      },
      "source": [
        "plt.plot(df[df['Solvent_system']=='Biphasic']['Selectivity_rate '],df[df['Solvent_system']=='Biphasic']['normalized_k'],'o', label = \"Biphasic\")\n",
        "plt.plot(df_2[df_2['Phase_1']== \"Water\"]['Selectivity_rate '],df_2[df_2['Phase_1']== \"Water\"]['normalized_k'],'o', label =\"Single phase (Water)\" )\n",
        "plt.plot(df_2[df_2['Phase_1']!= \"Water\"]['Selectivity_rate '],df_2[df_2['Phase_1']!= \"Water\"]['normalized_k'],'o', label =\"Single phase (Organic)\" )\n",
        "plt.legend(loc= 'upper left')\n",
        "plt.xlabel(\"HMF Selectivity (%)\", fontsize=14)\n",
        "plt.ylabel(\"Rate Constant (k) (1/min)\",fontsize=14)\n",
        "plt.title(\"Rate Constant vs. Selectivity\", fontsize = 14)\n",
        "plt.xticks(fontsize=14)\n",
        "plt.yticks(fontsize=14)\n",
        "images_dir = '/content/gdrive/My Drive'\n",
        "plt.savefig(f\"{images_dir}/Selectivity_conversion.png\", bbox_inches='tight', dpi = 160)"
      ],
      "execution_count": null,
      "outputs": [
        {
          "output_type": "display_data",
          "data": {
            "image/png": "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\n",
            "text/plain": [
              "<Figure size 432x288 with 1 Axes>"
            ]
          },
          "metadata": {
            "needs_background": "light"
          }
        }
      ]
    },
    {
      "cell_type": "code",
      "metadata": {
        "id": "Pu_OkLj5BENq"
      },
      "source": [
        "df = df.drop(columns=['Mass_Cat_(g)',\t'Volume_(ml)'\t,'Substrate_amount','Fructose Conversion','HMF Selectivity','initial_rate(mol/(L.min))',\t'rate_constant(1/min)','Time (min)','M/Al (ie Sn, Cu..)','time_rate(min)'])\n",
        "df = df[df['Si/Al'].notna()]"
      ],
      "execution_count": 6,
      "outputs": []
    },
    {
      "cell_type": "code",
      "metadata": {
        "colab": {
          "base_uri": "https://localhost:8080/"
        },
        "id": "O9Gyz15FBV3M",
        "outputId": "b4616d35-8fff-4a13-8a3c-4e6940b92906"
      },
      "source": [
        "df.shape"
      ],
      "execution_count": null,
      "outputs": [
        {
          "output_type": "execute_result",
          "data": {
            "text/plain": [
              "(62, 28)"
            ]
          },
          "metadata": {},
          "execution_count": 151
        }
      ]
    },
    {
      "cell_type": "code",
      "metadata": {
        "id": "IudOjgVCDMLY"
      },
      "source": [
        "df['Catalyst'] = df['Catalyst'].astype('category')\n",
        "cat_dict =dict(enumerate(df['Catalyst'].cat.categories ))"
      ],
      "execution_count": null,
      "outputs": []
    },
    {
      "cell_type": "code",
      "metadata": {
        "colab": {
          "base_uri": "https://localhost:8080/"
        },
        "id": "azRZLoBQDvua",
        "outputId": "0fe1779b-8bdd-4be3-a558-8a8f7ba091d6"
      },
      "source": [
        "#label encoding\n",
        "for i in ['Type of catalyst','Catalyst','Solvent_system','Phase_1','Phase_2']:\n",
        "    df[i] = df[i].astype('category')\n",
        "    df[i] = df[i].cat.codes\n",
        "df.dtypes"
      ],
      "execution_count": null,
      "outputs": [
        {
          "output_type": "execute_result",
          "data": {
            "text/plain": [
              "Type of catalyst                       int8\n",
              "Catalyst                               int8\n",
              "Si/Al                               float64\n",
              "Lewis/Brosnted _acid_Sites          float64\n",
              "Surface_area_(m2/g)_BET             float64\n",
              "max_diameter_sphere_diffusing(A)    float64\n",
              "Accessible_Volume(A^3)              float64\n",
              "Avg_pore_diameter(nm)               float64\n",
              "V(pore)_(cm3/g)                     float64\n",
              "V(mic)_(cm3/g)                      float64\n",
              "V(mesopore)_(cm3/g)                 float64\n",
              "TPD_(NH3)_(micmol/g)                float64\n",
              "catalyst_substrate_loading          float64\n",
              "Solvent_system                         int8\n",
              "Phase_1                                int8\n",
              "Phase_2                                int8\n",
              "phase_2/phase_1                     float64\n",
              "Total_dipole_moment(D)              float64\n",
              "Temperature ( °C)                     int64\n",
              "HMF Yield                           float64\n",
              "intial concentration(M)             float64\n",
              "Conversion_rate                     float64\n",
              "Selectivity_rate                    float64\n",
              "b                                    object\n",
              "normalized_constant                  object\n",
              "T(k)                                  int64\n",
              "normalized_k                        float64\n",
              "Solvent system                       object\n",
              "dtype: object"
            ]
          },
          "metadata": {},
          "execution_count": 153
        }
      ]
    },
    {
      "cell_type": "code",
      "metadata": {
        "colab": {
          "base_uri": "https://localhost:8080/",
          "height": 1000
        },
        "id": "j-NtjSYiDyoe",
        "outputId": "ad9d8184-61ba-4722-f52f-c080b88bc288"
      },
      "source": [
        "df"
      ],
      "execution_count": null,
      "outputs": [
        {
          "output_type": "execute_result",
          "data": {
            "text/html": [
              "<div>\n",
              "<style scoped>\n",
              "    .dataframe tbody tr th:only-of-type {\n",
              "        vertical-align: middle;\n",
              "    }\n",
              "\n",
              "    .dataframe tbody tr th {\n",
              "        vertical-align: top;\n",
              "    }\n",
              "\n",
              "    .dataframe thead th {\n",
              "        text-align: right;\n",
              "    }\n",
              "</style>\n",
              "<table border=\"1\" class=\"dataframe\">\n",
              "  <thead>\n",
              "    <tr style=\"text-align: right;\">\n",
              "      <th></th>\n",
              "      <th>Type of catalyst</th>\n",
              "      <th>Catalyst</th>\n",
              "      <th>Si/Al</th>\n",
              "      <th>Lewis/Brosnted _acid_Sites</th>\n",
              "      <th>Surface_area_(m2/g)_BET</th>\n",
              "      <th>max_diameter_sphere_diffusing(A)</th>\n",
              "      <th>Accessible_Volume(A^3)</th>\n",
              "      <th>Avg_pore_diameter(nm)</th>\n",
              "      <th>V(pore)_(cm3/g)</th>\n",
              "      <th>V(mic)_(cm3/g)</th>\n",
              "      <th>V(mesopore)_(cm3/g)</th>\n",
              "      <th>TPD_(NH3)_(micmol/g)</th>\n",
              "      <th>catalyst_substrate_loading</th>\n",
              "      <th>Solvent_system</th>\n",
              "      <th>Phase_1</th>\n",
              "      <th>Phase_2</th>\n",
              "      <th>phase_2/phase_1</th>\n",
              "      <th>Total_dipole_moment(D)</th>\n",
              "      <th>Temperature ( °C)</th>\n",
              "      <th>HMF Yield</th>\n",
              "      <th>intial concentration(M)</th>\n",
              "      <th>Conversion_rate</th>\n",
              "      <th>Selectivity_rate</th>\n",
              "      <th>b</th>\n",
              "      <th>normalized_constant</th>\n",
              "      <th>T(k)</th>\n",
              "      <th>normalized_k</th>\n",
              "      <th>Solvent system</th>\n",
              "    </tr>\n",
              "  </thead>\n",
              "  <tbody>\n",
              "    <tr>\n",
              "      <th>0</th>\n",
              "      <td>0</td>\n",
              "      <td>1</td>\n",
              "      <td>11.7</td>\n",
              "      <td>1.480000</td>\n",
              "      <td>461.000000</td>\n",
              "      <td>6.45</td>\n",
              "      <td>347.0</td>\n",
              "      <td>0.59</td>\n",
              "      <td>0.300000</td>\n",
              "      <td>0.210000</td>\n",
              "      <td>0.105333</td>\n",
              "      <td>1100.000000</td>\n",
              "      <td>0.200000</td>\n",
              "      <td>0</td>\n",
              "      <td>1</td>\n",
              "      <td>7</td>\n",
              "      <td>3.000000</td>\n",
              "      <td>2.562500</td>\n",
              "      <td>165</td>\n",
              "      <td>53.000</td>\n",
              "      <td>0.370000</td>\n",
              "      <td>30.00</td>\n",
              "      <td>90.000000</td>\n",
              "      <td>0.005249344</td>\n",
              "      <td>0.86</td>\n",
              "      <td>438</td>\n",
              "      <td>0.004500</td>\n",
              "      <td>NaN</td>\n",
              "    </tr>\n",
              "    <tr>\n",
              "      <th>1</th>\n",
              "      <td>0</td>\n",
              "      <td>1</td>\n",
              "      <td>11.7</td>\n",
              "      <td>1.480000</td>\n",
              "      <td>461.000000</td>\n",
              "      <td>6.45</td>\n",
              "      <td>347.0</td>\n",
              "      <td>0.59</td>\n",
              "      <td>0.300000</td>\n",
              "      <td>0.210000</td>\n",
              "      <td>0.105333</td>\n",
              "      <td>1100.000000</td>\n",
              "      <td>0.200000</td>\n",
              "      <td>2</td>\n",
              "      <td>1</td>\n",
              "      <td>12</td>\n",
              "      <td>0.000000</td>\n",
              "      <td>1.850000</td>\n",
              "      <td>165</td>\n",
              "      <td>34.000</td>\n",
              "      <td>0.370000</td>\n",
              "      <td>25.00</td>\n",
              "      <td>25.000000</td>\n",
              "      <td>0.005249344</td>\n",
              "      <td>0.2</td>\n",
              "      <td>438</td>\n",
              "      <td>0.001042</td>\n",
              "      <td>Single phase</td>\n",
              "    </tr>\n",
              "    <tr>\n",
              "      <th>27</th>\n",
              "      <td>0</td>\n",
              "      <td>1</td>\n",
              "      <td>6.9</td>\n",
              "      <td>1.480000</td>\n",
              "      <td>475.000000</td>\n",
              "      <td>6.45</td>\n",
              "      <td>347.0</td>\n",
              "      <td>0.59</td>\n",
              "      <td>0.244000</td>\n",
              "      <td>0.204000</td>\n",
              "      <td>0.040000</td>\n",
              "      <td>1210.000000</td>\n",
              "      <td>0.285714</td>\n",
              "      <td>0</td>\n",
              "      <td>1</td>\n",
              "      <td>7</td>\n",
              "      <td>5.000000</td>\n",
              "      <td>2.641667</td>\n",
              "      <td>165</td>\n",
              "      <td>52.650</td>\n",
              "      <td>0.092510</td>\n",
              "      <td>35.00</td>\n",
              "      <td>97.000000</td>\n",
              "      <td>0.002109705</td>\n",
              "      <td>5.36</td>\n",
              "      <td>438</td>\n",
              "      <td>0.011317</td>\n",
              "      <td>NaN</td>\n",
              "    </tr>\n",
              "    <tr>\n",
              "      <th>28</th>\n",
              "      <td>0</td>\n",
              "      <td>1</td>\n",
              "      <td>11.0</td>\n",
              "      <td>1.480000</td>\n",
              "      <td>475.000000</td>\n",
              "      <td>6.45</td>\n",
              "      <td>347.0</td>\n",
              "      <td>0.59</td>\n",
              "      <td>0.248000</td>\n",
              "      <td>0.192000</td>\n",
              "      <td>0.056000</td>\n",
              "      <td>1210.000000</td>\n",
              "      <td>0.285714</td>\n",
              "      <td>0</td>\n",
              "      <td>1</td>\n",
              "      <td>7</td>\n",
              "      <td>5.000000</td>\n",
              "      <td>2.641667</td>\n",
              "      <td>165</td>\n",
              "      <td>69.160</td>\n",
              "      <td>0.092510</td>\n",
              "      <td>54.00</td>\n",
              "      <td>92.000000</td>\n",
              "      <td>0.001388889</td>\n",
              "      <td>11.92</td>\n",
              "      <td>438</td>\n",
              "      <td>0.016560</td>\n",
              "      <td>NaN</td>\n",
              "    </tr>\n",
              "    <tr>\n",
              "      <th>29</th>\n",
              "      <td>0</td>\n",
              "      <td>1</td>\n",
              "      <td>15.0</td>\n",
              "      <td>0.070000</td>\n",
              "      <td>475.000000</td>\n",
              "      <td>6.45</td>\n",
              "      <td>347.0</td>\n",
              "      <td>0.61</td>\n",
              "      <td>0.383000</td>\n",
              "      <td>0.185000</td>\n",
              "      <td>0.198000</td>\n",
              "      <td>1210.000000</td>\n",
              "      <td>0.285714</td>\n",
              "      <td>0</td>\n",
              "      <td>1</td>\n",
              "      <td>7</td>\n",
              "      <td>5.000000</td>\n",
              "      <td>2.641667</td>\n",
              "      <td>165</td>\n",
              "      <td>35.840</td>\n",
              "      <td>0.092510</td>\n",
              "      <td>34.00</td>\n",
              "      <td>73.000000</td>\n",
              "      <td>0.001041667</td>\n",
              "      <td>7.94</td>\n",
              "      <td>438</td>\n",
              "      <td>0.008273</td>\n",
              "      <td>NaN</td>\n",
              "    </tr>\n",
              "    <tr>\n",
              "      <th>30</th>\n",
              "      <td>0</td>\n",
              "      <td>1</td>\n",
              "      <td>18.0</td>\n",
              "      <td>0.100000</td>\n",
              "      <td>475.000000</td>\n",
              "      <td>6.45</td>\n",
              "      <td>347.0</td>\n",
              "      <td>0.62</td>\n",
              "      <td>0.325000</td>\n",
              "      <td>0.197000</td>\n",
              "      <td>0.128000</td>\n",
              "      <td>1210.000000</td>\n",
              "      <td>0.285714</td>\n",
              "      <td>0</td>\n",
              "      <td>1</td>\n",
              "      <td>7</td>\n",
              "      <td>5.000000</td>\n",
              "      <td>2.641667</td>\n",
              "      <td>165</td>\n",
              "      <td>40.300</td>\n",
              "      <td>0.092510</td>\n",
              "      <td>36.00</td>\n",
              "      <td>79.000000</td>\n",
              "      <td>0.000877193</td>\n",
              "      <td>10.81</td>\n",
              "      <td>438</td>\n",
              "      <td>0.009480</td>\n",
              "      <td>NaN</td>\n",
              "    </tr>\n",
              "    <tr>\n",
              "      <th>31</th>\n",
              "      <td>0</td>\n",
              "      <td>1</td>\n",
              "      <td>7.5</td>\n",
              "      <td>1.480000</td>\n",
              "      <td>475.000000</td>\n",
              "      <td>6.45</td>\n",
              "      <td>347.0</td>\n",
              "      <td>0.59</td>\n",
              "      <td>0.248000</td>\n",
              "      <td>0.201000</td>\n",
              "      <td>0.047000</td>\n",
              "      <td>1210.000000</td>\n",
              "      <td>0.285714</td>\n",
              "      <td>0</td>\n",
              "      <td>1</td>\n",
              "      <td>7</td>\n",
              "      <td>5.000000</td>\n",
              "      <td>2.641667</td>\n",
              "      <td>165</td>\n",
              "      <td>43.890</td>\n",
              "      <td>0.092510</td>\n",
              "      <td>36.00</td>\n",
              "      <td>96.000000</td>\n",
              "      <td>0.001960784</td>\n",
              "      <td>5.88</td>\n",
              "      <td>438</td>\n",
              "      <td>0.011520</td>\n",
              "      <td>NaN</td>\n",
              "    </tr>\n",
              "    <tr>\n",
              "      <th>32</th>\n",
              "      <td>0</td>\n",
              "      <td>1</td>\n",
              "      <td>10.0</td>\n",
              "      <td>1.480000</td>\n",
              "      <td>475.000000</td>\n",
              "      <td>6.45</td>\n",
              "      <td>347.0</td>\n",
              "      <td>0.59</td>\n",
              "      <td>0.352000</td>\n",
              "      <td>0.189000</td>\n",
              "      <td>0.163000</td>\n",
              "      <td>1210.000000</td>\n",
              "      <td>0.285714</td>\n",
              "      <td>0</td>\n",
              "      <td>1</td>\n",
              "      <td>7</td>\n",
              "      <td>5.000000</td>\n",
              "      <td>2.641667</td>\n",
              "      <td>165</td>\n",
              "      <td>46.200</td>\n",
              "      <td>0.092510</td>\n",
              "      <td>52.00</td>\n",
              "      <td>68.000000</td>\n",
              "      <td>0.001515152</td>\n",
              "      <td>7.78</td>\n",
              "      <td>438</td>\n",
              "      <td>0.011787</td>\n",
              "      <td>NaN</td>\n",
              "    </tr>\n",
              "    <tr>\n",
              "      <th>40</th>\n",
              "      <td>0</td>\n",
              "      <td>1</td>\n",
              "      <td>10.0</td>\n",
              "      <td>0.250000</td>\n",
              "      <td>490.000000</td>\n",
              "      <td>6.45</td>\n",
              "      <td>347.0</td>\n",
              "      <td>0.59</td>\n",
              "      <td>0.300000</td>\n",
              "      <td>0.198500</td>\n",
              "      <td>0.105333</td>\n",
              "      <td>1380.000000</td>\n",
              "      <td>0.150000</td>\n",
              "      <td>1</td>\n",
              "      <td>1</td>\n",
              "      <td>7</td>\n",
              "      <td>5.000000</td>\n",
              "      <td>2.641667</td>\n",
              "      <td>165</td>\n",
              "      <td>43.460</td>\n",
              "      <td>0.555062</td>\n",
              "      <td>82.00</td>\n",
              "      <td>53.000000</td>\n",
              "      <td>0.000227273</td>\n",
              "      <td>31.87</td>\n",
              "      <td>438</td>\n",
              "      <td>0.007243</td>\n",
              "      <td>Biphasic</td>\n",
              "    </tr>\n",
              "    <tr>\n",
              "      <th>73</th>\n",
              "      <td>0</td>\n",
              "      <td>1</td>\n",
              "      <td>6.9</td>\n",
              "      <td>1.480000</td>\n",
              "      <td>475.000000</td>\n",
              "      <td>6.45</td>\n",
              "      <td>347.0</td>\n",
              "      <td>0.59</td>\n",
              "      <td>0.300000</td>\n",
              "      <td>0.198500</td>\n",
              "      <td>0.105333</td>\n",
              "      <td>1210.000000</td>\n",
              "      <td>0.285714</td>\n",
              "      <td>1</td>\n",
              "      <td>1</td>\n",
              "      <td>7</td>\n",
              "      <td>5.000000</td>\n",
              "      <td>2.641667</td>\n",
              "      <td>165</td>\n",
              "      <td>52.650</td>\n",
              "      <td>0.092510</td>\n",
              "      <td>35.00</td>\n",
              "      <td>97.000000</td>\n",
              "      <td>0.002109705</td>\n",
              "      <td>5.36</td>\n",
              "      <td>438</td>\n",
              "      <td>0.011317</td>\n",
              "      <td>Biphasic</td>\n",
              "    </tr>\n",
              "    <tr>\n",
              "      <th>74</th>\n",
              "      <td>0</td>\n",
              "      <td>1</td>\n",
              "      <td>7.5</td>\n",
              "      <td>1.480000</td>\n",
              "      <td>475.000000</td>\n",
              "      <td>6.45</td>\n",
              "      <td>347.0</td>\n",
              "      <td>0.59</td>\n",
              "      <td>0.300000</td>\n",
              "      <td>0.198500</td>\n",
              "      <td>0.105333</td>\n",
              "      <td>1210.000000</td>\n",
              "      <td>0.285714</td>\n",
              "      <td>1</td>\n",
              "      <td>1</td>\n",
              "      <td>7</td>\n",
              "      <td>5.000000</td>\n",
              "      <td>2.641667</td>\n",
              "      <td>165</td>\n",
              "      <td>43.890</td>\n",
              "      <td>0.092510</td>\n",
              "      <td>36.00</td>\n",
              "      <td>96.000000</td>\n",
              "      <td>0.001960784</td>\n",
              "      <td>5.88</td>\n",
              "      <td>438</td>\n",
              "      <td>0.011520</td>\n",
              "      <td>Biphasic</td>\n",
              "    </tr>\n",
              "    <tr>\n",
              "      <th>75</th>\n",
              "      <td>0</td>\n",
              "      <td>1</td>\n",
              "      <td>11.0</td>\n",
              "      <td>1.480000</td>\n",
              "      <td>475.000000</td>\n",
              "      <td>6.45</td>\n",
              "      <td>347.0</td>\n",
              "      <td>0.59</td>\n",
              "      <td>0.300000</td>\n",
              "      <td>0.198500</td>\n",
              "      <td>0.105333</td>\n",
              "      <td>1210.000000</td>\n",
              "      <td>0.285714</td>\n",
              "      <td>1</td>\n",
              "      <td>1</td>\n",
              "      <td>7</td>\n",
              "      <td>5.000000</td>\n",
              "      <td>2.641667</td>\n",
              "      <td>165</td>\n",
              "      <td>69.160</td>\n",
              "      <td>0.092510</td>\n",
              "      <td>54.00</td>\n",
              "      <td>92.000000</td>\n",
              "      <td>0.001388889</td>\n",
              "      <td>11.92</td>\n",
              "      <td>438</td>\n",
              "      <td>0.016560</td>\n",
              "      <td>Biphasic</td>\n",
              "    </tr>\n",
              "    <tr>\n",
              "      <th>76</th>\n",
              "      <td>0</td>\n",
              "      <td>1</td>\n",
              "      <td>49.0</td>\n",
              "      <td>1.480000</td>\n",
              "      <td>475.000000</td>\n",
              "      <td>6.45</td>\n",
              "      <td>347.0</td>\n",
              "      <td>0.62</td>\n",
              "      <td>0.300000</td>\n",
              "      <td>0.198500</td>\n",
              "      <td>0.105333</td>\n",
              "      <td>1210.000000</td>\n",
              "      <td>0.285714</td>\n",
              "      <td>1</td>\n",
              "      <td>1</td>\n",
              "      <td>7</td>\n",
              "      <td>5.000000</td>\n",
              "      <td>2.641667</td>\n",
              "      <td>165</td>\n",
              "      <td>43.400</td>\n",
              "      <td>0.092510</td>\n",
              "      <td>59.00</td>\n",
              "      <td>66.000000</td>\n",
              "      <td>0.000333333</td>\n",
              "      <td>38.94</td>\n",
              "      <td>438</td>\n",
              "      <td>0.012980</td>\n",
              "      <td>Biphasic</td>\n",
              "    </tr>\n",
              "    <tr>\n",
              "      <th>77</th>\n",
              "      <td>0</td>\n",
              "      <td>1</td>\n",
              "      <td>100.0</td>\n",
              "      <td>1.480000</td>\n",
              "      <td>475.000000</td>\n",
              "      <td>6.45</td>\n",
              "      <td>347.0</td>\n",
              "      <td>0.62</td>\n",
              "      <td>0.300000</td>\n",
              "      <td>0.198500</td>\n",
              "      <td>0.105333</td>\n",
              "      <td>1210.000000</td>\n",
              "      <td>0.285714</td>\n",
              "      <td>1</td>\n",
              "      <td>1</td>\n",
              "      <td>7</td>\n",
              "      <td>5.000000</td>\n",
              "      <td>2.641667</td>\n",
              "      <td>165</td>\n",
              "      <td>38.880</td>\n",
              "      <td>0.092510</td>\n",
              "      <td>31.00</td>\n",
              "      <td>72.000000</td>\n",
              "      <td>0.000165017</td>\n",
              "      <td>45.09</td>\n",
              "      <td>438</td>\n",
              "      <td>0.007440</td>\n",
              "      <td>Biphasic</td>\n",
              "    </tr>\n",
              "    <tr>\n",
              "      <th>78</th>\n",
              "      <td>0</td>\n",
              "      <td>1</td>\n",
              "      <td>10.0</td>\n",
              "      <td>1.480000</td>\n",
              "      <td>528.000000</td>\n",
              "      <td>6.45</td>\n",
              "      <td>347.0</td>\n",
              "      <td>0.59</td>\n",
              "      <td>0.300000</td>\n",
              "      <td>0.198500</td>\n",
              "      <td>0.105333</td>\n",
              "      <td>1200.000000</td>\n",
              "      <td>0.286000</td>\n",
              "      <td>1</td>\n",
              "      <td>1</td>\n",
              "      <td>7</td>\n",
              "      <td>5.000000</td>\n",
              "      <td>2.641667</td>\n",
              "      <td>175</td>\n",
              "      <td>60.000</td>\n",
              "      <td>0.092510</td>\n",
              "      <td>85.00</td>\n",
              "      <td>80.000000</td>\n",
              "      <td>0.000216667</td>\n",
              "      <td>52.31</td>\n",
              "      <td>448</td>\n",
              "      <td>0.004775</td>\n",
              "      <td>Biphasic</td>\n",
              "    </tr>\n",
              "    <tr>\n",
              "      <th>97</th>\n",
              "      <td>0</td>\n",
              "      <td>1</td>\n",
              "      <td>12.0</td>\n",
              "      <td>5.500000</td>\n",
              "      <td>420.000000</td>\n",
              "      <td>6.45</td>\n",
              "      <td>347.0</td>\n",
              "      <td>0.59</td>\n",
              "      <td>0.300000</td>\n",
              "      <td>0.198500</td>\n",
              "      <td>0.105333</td>\n",
              "      <td>1100.000000</td>\n",
              "      <td>0.200000</td>\n",
              "      <td>2</td>\n",
              "      <td>1</td>\n",
              "      <td>12</td>\n",
              "      <td>0.000000</td>\n",
              "      <td>1.850000</td>\n",
              "      <td>135</td>\n",
              "      <td>0.620</td>\n",
              "      <td>0.370041</td>\n",
              "      <td>1.00</td>\n",
              "      <td>62.000000</td>\n",
              "      <td>0.005128205</td>\n",
              "      <td>0.02</td>\n",
              "      <td>408</td>\n",
              "      <td>0.001781</td>\n",
              "      <td>Single phase</td>\n",
              "    </tr>\n",
              "    <tr>\n",
              "      <th>103</th>\n",
              "      <td>0</td>\n",
              "      <td>1</td>\n",
              "      <td>10.0</td>\n",
              "      <td>1.480000</td>\n",
              "      <td>490.000000</td>\n",
              "      <td>6.45</td>\n",
              "      <td>347.0</td>\n",
              "      <td>0.59</td>\n",
              "      <td>0.300000</td>\n",
              "      <td>0.198500</td>\n",
              "      <td>0.105333</td>\n",
              "      <td>1380.000000</td>\n",
              "      <td>0.150000</td>\n",
              "      <td>1</td>\n",
              "      <td>1</td>\n",
              "      <td>7</td>\n",
              "      <td>5.000000</td>\n",
              "      <td>2.641667</td>\n",
              "      <td>165</td>\n",
              "      <td>38.710</td>\n",
              "      <td>0.555062</td>\n",
              "      <td>61.00</td>\n",
              "      <td>52.000000</td>\n",
              "      <td>0.000227273</td>\n",
              "      <td>31.02</td>\n",
              "      <td>438</td>\n",
              "      <td>0.007049</td>\n",
              "      <td>Biphasic</td>\n",
              "    </tr>\n",
              "    <tr>\n",
              "      <th>2</th>\n",
              "      <td>0</td>\n",
              "      <td>3</td>\n",
              "      <td>13.0</td>\n",
              "      <td>0.987187</td>\n",
              "      <td>442.000000</td>\n",
              "      <td>4.70</td>\n",
              "      <td>511.0</td>\n",
              "      <td>0.55</td>\n",
              "      <td>0.212125</td>\n",
              "      <td>0.180000</td>\n",
              "      <td>0.069653</td>\n",
              "      <td>966.000000</td>\n",
              "      <td>0.200000</td>\n",
              "      <td>0</td>\n",
              "      <td>1</td>\n",
              "      <td>7</td>\n",
              "      <td>3.000000</td>\n",
              "      <td>2.562500</td>\n",
              "      <td>165</td>\n",
              "      <td>45.000</td>\n",
              "      <td>0.370000</td>\n",
              "      <td>28.00</td>\n",
              "      <td>75.000000</td>\n",
              "      <td>0.004761905</td>\n",
              "      <td>0.74</td>\n",
              "      <td>438</td>\n",
              "      <td>0.003500</td>\n",
              "      <td>NaN</td>\n",
              "    </tr>\n",
              "    <tr>\n",
              "      <th>3</th>\n",
              "      <td>0</td>\n",
              "      <td>3</td>\n",
              "      <td>13.0</td>\n",
              "      <td>0.987187</td>\n",
              "      <td>442.000000</td>\n",
              "      <td>4.70</td>\n",
              "      <td>511.0</td>\n",
              "      <td>0.55</td>\n",
              "      <td>0.212125</td>\n",
              "      <td>0.180000</td>\n",
              "      <td>0.069653</td>\n",
              "      <td>966.000000</td>\n",
              "      <td>0.200000</td>\n",
              "      <td>3</td>\n",
              "      <td>1</td>\n",
              "      <td>12</td>\n",
              "      <td>0.000000</td>\n",
              "      <td>1.850000</td>\n",
              "      <td>165</td>\n",
              "      <td>20.000</td>\n",
              "      <td>0.370000</td>\n",
              "      <td>38.00</td>\n",
              "      <td>26.000000</td>\n",
              "      <td>0.004761905</td>\n",
              "      <td>0.35</td>\n",
              "      <td>438</td>\n",
              "      <td>0.001647</td>\n",
              "      <td>NaN</td>\n",
              "    </tr>\n",
              "    <tr>\n",
              "      <th>6</th>\n",
              "      <td>0</td>\n",
              "      <td>3</td>\n",
              "      <td>50.0</td>\n",
              "      <td>0.987187</td>\n",
              "      <td>365.000000</td>\n",
              "      <td>4.70</td>\n",
              "      <td>511.0</td>\n",
              "      <td>0.55</td>\n",
              "      <td>0.236000</td>\n",
              "      <td>0.144000</td>\n",
              "      <td>0.069653</td>\n",
              "      <td>411.300000</td>\n",
              "      <td>0.133333</td>\n",
              "      <td>3</td>\n",
              "      <td>1</td>\n",
              "      <td>12</td>\n",
              "      <td>0.000000</td>\n",
              "      <td>1.850000</td>\n",
              "      <td>130</td>\n",
              "      <td>8.000</td>\n",
              "      <td>0.055506</td>\n",
              "      <td>40.00</td>\n",
              "      <td>10.000000</td>\n",
              "      <td>2.61E-05</td>\n",
              "      <td>6.38</td>\n",
              "      <td>403</td>\n",
              "      <td>0.003882</td>\n",
              "      <td>NaN</td>\n",
              "    </tr>\n",
              "    <tr>\n",
              "      <th>12</th>\n",
              "      <td>0</td>\n",
              "      <td>3</td>\n",
              "      <td>18.9</td>\n",
              "      <td>0.250000</td>\n",
              "      <td>404.000000</td>\n",
              "      <td>4.70</td>\n",
              "      <td>511.0</td>\n",
              "      <td>0.55</td>\n",
              "      <td>0.301000</td>\n",
              "      <td>0.160000</td>\n",
              "      <td>0.069653</td>\n",
              "      <td>1259.000000</td>\n",
              "      <td>0.333333</td>\n",
              "      <td>0</td>\n",
              "      <td>2</td>\n",
              "      <td>7</td>\n",
              "      <td>2.333333</td>\n",
              "      <td>2.530000</td>\n",
              "      <td>195</td>\n",
              "      <td>49.000</td>\n",
              "      <td>0.166519</td>\n",
              "      <td>100.00</td>\n",
              "      <td>49.000000</td>\n",
              "      <td>4.19E-05</td>\n",
              "      <td>390.04</td>\n",
              "      <td>468</td>\n",
              "      <td>0.001599</td>\n",
              "      <td>NaN</td>\n",
              "    </tr>\n",
              "    <tr>\n",
              "      <th>33</th>\n",
              "      <td>0</td>\n",
              "      <td>3</td>\n",
              "      <td>11.5</td>\n",
              "      <td>0.170000</td>\n",
              "      <td>425.000000</td>\n",
              "      <td>4.70</td>\n",
              "      <td>511.0</td>\n",
              "      <td>0.55</td>\n",
              "      <td>0.212125</td>\n",
              "      <td>0.140608</td>\n",
              "      <td>0.069653</td>\n",
              "      <td>675.941667</td>\n",
              "      <td>1.333333</td>\n",
              "      <td>0</td>\n",
              "      <td>0</td>\n",
              "      <td>10</td>\n",
              "      <td>2.000000</td>\n",
              "      <td>1.273333</td>\n",
              "      <td>170</td>\n",
              "      <td>81.000</td>\n",
              "      <td>0.041630</td>\n",
              "      <td>100.00</td>\n",
              "      <td>81.000000</td>\n",
              "      <td>0.000133333</td>\n",
              "      <td>202.5</td>\n",
              "      <td>443</td>\n",
              "      <td>0.017934</td>\n",
              "      <td>NaN</td>\n",
              "    </tr>\n",
              "    <tr>\n",
              "      <th>38</th>\n",
              "      <td>0</td>\n",
              "      <td>3</td>\n",
              "      <td>28.0</td>\n",
              "      <td>0.250000</td>\n",
              "      <td>360.000000</td>\n",
              "      <td>4.70</td>\n",
              "      <td>511.0</td>\n",
              "      <td>0.55</td>\n",
              "      <td>0.212125</td>\n",
              "      <td>0.140608</td>\n",
              "      <td>0.069653</td>\n",
              "      <td>580.000000</td>\n",
              "      <td>0.150000</td>\n",
              "      <td>1</td>\n",
              "      <td>1</td>\n",
              "      <td>7</td>\n",
              "      <td>5.000000</td>\n",
              "      <td>2.641667</td>\n",
              "      <td>165</td>\n",
              "      <td>32.900</td>\n",
              "      <td>0.555062</td>\n",
              "      <td>70.00</td>\n",
              "      <td>47.000000</td>\n",
              "      <td>8.62E-05</td>\n",
              "      <td>63.61</td>\n",
              "      <td>438</td>\n",
              "      <td>0.005483</td>\n",
              "      <td>Biphasic</td>\n",
              "    </tr>\n",
              "    <tr>\n",
              "      <th>44</th>\n",
              "      <td>1</td>\n",
              "      <td>3</td>\n",
              "      <td>11.5</td>\n",
              "      <td>0.987187</td>\n",
              "      <td>425.000000</td>\n",
              "      <td>4.70</td>\n",
              "      <td>511.0</td>\n",
              "      <td>0.55</td>\n",
              "      <td>0.178000</td>\n",
              "      <td>0.105020</td>\n",
              "      <td>0.072980</td>\n",
              "      <td>747.000000</td>\n",
              "      <td>0.400000</td>\n",
              "      <td>2</td>\n",
              "      <td>1</td>\n",
              "      <td>12</td>\n",
              "      <td>0.000000</td>\n",
              "      <td>1.850000</td>\n",
              "      <td>160</td>\n",
              "      <td>6.600</td>\n",
              "      <td>0.277531</td>\n",
              "      <td>38.80</td>\n",
              "      <td>17.010309</td>\n",
              "      <td>0.000266667</td>\n",
              "      <td>12.38</td>\n",
              "      <td>433</td>\n",
              "      <td>0.005015</td>\n",
              "      <td>Single phase</td>\n",
              "    </tr>\n",
              "    <tr>\n",
              "      <th>52</th>\n",
              "      <td>1</td>\n",
              "      <td>3</td>\n",
              "      <td>11.5</td>\n",
              "      <td>0.987187</td>\n",
              "      <td>425.000000</td>\n",
              "      <td>4.70</td>\n",
              "      <td>511.0</td>\n",
              "      <td>0.55</td>\n",
              "      <td>0.178000</td>\n",
              "      <td>0.105020</td>\n",
              "      <td>0.072980</td>\n",
              "      <td>747.000000</td>\n",
              "      <td>0.400000</td>\n",
              "      <td>1</td>\n",
              "      <td>1</td>\n",
              "      <td>11</td>\n",
              "      <td>1.000000</td>\n",
              "      <td>2.365000</td>\n",
              "      <td>160</td>\n",
              "      <td>3.400</td>\n",
              "      <td>0.277531</td>\n",
              "      <td>11.10</td>\n",
              "      <td>30.800000</td>\n",
              "      <td>0.000266667</td>\n",
              "      <td>6.41</td>\n",
              "      <td>433</td>\n",
              "      <td>0.002598</td>\n",
              "      <td>Biphasic</td>\n",
              "    </tr>\n",
              "    <tr>\n",
              "      <th>56</th>\n",
              "      <td>1</td>\n",
              "      <td>3</td>\n",
              "      <td>11.5</td>\n",
              "      <td>0.987187</td>\n",
              "      <td>425.000000</td>\n",
              "      <td>4.70</td>\n",
              "      <td>511.0</td>\n",
              "      <td>0.55</td>\n",
              "      <td>0.178000</td>\n",
              "      <td>0.105020</td>\n",
              "      <td>0.072980</td>\n",
              "      <td>747.000000</td>\n",
              "      <td>0.400000</td>\n",
              "      <td>1</td>\n",
              "      <td>1</td>\n",
              "      <td>5</td>\n",
              "      <td>1.000000</td>\n",
              "      <td>3.575000</td>\n",
              "      <td>160</td>\n",
              "      <td>14.500</td>\n",
              "      <td>0.277531</td>\n",
              "      <td>26.20</td>\n",
              "      <td>55.400000</td>\n",
              "      <td>0.000266667</td>\n",
              "      <td>27.22</td>\n",
              "      <td>433</td>\n",
              "      <td>0.011030</td>\n",
              "      <td>Biphasic</td>\n",
              "    </tr>\n",
              "    <tr>\n",
              "      <th>60</th>\n",
              "      <td>1</td>\n",
              "      <td>3</td>\n",
              "      <td>11.5</td>\n",
              "      <td>0.987187</td>\n",
              "      <td>425.000000</td>\n",
              "      <td>4.70</td>\n",
              "      <td>511.0</td>\n",
              "      <td>0.55</td>\n",
              "      <td>0.178000</td>\n",
              "      <td>0.105020</td>\n",
              "      <td>0.072980</td>\n",
              "      <td>747.000000</td>\n",
              "      <td>0.400000</td>\n",
              "      <td>1</td>\n",
              "      <td>1</td>\n",
              "      <td>9</td>\n",
              "      <td>1.000000</td>\n",
              "      <td>3.425000</td>\n",
              "      <td>160</td>\n",
              "      <td>9.600</td>\n",
              "      <td>0.277531</td>\n",
              "      <td>27.80</td>\n",
              "      <td>34.700000</td>\n",
              "      <td>0.000266667</td>\n",
              "      <td>18.09</td>\n",
              "      <td>433</td>\n",
              "      <td>0.007330</td>\n",
              "      <td>Biphasic</td>\n",
              "    </tr>\n",
              "    <tr>\n",
              "      <th>69</th>\n",
              "      <td>0</td>\n",
              "      <td>3</td>\n",
              "      <td>25.0</td>\n",
              "      <td>0.987187</td>\n",
              "      <td>415.807692</td>\n",
              "      <td>4.70</td>\n",
              "      <td>511.0</td>\n",
              "      <td>0.55</td>\n",
              "      <td>0.212125</td>\n",
              "      <td>0.140608</td>\n",
              "      <td>0.069653</td>\n",
              "      <td>675.941667</td>\n",
              "      <td>0.285714</td>\n",
              "      <td>1</td>\n",
              "      <td>1</td>\n",
              "      <td>7</td>\n",
              "      <td>5.000000</td>\n",
              "      <td>2.641667</td>\n",
              "      <td>165</td>\n",
              "      <td>53.100</td>\n",
              "      <td>0.092510</td>\n",
              "      <td>82.00</td>\n",
              "      <td>56.000000</td>\n",
              "      <td>0.000641026</td>\n",
              "      <td>23.88</td>\n",
              "      <td>438</td>\n",
              "      <td>0.015307</td>\n",
              "      <td>Biphasic</td>\n",
              "    </tr>\n",
              "    <tr>\n",
              "      <th>98</th>\n",
              "      <td>0</td>\n",
              "      <td>3</td>\n",
              "      <td>59.0</td>\n",
              "      <td>1.123077</td>\n",
              "      <td>450.400000</td>\n",
              "      <td>4.70</td>\n",
              "      <td>511.0</td>\n",
              "      <td>0.55</td>\n",
              "      <td>0.224000</td>\n",
              "      <td>0.157000</td>\n",
              "      <td>0.067000</td>\n",
              "      <td>238.000000</td>\n",
              "      <td>0.333333</td>\n",
              "      <td>2</td>\n",
              "      <td>-1</td>\n",
              "      <td>4</td>\n",
              "      <td>100.000000</td>\n",
              "      <td>4.910000</td>\n",
              "      <td>150</td>\n",
              "      <td>23.300</td>\n",
              "      <td>0.292138</td>\n",
              "      <td>85.50</td>\n",
              "      <td>27.251462</td>\n",
              "      <td>6.94E-05</td>\n",
              "      <td>55.92</td>\n",
              "      <td>423</td>\n",
              "      <td>0.014043</td>\n",
              "      <td>Single phase</td>\n",
              "    </tr>\n",
              "    <tr>\n",
              "      <th>100</th>\n",
              "      <td>0</td>\n",
              "      <td>3</td>\n",
              "      <td>103.0</td>\n",
              "      <td>3.142857</td>\n",
              "      <td>467.100000</td>\n",
              "      <td>4.70</td>\n",
              "      <td>511.0</td>\n",
              "      <td>0.55</td>\n",
              "      <td>0.224000</td>\n",
              "      <td>0.165000</td>\n",
              "      <td>0.059000</td>\n",
              "      <td>133.000000</td>\n",
              "      <td>0.333333</td>\n",
              "      <td>2</td>\n",
              "      <td>-1</td>\n",
              "      <td>4</td>\n",
              "      <td>100.000000</td>\n",
              "      <td>4.910000</td>\n",
              "      <td>150</td>\n",
              "      <td>3.300</td>\n",
              "      <td>0.292138</td>\n",
              "      <td>84.30</td>\n",
              "      <td>3.914591</td>\n",
              "      <td>4.01E-05</td>\n",
              "      <td>13.73</td>\n",
              "      <td>423</td>\n",
              "      <td>0.001989</td>\n",
              "      <td>Single phase</td>\n",
              "    </tr>\n",
              "    <tr>\n",
              "      <th>104</th>\n",
              "      <td>0</td>\n",
              "      <td>3</td>\n",
              "      <td>23.0</td>\n",
              "      <td>0.987187</td>\n",
              "      <td>350.000000</td>\n",
              "      <td>4.70</td>\n",
              "      <td>511.0</td>\n",
              "      <td>0.55</td>\n",
              "      <td>0.212125</td>\n",
              "      <td>0.140608</td>\n",
              "      <td>0.069653</td>\n",
              "      <td>570.000000</td>\n",
              "      <td>0.150000</td>\n",
              "      <td>1</td>\n",
              "      <td>1</td>\n",
              "      <td>7</td>\n",
              "      <td>5.000000</td>\n",
              "      <td>2.641667</td>\n",
              "      <td>165</td>\n",
              "      <td>28.000</td>\n",
              "      <td>0.555062</td>\n",
              "      <td>58.00</td>\n",
              "      <td>41.000000</td>\n",
              "      <td>0.000104167</td>\n",
              "      <td>45.66</td>\n",
              "      <td>438</td>\n",
              "      <td>0.004756</td>\n",
              "      <td>Biphasic</td>\n",
              "    </tr>\n",
              "    <tr>\n",
              "      <th>4</th>\n",
              "      <td>0</td>\n",
              "      <td>0</td>\n",
              "      <td>15.6</td>\n",
              "      <td>0.542208</td>\n",
              "      <td>610.000000</td>\n",
              "      <td>5.95</td>\n",
              "      <td>856.5</td>\n",
              "      <td>0.67</td>\n",
              "      <td>0.537600</td>\n",
              "      <td>0.220000</td>\n",
              "      <td>0.305550</td>\n",
              "      <td>860.000000</td>\n",
              "      <td>0.200000</td>\n",
              "      <td>0</td>\n",
              "      <td>1</td>\n",
              "      <td>7</td>\n",
              "      <td>3.000000</td>\n",
              "      <td>2.562500</td>\n",
              "      <td>165</td>\n",
              "      <td>30.000</td>\n",
              "      <td>0.370000</td>\n",
              "      <td>22.00</td>\n",
              "      <td>60.000000</td>\n",
              "      <td>0.004016064</td>\n",
              "      <td>0.47</td>\n",
              "      <td>438</td>\n",
              "      <td>0.001886</td>\n",
              "      <td>NaN</td>\n",
              "    </tr>\n",
              "    <tr>\n",
              "      <th>5</th>\n",
              "      <td>0</td>\n",
              "      <td>0</td>\n",
              "      <td>15.6</td>\n",
              "      <td>0.542208</td>\n",
              "      <td>610.000000</td>\n",
              "      <td>5.95</td>\n",
              "      <td>856.5</td>\n",
              "      <td>0.67</td>\n",
              "      <td>0.537600</td>\n",
              "      <td>0.220000</td>\n",
              "      <td>0.305550</td>\n",
              "      <td>860.000000</td>\n",
              "      <td>0.200000</td>\n",
              "      <td>3</td>\n",
              "      <td>1</td>\n",
              "      <td>12</td>\n",
              "      <td>0.000000</td>\n",
              "      <td>1.850000</td>\n",
              "      <td>165</td>\n",
              "      <td>20.000</td>\n",
              "      <td>0.370000</td>\n",
              "      <td>18.00</td>\n",
              "      <td>27.000000</td>\n",
              "      <td>0.004016064</td>\n",
              "      <td>0.17</td>\n",
              "      <td>438</td>\n",
              "      <td>0.000694</td>\n",
              "      <td>NaN</td>\n",
              "    </tr>\n",
              "    <tr>\n",
              "      <th>10</th>\n",
              "      <td>0</td>\n",
              "      <td>0</td>\n",
              "      <td>25.0</td>\n",
              "      <td>0.250000</td>\n",
              "      <td>637.000000</td>\n",
              "      <td>5.95</td>\n",
              "      <td>856.5</td>\n",
              "      <td>0.67</td>\n",
              "      <td>0.748000</td>\n",
              "      <td>0.199000</td>\n",
              "      <td>0.305550</td>\n",
              "      <td>426.300000</td>\n",
              "      <td>0.133333</td>\n",
              "      <td>3</td>\n",
              "      <td>1</td>\n",
              "      <td>12</td>\n",
              "      <td>0.000000</td>\n",
              "      <td>1.850000</td>\n",
              "      <td>130</td>\n",
              "      <td>5.000</td>\n",
              "      <td>0.055506</td>\n",
              "      <td>60.00</td>\n",
              "      <td>7.000000</td>\n",
              "      <td>5.13E-05</td>\n",
              "      <td>3.41</td>\n",
              "      <td>403</td>\n",
              "      <td>0.005174</td>\n",
              "      <td>NaN</td>\n",
              "    </tr>\n",
              "    <tr>\n",
              "      <th>39</th>\n",
              "      <td>0</td>\n",
              "      <td>0</td>\n",
              "      <td>19.0</td>\n",
              "      <td>0.250000</td>\n",
              "      <td>700.000000</td>\n",
              "      <td>5.95</td>\n",
              "      <td>856.5</td>\n",
              "      <td>0.67</td>\n",
              "      <td>0.537600</td>\n",
              "      <td>0.225358</td>\n",
              "      <td>0.305550</td>\n",
              "      <td>796.000000</td>\n",
              "      <td>0.150000</td>\n",
              "      <td>1</td>\n",
              "      <td>1</td>\n",
              "      <td>7</td>\n",
              "      <td>5.000000</td>\n",
              "      <td>2.641667</td>\n",
              "      <td>165</td>\n",
              "      <td>39.990</td>\n",
              "      <td>0.555062</td>\n",
              "      <td>93.00</td>\n",
              "      <td>43.000000</td>\n",
              "      <td>0.000125</td>\n",
              "      <td>53.32</td>\n",
              "      <td>438</td>\n",
              "      <td>0.006665</td>\n",
              "      <td>Biphasic</td>\n",
              "    </tr>\n",
              "    <tr>\n",
              "      <th>41</th>\n",
              "      <td>0</td>\n",
              "      <td>0</td>\n",
              "      <td>18.7</td>\n",
              "      <td>0.542208</td>\n",
              "      <td>641.300000</td>\n",
              "      <td>5.95</td>\n",
              "      <td>856.5</td>\n",
              "      <td>0.67</td>\n",
              "      <td>0.537600</td>\n",
              "      <td>0.165000</td>\n",
              "      <td>0.305550</td>\n",
              "      <td>880.000000</td>\n",
              "      <td>10.000000</td>\n",
              "      <td>1</td>\n",
              "      <td>1</td>\n",
              "      <td>7</td>\n",
              "      <td>3.000000</td>\n",
              "      <td>2.562500</td>\n",
              "      <td>130</td>\n",
              "      <td>2.000</td>\n",
              "      <td>0.111012</td>\n",
              "      <td>8.00</td>\n",
              "      <td>25.000000</td>\n",
              "      <td>0.000846024</td>\n",
              "      <td>0.08</td>\n",
              "      <td>403</td>\n",
              "      <td>0.001972</td>\n",
              "      <td>Biphasic</td>\n",
              "    </tr>\n",
              "    <tr>\n",
              "      <th>42</th>\n",
              "      <td>0</td>\n",
              "      <td>0</td>\n",
              "      <td>18.7</td>\n",
              "      <td>0.542208</td>\n",
              "      <td>641.300000</td>\n",
              "      <td>5.95</td>\n",
              "      <td>856.5</td>\n",
              "      <td>0.67</td>\n",
              "      <td>0.537600</td>\n",
              "      <td>0.165000</td>\n",
              "      <td>0.305550</td>\n",
              "      <td>880.000000</td>\n",
              "      <td>33.333333</td>\n",
              "      <td>1</td>\n",
              "      <td>1</td>\n",
              "      <td>7</td>\n",
              "      <td>3.000000</td>\n",
              "      <td>2.562500</td>\n",
              "      <td>130</td>\n",
              "      <td>0.560</td>\n",
              "      <td>0.033304</td>\n",
              "      <td>8.00</td>\n",
              "      <td>7.000000</td>\n",
              "      <td>0.000846024</td>\n",
              "      <td>0.02</td>\n",
              "      <td>403</td>\n",
              "      <td>0.000553</td>\n",
              "      <td>Biphasic</td>\n",
              "    </tr>\n",
              "    <tr>\n",
              "      <th>43</th>\n",
              "      <td>0</td>\n",
              "      <td>0</td>\n",
              "      <td>18.7</td>\n",
              "      <td>0.542208</td>\n",
              "      <td>641.300000</td>\n",
              "      <td>5.95</td>\n",
              "      <td>856.5</td>\n",
              "      <td>0.67</td>\n",
              "      <td>0.537600</td>\n",
              "      <td>0.165000</td>\n",
              "      <td>0.305550</td>\n",
              "      <td>880.000000</td>\n",
              "      <td>100.000000</td>\n",
              "      <td>1</td>\n",
              "      <td>1</td>\n",
              "      <td>7</td>\n",
              "      <td>3.000000</td>\n",
              "      <td>2.562500</td>\n",
              "      <td>130</td>\n",
              "      <td>0.240</td>\n",
              "      <td>0.011101</td>\n",
              "      <td>8.00</td>\n",
              "      <td>3.000000</td>\n",
              "      <td>0.000846024</td>\n",
              "      <td>0.01</td>\n",
              "      <td>403</td>\n",
              "      <td>0.000237</td>\n",
              "      <td>Biphasic</td>\n",
              "    </tr>\n",
              "    <tr>\n",
              "      <th>45</th>\n",
              "      <td>1</td>\n",
              "      <td>0</td>\n",
              "      <td>12.5</td>\n",
              "      <td>0.542208</td>\n",
              "      <td>680.000000</td>\n",
              "      <td>5.95</td>\n",
              "      <td>856.5</td>\n",
              "      <td>0.67</td>\n",
              "      <td>0.485000</td>\n",
              "      <td>0.179450</td>\n",
              "      <td>0.305550</td>\n",
              "      <td>677.000000</td>\n",
              "      <td>0.400000</td>\n",
              "      <td>2</td>\n",
              "      <td>1</td>\n",
              "      <td>12</td>\n",
              "      <td>0.000000</td>\n",
              "      <td>1.850000</td>\n",
              "      <td>160</td>\n",
              "      <td>16.100</td>\n",
              "      <td>0.277531</td>\n",
              "      <td>76.60</td>\n",
              "      <td>21.018277</td>\n",
              "      <td>0.000246914</td>\n",
              "      <td>32.6</td>\n",
              "      <td>433</td>\n",
              "      <td>0.012628</td>\n",
              "      <td>Single phase</td>\n",
              "    </tr>\n",
              "    <tr>\n",
              "      <th>53</th>\n",
              "      <td>1</td>\n",
              "      <td>0</td>\n",
              "      <td>12.5</td>\n",
              "      <td>0.542208</td>\n",
              "      <td>680.000000</td>\n",
              "      <td>5.95</td>\n",
              "      <td>856.5</td>\n",
              "      <td>0.67</td>\n",
              "      <td>0.485000</td>\n",
              "      <td>0.179450</td>\n",
              "      <td>0.305550</td>\n",
              "      <td>677.000000</td>\n",
              "      <td>0.400000</td>\n",
              "      <td>1</td>\n",
              "      <td>1</td>\n",
              "      <td>11</td>\n",
              "      <td>1.000000</td>\n",
              "      <td>2.365000</td>\n",
              "      <td>160</td>\n",
              "      <td>5.300</td>\n",
              "      <td>0.277531</td>\n",
              "      <td>28.40</td>\n",
              "      <td>18.600000</td>\n",
              "      <td>0.000246914</td>\n",
              "      <td>10.7</td>\n",
              "      <td>433</td>\n",
              "      <td>0.004143</td>\n",
              "      <td>Biphasic</td>\n",
              "    </tr>\n",
              "    <tr>\n",
              "      <th>57</th>\n",
              "      <td>1</td>\n",
              "      <td>0</td>\n",
              "      <td>12.5</td>\n",
              "      <td>0.542208</td>\n",
              "      <td>680.000000</td>\n",
              "      <td>5.95</td>\n",
              "      <td>856.5</td>\n",
              "      <td>0.67</td>\n",
              "      <td>0.485000</td>\n",
              "      <td>0.179450</td>\n",
              "      <td>0.305550</td>\n",
              "      <td>677.000000</td>\n",
              "      <td>0.400000</td>\n",
              "      <td>1</td>\n",
              "      <td>1</td>\n",
              "      <td>5</td>\n",
              "      <td>1.000000</td>\n",
              "      <td>3.575000</td>\n",
              "      <td>160</td>\n",
              "      <td>12.300</td>\n",
              "      <td>0.277531</td>\n",
              "      <td>34.10</td>\n",
              "      <td>36.100000</td>\n",
              "      <td>0.000246914</td>\n",
              "      <td>24.93</td>\n",
              "      <td>433</td>\n",
              "      <td>0.009656</td>\n",
              "      <td>Biphasic</td>\n",
              "    </tr>\n",
              "    <tr>\n",
              "      <th>61</th>\n",
              "      <td>1</td>\n",
              "      <td>0</td>\n",
              "      <td>12.5</td>\n",
              "      <td>0.542208</td>\n",
              "      <td>680.000000</td>\n",
              "      <td>5.95</td>\n",
              "      <td>856.5</td>\n",
              "      <td>0.67</td>\n",
              "      <td>0.485000</td>\n",
              "      <td>0.179450</td>\n",
              "      <td>0.305550</td>\n",
              "      <td>677.000000</td>\n",
              "      <td>0.400000</td>\n",
              "      <td>1</td>\n",
              "      <td>1</td>\n",
              "      <td>9</td>\n",
              "      <td>1.000000</td>\n",
              "      <td>3.425000</td>\n",
              "      <td>160</td>\n",
              "      <td>7.000</td>\n",
              "      <td>0.277531</td>\n",
              "      <td>36.40</td>\n",
              "      <td>19.200000</td>\n",
              "      <td>0.000246914</td>\n",
              "      <td>14.15</td>\n",
              "      <td>433</td>\n",
              "      <td>0.005482</td>\n",
              "      <td>Biphasic</td>\n",
              "    </tr>\n",
              "    <tr>\n",
              "      <th>68</th>\n",
              "      <td>0</td>\n",
              "      <td>0</td>\n",
              "      <td>15.0</td>\n",
              "      <td>0.542208</td>\n",
              "      <td>601.490476</td>\n",
              "      <td>5.95</td>\n",
              "      <td>856.5</td>\n",
              "      <td>0.67</td>\n",
              "      <td>0.537600</td>\n",
              "      <td>0.225358</td>\n",
              "      <td>0.305550</td>\n",
              "      <td>625.538095</td>\n",
              "      <td>0.285714</td>\n",
              "      <td>1</td>\n",
              "      <td>1</td>\n",
              "      <td>7</td>\n",
              "      <td>5.000000</td>\n",
              "      <td>2.641667</td>\n",
              "      <td>165</td>\n",
              "      <td>34.000</td>\n",
              "      <td>0.092510</td>\n",
              "      <td>75.00</td>\n",
              "      <td>44.000000</td>\n",
              "      <td>0.001041667</td>\n",
              "      <td>10.56</td>\n",
              "      <td>438</td>\n",
              "      <td>0.011000</td>\n",
              "      <td>Biphasic</td>\n",
              "    </tr>\n",
              "    <tr>\n",
              "      <th>88</th>\n",
              "      <td>0</td>\n",
              "      <td>0</td>\n",
              "      <td>12.5</td>\n",
              "      <td>0.607143</td>\n",
              "      <td>525.600000</td>\n",
              "      <td>5.95</td>\n",
              "      <td>856.5</td>\n",
              "      <td>0.67</td>\n",
              "      <td>0.537600</td>\n",
              "      <td>0.270000</td>\n",
              "      <td>0.305550</td>\n",
              "      <td>450.000000</td>\n",
              "      <td>0.200000</td>\n",
              "      <td>2</td>\n",
              "      <td>-1</td>\n",
              "      <td>6</td>\n",
              "      <td>100.000000</td>\n",
              "      <td>1.660000</td>\n",
              "      <td>150</td>\n",
              "      <td>6.360</td>\n",
              "      <td>0.292138</td>\n",
              "      <td>53.00</td>\n",
              "      <td>12.000000</td>\n",
              "      <td>0.000123457</td>\n",
              "      <td>8.59</td>\n",
              "      <td>423</td>\n",
              "      <td>0.004225</td>\n",
              "      <td>Single phase</td>\n",
              "    </tr>\n",
              "    <tr>\n",
              "      <th>89</th>\n",
              "      <td>0</td>\n",
              "      <td>0</td>\n",
              "      <td>12.5</td>\n",
              "      <td>0.607143</td>\n",
              "      <td>525.600000</td>\n",
              "      <td>5.95</td>\n",
              "      <td>856.5</td>\n",
              "      <td>0.67</td>\n",
              "      <td>0.537600</td>\n",
              "      <td>0.270000</td>\n",
              "      <td>0.305550</td>\n",
              "      <td>450.000000</td>\n",
              "      <td>0.200000</td>\n",
              "      <td>2</td>\n",
              "      <td>-1</td>\n",
              "      <td>1</td>\n",
              "      <td>100.000000</td>\n",
              "      <td>1.624000</td>\n",
              "      <td>150</td>\n",
              "      <td>13.200</td>\n",
              "      <td>0.292138</td>\n",
              "      <td>55.00</td>\n",
              "      <td>24.000000</td>\n",
              "      <td>0.000123457</td>\n",
              "      <td>17.82</td>\n",
              "      <td>423</td>\n",
              "      <td>0.008769</td>\n",
              "      <td>Single phase</td>\n",
              "    </tr>\n",
              "    <tr>\n",
              "      <th>90</th>\n",
              "      <td>0</td>\n",
              "      <td>0</td>\n",
              "      <td>12.5</td>\n",
              "      <td>0.607143</td>\n",
              "      <td>525.600000</td>\n",
              "      <td>5.95</td>\n",
              "      <td>856.5</td>\n",
              "      <td>0.67</td>\n",
              "      <td>0.537600</td>\n",
              "      <td>0.270000</td>\n",
              "      <td>0.305550</td>\n",
              "      <td>450.000000</td>\n",
              "      <td>0.200000</td>\n",
              "      <td>2</td>\n",
              "      <td>-1</td>\n",
              "      <td>4</td>\n",
              "      <td>100.000000</td>\n",
              "      <td>4.910000</td>\n",
              "      <td>150</td>\n",
              "      <td>11.590</td>\n",
              "      <td>0.292138</td>\n",
              "      <td>61.00</td>\n",
              "      <td>19.000000</td>\n",
              "      <td>0.000123457</td>\n",
              "      <td>15.65</td>\n",
              "      <td>423</td>\n",
              "      <td>0.007700</td>\n",
              "      <td>Single phase</td>\n",
              "    </tr>\n",
              "    <tr>\n",
              "      <th>91</th>\n",
              "      <td>0</td>\n",
              "      <td>0</td>\n",
              "      <td>12.5</td>\n",
              "      <td>0.607143</td>\n",
              "      <td>525.600000</td>\n",
              "      <td>5.95</td>\n",
              "      <td>856.5</td>\n",
              "      <td>0.67</td>\n",
              "      <td>0.537600</td>\n",
              "      <td>0.270000</td>\n",
              "      <td>0.305550</td>\n",
              "      <td>450.000000</td>\n",
              "      <td>0.200000</td>\n",
              "      <td>2</td>\n",
              "      <td>-1</td>\n",
              "      <td>5</td>\n",
              "      <td>100.000000</td>\n",
              "      <td>5.300000</td>\n",
              "      <td>150</td>\n",
              "      <td>6.580</td>\n",
              "      <td>0.292138</td>\n",
              "      <td>47.00</td>\n",
              "      <td>14.000000</td>\n",
              "      <td>0.000123457</td>\n",
              "      <td>8.88</td>\n",
              "      <td>423</td>\n",
              "      <td>0.004371</td>\n",
              "      <td>Single phase</td>\n",
              "    </tr>\n",
              "    <tr>\n",
              "      <th>92</th>\n",
              "      <td>0</td>\n",
              "      <td>0</td>\n",
              "      <td>12.5</td>\n",
              "      <td>0.607143</td>\n",
              "      <td>525.600000</td>\n",
              "      <td>5.95</td>\n",
              "      <td>856.5</td>\n",
              "      <td>0.67</td>\n",
              "      <td>0.537600</td>\n",
              "      <td>0.270000</td>\n",
              "      <td>0.305550</td>\n",
              "      <td>450.000000</td>\n",
              "      <td>0.200000</td>\n",
              "      <td>2</td>\n",
              "      <td>-1</td>\n",
              "      <td>0</td>\n",
              "      <td>100.000000</td>\n",
              "      <td>0.450000</td>\n",
              "      <td>150</td>\n",
              "      <td>19.720</td>\n",
              "      <td>0.292138</td>\n",
              "      <td>58.00</td>\n",
              "      <td>34.000000</td>\n",
              "      <td>0.000123457</td>\n",
              "      <td>26.62</td>\n",
              "      <td>423</td>\n",
              "      <td>0.013101</td>\n",
              "      <td>Single phase</td>\n",
              "    </tr>\n",
              "    <tr>\n",
              "      <th>93</th>\n",
              "      <td>0</td>\n",
              "      <td>0</td>\n",
              "      <td>12.5</td>\n",
              "      <td>0.607143</td>\n",
              "      <td>525.600000</td>\n",
              "      <td>5.95</td>\n",
              "      <td>856.5</td>\n",
              "      <td>0.67</td>\n",
              "      <td>0.537600</td>\n",
              "      <td>0.270000</td>\n",
              "      <td>0.305550</td>\n",
              "      <td>450.000000</td>\n",
              "      <td>0.200000</td>\n",
              "      <td>2</td>\n",
              "      <td>-1</td>\n",
              "      <td>2</td>\n",
              "      <td>100.000000</td>\n",
              "      <td>2.880000</td>\n",
              "      <td>150</td>\n",
              "      <td>4.959</td>\n",
              "      <td>0.292138</td>\n",
              "      <td>57.00</td>\n",
              "      <td>8.700000</td>\n",
              "      <td>0.000123457</td>\n",
              "      <td>6.69</td>\n",
              "      <td>423</td>\n",
              "      <td>0.003294</td>\n",
              "      <td>Single phase</td>\n",
              "    </tr>\n",
              "    <tr>\n",
              "      <th>94</th>\n",
              "      <td>0</td>\n",
              "      <td>0</td>\n",
              "      <td>12.5</td>\n",
              "      <td>0.607143</td>\n",
              "      <td>525.600000</td>\n",
              "      <td>5.95</td>\n",
              "      <td>856.5</td>\n",
              "      <td>0.67</td>\n",
              "      <td>0.537600</td>\n",
              "      <td>0.270000</td>\n",
              "      <td>0.305550</td>\n",
              "      <td>450.000000</td>\n",
              "      <td>0.200000</td>\n",
              "      <td>2</td>\n",
              "      <td>-1</td>\n",
              "      <td>8</td>\n",
              "      <td>100.000000</td>\n",
              "      <td>4.170000</td>\n",
              "      <td>150</td>\n",
              "      <td>28.980</td>\n",
              "      <td>0.292138</td>\n",
              "      <td>42.00</td>\n",
              "      <td>69.000000</td>\n",
              "      <td>0.000123457</td>\n",
              "      <td>39.12</td>\n",
              "      <td>423</td>\n",
              "      <td>0.019252</td>\n",
              "      <td>Single phase</td>\n",
              "    </tr>\n",
              "    <tr>\n",
              "      <th>96</th>\n",
              "      <td>0</td>\n",
              "      <td>0</td>\n",
              "      <td>12.5</td>\n",
              "      <td>0.607143</td>\n",
              "      <td>525.600000</td>\n",
              "      <td>5.95</td>\n",
              "      <td>856.5</td>\n",
              "      <td>0.67</td>\n",
              "      <td>0.537600</td>\n",
              "      <td>0.270000</td>\n",
              "      <td>0.305550</td>\n",
              "      <td>450.000000</td>\n",
              "      <td>0.200000</td>\n",
              "      <td>2</td>\n",
              "      <td>-1</td>\n",
              "      <td>3</td>\n",
              "      <td>100.000000</td>\n",
              "      <td>4.070000</td>\n",
              "      <td>150</td>\n",
              "      <td>6.540</td>\n",
              "      <td>0.292138</td>\n",
              "      <td>95.44</td>\n",
              "      <td>6.852473</td>\n",
              "      <td>0.000123457</td>\n",
              "      <td>8.83</td>\n",
              "      <td>423</td>\n",
              "      <td>0.004345</td>\n",
              "      <td>Single phase</td>\n",
              "    </tr>\n",
              "    <tr>\n",
              "      <th>102</th>\n",
              "      <td>0</td>\n",
              "      <td>0</td>\n",
              "      <td>19.0</td>\n",
              "      <td>0.542208</td>\n",
              "      <td>700.000000</td>\n",
              "      <td>5.95</td>\n",
              "      <td>856.5</td>\n",
              "      <td>0.67</td>\n",
              "      <td>0.537600</td>\n",
              "      <td>0.225358</td>\n",
              "      <td>0.305550</td>\n",
              "      <td>796.000000</td>\n",
              "      <td>0.150000</td>\n",
              "      <td>1</td>\n",
              "      <td>1</td>\n",
              "      <td>7</td>\n",
              "      <td>5.000000</td>\n",
              "      <td>2.641667</td>\n",
              "      <td>165</td>\n",
              "      <td>45.120</td>\n",
              "      <td>0.555062</td>\n",
              "      <td>62.00</td>\n",
              "      <td>50.000000</td>\n",
              "      <td>0.000125</td>\n",
              "      <td>70.86</td>\n",
              "      <td>438</td>\n",
              "      <td>0.008857</td>\n",
              "      <td>Biphasic</td>\n",
              "    </tr>\n",
              "    <tr>\n",
              "      <th>8</th>\n",
              "      <td>0</td>\n",
              "      <td>2</td>\n",
              "      <td>60.0</td>\n",
              "      <td>0.187628</td>\n",
              "      <td>953.000000</td>\n",
              "      <td>7.35</td>\n",
              "      <td>3953.0</td>\n",
              "      <td>0.74</td>\n",
              "      <td>0.647000</td>\n",
              "      <td>0.359000</td>\n",
              "      <td>0.182262</td>\n",
              "      <td>248.600000</td>\n",
              "      <td>0.133333</td>\n",
              "      <td>3</td>\n",
              "      <td>1</td>\n",
              "      <td>12</td>\n",
              "      <td>0.000000</td>\n",
              "      <td>1.850000</td>\n",
              "      <td>130</td>\n",
              "      <td>7.000</td>\n",
              "      <td>0.055506</td>\n",
              "      <td>38.00</td>\n",
              "      <td>5.000000</td>\n",
              "      <td>2.19E-05</td>\n",
              "      <td>3.62</td>\n",
              "      <td>403</td>\n",
              "      <td>0.010521</td>\n",
              "      <td>NaN</td>\n",
              "    </tr>\n",
              "    <tr>\n",
              "      <th>46</th>\n",
              "      <td>1</td>\n",
              "      <td>2</td>\n",
              "      <td>2.6</td>\n",
              "      <td>0.187628</td>\n",
              "      <td>925.000000</td>\n",
              "      <td>7.35</td>\n",
              "      <td>3953.0</td>\n",
              "      <td>0.74</td>\n",
              "      <td>0.352000</td>\n",
              "      <td>0.313280</td>\n",
              "      <td>0.038720</td>\n",
              "      <td>1603.000000</td>\n",
              "      <td>0.400000</td>\n",
              "      <td>2</td>\n",
              "      <td>1</td>\n",
              "      <td>12</td>\n",
              "      <td>0.000000</td>\n",
              "      <td>1.850000</td>\n",
              "      <td>160</td>\n",
              "      <td>6.400</td>\n",
              "      <td>0.277531</td>\n",
              "      <td>29.20</td>\n",
              "      <td>21.917808</td>\n",
              "      <td>0.000925926</td>\n",
              "      <td>3.46</td>\n",
              "      <td>433</td>\n",
              "      <td>0.006130</td>\n",
              "      <td>Single phase</td>\n",
              "    </tr>\n",
              "    <tr>\n",
              "      <th>54</th>\n",
              "      <td>1</td>\n",
              "      <td>2</td>\n",
              "      <td>2.6</td>\n",
              "      <td>0.187628</td>\n",
              "      <td>925.000000</td>\n",
              "      <td>7.35</td>\n",
              "      <td>3953.0</td>\n",
              "      <td>0.74</td>\n",
              "      <td>0.352000</td>\n",
              "      <td>0.313280</td>\n",
              "      <td>0.038720</td>\n",
              "      <td>1603.000000</td>\n",
              "      <td>0.400000</td>\n",
              "      <td>1</td>\n",
              "      <td>1</td>\n",
              "      <td>11</td>\n",
              "      <td>1.000000</td>\n",
              "      <td>2.365000</td>\n",
              "      <td>160</td>\n",
              "      <td>11.200</td>\n",
              "      <td>0.277531</td>\n",
              "      <td>39.00</td>\n",
              "      <td>28.700000</td>\n",
              "      <td>0.000925926</td>\n",
              "      <td>6.04</td>\n",
              "      <td>433</td>\n",
              "      <td>0.010721</td>\n",
              "      <td>Biphasic</td>\n",
              "    </tr>\n",
              "    <tr>\n",
              "      <th>58</th>\n",
              "      <td>1</td>\n",
              "      <td>2</td>\n",
              "      <td>2.6</td>\n",
              "      <td>0.187628</td>\n",
              "      <td>925.000000</td>\n",
              "      <td>7.35</td>\n",
              "      <td>3953.0</td>\n",
              "      <td>0.74</td>\n",
              "      <td>0.352000</td>\n",
              "      <td>0.313280</td>\n",
              "      <td>0.038720</td>\n",
              "      <td>1603.000000</td>\n",
              "      <td>0.400000</td>\n",
              "      <td>1</td>\n",
              "      <td>1</td>\n",
              "      <td>5</td>\n",
              "      <td>1.000000</td>\n",
              "      <td>3.575000</td>\n",
              "      <td>160</td>\n",
              "      <td>21.000</td>\n",
              "      <td>0.277531</td>\n",
              "      <td>56.30</td>\n",
              "      <td>37.300000</td>\n",
              "      <td>0.000925926</td>\n",
              "      <td>11.34</td>\n",
              "      <td>433</td>\n",
              "      <td>0.020114</td>\n",
              "      <td>Biphasic</td>\n",
              "    </tr>\n",
              "    <tr>\n",
              "      <th>62</th>\n",
              "      <td>1</td>\n",
              "      <td>2</td>\n",
              "      <td>2.6</td>\n",
              "      <td>0.187628</td>\n",
              "      <td>925.000000</td>\n",
              "      <td>7.35</td>\n",
              "      <td>3953.0</td>\n",
              "      <td>0.74</td>\n",
              "      <td>0.352000</td>\n",
              "      <td>0.313280</td>\n",
              "      <td>0.038720</td>\n",
              "      <td>1603.000000</td>\n",
              "      <td>0.400000</td>\n",
              "      <td>1</td>\n",
              "      <td>1</td>\n",
              "      <td>9</td>\n",
              "      <td>1.000000</td>\n",
              "      <td>3.425000</td>\n",
              "      <td>160</td>\n",
              "      <td>18.100</td>\n",
              "      <td>0.277531</td>\n",
              "      <td>59.40</td>\n",
              "      <td>30.400000</td>\n",
              "      <td>0.000925926</td>\n",
              "      <td>9.75</td>\n",
              "      <td>433</td>\n",
              "      <td>0.017296</td>\n",
              "      <td>Biphasic</td>\n",
              "    </tr>\n",
              "    <tr>\n",
              "      <th>70</th>\n",
              "      <td>0</td>\n",
              "      <td>2</td>\n",
              "      <td>2.6</td>\n",
              "      <td>0.187628</td>\n",
              "      <td>903.500000</td>\n",
              "      <td>7.35</td>\n",
              "      <td>3953.0</td>\n",
              "      <td>0.74</td>\n",
              "      <td>0.476917</td>\n",
              "      <td>0.285843</td>\n",
              "      <td>0.182262</td>\n",
              "      <td>851.584615</td>\n",
              "      <td>0.285714</td>\n",
              "      <td>1</td>\n",
              "      <td>1</td>\n",
              "      <td>7</td>\n",
              "      <td>5.000000</td>\n",
              "      <td>2.641667</td>\n",
              "      <td>165</td>\n",
              "      <td>19.720</td>\n",
              "      <td>0.092510</td>\n",
              "      <td>47.00</td>\n",
              "      <td>38.000000</td>\n",
              "      <td>0.00462963</td>\n",
              "      <td>1.29</td>\n",
              "      <td>438</td>\n",
              "      <td>0.005953</td>\n",
              "      <td>Biphasic</td>\n",
              "    </tr>\n",
              "    <tr>\n",
              "      <th>71</th>\n",
              "      <td>0</td>\n",
              "      <td>2</td>\n",
              "      <td>10.0</td>\n",
              "      <td>0.187628</td>\n",
              "      <td>903.500000</td>\n",
              "      <td>7.35</td>\n",
              "      <td>3953.0</td>\n",
              "      <td>0.74</td>\n",
              "      <td>0.476917</td>\n",
              "      <td>0.285843</td>\n",
              "      <td>0.182262</td>\n",
              "      <td>851.584615</td>\n",
              "      <td>0.285714</td>\n",
              "      <td>1</td>\n",
              "      <td>1</td>\n",
              "      <td>7</td>\n",
              "      <td>5.000000</td>\n",
              "      <td>2.641667</td>\n",
              "      <td>165</td>\n",
              "      <td>41.440</td>\n",
              "      <td>0.092510</td>\n",
              "      <td>60.00</td>\n",
              "      <td>70.000000</td>\n",
              "      <td>0.001515152</td>\n",
              "      <td>9.24</td>\n",
              "      <td>438</td>\n",
              "      <td>0.014000</td>\n",
              "      <td>Biphasic</td>\n",
              "    </tr>\n",
              "    <tr>\n",
              "      <th>72</th>\n",
              "      <td>0</td>\n",
              "      <td>2</td>\n",
              "      <td>15.0</td>\n",
              "      <td>0.187628</td>\n",
              "      <td>903.500000</td>\n",
              "      <td>7.35</td>\n",
              "      <td>3953.0</td>\n",
              "      <td>0.74</td>\n",
              "      <td>0.476917</td>\n",
              "      <td>0.285843</td>\n",
              "      <td>0.182262</td>\n",
              "      <td>851.584615</td>\n",
              "      <td>0.285714</td>\n",
              "      <td>1</td>\n",
              "      <td>1</td>\n",
              "      <td>7</td>\n",
              "      <td>5.000000</td>\n",
              "      <td>2.641667</td>\n",
              "      <td>165</td>\n",
              "      <td>40.280</td>\n",
              "      <td>0.092510</td>\n",
              "      <td>57.00</td>\n",
              "      <td>54.000000</td>\n",
              "      <td>0.001041667</td>\n",
              "      <td>9.85</td>\n",
              "      <td>438</td>\n",
              "      <td>0.010260</td>\n",
              "      <td>Biphasic</td>\n",
              "    </tr>\n",
              "    <tr>\n",
              "      <th>84</th>\n",
              "      <td>0</td>\n",
              "      <td>2</td>\n",
              "      <td>51.3</td>\n",
              "      <td>0.136364</td>\n",
              "      <td>875.000000</td>\n",
              "      <td>7.35</td>\n",
              "      <td>3953.0</td>\n",
              "      <td>0.74</td>\n",
              "      <td>0.543000</td>\n",
              "      <td>0.246000</td>\n",
              "      <td>0.297000</td>\n",
              "      <td>280.000000</td>\n",
              "      <td>0.133333</td>\n",
              "      <td>1</td>\n",
              "      <td>1</td>\n",
              "      <td>5</td>\n",
              "      <td>4.000000</td>\n",
              "      <td>4.610000</td>\n",
              "      <td>150</td>\n",
              "      <td>12.300</td>\n",
              "      <td>0.292138</td>\n",
              "      <td>98.50</td>\n",
              "      <td>12.487310</td>\n",
              "      <td>3.19E-05</td>\n",
              "      <td>77.19</td>\n",
              "      <td>423</td>\n",
              "      <td>0.018110</td>\n",
              "      <td>Biphasic</td>\n",
              "    </tr>\n",
              "    <tr>\n",
              "      <th>87</th>\n",
              "      <td>0</td>\n",
              "      <td>2</td>\n",
              "      <td>51.3</td>\n",
              "      <td>0.136364</td>\n",
              "      <td>875.000000</td>\n",
              "      <td>7.35</td>\n",
              "      <td>3953.0</td>\n",
              "      <td>0.74</td>\n",
              "      <td>0.543000</td>\n",
              "      <td>0.246000</td>\n",
              "      <td>0.297000</td>\n",
              "      <td>280.000000</td>\n",
              "      <td>0.133333</td>\n",
              "      <td>2</td>\n",
              "      <td>1</td>\n",
              "      <td>12</td>\n",
              "      <td>0.000000</td>\n",
              "      <td>1.850000</td>\n",
              "      <td>150</td>\n",
              "      <td>14.300</td>\n",
              "      <td>0.292138</td>\n",
              "      <td>36.30</td>\n",
              "      <td>39.393939</td>\n",
              "      <td>3.19E-05</td>\n",
              "      <td>89.75</td>\n",
              "      <td>423</td>\n",
              "      <td>0.021054</td>\n",
              "      <td>Single phase</td>\n",
              "    </tr>\n",
              "  </tbody>\n",
              "</table>\n",
              "</div>"
            ],
            "text/plain": [
              "     Type of catalyst  Catalyst  Si/Al  ...  T(k)  normalized_k  Solvent system\n",
              "0                   0         1   11.7  ...   438      0.004500             NaN\n",
              "1                   0         1   11.7  ...   438      0.001042    Single phase\n",
              "27                  0         1    6.9  ...   438      0.011317             NaN\n",
              "28                  0         1   11.0  ...   438      0.016560             NaN\n",
              "29                  0         1   15.0  ...   438      0.008273             NaN\n",
              "30                  0         1   18.0  ...   438      0.009480             NaN\n",
              "31                  0         1    7.5  ...   438      0.011520             NaN\n",
              "32                  0         1   10.0  ...   438      0.011787             NaN\n",
              "40                  0         1   10.0  ...   438      0.007243        Biphasic\n",
              "73                  0         1    6.9  ...   438      0.011317        Biphasic\n",
              "74                  0         1    7.5  ...   438      0.011520        Biphasic\n",
              "75                  0         1   11.0  ...   438      0.016560        Biphasic\n",
              "76                  0         1   49.0  ...   438      0.012980        Biphasic\n",
              "77                  0         1  100.0  ...   438      0.007440        Biphasic\n",
              "78                  0         1   10.0  ...   448      0.004775        Biphasic\n",
              "97                  0         1   12.0  ...   408      0.001781    Single phase\n",
              "103                 0         1   10.0  ...   438      0.007049        Biphasic\n",
              "2                   0         3   13.0  ...   438      0.003500             NaN\n",
              "3                   0         3   13.0  ...   438      0.001647             NaN\n",
              "6                   0         3   50.0  ...   403      0.003882             NaN\n",
              "12                  0         3   18.9  ...   468      0.001599             NaN\n",
              "33                  0         3   11.5  ...   443      0.017934             NaN\n",
              "38                  0         3   28.0  ...   438      0.005483        Biphasic\n",
              "44                  1         3   11.5  ...   433      0.005015    Single phase\n",
              "52                  1         3   11.5  ...   433      0.002598        Biphasic\n",
              "56                  1         3   11.5  ...   433      0.011030        Biphasic\n",
              "60                  1         3   11.5  ...   433      0.007330        Biphasic\n",
              "69                  0         3   25.0  ...   438      0.015307        Biphasic\n",
              "98                  0         3   59.0  ...   423      0.014043    Single phase\n",
              "100                 0         3  103.0  ...   423      0.001989    Single phase\n",
              "104                 0         3   23.0  ...   438      0.004756        Biphasic\n",
              "4                   0         0   15.6  ...   438      0.001886             NaN\n",
              "5                   0         0   15.6  ...   438      0.000694             NaN\n",
              "10                  0         0   25.0  ...   403      0.005174             NaN\n",
              "39                  0         0   19.0  ...   438      0.006665        Biphasic\n",
              "41                  0         0   18.7  ...   403      0.001972        Biphasic\n",
              "42                  0         0   18.7  ...   403      0.000553        Biphasic\n",
              "43                  0         0   18.7  ...   403      0.000237        Biphasic\n",
              "45                  1         0   12.5  ...   433      0.012628    Single phase\n",
              "53                  1         0   12.5  ...   433      0.004143        Biphasic\n",
              "57                  1         0   12.5  ...   433      0.009656        Biphasic\n",
              "61                  1         0   12.5  ...   433      0.005482        Biphasic\n",
              "68                  0         0   15.0  ...   438      0.011000        Biphasic\n",
              "88                  0         0   12.5  ...   423      0.004225    Single phase\n",
              "89                  0         0   12.5  ...   423      0.008769    Single phase\n",
              "90                  0         0   12.5  ...   423      0.007700    Single phase\n",
              "91                  0         0   12.5  ...   423      0.004371    Single phase\n",
              "92                  0         0   12.5  ...   423      0.013101    Single phase\n",
              "93                  0         0   12.5  ...   423      0.003294    Single phase\n",
              "94                  0         0   12.5  ...   423      0.019252    Single phase\n",
              "96                  0         0   12.5  ...   423      0.004345    Single phase\n",
              "102                 0         0   19.0  ...   438      0.008857        Biphasic\n",
              "8                   0         2   60.0  ...   403      0.010521             NaN\n",
              "46                  1         2    2.6  ...   433      0.006130    Single phase\n",
              "54                  1         2    2.6  ...   433      0.010721        Biphasic\n",
              "58                  1         2    2.6  ...   433      0.020114        Biphasic\n",
              "62                  1         2    2.6  ...   433      0.017296        Biphasic\n",
              "70                  0         2    2.6  ...   438      0.005953        Biphasic\n",
              "71                  0         2   10.0  ...   438      0.014000        Biphasic\n",
              "72                  0         2   15.0  ...   438      0.010260        Biphasic\n",
              "84                  0         2   51.3  ...   423      0.018110        Biphasic\n",
              "87                  0         2   51.3  ...   423      0.021054    Single phase\n",
              "\n",
              "[62 rows x 28 columns]"
            ]
          },
          "metadata": {},
          "execution_count": 154
        }
      ]
    },
    {
      "cell_type": "code",
      "metadata": {
        "id": "8-JllWWC3qIT"
      },
      "source": [
        "df = df.drop(columns=['Selectivity_rate ','Conversion_rate ','intial concentration(M)','T(k)','b ','normalized_constant','Solvent system', 'V(mesopore)_(cm3/g)'])"
      ],
      "execution_count": null,
      "outputs": []
    },
    {
      "cell_type": "code",
      "metadata": {
        "id": "tHV6LIDEDo-b"
      },
      "source": [
        "df =df.drop(columns=['Type of catalyst', 'Catalyst' ,'Phase_1', 'Phase_2','Lewis/Brosnted _acid_Sites'])"
      ],
      "execution_count": null,
      "outputs": []
    },
    {
      "cell_type": "code",
      "metadata": {
        "colab": {
          "base_uri": "https://localhost:8080/"
        },
        "id": "y24xEznLJxus",
        "outputId": "ba7002f0-1337-4697-f64e-9a2d0324c471"
      },
      "source": [
        "df.shape"
      ],
      "execution_count": null,
      "outputs": [
        {
          "output_type": "execute_result",
          "data": {
            "text/plain": [
              "(62, 15)"
            ]
          },
          "metadata": {},
          "execution_count": 28
        }
      ]
    },
    {
      "cell_type": "markdown",
      "metadata": {
        "id": "uQdjRC5iDj9p"
      },
      "source": [
        "## Data Analysis"
      ]
    },
    {
      "cell_type": "code",
      "metadata": {
        "colab": {
          "base_uri": "https://localhost:8080/"
        },
        "id": "w_86DogK-FRG",
        "outputId": "08ebf04f-c6cf-4d78-98be-0dac90a2e5ec"
      },
      "source": [
        "df_zsm_1 = df_zsm[df_zsm['Phase_1']==\"Water\"]\n",
        "df_zsm_1 = df_zsm_1[df_zsm_1['Phase_2']==\"MIBK\"]\n",
        "df_zsm_1 = df_zsm_1[df_zsm_1['phase_2/phase_1']==5]\n",
        "\n",
        "\n",
        "np.mean(df_zsm_1['normalized_k'])"
      ],
      "execution_count": null,
      "outputs": [
        {
          "output_type": "execute_result",
          "data": {
            "text/plain": [
              "0.008515333333333333"
            ]
          },
          "metadata": {},
          "execution_count": 83
        }
      ]
    },
    {
      "cell_type": "code",
      "metadata": {
        "colab": {
          "base_uri": "https://localhost:8080/"
        },
        "id": "C_Y5PbQGG8vq",
        "outputId": "968e0571-614e-469a-e485-3ba80c084a08"
      },
      "source": [
        "df_mor_1 = df_mor[df_mor['Phase_1']==\"Water\"]\n",
        "df_mor_1 = df_mor_1[df_mor_1['Phase_2']==\"MIBK\"]\n",
        "df_mor_1 = df_mor_1[df_mor_1['phase_2/phase_1']==5]\n",
        "\n",
        "np.mean(df_mor_1['normalized_k'])"
      ],
      "execution_count": null,
      "outputs": [
        {
          "output_type": "execute_result",
          "data": {
            "text/plain": [
              "0.010558634762187536"
            ]
          },
          "metadata": {},
          "execution_count": 84
        }
      ]
    },
    {
      "cell_type": "code",
      "metadata": {
        "colab": {
          "base_uri": "https://localhost:8080/"
        },
        "id": "IrizR2usHIPw",
        "outputId": "5e87df9b-658b-4e23-94b9-bbdc9c7c7fdf"
      },
      "source": [
        "df_bea_1 = df_bea[df_bea['Phase_1']==\"Water\"]\n",
        "df_bea_1 = df_bea_1[df_bea_1['Phase_2']==\"MIBK\"]\n",
        "df_bea_1 = df_bea_1[df_bea_1['phase_2/phase_1']==5]\n",
        "\n",
        "np.mean(df_bea_1['normalized_k'])"
      ],
      "execution_count": null,
      "outputs": [
        {
          "output_type": "execute_result",
          "data": {
            "text/plain": [
              "0.008840714333333333"
            ]
          },
          "metadata": {},
          "execution_count": 85
        }
      ]
    },
    {
      "cell_type": "code",
      "metadata": {
        "colab": {
          "base_uri": "https://localhost:8080/"
        },
        "id": "ovE5auzG-ZLi",
        "outputId": "718e1c2e-d2d8-4073-9de0-8bd3850700ae"
      },
      "source": [
        "df_usy_1 = df_usy[df_usy['Phase_1']==\"Water\"]\n",
        "df_usy_1 = df_usy_1[df_usy_1['Phase_2']==\"MIBK\"]\n",
        "df_usy_1 = df_usy_1[df_usy_1['phase_2/phase_1']==5]\n",
        "\n",
        "np.mean(df_usy_1['normalized_k'])"
      ],
      "execution_count": null,
      "outputs": [
        {
          "output_type": "execute_result",
          "data": {
            "text/plain": [
              "0.010071111"
            ]
          },
          "metadata": {},
          "execution_count": 86
        }
      ]
    },
    {
      "cell_type": "code",
      "metadata": {
        "id": "4CI30_3GHIec"
      },
      "source": [
        "# print(np.mean(df[df['Catalyst'] == 3]['normalized_k']))\n",
        "# print(np.mean(df[df['Catalyst'] == 1]['normalized_k']))\n",
        "# print(np.mean(df[df['Catalyst'] == 0]['normalized_k']))\n",
        "# print(np.mean(df[df['Catalyst'] == 2]['normalized_k']))"
      ],
      "execution_count": null,
      "outputs": []
    },
    {
      "cell_type": "code",
      "metadata": {
        "colab": {
          "base_uri": "https://localhost:8080/",
          "height": 332
        },
        "id": "aUCVeVOU9Nvw",
        "outputId": "f2b3fcee-361a-4415-bdac-397f78f095e2"
      },
      "source": [
        "df.describe()"
      ],
      "execution_count": null,
      "outputs": [
        {
          "output_type": "execute_result",
          "data": {
            "text/html": [
              "<div>\n",
              "<style scoped>\n",
              "    .dataframe tbody tr th:only-of-type {\n",
              "        vertical-align: middle;\n",
              "    }\n",
              "\n",
              "    .dataframe tbody tr th {\n",
              "        vertical-align: top;\n",
              "    }\n",
              "\n",
              "    .dataframe thead th {\n",
              "        text-align: right;\n",
              "    }\n",
              "</style>\n",
              "<table border=\"1\" class=\"dataframe\">\n",
              "  <thead>\n",
              "    <tr style=\"text-align: right;\">\n",
              "      <th></th>\n",
              "      <th>Type of catalyst</th>\n",
              "      <th>Catalyst</th>\n",
              "      <th>Si/Al</th>\n",
              "      <th>Lewis/Brosnted _acid_Sites</th>\n",
              "      <th>Surface_area_(m2/g)_BET</th>\n",
              "      <th>Avg_pore_diameter(nm)</th>\n",
              "      <th>V(pore)_(cm3/g)</th>\n",
              "      <th>V(mic)_(cm3/g)</th>\n",
              "      <th>TPD_(NH3)_(micmol/g)</th>\n",
              "      <th>catalyst_substrate_loading</th>\n",
              "      <th>Solvent_system</th>\n",
              "      <th>Phase_1</th>\n",
              "      <th>Phase_2</th>\n",
              "      <th>phase_2/phase_1</th>\n",
              "      <th>Total_dipole_moment(D)</th>\n",
              "      <th>Temperature ( °C)</th>\n",
              "      <th>HMF Yield</th>\n",
              "      <th>normalized_k</th>\n",
              "    </tr>\n",
              "  </thead>\n",
              "  <tbody>\n",
              "    <tr>\n",
              "      <th>count</th>\n",
              "      <td>62.000000</td>\n",
              "      <td>62.000000</td>\n",
              "      <td>62.000000</td>\n",
              "      <td>62.000000</td>\n",
              "      <td>62.000000</td>\n",
              "      <td>62.000000</td>\n",
              "      <td>62.000000</td>\n",
              "      <td>62.000000</td>\n",
              "      <td>62.000000</td>\n",
              "      <td>62.000000</td>\n",
              "      <td>62.000000</td>\n",
              "      <td>62.000000</td>\n",
              "      <td>62.000000</td>\n",
              "      <td>62.000000</td>\n",
              "      <td>62.000000</td>\n",
              "      <td>62.000000</td>\n",
              "      <td>62.000000</td>\n",
              "      <td>62.000000</td>\n",
              "    </tr>\n",
              "    <tr>\n",
              "      <th>mean</th>\n",
              "      <td>0.193548</td>\n",
              "      <td>1.274194</td>\n",
              "      <td>19.588710</td>\n",
              "      <td>0.839932</td>\n",
              "      <td>576.080616</td>\n",
              "      <td>0.634032</td>\n",
              "      <td>0.385985</td>\n",
              "      <td>0.209557</td>\n",
              "      <td>856.780246</td>\n",
              "      <td>2.578883</td>\n",
              "      <td>1.241935</td>\n",
              "      <td>0.677419</td>\n",
              "      <td>7.564516</td>\n",
              "      <td>18.553763</td>\n",
              "      <td>2.707672</td>\n",
              "      <td>157.983871</td>\n",
              "      <td>26.625629</td>\n",
              "      <td>0.008378</td>\n",
              "    </tr>\n",
              "    <tr>\n",
              "      <th>std</th>\n",
              "      <td>0.398304</td>\n",
              "      <td>1.161815</td>\n",
              "      <td>20.047665</td>\n",
              "      <td>0.827328</td>\n",
              "      <td>171.725038</td>\n",
              "      <td>0.065873</td>\n",
              "      <td>0.144061</td>\n",
              "      <td>0.057836</td>\n",
              "      <td>378.565896</td>\n",
              "      <td>13.309071</td>\n",
              "      <td>0.843208</td>\n",
              "      <td>0.763387</td>\n",
              "      <td>2.860821</td>\n",
              "      <td>36.060157</td>\n",
              "      <td>0.912955</td>\n",
              "      <td>12.296197</td>\n",
              "      <td>20.168803</td>\n",
              "      <td>0.005488</td>\n",
              "    </tr>\n",
              "    <tr>\n",
              "      <th>min</th>\n",
              "      <td>0.000000</td>\n",
              "      <td>0.000000</td>\n",
              "      <td>2.600000</td>\n",
              "      <td>0.070000</td>\n",
              "      <td>350.000000</td>\n",
              "      <td>0.550000</td>\n",
              "      <td>0.178000</td>\n",
              "      <td>0.105020</td>\n",
              "      <td>133.000000</td>\n",
              "      <td>0.133333</td>\n",
              "      <td>0.000000</td>\n",
              "      <td>-1.000000</td>\n",
              "      <td>0.000000</td>\n",
              "      <td>0.000000</td>\n",
              "      <td>0.450000</td>\n",
              "      <td>130.000000</td>\n",
              "      <td>0.240000</td>\n",
              "      <td>0.000237</td>\n",
              "    </tr>\n",
              "    <tr>\n",
              "      <th>25%</th>\n",
              "      <td>0.000000</td>\n",
              "      <td>0.000000</td>\n",
              "      <td>11.125000</td>\n",
              "      <td>0.250000</td>\n",
              "      <td>462.525000</td>\n",
              "      <td>0.590000</td>\n",
              "      <td>0.261000</td>\n",
              "      <td>0.179450</td>\n",
              "      <td>572.500000</td>\n",
              "      <td>0.200000</td>\n",
              "      <td>1.000000</td>\n",
              "      <td>1.000000</td>\n",
              "      <td>7.000000</td>\n",
              "      <td>1.000000</td>\n",
              "      <td>2.365000</td>\n",
              "      <td>150.000000</td>\n",
              "      <td>7.250000</td>\n",
              "      <td>0.004255</td>\n",
              "    </tr>\n",
              "    <tr>\n",
              "      <th>50%</th>\n",
              "      <td>0.000000</td>\n",
              "      <td>1.000000</td>\n",
              "      <td>12.500000</td>\n",
              "      <td>0.607143</td>\n",
              "      <td>525.600000</td>\n",
              "      <td>0.645000</td>\n",
              "      <td>0.352000</td>\n",
              "      <td>0.198500</td>\n",
              "      <td>851.584615</td>\n",
              "      <td>0.285714</td>\n",
              "      <td>1.000000</td>\n",
              "      <td>1.000000</td>\n",
              "      <td>7.000000</td>\n",
              "      <td>5.000000</td>\n",
              "      <td>2.641667</td>\n",
              "      <td>162.500000</td>\n",
              "      <td>20.500000</td>\n",
              "      <td>0.007385</td>\n",
              "    </tr>\n",
              "    <tr>\n",
              "      <th>75%</th>\n",
              "      <td>0.000000</td>\n",
              "      <td>2.000000</td>\n",
              "      <td>18.700000</td>\n",
              "      <td>1.089104</td>\n",
              "      <td>670.325000</td>\n",
              "      <td>0.670000</td>\n",
              "      <td>0.537600</td>\n",
              "      <td>0.264000</td>\n",
              "      <td>1210.000000</td>\n",
              "      <td>0.383333</td>\n",
              "      <td>2.000000</td>\n",
              "      <td>1.000000</td>\n",
              "      <td>9.000000</td>\n",
              "      <td>5.000000</td>\n",
              "      <td>2.641667</td>\n",
              "      <td>165.000000</td>\n",
              "      <td>42.910000</td>\n",
              "      <td>0.011520</td>\n",
              "    </tr>\n",
              "    <tr>\n",
              "      <th>max</th>\n",
              "      <td>1.000000</td>\n",
              "      <td>3.000000</td>\n",
              "      <td>103.000000</td>\n",
              "      <td>5.500000</td>\n",
              "      <td>953.000000</td>\n",
              "      <td>0.740000</td>\n",
              "      <td>0.748000</td>\n",
              "      <td>0.359000</td>\n",
              "      <td>1603.000000</td>\n",
              "      <td>100.000000</td>\n",
              "      <td>3.000000</td>\n",
              "      <td>2.000000</td>\n",
              "      <td>12.000000</td>\n",
              "      <td>100.000000</td>\n",
              "      <td>5.300000</td>\n",
              "      <td>195.000000</td>\n",
              "      <td>81.000000</td>\n",
              "      <td>0.021054</td>\n",
              "    </tr>\n",
              "  </tbody>\n",
              "</table>\n",
              "</div>"
            ],
            "text/plain": [
              "       Type of catalyst   Catalyst  ...  HMF Yield  normalized_k\n",
              "count         62.000000  62.000000  ...  62.000000     62.000000\n",
              "mean           0.193548   1.274194  ...  26.625629      0.008378\n",
              "std            0.398304   1.161815  ...  20.168803      0.005488\n",
              "min            0.000000   0.000000  ...   0.240000      0.000237\n",
              "25%            0.000000   0.000000  ...   7.250000      0.004255\n",
              "50%            0.000000   1.000000  ...  20.500000      0.007385\n",
              "75%            0.000000   2.000000  ...  42.910000      0.011520\n",
              "max            1.000000   3.000000  ...  81.000000      0.021054\n",
              "\n",
              "[8 rows x 18 columns]"
            ]
          },
          "metadata": {},
          "execution_count": 36
        }
      ]
    },
    {
      "cell_type": "code",
      "metadata": {
        "colab": {
          "base_uri": "https://localhost:8080/",
          "height": 240
        },
        "id": "GmWSPtTQGJXG",
        "outputId": "471723a9-2e1b-4d91-c02c-fb6e50317c9a"
      },
      "source": [
        "df.groupby('Catalyst').count()"
      ],
      "execution_count": null,
      "outputs": [
        {
          "output_type": "execute_result",
          "data": {
            "text/html": [
              "<div>\n",
              "<style scoped>\n",
              "    .dataframe tbody tr th:only-of-type {\n",
              "        vertical-align: middle;\n",
              "    }\n",
              "\n",
              "    .dataframe tbody tr th {\n",
              "        vertical-align: top;\n",
              "    }\n",
              "\n",
              "    .dataframe thead th {\n",
              "        text-align: right;\n",
              "    }\n",
              "</style>\n",
              "<table border=\"1\" class=\"dataframe\">\n",
              "  <thead>\n",
              "    <tr style=\"text-align: right;\">\n",
              "      <th></th>\n",
              "      <th>Type of catalyst</th>\n",
              "      <th>Si/Al</th>\n",
              "      <th>Lewis/Brosnted _acid_Sites</th>\n",
              "      <th>Surface_area_(m2/g)_BET</th>\n",
              "      <th>Avg_pore_diameter(nm)</th>\n",
              "      <th>V(pore)_(cm3/g)</th>\n",
              "      <th>V(mic)_(cm3/g)</th>\n",
              "      <th>TPD_(NH3)_(micmol/g)</th>\n",
              "      <th>catalyst_substrate_loading</th>\n",
              "      <th>Solvent_system</th>\n",
              "      <th>Phase_1</th>\n",
              "      <th>Phase_2</th>\n",
              "      <th>phase_2/phase_1</th>\n",
              "      <th>Total_dipole_moment(D)</th>\n",
              "      <th>Temperature ( °C)</th>\n",
              "      <th>HMF Yield</th>\n",
              "      <th>normalized_k</th>\n",
              "    </tr>\n",
              "    <tr>\n",
              "      <th>Catalyst</th>\n",
              "      <th></th>\n",
              "      <th></th>\n",
              "      <th></th>\n",
              "      <th></th>\n",
              "      <th></th>\n",
              "      <th></th>\n",
              "      <th></th>\n",
              "      <th></th>\n",
              "      <th></th>\n",
              "      <th></th>\n",
              "      <th></th>\n",
              "      <th></th>\n",
              "      <th></th>\n",
              "      <th></th>\n",
              "      <th></th>\n",
              "      <th></th>\n",
              "      <th></th>\n",
              "    </tr>\n",
              "  </thead>\n",
              "  <tbody>\n",
              "    <tr>\n",
              "      <th>0</th>\n",
              "      <td>21</td>\n",
              "      <td>21</td>\n",
              "      <td>21</td>\n",
              "      <td>21</td>\n",
              "      <td>21</td>\n",
              "      <td>21</td>\n",
              "      <td>21</td>\n",
              "      <td>21</td>\n",
              "      <td>21</td>\n",
              "      <td>21</td>\n",
              "      <td>21</td>\n",
              "      <td>21</td>\n",
              "      <td>21</td>\n",
              "      <td>21</td>\n",
              "      <td>21</td>\n",
              "      <td>21</td>\n",
              "      <td>21</td>\n",
              "    </tr>\n",
              "    <tr>\n",
              "      <th>1</th>\n",
              "      <td>17</td>\n",
              "      <td>17</td>\n",
              "      <td>17</td>\n",
              "      <td>17</td>\n",
              "      <td>17</td>\n",
              "      <td>17</td>\n",
              "      <td>17</td>\n",
              "      <td>17</td>\n",
              "      <td>17</td>\n",
              "      <td>17</td>\n",
              "      <td>17</td>\n",
              "      <td>17</td>\n",
              "      <td>17</td>\n",
              "      <td>17</td>\n",
              "      <td>17</td>\n",
              "      <td>17</td>\n",
              "      <td>17</td>\n",
              "    </tr>\n",
              "    <tr>\n",
              "      <th>2</th>\n",
              "      <td>10</td>\n",
              "      <td>10</td>\n",
              "      <td>10</td>\n",
              "      <td>10</td>\n",
              "      <td>10</td>\n",
              "      <td>10</td>\n",
              "      <td>10</td>\n",
              "      <td>10</td>\n",
              "      <td>10</td>\n",
              "      <td>10</td>\n",
              "      <td>10</td>\n",
              "      <td>10</td>\n",
              "      <td>10</td>\n",
              "      <td>10</td>\n",
              "      <td>10</td>\n",
              "      <td>10</td>\n",
              "      <td>10</td>\n",
              "    </tr>\n",
              "    <tr>\n",
              "      <th>3</th>\n",
              "      <td>14</td>\n",
              "      <td>14</td>\n",
              "      <td>14</td>\n",
              "      <td>14</td>\n",
              "      <td>14</td>\n",
              "      <td>14</td>\n",
              "      <td>14</td>\n",
              "      <td>14</td>\n",
              "      <td>14</td>\n",
              "      <td>14</td>\n",
              "      <td>14</td>\n",
              "      <td>14</td>\n",
              "      <td>14</td>\n",
              "      <td>14</td>\n",
              "      <td>14</td>\n",
              "      <td>14</td>\n",
              "      <td>14</td>\n",
              "    </tr>\n",
              "  </tbody>\n",
              "</table>\n",
              "</div>"
            ],
            "text/plain": [
              "          Type of catalyst  Si/Al  ...  HMF Yield  normalized_k\n",
              "Catalyst                           ...                         \n",
              "0                       21     21  ...         21            21\n",
              "1                       17     17  ...         17            17\n",
              "2                       10     10  ...         10            10\n",
              "3                       14     14  ...         14            14\n",
              "\n",
              "[4 rows x 17 columns]"
            ]
          },
          "metadata": {},
          "execution_count": 37
        }
      ]
    },
  
        {
          "output_type": "display_data",
          "data": {
            "image/png": "iVBORw0KGgoAAAANSUhEUgAAARkAAAEYCAYAAABoTIKyAAAABHNCSVQICAgIfAhkiAAAAAlwSFlzAAALEgAACxIB0t1+/AAAADh0RVh0U29mdHdhcmUAbWF0cGxvdGxpYiB2ZXJzaW9uMy4yLjIsIGh0dHA6Ly9tYXRwbG90bGliLm9yZy+WH4yJAAAgAElEQVR4nO3deXxU1fnH8c/Jwk7YkS1AlLWCLLGAK4tSVFIErIqtP1qrvakLda2lWveq1Yr70txa1y5uqIWpG1VwBdSoQAVF2TfDlkDInsn9/XEmEEMmmWTm5tw787x9zSuQmbn3iSTfnHPuuecox3EQQgi3JJkuQAgR3yRkhBCukpARQrhKQkYI4SoJGSGEqyRkhBCukpARQrhKQkYI4SoJGSGEqyRkhBCukpARQrhKQkYI4SoJGSGEqyRkhBCukpARQrhKQkYI4SoJGSGEqyRkhBCukpARQrhKQkYI4SoJGSGEqyRkhBCukpARQrhKQkYI4SoJGSGEqyRkhBCukpARQrgqxXQBwsdy7f7AkUAQqAw99gG7gb1kWlXmihNeISEjojELuDPMc0Fy7Xx04OwKfdwNbAG+AtYA35BplTVHocIcCZlEYtstgX5Af6Ab0BHoFPpY/UgDUoFkIA/LOruJZ0sGuoYeQ8K8JkiuvYFDobMGWAV8QaZV2cTzCo+RkIk3tp0EDAJGA0OBDHSoZAA9AdWIo22KdXm1JAMDQo+sGp8vItdeCrwXeiwn0yp1uRbhEgkZP9OBMhw4FhiFDpZjgLYmy4qBtsCpoQdAObn2J8D7wGJgMZlWhaniRONIyPiNbQ8FTgEmARPQ3Z141wI4IfSYCxSQay8E5gNvSivH2yRkvM6204AfA6ejg6Wn2YI8oSPwf6HHAXLt19CB8x8yrSKjlYnDSMh4kW13As4EfoLuMrQ0W5CntQPOCT1KyLX/A+SQaf3XbFmimoSMV9h2W/QPyrnoFkuq2YJ8qTU6mH9Crv018BjwFJnWvuYsQinlAP9wHOf80N9TgB3AcsdxspRSvwD+DGwLvWWl4zizlVJPAQHHcV5qznrdJiFjmm2PArKBnwLtDVcTTwYD9wN3kGv/C3iETOvzZjp3ETBMKdXacZwSYDKHAqXa847jXNZM9RglIWOCbbcDzgMs9JUh4Z42wIXAheTay4F7gPlkWo7L530NmAq8hP63/hdwksvn9CS5d6k52XYPbLu6mWwjAdPcxgIvAp+Ta093+VzPAbOUUq3Q0wqW13r+XKXUF6HHBS7XYpS0ZJqDbWcA1wIXIIO4XjACeIVcOxe4mUwrEOsTOI6zUinVH92Kea2Ol0h3ScSAbR8N/B59j0+y4WrE4TKBhaFu1E1kWm/G+PgL0N2zCUCXGB/bNyRk3KBbLrejw6Ux0/iFGWOBN8i13wMuI9NaFaPjPgEUOI6zSik1IUbH9B0JmViy7S7ADcDF6Fmqwl9OBj4j134A3Y06EM3BHMfZCjwYk8p8TDmO24PsCcC2U4FLgRuJr2n+m7Cs/mGfzbXnEn6pB7/bClxBpjXfdCF+J1eXomXbE9HLE9xHfAVMousDvESu/Rq59pGmi/Ez6S41lW13RA/qXWi6FOGq04H/kWvfDtwl69w0nrRkmsK2z0IvsCQBkxhaA38EPiDXHmC6GL+RkGkM2+6Jbb+MnsXZw3Q5otmNRU/ku8h0IX4iIRMp2z4T+B8ww3Qpwqh2wF/JtV8k104zXYwfSMg0xLZbYtsPAa8CnU2XIzzjJ+hWTabpQrxOQqY+tj0QWAokxPRv0WhHAh+Ra19quhAvk5AJx7bPBz5Dr50rRDgtgIfJtR8m15ZbR+ogl7Brs+1k9Dok0noRjXEpkEGuPYtMq9B0MV4iLZmabLsD+o5ZCRjRFGegL3Onmy7ESyRkqtn2Uejxlx+ZLkX4ml47RgaED5KQAbDtk9GLCg01XYqICz2B95phYSxfkJCx7Z8C/yWB1/sQrmgDzCfX/rnpQkxL7JCx7V8BzyI7A8SdLd/tZWL2PH5w9s0cfc7NPPCvtwHYu6+IyZfcz8AZNzD5kvvJ31/3Nk1PB5YycMYNDJxxA08HlgJQVl7BaXMeYNg5t/Doi0sOvta6/Vk++2pzXYdJAp5I9KBJ3JCx7SvQ6+wm7v+DOJaSksy8K89m9Ys3s+zJuTzy4hJWr9/On556g1PGDOGbV27jlDFD+NNTbxz23r37irjlrwGWPzWXj5+eyy1/DZC/v4g3l67mxBEDWPncDTz72jIAVqzdQjDoMHpI33ClJHzQJOYPmG3/Ab00g4hTPbt2OPiD375tK4b278m2nQX8+90V/DzrOAB+nnUcry5Zcdh731z6JZPHDKVzh7Z0SmvL5DFDeeOjL0lNSaa4rJyKyiDVyzDd8NgCbrt4WkPlJHTQJF7I2PadwG2myxDNZ+P23Xz+9WbGDssgb+9+enbtAECPLmnk7d1/2Ou37Sog/YhDSwP1OaIT23YVMHnsUDZu38O4X9zFb2ZNYsG7Kxg9pC+9unWMpIyEDZrEmoxn239Eb9guEsSB4lLOujaH+68+h7R2rb/3nFIKpSJfgjklJZl/3q5vwK6oDDLlsgf497xLuOreF9j8XT6zp45j2vgR9R2iOmgg03q68V+NPyVOS8a2rwSuN12GaD4VlUHOujaHn502hpmTRgNwROc0duzWu9bu2L2P7p0O37Szd7eObMnLP/j3rXn59K7VWnn0xSXMnjqOZavW06Fda56/81fM+8eiSMpKAv5Grj21qV+X3yRGyNj2L4B5pssQzcdxHC689RmGZvTgqvMnH/z8tPHHHLxa9HRgKWfW0fKYctzRvLV8Nfn7i8jfX8Rby1cz5bijDz6fv7+IwPurmD11HMWl5SQlJaEUlJRWRFpeMvAcuXa9zZ54Ef8Liet1YOYj+x7VLTkZOneGtm2hTZvvP9q1q6Bz573oOR8poUcyEAQqqAomU1nSkopi6nyUFUJpAdD832MffPEtJ130Z4YP6E1Sku4S3XHJdMYOy+Cc39ts/i6ffj0788KdFp07tOXT1Rv5y/z3ePyG2QA88e8PuePJ1wG4/penc8G0Ew4e+8p5L3Dm+BFMOHYwpWUVTLvqEbbtKuDXM09mzqxJjSlzKzCGTGtHjL5sT4rvkLHtCcDrQCvDlXhDcjJ07aof3brpjx07QpKLDdqqSijZC0W7oHi3fpTsxUTweFQucDKZVrHpQtwSvyGj14L5GIho6D8uKQU9ekC/ftCnj/uBEqmqSijeA/u3QMEmKNljuiLT/g3MJNOqMl2IG+IzZGw7DVhGIt6LlJoK6ek6WNLToZUPGnHlB3TY7NsEhdvBicuftYbMI9O6xnQRboi/kLHtJPRvhizTpTSbpCTIyIDBg6FnT90t8qtgOezbAru/gsJtpqtpbr+Ix0vb8Rgyd6A3uY9/bdvCD36gw6VNG9PVxF5pAexaDXvW6vCJf0XAaDKttaYLiaWYhIxSKojeRVGhrzxc5jjOR0qp/uj9ib6u8fJ7Hcd5JvS+kcDnwOmO4xx+E0lj2fY5wPNRH8fr+vTR4dK3rzfGWNwWrID8dbDzy0QYv/kcGEemFTepGquQOeA4TrvQn6cA1zmOMz4UMgHHcYaFed9dwPHAesdxoptubdtD0CP1cfgrPSQjA449Fjol8G64hdth28dQtNN0JW66n0zrStNFxIobvwbTgPyGXqT0fO6zgV8Ak5VSTR+htO0WwD+J14Dp1QumT4fJkxM7YADa94Ih0+HIydAqbi8cXk6ufYbpImIlVvcutVZKfYGej9ITqDkj6ajQc9XmOI7zProFs8FxnHVKqSXAVPSkuaa4nXjcVaBLFxg7VnePxPd1yoCO/WDPN7D9U6ioe10Yn1LAU+Tax5BpfWe6mGi50V06DngcGAb0I0x3SSn1MLDCcZy/KqWmAbMdx/lJo09u26cAi9D/MPGhTRs47jg48kg910XUr6pSj9fsyNV/jh//BX5EpuXrqzMxD5nQ3/OA4ejuy2Eho5RKRk+prkQPFCv08pc9HceJfDsJ2+4CrAR6Rfs1eMagQTpgWrY0XYn/lO2Hje/CgbiapX8JmdZjpouIRszHZJRSQ9D3t9R3GeAUYKXjOOmO4/R3HKcfuqvU2H2mbeIlYNq0gdNOgwkTJGCaqmUaDMqC9OMhKW5WMbmDXPsI00VEI9ZjMqBbJT93HCcYWquj9pjME+jxk1dqHWM+cDHwTERntO2zgZnRFO0Z0nqJHaWg+zDo0DdeWjUdgXuA/zNdSFP5czKebXdEz7/pYbqUqLRqpVsufcOuDyui4Tiw60vYuiweblWYRKa12HQRTeHXmVx34/eA6dIFZsyQgHFTdatmUBaktG749d72KLl2C9NFNIX/Qsa2xwEXmS4jKhkZMG0atD98VTbhgnY9YOgMaNPVdCXRGAL48gZKf3WXbDsZ+BQYabqUJjv2WBg92nQViamqUo/T5K8zXUlTlQBHk2ltMF1IY/itJZONXwMmJUXP2JWAMScpBY48BXr90HQlTdUa+LPpIhrLPy0Z224HrAO6my6l0Vq1gjPO0CvRCW/I3wAb3vbjgLCDvlP7iwZf6RF+mkxwNdC9tKKCk++5h7LKSiqDQX4yejS3TJvGz/72Nz7dtInU5GTG9O9Pzvnnk1prXZVNe/Yw47HHqHIcKoJB5kycyK/Hj6esooIzH32UrQUFXDJ+PJdMmACA9eyz/Hr8eEZHMzjbpg1MnSr3HHlNpwxI+hGsWwRO0HQ1jaGAW4AzTRcSKX+0ZGy7G7oV095xHIrKymjXqhUVwSAn3n03D5x7LnuLijh9mJ5Y/NO//Y2TBw7k4vHjv3eY8spKHMehZWoqB0pLGXbrrXx07bV8umkTK7du5brTT+eEu+9m6dy5rNiyhQcXL+Zvs2c3ve62bSErCzp0aPoxhLv2b4Vv3/Rb0AD8kEzrU9NFRMIvYzI3AO1Bb8jVLrSkZEUwSEUwiFKKM4YPP7hZ15j+/dmaf/iN4C1SUmiZmgpAWWUlVVW6qZyanExxeTkVweDB5a1vWLCA26Y1uP1oeG3aSMD4QVofGDAFlO9WE7zVdAGR8n7I2HYGesD3oGBVFSNvu43u11zD5KFDGZuRcfC5imCQZ5ct47Sjj659JAC27N3LMbfeSvrcufxuyhR6dezI5KFD2bhnD+PuuovfTJrEghUrGN23L706NnEpgdatJWD8JK0PHDUZlPd/HGo4nVz7ONNFRML73SXbfhqos89SUFzMjMce46FZsxjWuzcAv3r2Wdq2aMH9555b72G3FxQw/bHHWHjppRyRlnbw8xXBIFMeeIB/X3IJNy1YwOb8fGaPG8e0ERHuw5WaCmeeqfcyEv6SvwHWR7QLpFf8l0xrcsMvM8vb0W3b6cBPwz3dsU0bJg4ezBtffgnALQsXsquwkHvPPrvBQ/fq2JFhvXrx/jfffO/zjy5Zwuxx41i2fj0dWrfm+V/9inmLGvGNd8opEjB+1SnDb5e3TyXXPtF0EQ3xdsjAFdS6ArarsJCCYr0PVkl5OYvWrGFIjx48/sEHvLl6Nf+66CKSwqx7uzU/n5JyvXRqflERH3z7LYN7HLo7Ib+oiMCqVcweN47i8tD2o0BJRYTbj44dK7cJ+F3PUdDpKNNVNMblpgtoiHe7S7bdAdhCaMC32sqtW/n5U08RrKqiynE4JzOTG7OySLn4Yvp17kz70KDwzFGjuDEri083buQv773H47Nns2j1aq5+6SWUUjiOw2UTJmCdfPLBY1/5wgucOWIEEwYPprSigmmPPMK2ggJ+ffLJzJnUwPajAwfCxImx/r8gTKiqhK/+7ZdFyyuBvl7e6tbLIfM74E+my4hIt27w4x/rWb0iPpQfgDWvQGWJ6UoicTOZ1i2miwjHmyGjFwbfiF4v2NvatNF3U7dta7oSEWsHvoO1AT/MCt4O9CPT8uTao14dkzkPPwQMwKmnSsDEq3Y9oPdY01VEohcw3XQR4Xg1ZCzTBURk+HC9ob2IX92HQTtf/L67xHQB4XgvZGx7MHq7FG/r0AF+6KvLnaIplIL+4/2wZvBEcu0hpouoi/dCBn5puoCIjB8vA72JomUa9B5juopIeLIH4K2Qse0Uwszu9RTpJiWebkf7odt0Drm25zbq8lbIwGl4fe1e6SYlJn90m3oDnpsB7LWQucB0AQ068UTpJiWqlmnQM9N0FQ2p/6Y9A7wTMnrlu6mmy6hXejqEbsQUCar70ZDq2SkLnwGrTRdRm5d+JZ8OeHt3M+kmiaQU6JUJm94zXQnopTiXozdGnO/VBca9FDLeXk7wqKNkjV6hdRkEeSuhtMDE2auA99HB8gqZ1lYTRTSGN0JGX1XybldJKWnFiENUkl4SovnWnqkEFqOD5VUyrbzmOnEseCNkYAJ6z19vGjoUaixsJQSdMqBtdyja6dYZyoBF6GBZQKa1160Tuc0rIePdrlJysuyVJOrWe4y+gTJ2ioE30MESINPaH8uDm+KVkPFuV2ngQH2ntRC1te8FrbtEu+5MIfAf4CXgdTKt4mjLsrE7ApkW1tvRHisWzC/1YNt9gU1mi6jHzJky4CvC27UGNr/f2HflAwvQLZa3yLTKoi3Dxu6GvhP7LGASEAS6WVgHoj12tLzQkhnf8EsM6d5dAkbUr/MA2LoMqhpconUX8Co6WN4h04pwTdfwbOxewAx0sJwM1NzXJRWYEjqfUV4ImZMbfokhYbZVEeKg5FToOhh2/q+uZ7cDL6N/0N8n04p6Bzkbux86VM4CjkPvKBnOmUjIAF4NmZYtocZ+TkKE1e0HNUNmE9WT42ApmVbU4xE29kAOBcuxjXjrVBs7xcLsinlmQ8a2ewCDjNYQzpAhco+SiEyrjtB16D/ZveZeMq3cWBzSxh7GoWAZ3sTDdAZGAZ/EoqamMv1TdJLh84c3xJPr/wiv6ndSMv1OiipgbOzRHAqWwTGpS9+VndAh481ptJ06yRazorHOAFoA5ZG+wcZWwFgOBYsb/fMTgPtcOG7ETIdMU5uB7urf33QFwn/aAxOBN+t7kY2dhG7Bn4W+MtTH5bpOcPn4DTIdMscYPn/d+vUzXYHwpx9TR8jY2CnoADoLPZfliGasqYeNfZSFta4Zz/k95kLGtjujt3Lwltat9WZtQjTej4HLAGzslsBkdLBMQw/CmnIikIAh49WuUr9++q5rIRqv7wd8cNVqVmcCWYBX7qo9EXja1MlNhox0lUTcaUWreaZrqIPRcRmTy296bzqtUrK8pohKOummS6jLEBvbWHfNZMh4r8nQubNMwBNR6UIXVL0z/Y1QwA9MndxkyHgv8uVmSBGlFFLoRCfTZdRloKkTS8jUJFeVRAx0w5PfRwkWMradhndG3g+RloyIga548vvI2D2Cploy3mvFKKXHZISIkrRkvs9UyLg9lbrxZNBXxEhnOntx8HdA6F6pZmcqZLy3c3mXLqYrEHEihRQ6em/zjTYYmmFvKmQ89y9Au3amKxBxpB2e/H4yMi5jKmS8t46C7EggYqgNnvx+OsrESU2FjPeuLEnIiBjyaMgYuexlKmS815aUkBEx1Ja2pkuoi5EehKmQaW3ovOFJyIgY8mhLJqFCxnv/AhIyIoY8GjJGLriYCpnkhl/SjFq3hiSTd1iIeOPRkEmolkzUm1zFVGqq6QpEnEnFk99TCRUyRjebOoyshCdiLMnovcdhScgYI10lEWMeDZmEGpORkBFxzYP3LoHetqXZScgAVFWZrkDEGYeot8B2g5FvdFMhU2HovHVzPPkNIXysyszPc0Mi3t0ylkyFzD5D562btGREjHm0JZNQIbPb0HnrVumt3pvwv0qPjQiElJk4qYQMQEmJdJlETBVTbLqEukhLxhjH0UEjRIxIyBwiIVOt2JPfFMKnJGQOMRUyuwydNzwJGRFDEjKHmAqZnYbOG56EjIihIopMl1AXI2MCZkLGsgrxWpdJQkbEkEdbMt+ZOKnJ+fTfGDz34Yo8+ZtH+JRHWzJbTZxUQqba3r2mKxBxoooq8sk3XUZdEi5kvjV47sPt3i0zf0VMFFBA0GNLJoUkXMh4qyUTDEJBgekqRBzY5cGLpyESMsbt9tZYtPCn3R67plFDwoXM1xi69TysXZ79DSR8xKMtmXIMzU8zFzKWdQD4ytj56yItGRGlKqrYwx7TZdRlu4Vl5AY900vCfWz4/N+3Z48M/oqo5JPv1UHfjaZObDpkPjF8/u+rrIS8PNNVCB/bxjbTJYSzwtSJJWRq27TJdAXCxzbh2e+fz0yd2HTIrMDQTVthbdxougLhU6WU8p2ZmfuRSNCQsaxy4AujNdS2f7/MlxFNsoUtXl12swRYY+rkplsyAEtMF3AY6TKJJvBwV2mVhWVsNNoLIfOW6QIOIyEjGilIkC1sMV1GOMa6SuCNkPkAPHZffF6eLMcpGmUHO6jw2E4/NSR4yFhWGfCu6TK+x3Fg7VrTVQgf+ZqvTZdQnwQPGe1N0wUcZvVq2cFARKSYYtaz3nQZ4RQDq0wW4JWQ8d64TGEhbDVyP5nwma/4yqtXlQDesbCMThPxRshY1hpgg+kyaqlk06b/mi5CeFsVVawxd3U4Eq+bLiDFdAE1PA/MNV0Eep/up4A7OPHEzcB6oJ/RioRnbWZz2KU2927Zy5Ozn6QwrxAUnGSdxCmXn0Lui7ksvHkh3635jrkfz6X/sf3rfP91/a+jZfuWJCUnkZSSxPWfXg/A/N/N58vXvyR9ZDoXPHMBAMv+vowDuw9w6hWn1j6MhEwNz2E2ZMqBJ4A7sazNNT5vA7ebKUl43Zd8Gfa55JRkzp53Nn1H96W0sJTbM29n6OSh9BrWi1+//Gv+kf2PBo9/9eKrade13cG/l+wrYctnW7hx5Y08c9EzbFu1jW4DuvHRkx9x+RuX13771xaW8R6CN7pLAJa1AjOzEsuAR4CjsKyLawUMwF/x2iV24Qn55Nd7Q2SHnh3oO7ovAK3at6Ln0J4UbCug59Ce9Bjco0nnVEmKYEUQx3EoLy4nOTWZRfcsYtKcSSSnJtd++RtNOkmMeSdktOea8VylwIPAkVjWZVhWuFHeXcADzVeW8ItPGnF/7+6Nu9n8+WYyxmZEfgIF9//ofm7PvJ337PcAHVbDzhjGH0f9kQ49O9C6Q2s2LN/AyOkj6zqC8a4SeKu7BDpkbnH5HCXAX4C7saxI72a7C8gGOrtWlfCVnexkY4RLtJQeKCXnrBzOuf8cWqe1jvgcv/3gt3Tq3Yn9O/fzwOQH6DGkB4NOHsSUa6cw5dopADxz0TNMu3UaHzz+AavfWk3vY3oz9Q9TQX+fe2L+mbdaMpa1Fsh16ejFwDwgA8u6qhEBA7AP+JM7ZQk/Ws7yiF4XrAiSc1YOY342htEzRzfqHJ16dwIgrXsaI2eMZOPHG7/3/ObPN4MDRww+gtwXc7FesNi1bhd53+QBLLawSht1Qpd4K2Q0O8bHOwDcDfTHsq7Bspq6KtVDjuPdFYlE89nCFnawo8HXOY7DMxc+Q4+hPZh81eRGnaOsqIzSwtKDf1791mp6Dev1vdcsuGEB026bRrAiSFVQr+iYlJREeXE5wPxGndBFXusuAfwDHQodojxOIfAwMA/LimrR1ewA7YDLxvcj7afDo6xK+JqDw8cRrhq77sN1LHt2Gb2H9+a2kbcBMP2O6VSWVfLcnOc4sOsAD099mPSR6Vz+5uUUbC/g2YueZc5rc9ift5+/zPgLAMHKIGN+OoZhpw07eOwvXv2Cfsf2o2OvjgCkj0znluG30OeYPqSPSC8BXortV950yvHi1HnbfgD4TRPfvQ94CLgPy4pqW8jsAGnAHOBKoIsCbhoPPdtHc1ThZ9/yLe/wjukyGvK8hTXLdBHVvNiSAXgU/cOtGvGeAvRVoPuxrKhWncoO0AEdclcCnao/7wD//B9cOQ6SGlOZiAtllLGMZabLiMSzpguoyYtjMmBZXwNvR/jqfOBG9JjLzdEETHaAjtkBbkav7H4rNQKm2to98K4sN5OQlrKUYu9PmcqjETccK6WCSqkvajz6hz5/hVKqVCnVocZrf6GUerjW+5copY6t7xxebcmAniB32BzpGvYA9wIPYVmF0ZwoO0BndKvlN0BaQ69/eQ0M6wbd2kZzVuEnm9nMWnyx/MeTFlZlI15f4jhOXZNszkMv9D8TeDKagrwcMguAtcCgWp/fDdwDPBLaIK7JsgN0Aa4GLgMiHmkpD8IzK6XblCjKKOM93jNdRiQc4PFoD6KUOgpoB1wCXE/choxlVWHbf0LfTwSwE/gz8BiWVfcdaRHKDtANuAb9P7FdAy+vU3W3aWL/aCoRfuCTbhLouTHrGvme1kqp6sX8NziOMwOYhZ4Y+z4wWCl1hOM4Td6QzLsho/0dPdP2BeAvWFZU/9LZAY4AfgtcDLSJtjjpNsU/H3WTQM9kb6y6ukvnATMcx6lSSs0HzkZPBwl3KbreS9TeDhnLqgDGRXuY7AA9gWvRgRX5vO4GlAfhr5/BNcdDi8PuTRN+V0ghSzy4mUYYa4nBBDyl1HBgILBIKQXQAr3W08PocdDaF0M6o4cwwvLm1aUYyQ7QKzvAg+g1Ya4ghgFTbdM+eMbYBqDCLRVU8CZvUoonZuZH4i4LKxYbuZ8H3Ow4Tv/QoxfQSynVDz0QfIJSqgdA6KpSS6h/mwZvt2SaKDtAH+D3wIXo/wmu+mQ79EmD0wa4fSbRHBwclrCEvUQ1l7M5bSZ2c2NmAWfU+twrwCzHce5SSl0OvKaUSkLfsnOe4zj1hps3Z/w2UXaAvuhw+SW6mddsFHDJD+GYI5rzrMINuaH/fGSOhfVwwy8zIy5aMtkB+gPXAb8AUk3U4ACPfwZzT4RectuBb21gg98CJo8YXLZ2k69DJjvAkejr+P+HoXCpqSwIj3wCc0+A9q530kSs7WY3i1lsuozGutcrSzqE48uQyQ4wAPgD8DM89jXsLoYHluuJem2btcMmopFPPq/xGpU0ZrKscfnAY6aLaIivxmSyAwxE36d0HuDpi8b9O8IVY6G18faVaMg+9rGABZTgu62Jb7aw3F5JMmp+u4Q9BjgfjwcMwMYCeOhjKPHs9sgCdMAECPgxYLaib6/xPL+FzL+gnj0oPGZdPty/HIqM7hq2W2gAAA0rSURBVN8nwsknn4UsDLtvksddYxHd7TXNxVchk5NFFXCT6ToaY2MB3LcMCstMVyJq2sMeFrLQL/ck1bbEwnredBGR8lXIhLwMfGa6iMbYsh/u+hC2R7UghYiVzWxmAQv8NJu3piBNXzXSCF8N/FbLDnA68JrpOhqrVQpcOEom7Jm0ghUR7zTgUQ9bWHNMF9EYfmzJkJPF6+j1ZnyltBIe/QRe/9Z0JYmnkkre4R2/B8xu9NVVX/FlyIRchr53wlcc4NWv9Ozg8qDpahJDEUUsZCHf4vt0v87CyjddRGP5NmRystiCnpDnS59sh3s+gl2+uD7gXzvYwSu8wi52mS4lWsuAv5kuoil8OSZTLTtAErAcqHchYy9rkQwzh8L4frKUZyxVUsknfMIqVpkuJRYKgZEW1nrThTSFr0MGIDvAKPQ6F56foFefQV1g9jGyyl4sfMd3LGEJ+9lvupRYucDCesp0EU3l2+5StZwsPgfuN11HtNbugVvfg8UboMrfuW9SCXDVQha+HUcB85KfAwbiIGRCbgJ8vxtSeRCe+xLuXQo7ZE5NYy0GRgD3OTi/AX/d6RjGVsAyXUS0fN9dqubXuTPhKOD4dMgaBJ1jvmhoXPkCmEutDc1s7PvQS676lQOcamF5fk/chsRLS6Z67oxvplo3xAE+3AI3LIb5q+GA3P/0PftKKQR+Coym7h0Tb0Zvo+NX8+IhYCCOQibkMvR6p3GjsgreWg/XvwOvfwNl8dAJiMK+UvjnKvj927TLDrCRMNtxWFj70Eux+tHn6MXY4kLcdJeqZQf4IXpTqrhcm65dCzgxHU7qB12j3jnKPzbvgyUb4eNtUHFo2epPgbGhG2cPY2Mr9BSHHzZLkbHxHTDWwoqbX5ZxFzIA2QF+Bdim63CTAoZ3h/H94Qfd4nOOTUUQPt0B726EDQVhX/arnKzwa9za2GPQE9n88H+oFBhvYX1supBYisuQAcgO8Dh6S5S417WNnsw3rg+kxUH7La8IPtgMH26GooYX/doFDMrJImwM2dhPoheZ9zIHmGVhvWC6kFjz1Pq4MXYp+pKmb2cDR2p3Mcxfo7fNPbITjOgBI46AHk3a5bv5VTl63Z2VebAir9FLYnQDbqX+5Q/mAjOBtKZX6bqb4zFgII5bMgDZAfoBuUAX07WY0L2tXlZixBFwVCdI9tAwf3kQ1uzSobIyDwqju3pWCYzKyeJ/4V5gY18J3BvVWdzzTwvrZ6aLcEtchwxAdoDJwBvE35W0RklNgvQO0K8D9A197NGueYKnPAjb9ustfTfv0x+3F8Z8ZvPinCwmhXvSxk4BVgJDY3rW6H0ETLKw4nbtxLgPGYDsANcBt5uuw2tSkyA9DXqnQadW0KH60VI/2reMbEA5WAX7ykKP0tCjDPaWwJZ9sP1As90qcU5OFi+Ge9LGPhVY1CyVRGYdcLyF5ef5PA1KlJBRwEvofrmIUJKC9i30neJJSrd6koAqdLAEHT1vJ8quTixtBobmZIVfuNfGfhmY0XwlhbUOmGhh1btZfTxIiC5EThYOenaol36LeV6Vo1sku4r1FZ/thbC1UH/MK9IDzh4KGIC+6EHe+lwFxvc/SZiAgQQJGYCcLMqA6cB7pmsRrvptdoCMcE9aWBuBPzdfOYdJqICBBAoZgFAzeip6cpaIT62A+xp4zZ8wc9d+wgUMJFjIAORkcQA4DZ9tqyIa5czsAD8K96SFVQJc3Yz1QIIGDCTIwG9dsgN0AZYAwwyXItzxFXBMThZh5wzb2P8FTmmGWtYDExIxYCABWzLVcrLYA5wKfG26FuGKITS8CVpzLG61HH2ZOiEDBhI4ZABysshD/ybz5QLNokE3ZQfoEe5JC2s18IiL538e3YLJc/EcnpfQIQOQk8U2YBISNPGoPXqQtz434c7iVrcC51lYvtwLN5YSdkymtuwA3YGFwBjTtYiYcoATcrJYGu4FNvaFEH65iEYqA35pYf0zRsfzvYRvyVTLyWInMBEfbn8r6qWAB0N7dIXzBHpbnWjtRN+HJAFTg4RMDaF5NDOAh03XImLqWOCX4Z60sBxgDmGW8ozQ/9Ar2n0UxTHiknSXwsgOMAe9NEA8r7mTSNxc3Ooh4FoZf6mbhEw9sgNMAl6gGdajObBrC4vvm01JQR4KxZDTLIZPuxyA/y18iC//8whJScmk/3Aq4y64O+L3Ln/qd2zJfZ0uGSOZeNUzAHyz+O+U7t/N8DP9vGNIkzyYk8Xl4Z60sY8A1hL54lZ56N0dX49FcfFKQqYBoftgFuDypL3ivTso3ruDrgNGU15cyCtXZvKj61+lpCCPz1+4ndNu+g/JqS0pKdhJ647dI3pv2y69WfSnnzD1tkW8++BFDJ92OWk9B/DGrVmcccsbJKWkuvkleVEki1tdBcyL4FgLgQstrF2xKi5eyZhMA3Ky2AAch27RuKZN5550HTAagBZt2tMxfShFe7ax+rXHGPGTuSSn6sV7awdMfe9FJVFVWYHjOFSWFZOUnMrKV+5hWNacRAwY0F3fBxt4zUPAmnqeLwYutrCmScBERkImAjlZHMjJ4lzgfCDf7fMV5m1k97rP6T54LPu2r+W7L9/nlavHsnDueHaurf8iSM33tmjTnvRjz+Dly0fRpnNPWrTtwM6vl9P/uOlufwleNjE7wNnhnrSwKgg/U/gzINPC+osrlcUp6S41UnaAXug5Fae7cfyKkgMs/P14Rp1zPRnHz+TFS4fR65iJHG89yK5vPuHtu85l1uPrUerwJetqv7e2dx+8iKPPuITd6z5j6+dv0TnjGEaf+wc3vgyva+ziVgeAW4D7LawE316v8aQl00g5WWzPyeIMIBv9zRczVZUVLLrzLAZM+NnBkGjbtQ8Zx81EKUX3QWMgKYnS/bsjem9Nu9d9Djh06DOY9R++yKlzX2D/jnXs2/5NLL8Ev4h0catS9IqKQy2seyRgmkZCpolysrCBY4jRIliO4/DugxfSMX0ox0y/6uDn+4+bzvaViwEo2LaWqspyWqV1jei9NX369xs49me36TGaqiAAKimJyrKwv8zjXSSLW/3AwjrbwtrafGXFHwmZKIQGhSdw6Ldek+Wt/pBvFj/L9pXvMP83I5n/m5Fs/vQ1Bp/6S/bnrefFS4fx9t2zmHDF0yilKNqznddvPqPe91bbuPRVug48lrZdetGyXUe6ZIzkxcuGEywvpUvGiGjK9rNWNLBFioW1oZlqiWsyJhMj2QGGAE8C40zXIhplSk4Wb5kuIp5JSyZGcrL4CjgemIVeBU34w/mmC4h30pJxQXaAVMACbgQOn9givGATMDcni+dMFxLvJGRclB2gHXANej1Zn+xMHfcKgTuB+3KyohtHE5GRkGkGobVqbkS3bhJyqq0H7AdygHmhFRFFM5GQaUbZAQagt8s9G73OiXDfVuABwM7JYr/pYhKRhIwB2QEGARejlxXoaLaauLUKuAf4V307Fgj3ScgYlB2gDXAecCkwynA58eJt4M85WbxpuhChSch4RHaAccAlwDlAS8Pl+E0Z8DJwT06WbNrnNRIyHpMdoCt6qchfQ/hp74IKYBF625F/52Sxz3A9IgwJGY8KLXw9HpgJTAf6mK3IEyqBd9DB8kpOlvvLbojoScj4QHYAhV4MeyZwJjDUbEXNKgi8iw6Wl3OyOPwWdOFpEjI+lB2gHzAFOA29A2aka9L6gYPex/rD0ON1mdfibxIyPpcdIAUYi96UblToMQT/7LJQBHwMfBR6LJVuUHyRkIlD2QFaoRc+Hxl6jEKvfWP61oZi9M2jX3IoVFbkZLm+6b0wSEImQYQGkgegw6cn0A1982b1o/rvnWj6bOQ9wHZgW42PG4BvgXU5WWyP4ksQPiUhI74n1P3qFnp0RA+8VoQelfX8uTgnizITNQtvk5ARQrhKFq2KIaWUo5T6e42/pyildimlAjU+N10ptVIptUYptUopNb3Gc08ppTYopb5QSq1QSp3S3F+DELHmlysQflEEDFNKtXYcpwSYjB6XAEApNQJ9095kx3E2KKUygEVKqfWO46wMvey3juO8pJSaCNjAwGb+GoSIKWnJxN5rwNTQn88D/lXjuWuAOxzH2QAQ+ngn8Ns6jrMU6O1inUI0CwmZ2HsOmKWUaoW+bLy8xnNHA7m1Xv9p6PO1nQa86kqFQjQj6S7FmOM4K5VS/dGtmNfqf3Wd/qyUugN9r9JxMSxNCCOkJeOOBYQWTKr1+dVAZq3PZaInp1X7reM4g4DfAU+4VqEQzURCxh1PALc4jrOq1ufvAX4faukQ+ngdMK+OYzwMJCmlprhWpRDNQLpLLnAcZyvwYB2f/0Ip9TtgoVIqFT2R7VrHcb6o47WOUuqPwLUgq7wJ/5LJeEIIV0l3SQjhKgkZIYSrJGSEEK6SkBFCuEpCRgjhKgkZIYSrJGSEEK6SkBFCuEpCRgjhKgkZIYSrJGSEEK6SkBFCuEpCRgjhKgkZIYSrJGSEEK6SkBFCuEpCRgjhKgkZIYSr/h/SammoxE/MTwAAAABJRU5ErkJggg==\n",
            "text/plain": [
              "<Figure size 432x288 with 1 Axes>"
            ]
          },
          "metadata": {}
        }
      ]
    },
    {
      "cell_type": "code",
      "metadata": {
        "colab": {
          "base_uri": "https://localhost:8080/"
        },
        "id": "N989G9eqDhQq",
        "outputId": "a89f1f58-558e-4304-d264-b37533c7fe35"
      },
      "source": [
        "cat_dict"
      ],
      "execution_count": null,
      "outputs": [
        {
          "output_type": "execute_result",
          "data": {
            "text/plain": [
              "{0: 'H-BEA', 1: 'H-MOR', 2: 'H-USY', 3: 'H-ZSM-5'}"
            ]
          },
          "metadata": {},
          "execution_count": 157
        }
      ]
    },
    {
      "cell_type": "markdown",
      "metadata": {
        "id": "fWYbBSskTlSF"
      },
      "source": [
        "## Correlation matrix "
      ]
    },
    {
      "cell_type": "code",
      "metadata": {
        "colab": {
          "base_uri": "https://localhost:8080/",
          "height": 760
        },
        "id": "3ls7nrqjTpoc",
        "outputId": "7972a6a5-16c4-4ff3-b9d2-7c97dde5592c"
      },
      "source": [
        "#Using Pearson Correlation\n",
        "plt.figure(figsize=(12,10))\n",
        "cor = df.corr()\n",
        "sns.heatmap(cor, annot=True, cmap=plt.cm.Reds)\n",
        "plt.show()"
      ],
      "execution_count": null,
      "outputs": [
        {
          "output_type": "display_data",
          "data": {
            "image/png": "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\n",
            "text/plain": [
              "<Figure size 864x720 with 2 Axes>"
            ]
          },
          "metadata": {
            "needs_background": "light"
          }
        }
      ]
    },
    {
      "cell_type": "markdown",
      "metadata": {
        "id": "j7g2eK4OMNld"
      },
      "source": [
        "## Regression"
      ]
    },
    {
      "cell_type": "code",
      "metadata": {
        "id": "YYICEyPjKR89"
      },
      "source": [
        "# Removing outliers\n",
        "import scipy.stats as stats\n",
        "z_scores = stats.zscore(df.drop(columns = ['normalized_k']))\n",
        "abs_z_scores = np.abs(z_scores)\n",
        "filtered_entries = (abs_z_scores < 5).all(axis=1)\n",
        "df = df[filtered_entries]"
      ],
      "execution_count": null,
      "outputs": []
    },
    {
      "cell_type": "code",
      "metadata": {
        "colab": {
          "base_uri": "https://localhost:8080/"
        },
        "id": "4zIb3WVvt2ae",
        "outputId": "b72522fe-100f-41ed-8352-465bb1b8764f"
      },
      "source": [
        "df.shape"
      ],
      "execution_count": null,
      "outputs": [
        {
          "output_type": "execute_result",
          "data": {
            "text/plain": [
              "(0, 14)"
            ]
          },
          "metadata": {},
          "execution_count": 126
        }
      ]
    },
    {
      "cell_type": "code",
      "metadata": {
        "colab": {
          "base_uri": "https://localhost:8080/",
          "height": 282
        },
        "id": "_w3Ns955KgBi",
        "outputId": "5b5bce3c-0123-4bb2-f644-3a0f945b6b0c"
      },
      "source": [
        "plt.plot(df['TPD_(NH3)_(micmol/g)'],df['normalized_k'],'o')"
      ],
      "execution_count": null,
      "outputs": [
        {
          "output_type": "execute_result",
          "data": {
            "text/plain": [
              "[<matplotlib.lines.Line2D at 0x7feb4ced2210>]"
            ]
          },
          "metadata": {},
          "execution_count": 31
        },
        {
          "output_type": "display_data",
          "data": {
            "image/png": "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\n",
            "text/plain": [
              "<Figure size 432x288 with 1 Axes>"
            ]
          },
          "metadata": {
            "needs_background": "light"
          }
        }
      ]
    },
    {
      "cell_type": "code",
      "metadata": {
        "id": "RHWGqp1-1ORT"
      },
      "source": [
        "df =df.drop(columns=['Solvent_system' ])"
      ],
      "execution_count": null,
      "outputs": []
    },
    {
      "cell_type": "code",
      "metadata": {
        "id": "Z6D8mWYf1dI5"
      },
      "source": [
        "df =df.drop(columns=['Avg_pore_diameter(nm)'])"
      ],
      "execution_count": null,
      "outputs": []
    },
    {
      "cell_type": "code",
      "metadata": {
        "id": "8GrqMXUQ6Ix4"
      },
      "source": [
        "df =df.drop(columns=['Surface_area_(m2/g)_BET','V(pore)_(cm3/g)','V(mic)_(cm3/g)'])"
      ],
      "execution_count": null,
      "outputs": []
    },
    {
      "cell_type": "code",
      "metadata": {
        "id": "_YLJwMiYKsyK"
      },
      "source": [
        "# 'Temperature ( °C)'\n",
        "features = df.drop(columns = ['normalized_k',\"HMF Yield\",'Temperature ( °C)']).values\n",
        "feature_list = list(df.drop(columns = ['normalized_k',\"HMF Yield\",'Temperature ( °C)']).columns)\n",
        "labels = df['normalized_k'].values"
      ],
      "execution_count": null,
      "outputs": []
    },
    {
      "cell_type": "code",
      "metadata": {
        "id": "NgB0Ubwja-EV"
      },
      "source": [
        "# import pandas as pd\n",
        "# from sklearn import preprocessing\n",
        "# min_max_scaler = preprocessing.MinMaxScaler()\n",
        "# features = min_max_scaler.fit_transform(features)"
      ],
      "execution_count": null,
      "outputs": []
    },
    {
      "cell_type": "code",
      "metadata": {
        "id": "zJFj315BLfX6"
      },
      "source": [
        "# Using Skicit-learn to split data into training and testing sets\n",
        "from sklearn.model_selection import train_test_split\n",
        "# Split the data into training and testing sets\n",
        "train_features, test_features, train_labels, test_labels = train_test_split(features, labels, test_size = 0.2, random_state = 42)"
      ],
      "execution_count": null,
      "outputs": []
    },
    {
      "cell_type": "code",
      "metadata": {
        "colab": {
          "base_uri": "https://localhost:8080/"
        },
        "id": "R7Y0IGKjLiUr",
        "outputId": "2ae2654a-a382-4afd-af8d-089762703203"
      },
      "source": [
        "print('Training Features Shape:', train_features.shape)\n",
        "print('Training Labels Shape:', train_labels.shape)\n",
        "print('Testing Features Shape:', test_features.shape)\n",
        "print('Testing Labels Shape:', test_labels.shape)"
      ],
      "execution_count": null,
      "outputs": [
        {
          "output_type": "stream",
          "text": [
            "Training Features Shape: (49, 7)\n",
            "Training Labels Shape: (49,)\n",
            "Testing Features Shape: (13, 7)\n",
            "Testing Labels Shape: (13,)\n"
          ],
          "name": "stdout"
        }
      ]
    },
    {
      "cell_type": "code",
      "metadata": {
        "colab": {
          "base_uri": "https://localhost:8080/"
        },
        "id": "YfgIRVIOLjZk",
        "outputId": "7319c7a4-23ab-4fd7-f86d-89398f8d526f"
      },
      "source": [
        "# The baseline predictions are the historical averages\n",
        "baseline_preds = np.mean(test_labels)\n",
        "# Baseline errors, and display average baseline error\n",
        "baseline_errors = abs(baseline_preds - test_labels)\n",
        "print('Average baseline error: ', round(np.mean(baseline_errors), 5))"
      ],
      "execution_count": null,
      "outputs": [
        {
          "output_type": "stream",
          "text": [
            "Average baseline error:  0.00359\n"
          ],
          "name": "stdout"
        }
      ]
    },
    {
      "cell_type": "markdown",
      "metadata": {
        "id": "Cor4sT420X2m"
      },
      "source": [
        "# Gaussian"
      ]
    },
    {
      "cell_type": "code",
      "metadata": {
        "id": "ljtOWS1S0Z_L"
      },
      "source": [
        "from sklearn.gaussian_process import GaussianProcessRegressor\n",
        "from sklearn.gaussian_process.kernels import WhiteKernel, DotProduct, RBF\n",
        "import matplotlib.pyplot as plt\n",
        "import numpy as np\n",
        "from sklearn.gaussian_process.kernels import RBF, ConstantKernel as C"
      ],
      "execution_count": null,
      "outputs": []
    },
    {
      "cell_type": "code",
      "metadata": {
        "id": "mgtAfIgR0exu"
      },
      "source": [
        "# Random seeds\n",
        "np.random.seed(seed=0)  # Set seed for NumPy\n",
        "random_state = 0\n",
        "# Instantiate a Gaussian Process model\n",
        "kernel = C(1.0, (1e-3, 1e3)) * RBF(10, (1e-2, 1e2))\n",
        "\n",
        "gpr = GaussianProcessRegressor(kernel=kernel, n_restarts_optimizer=9, alpha= 0.000015)"
      ],
      "execution_count": null,
      "outputs": []
    },
    {
      "cell_type": "code",
      "metadata": {
        "colab": {
          "base_uri": "https://localhost:8080/"
        },
        "id": "pcnrU0rR0lai",
        "outputId": "91910437-9561-4148-ef3d-00f5eea860bb"
      },
      "source": [
        "C# Fit GPR model\n",
        "gpr.fit(train_features, train_labels)"
      ],
      "execution_count": null,
      "outputs": [
        {
          "output_type": "execute_result",
          "data": {
            "text/plain": [
              "GaussianProcessRegressor(alpha=1.5e-05, copy_X_train=True,\n",
              "                         kernel=1**2 * RBF(length_scale=10),\n",
              "                         n_restarts_optimizer=9, normalize_y=False,\n",
              "                         optimizer='fmin_l_bfgs_b', random_state=None)"
            ]
          },
          "metadata": {},
          "execution_count": 43
        }
      ]
    },
    {
      "cell_type": "code",
      "metadata": {
        "colab": {
          "base_uri": "https://localhost:8080/"
        },
        "id": "n08Ys6dmsVWy",
        "outputId": "6aba68ae-a8df-4f3d-f63b-44b635140526"
      },
      "source": [
        "gpr.score(train_features, train_labels)"
      ],
      "execution_count": null,
      "outputs": [
        {
          "output_type": "execute_result",
          "data": {
            "text/plain": [
              "0.6282157664148461"
            ]
          },
          "metadata": {},
          "execution_count": 44
        }
      ]
    },
    {
      "cell_type": "code",
      "metadata": {
        "colab": {
          "base_uri": "https://localhost:8080/"
        },
        "id": "CZgnBwO3sbyw",
        "outputId": "b6a36812-c05e-4c2e-de01-3fab957a3285"
      },
      "source": [
        "gpr.score(test_features, test_labels)"
      ],
      "execution_count": null,
      "outputs": [
        {
          "output_type": "execute_result",
          "data": {
            "text/plain": [
              "0.23010451542610455"
            ]
          },
          "metadata": {},
          "execution_count": 45
        }
      ]
    },
    {
      "cell_type": "code",
      "metadata": {
        "colab": {
          "base_uri": "https://localhost:8080/",
          "height": 265
        },
        "id": "TxeeMRUW0qkn",
        "outputId": "d26550a0-f575-4354-e84b-ca53da16df02"
      },
      "source": [
        "plt.plot(train_labels,train_labels, \"-\")\n",
        "plt.plot(train_labels, gpr.predict(train_features), \"o\")\n",
        "plt.plot(test_labels, gpr.predict(test_features), \"o\")\n",
        "plt.show()"
      ],
      "execution_count": null,
      "outputs": [
        {
          "output_type": "display_data",
          "data": {
            "image/png": "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\n",
            "text/plain": [
              "<Figure size 432x288 with 1 Axes>"
            ]
          },
          "metadata": {
            "needs_background": "light"
          }
        }
      ]
    },
    {
      "cell_type": "code",
      "metadata": {
        "colab": {
          "base_uri": "https://localhost:8080/"
        },
        "id": "V3BygFO7raRM",
        "outputId": "3070a63e-f8cf-430b-b249-8cb2eed9a0e0"
      },
      "source": [
        "np.mean(np.abs(gpr.predict(test_features)-test_labels))"
      ],
      "execution_count": null,
      "outputs": [
        {
          "output_type": "execute_result",
          "data": {
            "text/plain": [
              "0.003059809682970732"
            ]
          },
          "metadata": {},
          "execution_count": 48
        }
      ]
    },
    {
      "cell_type": "markdown",
      "metadata": {
        "id": "j7bwDseWsCSn"
      },
      "source": [
        "## K-Fold"
      ]
    },
    {
      "cell_type": "code",
      "metadata": {
        "colab": {
          "base_uri": "https://localhost:8080/"
        },
        "id": "Gss-Ba3Lq-3Z",
        "outputId": "a9085374-a52d-432c-febc-14c17cf621ec"
      },
      "source": [
        "# New random forest with only the two most important variables\n",
        "model = gpr \n",
        "# df_2 = df.drop(columns = ['normalized_k'])\n",
        "# df_2=(df_2-df_2.mean())/df_2.std()\n",
        "# features = df_2.values\n",
        "# feature_list = list(df.drop(columns = ['normalized_k']).columns)\n",
        "# labels = df['normalized_k'].values\n",
        "X  = features\n",
        "y = labels\n",
        "cv = KFold(n_splits=5, random_state=1, shuffle=True)\n",
        "scores = cross_val_score(model, X, y, scoring='neg_root_mean_squared_error', cv=cv, n_jobs=-1)\n",
        "# report performance\n",
        "print('MAE: %.4f (%.4f)' % (np.abs(mean(scores)), np.std(scores)))\n",
        "#print('accuracy %.3f (%.3f)' % (np.abs(mean(model.score)), std(scores)))"
      ],
      "execution_count": null,
      "outputs": [
        {
          "output_type": "stream",
          "text": [
            "MAE: 0.0057 (0.0012)\n"
          ],
          "name": "stdout"
        }
      ]
    },
    {
      "cell_type": "code",
      "metadata": {
        "id": "Yx1OhiN1za-i"
      },
      "source": [
        "Range= np.max(df['normalized_k'])- np.min(df['normalized_k'])"
      ],
      "execution_count": null,
      "outputs": []
    },
    {
      "cell_type": "markdown",
      "metadata": {
        "id": "oIqE-ZiaMWW8"
      },
      "source": [
        "## Random hyperparameter search"
      ]
    },
    {
      "cell_type": "code",
      "metadata": {
        "id": "-6dgJz6mLlGQ"
      },
      "source": [
        "# use random research to find the best hyperparameters for RF\n",
        "from sklearn.model_selection import RandomizedSearchCV\n",
        "# Number of trees in random forest\n",
        "n_estimators = [int(x) for x in np.linspace(start = 200, stop = 2000, num = 10)]\n",
        "# Number of features to consider at every split\n",
        "max_features = ['auto', 'sqrt']\n",
        "# Maximum number of levels in tree\n",
        "max_depth = [int(x) for x in np.linspace(10, 110, num = 11)]\n",
        "max_depth.append(None)\n",
        "# Minimum number of samples required to split a node\n",
        "min_samples_split = [2, 5, 10]\n",
        "# Minimum number of samples required at each leaf node\n",
        "min_samples_leaf = [1, 2, 4]\n",
        "# Method of selecting samples for training each tree\n",
        "bootstrap = [True, False]\n",
        "# Create the random grid\n",
        "random_grid = {'n_estimators': n_estimators,\n",
        "               'max_features': max_features,\n",
        "               'max_depth': max_depth,\n",
        "               'min_samples_split': min_samples_split,\n",
        "               'min_samples_leaf': min_samples_leaf,\n",
        "               'bootstrap': bootstrap}"
      ],
      "execution_count": null,
      "outputs": []
    },
    {
      "cell_type": "code",
      "metadata": {
        "id": "TDoyQHadMX1J",
        "colab": {
          "base_uri": "https://localhost:8080/"
        },
        "outputId": "13b0988f-5a7e-426c-cb3d-733a9b7c4eed"
      },
      "source": [
        "# Use the random grid to search for best hyperparameters\n",
        "# First create the base model to tune\n",
        "rf = RandomForestRegressor()\n",
        "# Random search of parameters, using 3 fold cross validation, \n",
        "# search across 100 different combinations, and use all available cores\n",
        "rf_random = RandomizedSearchCV(estimator = rf, param_distributions = random_grid, n_iter = 100, cv = 3, verbose=2, random_state=42, n_jobs = -1)\n",
        "# Fit the random search model\n",
        "rf_random.fit(train_features, train_labels)"
      ],
      "execution_count": null,
      "outputs": [
        {
          "output_type": "stream",
          "text": [
            "Fitting 3 folds for each of 100 candidates, totalling 300 fits\n"
          ],
          "name": "stdout"
        },
        {
          "output_type": "stream",
          "text": [
            "[Parallel(n_jobs=-1)]: Using backend LokyBackend with 2 concurrent workers.\n",
            "[Parallel(n_jobs=-1)]: Done  37 tasks      | elapsed:   39.0s\n",
            "[Parallel(n_jobs=-1)]: Done 158 tasks      | elapsed:  2.6min\n",
            "[Parallel(n_jobs=-1)]: Done 300 out of 300 | elapsed:  5.1min finished\n"
          ],
          "name": "stderr"
        },
        {
          "output_type": "execute_result",
          "data": {
            "text/plain": [
              "RandomizedSearchCV(cv=3, error_score=nan,\n",
              "                   estimator=RandomForestRegressor(bootstrap=True,\n",
              "                                                   ccp_alpha=0.0,\n",
              "                                                   criterion='mse',\n",
              "                                                   max_depth=None,\n",
              "                                                   max_features='auto',\n",
              "                                                   max_leaf_nodes=None,\n",
              "                                                   max_samples=None,\n",
              "                                                   min_impurity_decrease=0.0,\n",
              "                                                   min_impurity_split=None,\n",
              "                                                   min_samples_leaf=1,\n",
              "                                                   min_samples_split=2,\n",
              "                                                   min_weight_fraction_leaf=0.0,\n",
              "                                                   n_estimators=100,\n",
              "                                                   n_jobs=None, oob_score=Fals...\n",
              "                   param_distributions={'bootstrap': [True, False],\n",
              "                                        'max_depth': [10, 20, 30, 40, 50, 60,\n",
              "                                                      70, 80, 90, 100, 110,\n",
              "                                                      None],\n",
              "                                        'max_features': ['auto', 'sqrt'],\n",
              "                                        'min_samples_leaf': [1, 2, 4],\n",
              "                                        'min_samples_split': [2, 5, 10],\n",
              "                                        'n_estimators': [200, 400, 600, 800,\n",
              "                                                         1000, 1200, 1400, 1600,\n",
              "                                                         1800, 2000]},\n",
              "                   pre_dispatch='2*n_jobs', random_state=42, refit=True,\n",
              "                   return_train_score=False, scoring=None, verbose=2)"
            ]
          },
          "metadata": {},
          "execution_count": 170
        }
      ]
    },
    {
      "cell_type": "code",
      "metadata": {
        "id": "YCWqCwfzMZIf",
        "colab": {
          "base_uri": "https://localhost:8080/"
        },
        "outputId": "6812cd7b-f161-43ee-a446-3503c63b297d"
      },
      "source": [
        "rf_random.best_estimator_"
      ],
      "execution_count": null,
      "outputs": [
        {
          "output_type": "execute_result",
          "data": {
            "text/plain": [
              "RandomForestRegressor(bootstrap=True, ccp_alpha=0.0, criterion='mse',\n",
              "                      max_depth=10, max_features='sqrt', max_leaf_nodes=None,\n",
              "                      max_samples=None, min_impurity_decrease=0.0,\n",
              "                      min_impurity_split=None, min_samples_leaf=4,\n",
              "                      min_samples_split=2, min_weight_fraction_leaf=0.0,\n",
              "                      n_estimators=400, n_jobs=None, oob_score=False,\n",
              "                      random_state=None, verbose=0, warm_start=False)"
            ]
          },
          "metadata": {},
          "execution_count": 171
        }
      ]
    },
    {
      "cell_type": "code",
      "metadata": {
        "id": "KXiV6ojHEFVD"
      },
      "source": [
        "#best_random.fit(train_features, train_labels)\n",
        "best_random = rf_random.best_estimator_\n",
        "best_random.fit(train_features, train_labels)\n",
        "random_accuracy = best_random.score(test_features, test_labels)"
      ],
      "execution_count": null,
      "outputs": []
    },
    {
      "cell_type": "code",
      "metadata": {
        "colab": {
          "base_uri": "https://localhost:8080/"
        },
        "id": "2BB5pIxY_ldx",
        "outputId": "d7604e7d-bd7a-4bc6-a8db-27ec27a5c21b"
      },
      "source": [
        "# mount drive\n",
        "from google.colab import drive\n",
        "drive.mount('/content/gdrive')"
      ],
      "execution_count": null,
      "outputs": [
        {
          "output_type": "stream",
          "text": [
            "Drive already mounted at /content/gdrive; to attempt to forcibly remount, call drive.mount(\"/content/gdrive\", force_remount=True).\n"
          ],
          "name": "stdout"
        }
      ]
    },
    {
      "cell_type": "markdown",
      "metadata": {
        "id": "U2WI2XGGMkag"
      },
      "source": [
        "## Random Forest"
      ]
    },
    {
      "cell_type": "code",
      "metadata": {
        "id": "YMHvYgY1EI09"
      },
      "source": [
        "base_model = RandomForestRegressor(n_estimators = 1000, random_state = 42)\n",
        "base_model.fit(train_features, train_labels)\n",
        "base_accuracy = base_model.score(test_features, test_labels)"
      ],
      "execution_count": null,
      "outputs": []
    },
    {
      "cell_type": "code",
      "metadata": {
        "id": "ArWtvKaPMk6v",
        "colab": {
          "base_uri": "https://localhost:8080/"
        },
        "outputId": "fb538169-0fc6-41dc-bd0f-63cc9216b876"
      },
      "source": [
        "print('Improvement of {:0.2f}%.'.format( 100 * (random_accuracy - base_accuracy) / base_accuracy))"
      ],
      "execution_count": null,
      "outputs": [
        {
          "output_type": "stream",
          "text": [
            "Improvement of -114.14%.\n"
          ],
          "name": "stdout"
        }
      ]
    },
    {
      "cell_type": "code",
      "metadata": {
        "colab": {
          "base_uri": "https://localhost:8080/"
        },
        "id": "IMFhriRPMslG",
        "outputId": "cd0bd8bb-f2cf-4ede-a86a-43c82a169b9b"
      },
      "source": [
        "rf  = best_random\n",
        "rf.fit(train_features, train_labels)"
      ],
      "execution_count": null,
      "outputs": [
        {
          "output_type": "execute_result",
          "data": {
            "text/plain": [
              "RandomForestRegressor(bootstrap=True, ccp_alpha=0.0, criterion='mse',\n",
              "                      max_depth=60, max_features='sqrt', max_leaf_nodes=None,\n",
              "                      max_samples=None, min_impurity_decrease=0.0,\n",
              "                      min_impurity_split=None, min_samples_leaf=2,\n",
              "                      min_samples_split=10, min_weight_fraction_leaf=0.0,\n",
              "                      n_estimators=600, n_jobs=None, oob_score=False,\n",
              "                      random_state=None, verbose=0, warm_start=False)"
            ]
          },
          "metadata": {},
          "execution_count": 106
        }
      ]
    },
    {
      "cell_type": "code",
      "metadata": {
        "colab": {
          "base_uri": "https://localhost:8080/"
        },
        "id": "0UgF4N0T_z9p",
        "outputId": "162af0e0-c290-4a77-d560-5f2ce317b7dd"
      },
      "source": [
        "rf.fit(features,labels)"
      ],
      "execution_count": null,
      "outputs": [
        {
          "output_type": "execute_result",
          "data": {
            "text/plain": [
              "RandomForestRegressor(bootstrap=True, ccp_alpha=0.0, criterion='mse',\n",
              "                      max_depth=60, max_features='sqrt', max_leaf_nodes=None,\n",
              "                      max_samples=None, min_impurity_decrease=0.0,\n",
              "                      min_impurity_split=None, min_samples_leaf=2,\n",
              "                      min_samples_split=10, min_weight_fraction_leaf=0.0,\n",
              "                      n_estimators=600, n_jobs=None, oob_score=False,\n",
              "                      random_state=None, verbose=0, warm_start=False)"
            ]
          },
          "metadata": {},
          "execution_count": 108
        }
      ]
    },
    {
      "cell_type": "code",
      "metadata": {
        "colab": {
          "base_uri": "https://localhost:8080/"
        },
        "id": "uphVl10PkRcf",
        "outputId": "aa375a53-7db6-4489-a849-00ed4669a10e"
      },
      "source": [
        "rf.score(train_features,train_labels)"
      ],
      "execution_count": null,
      "outputs": [
        {
          "output_type": "execute_result",
          "data": {
            "text/plain": [
              "0.55912597102101"
            ]
          },
          "metadata": {},
          "execution_count": 109
        }
      ]
    },
    {
      "cell_type": "code",
      "metadata": {
        "colab": {
          "base_uri": "https://localhost:8080/"
        },
        "id": "i7OUVfErWvC9",
        "outputId": "ff1ba98a-1f4c-493c-fadf-497a89e059a2"
      },
      "source": [
        "rf.score(test_features, test_labels)"
      ],
      "execution_count": null,
      "outputs": [
        {
          "output_type": "execute_result",
          "data": {
            "text/plain": [
              "0.4233203003305698"
            ]
          },
          "metadata": {},
          "execution_count": 110
        }
      ]
    },
    {
      "cell_type": "code",
      "metadata": {
        "colab": {
          "base_uri": "https://localhost:8080/"
        },
        "id": "-sY0LfnvdSDK",
        "outputId": "c4c3dd14-7330-43c5-80a4-df02de915155"
      },
      "source": [
        "# np.mean(np.abs(rf.predict(test_features)-test_labels))"
      ],
      "execution_count": null,
      "outputs": [
        {
          "output_type": "execute_result",
          "data": {
            "text/plain": [
              "0.0026110326600113807"
            ]
          },
          "metadata": {},
          "execution_count": 111
        }
      ]
    },
    {
      "cell_type": "code",
      "metadata": {
        "id": "4WMbPEyrfHTX",
        "colab": {
          "base_uri": "https://localhost:8080/"
        },
        "outputId": "0a19bf8f-e977-4f4f-ae98-726f0062881c"
      },
      "source": [
        "x = np.array([10,6.11,596.2,650,0.3,5.000000,3.35])\n",
        "rf.predict(x.reshape(1,-1))"
      ],
      "execution_count": null,
      "outputs": [
        {
          "output_type": "execute_result",
          "data": {
            "text/plain": [
              "array([0.00980722])"
            ]
          },
          "metadata": {},
          "execution_count": 124
        }
      ]
    },
    {
      "cell_type": "code",
      "metadata": {
        "colab": {
          "base_uri": "https://localhost:8080/"
        },
        "id": "zznjfvIcMuQX",
        "outputId": "924d2aaf-d298-4b8d-b7c3-741c7c082a12"
      },
      "source": [
        "# Use the forest's predict method on the test data\n",
        "train_pred = rf.predict(train_features)\n",
        "# Use the forest's predict method on the test data\n",
        "predictions = rf.predict(test_features)\n",
        "# Calculate the absolute errors\n",
        "errors_train = (train_pred - train_labels)**2\n",
        "errors = (predictions - test_labels)**2\n",
        "# Print out the mean absolute error (mae)\n",
        "print('Mean Absolute Error(train):', round(np.sqrt(np.mean(errors_train)), 5), 'degrees.')\n",
        "print('Mean Absolute Error(test):', round(np.sqrt(np.mean(errors)), 5), 'degrees.')"
      ],
      "execution_count": null,
      "outputs": [
        {
          "output_type": "stream",
          "text": [
            "Mean Absolute Error(train): 0.0 degrees.\n",
            "Mean Absolute Error(test): 1.66367 degrees.\n"
          ],
          "name": "stdout"
        }
      ]
    },
    {
      "cell_type": "code",
      "metadata": {
        "colab": {
          "base_uri": "https://localhost:8080/",
          "height": 320
        },
        "id": "HJiYTw-OMwuw",
        "outputId": "3ea8c1d9-cada-40ea-94b6-6399be083f01"
      },
      "source": [
        "print(\"Accuracy = \", rf.score(train_features,train_labels)*100)\n",
        "plt.plot(train_labels, train_labels, '-',linewidth=0.2,color = '#1f77b4')\n",
        "plt.plot(train_labels,train_pred , 'o',color = '#ff7f0e', label='train_predictions')\n",
        "plt.plot(test_labels,predictions , 'o',color = '#2ca02c', label ='test_prediction')\n",
        "plt.text(0.0001,0.0125,'CV RMSE= 0.0029 (17.2%)')\n",
        "plt.style.use('seaborn-pastel')\n",
        "\n",
        "plt.title('Rate Constant Model', fontsize= 14)\n",
        "plt.xlabel('k Experimental (1/min)', fontsize= 14)\n",
        "plt.ylabel('k Prediction (1/min)',fontsize= 14)\n",
        "plt.xticks(fontsize=12)\n",
        "plt.yticks(fontsize=12)\n",
        "plt.legend(fontsize=12)\n",
        "\n",
        "images_dir = '/content/gdrive/My Drive'\n",
        "plt.savefig(f\"{images_dir}/rate_train_final.png\", bbox_inches='tight', dpi = 160)"
      ],
      "execution_count": null,
      "outputs": [
        {
          "output_type": "stream",
          "text": [
            "Accuracy =  100.0\n"
          ],
          "name": "stdout"
        },
        {
          "output_type": "display_data",
          "data": {
            "image/png": "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\n",
            "text/plain": [
              "<Figure size 432x288 with 1 Axes>"
            ]
          },
          "metadata": {
            "needs_background": "light"
          }
        }
      ]
    },
    {
      "cell_type": "markdown",
      "metadata": {
        "id": "WZjqH_ac3GwE"
      },
      "source": [
        "## Feature importance"
      ]
    },
    {
      "cell_type": "code",
      "metadata": {
        "id": "7iR922qW3LMY"
      },
      "source": [
        "from sklearn.feature_selection import SelectFromModel\n",
        "model = SelectFromModel(rf, prefit= True)"
      ],
      "execution_count": null,
      "outputs": []
    },
    {
      "cell_type": "code",
      "metadata": {
        "colab": {
          "base_uri": "https://localhost:8080/"
        },
        "id": "y3svvZIM3SR3",
        "outputId": "6e53f057-502f-4a58-eec2-440b2db2e98c"
      },
      "source": [
        "# Get numerical feature importances\n",
        "importances = list(base_model.feature_importances_)\n",
        "# List of tuples with variable and importance\n",
        "feature_importances = [(feature, round(importance, 2)) for feature, importance in zip(feature_list, importances)]\n",
        "# Sort the feature importances by most important first\n",
        "feature_importances = sorted(feature_importances, key = lambda x: x[1], reverse = True)\n",
        "# Print out the feature and importances \n",
        "[print('Variable: {:20} Importance: {}'.format(*pair)) for pair in feature_importances];"
      ],
      "execution_count": null,
      "outputs": [
        {
          "output_type": "stream",
          "text": [
            "Variable: Total_dipole_moment(D) Importance: 0.28\n",
            "Variable: Si/Al                Importance: 0.15\n",
            "Variable: TPD_(NH3)_(micmol/g) Importance: 0.15\n",
            "Variable: Surface_area_(m2/g)_BET Importance: 0.11\n",
            "Variable: catalyst_substrate_loading Importance: 0.09\n",
            "Variable: V(mic)_(cm3/g)       Importance: 0.08\n",
            "Variable: V(pore)_(cm3/g)      Importance: 0.05\n",
            "Variable: Avg_pore_diameter(nm) Importance: 0.04\n",
            "Variable: phase_2/phase_1      Importance: 0.04\n"
          ],
          "name": "stdout"
        }
      ]
    },
    {
      "cell_type": "code",
      "metadata": {
        "colab": {
          "base_uri": "https://localhost:8080/",
          "height": 297
        },
        "id": "HSFmvKkzHhUF",
        "outputId": "a71b9a01-0dd3-4db6-fc10-5f4df047bd49"
      },
      "source": [
        "labels= [\"Dipole Moment\", \"Si/Al\", \"BET Surface Area\", \"Catalyst/Substrate Loading\",\"TPD\", \"phase_2/phase_1\"]\n",
        "sizes = [0.3,0.15,0.14,0.1,0.09,0.08]\n",
        "#colors\n",
        "#colors = ['#ff9999','#66b3ff','#99ff99','#ffcc99']\n",
        "plt.title(\"k prediction feature importance\", size = 16)\n",
        "\n",
        "#explsion\n",
        "explode = (0.05,0.05,0.05,0.05, 0.05,0.05)\n",
        "plt.pie(sizes, labels=labels, autopct='%1.1f%%', startangle=90, pctdistance=0.85, explode = explode,  textprops={'fontsize': 14})\n",
        "#draw circle\n",
        "centre_circle = plt.Circle((0,0),0.70,fc='white')\n",
        "fig = plt.gcf()\n",
        "fig.gca().add_artist(centre_circle)\n",
        "# Equal aspect ratio ensures that pie is drawn as a circle\n",
        "#ax1.axis('equal')  \n",
        "plt.tight_layout()\n",
        "images_dir = '/content/gdrive/My Drive'\n",
        "plt.savefig(f\"{images_dir}/feature_importance_1.png\", dpi = 160)"
      ],
      "execution_count": null,
      "outputs": [
        {
          "output_type": "display_data",
          "data": {
            "image/png": "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\n",
            "text/plain": [
              "<Figure size 432x288 with 1 Axes>"
            ]
          },
          "metadata": {}
        }
      ]
    },
    {
      "cell_type": "markdown",
      "metadata": {
        "id": "YlqFswbXM2x8"
      },
      "source": [
        "## K-Fold "
      ]
    },
    {
      "cell_type": "code",
      "metadata": {
        "colab": {
          "base_uri": "https://localhost:8080/"
        },
        "id": "OMqOkWd-M4iX",
        "outputId": "6a485f7b-5f47-446c-ca04-8304179eeb93"
      },
      "source": [
        "# New random forest with only the two most important variables\n",
        "model = best_random \n",
        "# df_2 = df.drop(columns = ['normalized_k'])\n",
        "# df_2=(df_2-df_2.mean())/df_2.std()\n",
        "# features = df_2.values\n",
        "# feature_list = list(df.drop(columns = ['normalized_k']).columns)\n",
        "# labels = df['normalized_k'].values\n",
        "X  = features\n",
        "y = labels\n",
        "cv = KFold(n_splits=5, random_state=1, shuffle=True)\n",
        "scores = cross_val_score(model, X, y, scoring='neg_root_mean_squared_error', cv=cv, n_jobs=-1)\n",
        "# report performance\n",
        "print('RMSE: %.4f (%.4f)' % (np.abs(mean(scores)), np.std(scores)))\n",
        "#print('accuracy %.3f (%.3f)' % (np.abs(mean(model.score)), std(scores)))"
      ],
      "execution_count": null,
      "outputs": [
        {
          "output_type": "stream",
          "text": [
            "RMSE: 0.0049 (0.0005)\n"
          ],
          "name": "stdout"
        }
      ]
    },
    {
      "cell_type": "code",
      "metadata": {
        "colab": {
          "base_uri": "https://localhost:8080/"
        },
        "id": "7LIya02WP0rh",
        "outputId": "d340645f-aca4-4431-b80e-20152a866e7a"
      },
      "source": [
        "# spanning range scaled error\n",
        "range = np.max(labels)-np.min(labels)\n",
        "print(\"scaled error: %.1f\" % (np.abs(mean(scores))/range*100),\"%\")"
      ],
      "execution_count": null,
      "outputs": [
        {
          "output_type": "stream",
          "text": [
            "scaled error: 2.5 %\n"
          ],
          "name": "stdout"
        }
      ]
    },
    {
      "cell_type": "code",
      "metadata": {
        "colab": {
          "base_uri": "https://localhost:8080/"
        },
        "id": "ITvnFEQIv_Xo",
        "outputId": "681fa876-8df4-4cd7-89cc-d55a3447eb32"
      },
      "source": [
        "0.0038/range"
      ],
      "execution_count": null,
      "outputs": [
        {
          "output_type": "execute_result",
          "data": {
            "text/plain": [
              "0.18664169848104992"
            ]
          },
          "metadata": {},
          "execution_count": 458
        }
      ]
    },
    {
      "cell_type": "code",
      "metadata": {
        "colab": {
          "base_uri": "https://localhost:8080/"
        },
        "id": "V3iOOgK-ddLm",
        "outputId": "6e4947b0-a64e-4486-da27-a0ac7cbaa82d"
      },
      "source": [
        "0.0029/range"
      ],
      "execution_count": null,
      "outputs": [
        {
          "data": {
            "text/plain": [
              "0.1746815117322046"
            ]
          },
          "execution_count": 184,
          "metadata": {
            "tags": []
          },
          "output_type": "execute_result"
        }
      ]
    },
    {
      "cell_type": "markdown",
      "metadata": {
        "id": "UTFmUA_FM7k6"
      },
      "source": [
        "## XGB"
      ]
    },
    {
      "cell_type": "code",
      "metadata": {
        "id": "K47frHblYfLg"
      },
      "source": [
        "import matplotlib.pyplot as plt\n",
        "import numpy as np\n",
        "from sklearn import datasets, ensemble\n",
        "from sklearn.inspection import permutation_importance\n",
        "from sklearn.metrics import mean_squared_error\n",
        "from sklearn.model_selection import train_test_split\n",
        "import xgboost as xgb\n",
        "from sklearn.metrics import mean_absolute_error"
      ],
      "execution_count": null,
      "outputs": []
    },
    {
      "cell_type": "code",
      "metadata": {
        "id": "onsCweXZr3YL"
      },
      "source": [
        "from sklearn.model_selection import train_test_split\n",
        "X  = features\n",
        "y = labels\n",
        "X_train, X_test, y_train, y_test = train_test_split(X,y,test_size=.2, random_state=42)"
      ],
      "execution_count": null,
      "outputs": []
    },
    {
      "cell_type": "code",
      "metadata": {
        "id": "kLmIIVANr5WI"
      },
      "source": [
        "import xgboost as xgb\n",
        "from sklearn.metrics import mean_absolute_error\n",
        "dtrain = xgb.DMatrix(X_train, label=y_train)\n",
        "dtest = xgb.DMatrix(X_test, label=y_test)"
      ],
      "execution_count": null,
      "outputs": []
    },
    {
      "cell_type": "code",
      "metadata": {
        "id": "Z9GHKrRxY1Lx"
      },
      "source": [
        "params = {\n",
        "    # Parameters that we are going to tune.\n",
        "    'max_depth':6,\n",
        "    'min_child_weight': 1,\n",
        "    'eta':.3,\n",
        "    'subsample': 1,\n",
        "    'colsample_bytree': 1,\n",
        "    # Other parameters\n",
        "    'objective':'reg:linear',\n",
        "    \n",
        "}"
      ],
      "execution_count": null,
      "outputs": []
    },
    {
      "cell_type": "code",
      "metadata": {
        "colab": {
          "base_uri": "https://localhost:8080/"
        },
        "id": "BUNB60jpr6mM",
        "outputId": "2f84cf32-f3d5-4a3e-9437-93f8cdd6e05f"
      },
      "source": [
        "import numpy as np\n",
        "# \"Learn\" the mean from the training data\n",
        "mean_train = np.mean(y_train)\n",
        "# Get predictions on the test set\n",
        "baseline_predictions = np.ones(y_test.shape) * mean_train\n",
        "# Compute MAE\n",
        "mae_baseline = mean_absolute_error(y_test, baseline_predictions)\n",
        "print(\"Baseline MAE is {:.5f}\".format(mae_baseline))"
      ],
      "execution_count": null,
      "outputs": [
        {
          "output_type": "stream",
          "text": [
            "Baseline MAE is 14.37416\n"
          ],
          "name": "stdout"
        }
      ]
    },
    {
      "cell_type": "code",
      "metadata": {
        "id": "2pB94F0XsX0Y"
      },
      "source": [
        "params['eval_metric'] = \"rmse\"\n",
        "num_boost_round = 999"
      ],
      "execution_count": null,
      "outputs": []
    },
    {
      "cell_type": "code",
      "metadata": {
        "id": "BlLhMWkdZH7F"
      },
      "source": [
        "dtrain_full = xgb.DMatrix(features, label=labels)"
      ],
      "execution_count": null,
      "outputs": []
    },
    {
      "cell_type": "code",
      "metadata": {
        "colab": {
          "base_uri": "https://localhost:8080/",
          "height": 595
        },
        "id": "LrUXHteCZJj_",
        "outputId": "678f8119-6bd8-4997-f525-514ccc1e0aa8"
      },
      "source": [
        "cv_results = xgb.cv(\n",
        "    params,\n",
        "    dtrain_full,\n",
        "    num_boost_round=num_boost_round,\n",
        "    seed=42,\n",
        "    nfold=5,\n",
        "    metrics={'rmse'},\n",
        "    early_stopping_rounds=15\n",
        ")\n",
        "cv_results"
      ],
      "execution_count": null,
      "outputs": [
        {
          "output_type": "stream",
          "text": [
            "[22:27:51] WARNING: /workspace/src/objective/regression_obj.cu:152: reg:linear is now deprecated in favor of reg:squarederror.\n",
            "[22:27:51] WARNING: /workspace/src/objective/regression_obj.cu:152: reg:linear is now deprecated in favor of reg:squarederror.\n",
            "[22:27:51] WARNING: /workspace/src/objective/regression_obj.cu:152: reg:linear is now deprecated in favor of reg:squarederror.\n",
            "[22:27:51] WARNING: /workspace/src/objective/regression_obj.cu:152: reg:linear is now deprecated in favor of reg:squarederror.\n",
            "[22:27:51] WARNING: /workspace/src/objective/regression_obj.cu:152: reg:linear is now deprecated in favor of reg:squarederror.\n"
          ],
          "name": "stdout"
        },
        {
          "output_type": "execute_result",
          "data": {
            "text/html": [
              "<div>\n",
              "<style scoped>\n",
              "    .dataframe tbody tr th:only-of-type {\n",
              "        vertical-align: middle;\n",
              "    }\n",
              "\n",
              "    .dataframe tbody tr th {\n",
              "        vertical-align: top;\n",
              "    }\n",
              "\n",
              "    .dataframe thead th {\n",
              "        text-align: right;\n",
              "    }\n",
              "</style>\n",
              "<table border=\"1\" class=\"dataframe\">\n",
              "  <thead>\n",
              "    <tr style=\"text-align: right;\">\n",
              "      <th></th>\n",
              "      <th>train-rmse-mean</th>\n",
              "      <th>train-rmse-std</th>\n",
              "      <th>test-rmse-mean</th>\n",
              "      <th>test-rmse-std</th>\n",
              "    </tr>\n",
              "  </thead>\n",
              "  <tbody>\n",
              "    <tr>\n",
              "      <th>0</th>\n",
              "      <td>24.379035</td>\n",
              "      <td>0.376209</td>\n",
              "      <td>24.334746</td>\n",
              "      <td>1.638347</td>\n",
              "    </tr>\n",
              "    <tr>\n",
              "      <th>1</th>\n",
              "      <td>18.417739</td>\n",
              "      <td>0.285901</td>\n",
              "      <td>18.711103</td>\n",
              "      <td>1.929364</td>\n",
              "    </tr>\n",
              "    <tr>\n",
              "      <th>2</th>\n",
              "      <td>14.225533</td>\n",
              "      <td>0.242009</td>\n",
              "      <td>14.983636</td>\n",
              "      <td>2.249777</td>\n",
              "    </tr>\n",
              "    <tr>\n",
              "      <th>3</th>\n",
              "      <td>11.204093</td>\n",
              "      <td>0.249951</td>\n",
              "      <td>12.624042</td>\n",
              "      <td>2.322004</td>\n",
              "    </tr>\n",
              "    <tr>\n",
              "      <th>4</th>\n",
              "      <td>8.942309</td>\n",
              "      <td>0.203385</td>\n",
              "      <td>11.168057</td>\n",
              "      <td>2.151432</td>\n",
              "    </tr>\n",
              "    <tr>\n",
              "      <th>5</th>\n",
              "      <td>7.244715</td>\n",
              "      <td>0.214843</td>\n",
              "      <td>10.208042</td>\n",
              "      <td>2.102904</td>\n",
              "    </tr>\n",
              "    <tr>\n",
              "      <th>6</th>\n",
              "      <td>5.966429</td>\n",
              "      <td>0.232891</td>\n",
              "      <td>9.544882</td>\n",
              "      <td>2.037553</td>\n",
              "    </tr>\n",
              "    <tr>\n",
              "      <th>7</th>\n",
              "      <td>4.995547</td>\n",
              "      <td>0.246027</td>\n",
              "      <td>9.260935</td>\n",
              "      <td>1.948276</td>\n",
              "    </tr>\n",
              "    <tr>\n",
              "      <th>8</th>\n",
              "      <td>4.201107</td>\n",
              "      <td>0.232430</td>\n",
              "      <td>8.949274</td>\n",
              "      <td>1.928058</td>\n",
              "    </tr>\n",
              "    <tr>\n",
              "      <th>9</th>\n",
              "      <td>3.573886</td>\n",
              "      <td>0.213152</td>\n",
              "      <td>8.728314</td>\n",
              "      <td>1.895345</td>\n",
              "    </tr>\n",
              "    <tr>\n",
              "      <th>10</th>\n",
              "      <td>3.046204</td>\n",
              "      <td>0.185410</td>\n",
              "      <td>8.540884</td>\n",
              "      <td>1.902589</td>\n",
              "    </tr>\n",
              "    <tr>\n",
              "      <th>11</th>\n",
              "      <td>2.589350</td>\n",
              "      <td>0.172097</td>\n",
              "      <td>8.437716</td>\n",
              "      <td>1.934774</td>\n",
              "    </tr>\n",
              "    <tr>\n",
              "      <th>12</th>\n",
              "      <td>2.229930</td>\n",
              "      <td>0.171649</td>\n",
              "      <td>8.336454</td>\n",
              "      <td>1.954400</td>\n",
              "    </tr>\n",
              "    <tr>\n",
              "      <th>13</th>\n",
              "      <td>1.919772</td>\n",
              "      <td>0.156830</td>\n",
              "      <td>8.266351</td>\n",
              "      <td>1.945960</td>\n",
              "    </tr>\n",
              "    <tr>\n",
              "      <th>14</th>\n",
              "      <td>1.669099</td>\n",
              "      <td>0.143202</td>\n",
              "      <td>8.251713</td>\n",
              "      <td>2.025881</td>\n",
              "    </tr>\n",
              "  </tbody>\n",
              "</table>\n",
              "</div>"
            ],
            "text/plain": [
              "    train-rmse-mean  train-rmse-std  test-rmse-mean  test-rmse-std\n",
              "0         24.379035        0.376209       24.334746       1.638347\n",
              "1         18.417739        0.285901       18.711103       1.929364\n",
              "2         14.225533        0.242009       14.983636       2.249777\n",
              "3         11.204093        0.249951       12.624042       2.322004\n",
              "4          8.942309        0.203385       11.168057       2.151432\n",
              "5          7.244715        0.214843       10.208042       2.102904\n",
              "6          5.966429        0.232891        9.544882       2.037553\n",
              "7          4.995547        0.246027        9.260935       1.948276\n",
              "8          4.201107        0.232430        8.949274       1.928058\n",
              "9          3.573886        0.213152        8.728314       1.895345\n",
              "10         3.046204        0.185410        8.540884       1.902589\n",
              "11         2.589350        0.172097        8.437716       1.934774\n",
              "12         2.229930        0.171649        8.336454       1.954400\n",
              "13         1.919772        0.156830        8.266351       1.945960\n",
              "14         1.669099        0.143202        8.251713       2.025881"
            ]
          },
          "metadata": {},
          "execution_count": 322
        }
      ]
    },
    {
      "cell_type": "code",
      "metadata": {
        "colab": {
          "base_uri": "https://localhost:8080/"
        },
        "id": "jL41t8R9NPOH",
        "outputId": "709c725a-0e85-49b1-e170-1cf6b5f66ca6"
      },
      "source": [
        "8.25/range"
      ],
      "execution_count": null,
      "outputs": [
        {
          "output_type": "execute_result",
          "data": {
            "text/plain": [
              "0.10215453194650817"
            ]
          },
          "metadata": {},
          "execution_count": 324
        }
      ]
    },
    {
      "cell_type": "markdown",
      "metadata": {
        "id": "TgUsTLhqkSh3"
      },
      "source": [
        "## Linear regression"
      ]
    },
    {
      "cell_type": "code",
      "metadata": {
        "colab": {
          "base_uri": "https://localhost:8080/"
        },
        "id": "rZ60nhbUkj46",
        "outputId": "0f1b9473-97f8-4f78-db44-3cc3c3e338da"
      },
      "source": [
        "features.shape"
      ],
      "execution_count": null,
      "outputs": [
        {
          "output_type": "execute_result",
          "data": {
            "text/plain": [
              "(62, 7)"
            ]
          },
          "metadata": {},
          "execution_count": 325
        }
      ]
    },
    {
      "cell_type": "code",
      "metadata": {
        "id": "6XfR4ycSkm5q"
      },
      "source": [
        "labels = df['HMF Yield']"
      ],
      "execution_count": null,
      "outputs": []
    },
    {
      "cell_type": "code",
      "metadata": {
        "colab": {
          "base_uri": "https://localhost:8080/"
        },
        "id": "2qT217EAkRsy",
        "outputId": "60a83af5-3bbb-4907-e810-398101c98e13"
      },
      "source": [
        "### Linear Regression\n",
        "from sklearn.linear_model import LinearRegression\n",
        "from sklearn.model_selection import cross_validate, GridSearchCV, KFold\n",
        "\n",
        "clf = LinearRegression()\n",
        "scores = cross_validate(clf, features, labels, cv=5, scoring=['neg_root_mean_squared_error'])['test_neg_root_mean_squared_error']\n",
        "print(np.mean(scores))"
      ],
      "execution_count": null,
      "outputs": [
        {
          "output_type": "stream",
          "text": [
            "-92.53954488839149\n"
          ],
          "name": "stdout"
        }
      ]
    },
    {
      "cell_type": "code",
      "metadata": {
        "colab": {
          "base_uri": "https://localhost:8080/"
        },
        "id": "M88mW7Vwk3Zj",
        "outputId": "cc9cd5b3-c4d0-431e-b505-3d0e6c190ff7"
      },
      "source": [
        "np.std(scores)"
      ],
      "execution_count": null,
      "outputs": [
        {
          "output_type": "execute_result",
          "data": {
            "text/plain": [
              "146.26035948976502"
            ]
          },
          "metadata": {},
          "execution_count": 331
        }
      ]
    },
    {
      "cell_type": "markdown",
      "metadata": {
        "id": "8QEAKzlAI_jO"
      },
      "source": [
        "## Gradient Boosting"
      ]
    },
    {
      "cell_type": "code",
      "metadata": {
        "id": "3BPOuhjMJLUR"
      },
      "source": [
        "from sklearn.ensemble import GradientBoostingRegressor\n",
        "from sklearn import tree\n",
        "from sklearn.model_selection import GridSearchCV\n",
        "import numpy as np\n",
        "import pandas as pd\n",
        "from sklearn.model_selection import cross_val_score\n",
        "from sklearn.model_selection import KFold"
      ],
      "execution_count": null,
      "outputs": []
    },
    {
      "cell_type": "code",
      "metadata": {
        "id": "kPT76WiqJRim"
      },
      "source": [
        "# define dataset\n",
        "X  = features\n",
        "y = labels"
      ],
      "execution_count": null,
      "outputs": []
    },
    {
      "cell_type": "code",
      "metadata": {
        "colab": {
          "base_uri": "https://localhost:8080/"
        },
        "id": "izAVj5SlML81",
        "outputId": "c78bbe6f-e829-494c-f2cc-fdb266d3e366"
      },
      "source": [
        "GBR2=GradientBoostingRegressor(n_estimators=500,learning_rate=0.01,subsample=.5,max_depth=1,random_state=1)\n",
        "score=np.mean(cross_val_score(GBR2,X,y,scoring='neg_root_mean_squared_error',cv=5,n_jobs=1))\n",
        "std = np.std(cross_val_score(GBR2,X,y,scoring='neg_root_mean_squared_error',cv=5,n_jobs=1))\n",
        "print('RMSE: %.4f (%.4f)' % (np.abs(score), std))"
      ],
      "execution_count": null,
      "outputs": [
        {
          "output_type": "stream",
          "text": [
            "RMSE: 13.1405 (3.7529)\n"
          ],
          "name": "stdout"
        }
      ]
    },
    {
      "cell_type": "code",
      "metadata": {
        "colab": {
          "base_uri": "https://localhost:8080/"
        },
        "id": "hEL016uWM2y8",
        "outputId": "7165e419-9213-471c-c4df-99e405612c80"
      },
      "source": [
        "X_train, X_test, y_train, y_test = train_test_split(X,y,test_size=.2, random_state=42)\n",
        "reg = GBR2.fit(X_train, y_train)\n",
        "reg.score(X_train, y_train)"
      ],
      "execution_count": null,
      "outputs": [
        {
          "output_type": "execute_result",
          "data": {
            "text/plain": [
              "0.5058118483456342"
            ]
          },
          "metadata": {},
          "execution_count": 744
        }
      ]
    },
    {
      "cell_type": "code",
      "metadata": {
        "colab": {
          "base_uri": "https://localhost:8080/"
        },
        "id": "jmnAGHg2JXMj",
        "outputId": "a4f7ffdc-ebfa-45b1-f5e7-f6d69d3ba174"
      },
      "source": [
        "13.14/80"
      ],
      "execution_count": null,
      "outputs": [
        {
          "output_type": "execute_result",
          "data": {
            "text/plain": [
              "0.16425"
            ]
          },
          "metadata": {},
          "execution_count": 350
        }
      ]
    },
    {
      "cell_type": "markdown",
      "metadata": {
        "id": "LD4IhgegTvCj"
      },
      "source": [
        "## Lasso Regression"
      ]
    },
    {
      "cell_type": "code",
      "metadata": {
        "id": "Q8dWq2fyTsUP"
      },
      "source": [
        "\n",
        "# grid search hyperparameters for lasso regression\n",
        "from numpy import arange\n",
        "from pandas import read_csv\n",
        "from sklearn.model_selection import GridSearchCV\n",
        "from sklearn.model_selection import RepeatedKFold\n",
        "from sklearn.linear_model import Lasso"
      ],
      "execution_count": null,
      "outputs": []
    },
    {
      "cell_type": "code",
      "metadata": {
        "colab": {
          "base_uri": "https://localhost:8080/"
        },
        "id": "ZeeB6GbeT-2B",
        "outputId": "a3857aae-c4b2-4df5-9158-d431ebc6da43"
      },
      "source": [
        "model = Lasso()\n",
        "# define model evaluation method\n",
        "cv = RepeatedKFold(n_splits=5, n_repeats=3, random_state=1)\n",
        "# define grid\n",
        "grid = dict()\n",
        "grid['alpha'] = arange(0, 1, 0.01)\n",
        "# define search\n",
        "search = GridSearchCV(model, grid, scoring='neg_root_mean_squared_error', cv=cv, n_jobs=-1)\n",
        "# perform the search\n",
        "results = search.fit(X, y)\n",
        "# summarize\n",
        "print('RMSE: %.4f' % results.best_score_)\n",
        "print('Config: %s' % results.best_params_)"
      ],
      "execution_count": null,
      "outputs": [
        {
          "output_type": "stream",
          "text": [
            "RMSE: -16.3978\n",
            "Config: {'alpha': 0.99}\n"
          ],
          "name": "stdout"
        }
      ]
    },
    {
      "cell_type": "markdown",
      "metadata": {
        "id": "eU3MUUL5UcBw"
      },
      "source": [
        "## KRR"
      ]
    },
    {
      "cell_type": "code",
      "metadata": {
        "id": "oqXQRl0KUbOS"
      },
      "source": [
        "from sklearn.linear_model import RidgeCV\n",
        "from sklearn.model_selection import train_test_split\n",
        "import numpy as np\n",
        "import pandas as pd\n",
        "from matplotlib import pyplot as plt"
      ],
      "execution_count": null,
      "outputs": []
    },
    {
      "cell_type": "code",
      "metadata": {
        "id": "i6wJn4jJVGCd"
      },
      "source": [
        "train_X, test_X, train_y, test_y = train_test_split(X, y, test_size=0.2, random_state=0)"
      ],
      "execution_count": null,
      "outputs": []
    },
    {
      "cell_type": "code",
      "metadata": {
        "id": "uB0Sww-JVNwr",
        "colab": {
          "base_uri": "https://localhost:8080/"
        },
        "outputId": "82584b2a-5120-4585-858d-43e506d4ac4c"
      },
      "source": [
        "regressor = RidgeCV(alphas=[1, 1e3, 1e6], store_cv_values=True)\n",
        "regressor.fit(X, y)\n",
        "cv_mse = np.mean(regressor.cv_values_, axis=0)\n",
        "print(np.sqrt(cv_mse))"
      ],
      "execution_count": null,
      "outputs": [
        {
          "output_type": "stream",
          "text": [
            "[15.88330997 15.44998794 18.71300641]\n"
          ],
          "name": "stdout"
        }
      ]
    },
    {
      "cell_type": "code",
      "metadata": {
        "id": "IEzNiHzAVaOo"
      },
      "source": [
        "# predict_y = regressor.predict(test_X)"
      ],
      "execution_count": null,
      "outputs": []
    },
    {
      "cell_type": "markdown",
      "metadata": {
        "id": "LOm15ZQWhpf2"
      },
      "source": [
        "## NN"
      ]
    },
    {
      "cell_type": "code",
      "metadata": {
        "id": "XIyRlokMhnDB"
      },
      "source": [
        "from keras.callbacks import ModelCheckpoint\n",
        "from keras.models import Sequential\n",
        "from keras.layers import Dense, Activation, Flatten\n",
        "from sklearn.model_selection import train_test_split\n",
        "from sklearn.ensemble import RandomForestRegressor\n",
        "from sklearn.metrics import mean_absolute_error \n",
        "from matplotlib import pyplot as plt\n",
        "import seaborn as sb\n",
        "import matplotlib.pyplot as plt\n",
        "import pandas as pd\n",
        "import numpy as np\n",
        "import warnings \n",
        "warnings.filterwarnings('ignore')\n",
        "warnings.filterwarnings('ignore', category=DeprecationWarning)\n",
        "from xgboost import XGBRegressor"
      ],
      "execution_count": null,
      "outputs": []
    },
    {
      "cell_type": "code",
      "metadata": {
        "id": "bZ3iLsJehuIx"
      },
      "source": [
        "NN_model = Sequential()"
      ],
      "execution_count": null,
      "outputs": []
    },
    {
      "cell_type": "code",
      "metadata": {
        "id": "75ITLkbZhwTo"
      },
      "source": [
        "NN_model.add(Dense(128, kernel_initializer='normal',input_dim = X.shape[1], activation='relu'))"
      ],
      "execution_count": null,
      "outputs": []
    },
    {
      "cell_type": "code",
      "metadata": {
        "id": "4Gp6F92Hh1mP"
      },
      "source": [
        "NN_model.add(Dense(256, kernel_initializer='normal',activation='relu'))\n",
        "NN_model.add(Dense(256, kernel_initializer='normal',activation='relu'))\n",
        "NN_model.add(Dense(256, kernel_initializer='normal',activation='relu'))"
      ],
      "execution_count": null,
      "outputs": []
    },
    {
      "cell_type": "code",
      "metadata": {
        "id": "Zm9TA1yhh5UQ"
      },
      "source": [
        "NN_model.add(Dense(1, kernel_initializer='normal',activation='linear'))"
      ],
      "execution_count": null,
      "outputs": []
    },
    {
      "cell_type": "code",
      "metadata": {
        "id": "Yn3CxOjah8U-",
        "colab": {
          "base_uri": "https://localhost:8080/"
        },
        "outputId": "e7e6f76c-d7ea-46ec-aad0-ae0478e3f6bb"
      },
      "source": [
        "NN_model.compile(loss='mean_squared_error', optimizer='adam', metrics=['mean_squared_error'])\n",
        "NN_model.summary()"
      ],
      "execution_count": null,
      "outputs": [
        {
          "output_type": "stream",
          "text": [
            "Model: \"sequential\"\n",
            "_________________________________________________________________\n",
            "Layer (type)                 Output Shape              Param #   \n",
            "=================================================================\n",
            "dense (Dense)                (None, 128)               1024      \n",
            "_________________________________________________________________\n",
            "dense_1 (Dense)              (None, 256)               33024     \n",
            "_________________________________________________________________\n",
            "dense_2 (Dense)              (None, 256)               65792     \n",
            "_________________________________________________________________\n",
            "dense_3 (Dense)              (None, 256)               65792     \n",
            "_________________________________________________________________\n",
            "dense_4 (Dense)              (None, 1)                 257       \n",
            "=================================================================\n",
            "Total params: 165,889\n",
            "Trainable params: 165,889\n",
            "Non-trainable params: 0\n",
            "_________________________________________________________________\n"
          ],
          "name": "stdout"
        }
      ]
    },
    {
      "cell_type": "code",
      "metadata": {
        "id": "R_SzFzFCiCiD"
      },
      "source": [
        "checkpoint_name = 'Weights-{epoch:03d}--{val_loss:.5f}.hdf5' \n",
        "checkpoint = ModelCheckpoint(checkpoint_name, monitor='val_loss', verbose = 1, save_best_only = True, mode ='auto')\n",
        "callbacks_list = [checkpoint]"
      ],
      "execution_count": null,
      "outputs": []
    },
    {
      "cell_type": "code",
      "metadata": {
        "id": "q30iCUSPiGgm",
        "colab": {
          "base_uri": "https://localhost:8080/"
        },
        "outputId": "93ccdd56-272b-4616-9515-91ae3384279f"
      },
      "source": [
        "NN_model.fit(X, y, epochs=500, batch_size=32, validation_split = 0.2, callbacks=callbacks_list)"
      ],
      "execution_count": null,
      "outputs": [
        {
          "output_type": "stream",
          "text": [
            "Epoch 1/500\n",
            "2/2 [==============================] - 1s 177ms/step - loss: 1098.4066 - mean_squared_error: 1098.4066 - val_loss: 345.2402 - val_mean_squared_error: 345.2402\n",
            "\n",
            "Epoch 00001: val_loss improved from inf to 345.24023, saving model to Weights-001--345.24023.hdf5\n",
            "Epoch 2/500\n",
            "2/2 [==============================] - 0s 22ms/step - loss: 337.4554 - mean_squared_error: 337.4554 - val_loss: 1217.9071 - val_mean_squared_error: 1217.9071\n",
            "\n",
            "Epoch 00002: val_loss did not improve from 345.24023\n",
            "Epoch 3/500\n",
            "2/2 [==============================] - 0s 20ms/step - loss: 423.8196 - mean_squared_error: 423.8196 - val_loss: 957.4548 - val_mean_squared_error: 957.4548\n",
            "\n",
            "Epoch 00003: val_loss did not improve from 345.24023\n",
            "Epoch 4/500\n",
            "2/2 [==============================] - 0s 21ms/step - loss: 318.9453 - mean_squared_error: 318.9453 - val_loss: 523.4160 - val_mean_squared_error: 523.4160\n",
            "\n",
            "Epoch 00004: val_loss did not improve from 345.24023\n",
            "Epoch 5/500\n",
            "2/2 [==============================] - 0s 21ms/step - loss: 298.9690 - mean_squared_error: 298.9690 - val_loss: 391.4738 - val_mean_squared_error: 391.4738\n",
            "\n",
            "Epoch 00005: val_loss did not improve from 345.24023\n",
            "Epoch 6/500\n",
            "2/2 [==============================] - 0s 21ms/step - loss: 337.9601 - mean_squared_error: 337.9601 - val_loss: 416.0021 - val_mean_squared_error: 416.0021\n",
            "\n",
            "Epoch 00006: val_loss did not improve from 345.24023\n",
            "Epoch 7/500\n",
            "2/2 [==============================] - 0s 21ms/step - loss: 327.5237 - mean_squared_error: 327.5237 - val_loss: 513.3246 - val_mean_squared_error: 513.3246\n",
            "\n",
            "Epoch 00007: val_loss did not improve from 345.24023\n",
            "Epoch 8/500\n",
            "2/2 [==============================] - 0s 22ms/step - loss: 290.7026 - mean_squared_error: 290.7026 - val_loss: 634.0436 - val_mean_squared_error: 634.0436\n",
            "\n",
            "Epoch 00008: val_loss did not improve from 345.24023\n",
            "Epoch 9/500\n",
            "2/2 [==============================] - 0s 20ms/step - loss: 290.3054 - mean_squared_error: 290.3054 - val_loss: 759.4913 - val_mean_squared_error: 759.4913\n",
            "\n",
            "Epoch 00009: val_loss did not improve from 345.24023\n",
            "Epoch 10/500\n",
            "2/2 [==============================] - 0s 19ms/step - loss: 305.1329 - mean_squared_error: 305.1329 - val_loss: 731.5159 - val_mean_squared_error: 731.5159\n",
            "\n",
            "Epoch 00010: val_loss did not improve from 345.24023\n",
            "Epoch 11/500\n",
            "2/2 [==============================] - 0s 19ms/step - loss: 307.0913 - mean_squared_error: 307.0913 - val_loss: 594.5590 - val_mean_squared_error: 594.5590\n",
            "\n",
            "Epoch 00011: val_loss did not improve from 345.24023\n",
            "Epoch 12/500\n",
            "2/2 [==============================] - 0s 19ms/step - loss: 288.7275 - mean_squared_error: 288.7275 - val_loss: 554.9213 - val_mean_squared_error: 554.9213\n",
            "\n",
            "Epoch 00012: val_loss did not improve from 345.24023\n",
            "Epoch 13/500\n",
            "2/2 [==============================] - 0s 38ms/step - loss: 289.1896 - mean_squared_error: 289.1896 - val_loss: 556.2807 - val_mean_squared_error: 556.2807\n",
            "\n",
            "Epoch 00013: val_loss did not improve from 345.24023\n",
            "Epoch 14/500\n",
            "2/2 [==============================] - 0s 30ms/step - loss: 288.8948 - mean_squared_error: 288.8948 - val_loss: 580.2673 - val_mean_squared_error: 580.2673\n",
            "\n",
            "Epoch 00014: val_loss did not improve from 345.24023\n",
            "Epoch 15/500\n",
            "2/2 [==============================] - 0s 23ms/step - loss: 286.8346 - mean_squared_error: 286.8346 - val_loss: 603.3909 - val_mean_squared_error: 603.3909\n",
            "\n",
            "Epoch 00015: val_loss did not improve from 345.24023\n",
            "Epoch 16/500\n",
            "2/2 [==============================] - 0s 20ms/step - loss: 290.6350 - mean_squared_error: 290.6350 - val_loss: 632.0760 - val_mean_squared_error: 632.0760\n",
            "\n",
            "Epoch 00016: val_loss did not improve from 345.24023\n",
            "Epoch 17/500\n",
            "2/2 [==============================] - 0s 18ms/step - loss: 285.4263 - mean_squared_error: 285.4263 - val_loss: 588.3017 - val_mean_squared_error: 588.3017\n",
            "\n",
            "Epoch 00017: val_loss did not improve from 345.24023\n",
            "Epoch 18/500\n",
            "2/2 [==============================] - 0s 19ms/step - loss: 290.4867 - mean_squared_error: 290.4867 - val_loss: 551.4409 - val_mean_squared_error: 551.4409\n",
            "\n",
            "Epoch 00018: val_loss did not improve from 345.24023\n",
            "Epoch 19/500\n",
            "2/2 [==============================] - 0s 19ms/step - loss: 285.5502 - mean_squared_error: 285.5502 - val_loss: 594.2849 - val_mean_squared_error: 594.2849\n",
            "\n",
            "Epoch 00019: val_loss did not improve from 345.24023\n",
            "Epoch 20/500\n",
            "2/2 [==============================] - 0s 21ms/step - loss: 286.3027 - mean_squared_error: 286.3027 - val_loss: 641.0462 - val_mean_squared_error: 641.0462\n",
            "\n",
            "Epoch 00020: val_loss did not improve from 345.24023\n",
            "Epoch 21/500\n",
            "2/2 [==============================] - 0s 19ms/step - loss: 283.1285 - mean_squared_error: 283.1285 - val_loss: 622.0848 - val_mean_squared_error: 622.0848\n",
            "\n",
            "Epoch 00021: val_loss did not improve from 345.24023\n",
            "Epoch 22/500\n",
            "2/2 [==============================] - 0s 19ms/step - loss: 281.9200 - mean_squared_error: 281.9200 - val_loss: 599.8472 - val_mean_squared_error: 599.8472\n",
            "\n",
            "Epoch 00022: val_loss did not improve from 345.24023\n",
            "Epoch 23/500\n",
            "2/2 [==============================] - 0s 19ms/step - loss: 281.3834 - mean_squared_error: 281.3834 - val_loss: 589.7808 - val_mean_squared_error: 589.7808\n",
            "\n",
            "Epoch 00023: val_loss did not improve from 345.24023\n",
            "Epoch 24/500\n",
            "2/2 [==============================] - 0s 21ms/step - loss: 281.2900 - mean_squared_error: 281.2900 - val_loss: 606.8994 - val_mean_squared_error: 606.8994\n",
            "\n",
            "Epoch 00024: val_loss did not improve from 345.24023\n",
            "Epoch 25/500\n",
            "2/2 [==============================] - 0s 22ms/step - loss: 280.9474 - mean_squared_error: 280.9474 - val_loss: 657.3347 - val_mean_squared_error: 657.3347\n",
            "\n",
            "Epoch 00025: val_loss did not improve from 345.24023\n",
            "Epoch 26/500\n",
            "2/2 [==============================] - 0s 27ms/step - loss: 279.6588 - mean_squared_error: 279.6588 - val_loss: 730.9819 - val_mean_squared_error: 730.9819\n",
            "\n",
            "Epoch 00026: val_loss did not improve from 345.24023\n",
            "Epoch 27/500\n",
            "2/2 [==============================] - 0s 21ms/step - loss: 285.1336 - mean_squared_error: 285.1336 - val_loss: 703.9886 - val_mean_squared_error: 703.9886\n",
            "\n",
            "Epoch 00027: val_loss did not improve from 345.24023\n",
            "Epoch 28/500\n",
            "2/2 [==============================] - 0s 20ms/step - loss: 282.0329 - mean_squared_error: 282.0329 - val_loss: 626.1141 - val_mean_squared_error: 626.1141\n",
            "\n",
            "Epoch 00028: val_loss did not improve from 345.24023\n",
            "Epoch 29/500\n",
            "2/2 [==============================] - 0s 23ms/step - loss: 276.5461 - mean_squared_error: 276.5461 - val_loss: 575.7820 - val_mean_squared_error: 575.7820\n",
            "\n",
            "Epoch 00029: val_loss did not improve from 345.24023\n",
            "Epoch 30/500\n",
            "2/2 [==============================] - 0s 20ms/step - loss: 277.9315 - mean_squared_error: 277.9315 - val_loss: 559.0450 - val_mean_squared_error: 559.0450\n",
            "\n",
            "Epoch 00030: val_loss did not improve from 345.24023\n",
            "Epoch 31/500\n",
            "2/2 [==============================] - 0s 22ms/step - loss: 277.9708 - mean_squared_error: 277.9708 - val_loss: 600.5489 - val_mean_squared_error: 600.5489\n",
            "\n",
            "Epoch 00031: val_loss did not improve from 345.24023\n",
            "Epoch 32/500\n",
            "2/2 [==============================] - 0s 21ms/step - loss: 275.7410 - mean_squared_error: 275.7410 - val_loss: 646.7565 - val_mean_squared_error: 646.7565\n",
            "\n",
            "Epoch 00032: val_loss did not improve from 345.24023\n",
            "Epoch 33/500\n",
            "2/2 [==============================] - 0s 41ms/step - loss: 274.7419 - mean_squared_error: 274.7419 - val_loss: 648.2195 - val_mean_squared_error: 648.2195\n",
            "\n",
            "Epoch 00033: val_loss did not improve from 345.24023\n",
            "Epoch 34/500\n",
            "2/2 [==============================] - 0s 22ms/step - loss: 275.4441 - mean_squared_error: 275.4441 - val_loss: 626.1347 - val_mean_squared_error: 626.1347\n",
            "\n",
            "Epoch 00034: val_loss did not improve from 345.24023\n",
            "Epoch 35/500\n",
            "2/2 [==============================] - 0s 20ms/step - loss: 272.0664 - mean_squared_error: 272.0664 - val_loss: 569.6511 - val_mean_squared_error: 569.6511\n",
            "\n",
            "Epoch 00035: val_loss did not improve from 345.24023\n",
            "Epoch 36/500\n",
            "2/2 [==============================] - 0s 40ms/step - loss: 274.7159 - mean_squared_error: 274.7159 - val_loss: 560.6573 - val_mean_squared_error: 560.6573\n",
            "\n",
            "Epoch 00036: val_loss did not improve from 345.24023\n",
            "Epoch 37/500\n",
            "2/2 [==============================] - 0s 21ms/step - loss: 274.1308 - mean_squared_error: 274.1308 - val_loss: 621.1259 - val_mean_squared_error: 621.1259\n",
            "\n",
            "Epoch 00037: val_loss did not improve from 345.24023\n",
            "Epoch 38/500\n",
            "2/2 [==============================] - 0s 24ms/step - loss: 272.8111 - mean_squared_error: 272.8111 - val_loss: 696.4894 - val_mean_squared_error: 696.4894\n",
            "\n",
            "Epoch 00038: val_loss did not improve from 345.24023\n",
            "Epoch 39/500\n",
            "2/2 [==============================] - 0s 22ms/step - loss: 273.7484 - mean_squared_error: 273.7484 - val_loss: 646.7070 - val_mean_squared_error: 646.7070\n",
            "\n",
            "Epoch 00039: val_loss did not improve from 345.24023\n",
            "Epoch 40/500\n",
            "2/2 [==============================] - 0s 23ms/step - loss: 271.1922 - mean_squared_error: 271.1922 - val_loss: 553.0276 - val_mean_squared_error: 553.0276\n",
            "\n",
            "Epoch 00040: val_loss did not improve from 345.24023\n",
            "Epoch 41/500\n",
            "2/2 [==============================] - 0s 21ms/step - loss: 273.5107 - mean_squared_error: 273.5107 - val_loss: 570.1954 - val_mean_squared_error: 570.1954\n",
            "\n",
            "Epoch 00041: val_loss did not improve from 345.24023\n",
            "Epoch 42/500\n",
            "2/2 [==============================] - 0s 20ms/step - loss: 269.7029 - mean_squared_error: 269.7029 - val_loss: 618.7115 - val_mean_squared_error: 618.7115\n",
            "\n",
            "Epoch 00042: val_loss did not improve from 345.24023\n",
            "Epoch 43/500\n",
            "2/2 [==============================] - 0s 44ms/step - loss: 266.0033 - mean_squared_error: 266.0033 - val_loss: 692.5219 - val_mean_squared_error: 692.5219\n",
            "\n",
            "Epoch 00043: val_loss did not improve from 345.24023\n",
            "Epoch 44/500\n",
            "2/2 [==============================] - 0s 23ms/step - loss: 267.5797 - mean_squared_error: 267.5797 - val_loss: 711.4232 - val_mean_squared_error: 711.4232\n",
            "\n",
            "Epoch 00044: val_loss did not improve from 345.24023\n",
            "Epoch 45/500\n",
            "2/2 [==============================] - 0s 19ms/step - loss: 267.4819 - mean_squared_error: 267.4819 - val_loss: 657.5248 - val_mean_squared_error: 657.5248\n",
            "\n",
            "Epoch 00045: val_loss did not improve from 345.24023\n",
            "Epoch 46/500\n",
            "2/2 [==============================] - 0s 20ms/step - loss: 263.1545 - mean_squared_error: 263.1545 - val_loss: 571.0984 - val_mean_squared_error: 571.0984\n",
            "\n",
            "Epoch 00046: val_loss did not improve from 345.24023\n",
            "Epoch 47/500\n",
            "2/2 [==============================] - 0s 20ms/step - loss: 275.4778 - mean_squared_error: 275.4778 - val_loss: 607.8986 - val_mean_squared_error: 607.8986\n",
            "\n",
            "Epoch 00047: val_loss did not improve from 345.24023\n",
            "Epoch 48/500\n",
            "2/2 [==============================] - 0s 18ms/step - loss: 264.0066 - mean_squared_error: 264.0066 - val_loss: 804.4239 - val_mean_squared_error: 804.4239\n",
            "\n",
            "Epoch 00048: val_loss did not improve from 345.24023\n",
            "Epoch 49/500\n",
            "2/2 [==============================] - 0s 22ms/step - loss: 272.1866 - mean_squared_error: 272.1866 - val_loss: 712.4694 - val_mean_squared_error: 712.4694\n",
            "\n",
            "Epoch 00049: val_loss did not improve from 345.24023\n",
            "Epoch 50/500\n",
            "2/2 [==============================] - 0s 33ms/step - loss: 268.4170 - mean_squared_error: 268.4170 - val_loss: 565.7556 - val_mean_squared_error: 565.7556\n",
            "\n",
            "Epoch 00050: val_loss did not improve from 345.24023\n",
            "Epoch 51/500\n",
            "2/2 [==============================] - 0s 24ms/step - loss: 264.2515 - mean_squared_error: 264.2515 - val_loss: 603.4296 - val_mean_squared_error: 603.4296\n",
            "\n",
            "Epoch 00051: val_loss did not improve from 345.24023\n",
            "Epoch 52/500\n",
            "2/2 [==============================] - 0s 22ms/step - loss: 267.9625 - mean_squared_error: 267.9625 - val_loss: 642.9929 - val_mean_squared_error: 642.9929\n",
            "\n",
            "Epoch 00052: val_loss did not improve from 345.24023\n",
            "Epoch 53/500\n",
            "2/2 [==============================] - 0s 21ms/step - loss: 265.3492 - mean_squared_error: 265.3492 - val_loss: 609.3775 - val_mean_squared_error: 609.3775\n",
            "\n",
            "Epoch 00053: val_loss did not improve from 345.24023\n",
            "Epoch 54/500\n",
            "2/2 [==============================] - 0s 24ms/step - loss: 260.9974 - mean_squared_error: 260.9974 - val_loss: 701.9438 - val_mean_squared_error: 701.9438\n",
            "\n",
            "Epoch 00054: val_loss did not improve from 345.24023\n",
            "Epoch 55/500\n",
            "2/2 [==============================] - 0s 22ms/step - loss: 258.2591 - mean_squared_error: 258.2591 - val_loss: 675.1019 - val_mean_squared_error: 675.1019\n",
            "\n",
            "Epoch 00055: val_loss did not improve from 345.24023\n",
            "Epoch 56/500\n",
            "2/2 [==============================] - 0s 40ms/step - loss: 255.6978 - mean_squared_error: 255.6978 - val_loss: 651.2617 - val_mean_squared_error: 651.2617\n",
            "\n",
            "Epoch 00056: val_loss did not improve from 345.24023\n",
            "Epoch 57/500\n",
            "2/2 [==============================] - 0s 39ms/step - loss: 258.7744 - mean_squared_error: 258.7744 - val_loss: 607.2229 - val_mean_squared_error: 607.2229\n",
            "\n",
            "Epoch 00057: val_loss did not improve from 345.24023\n",
            "Epoch 58/500\n",
            "2/2 [==============================] - 0s 22ms/step - loss: 255.1057 - mean_squared_error: 255.1057 - val_loss: 551.3603 - val_mean_squared_error: 551.3603\n",
            "\n",
            "Epoch 00058: val_loss did not improve from 345.24023\n",
            "Epoch 59/500\n",
            "2/2 [==============================] - 0s 27ms/step - loss: 264.2394 - mean_squared_error: 264.2394 - val_loss: 662.5750 - val_mean_squared_error: 662.5750\n",
            "\n",
            "Epoch 00059: val_loss did not improve from 345.24023\n",
            "Epoch 60/500\n",
            "2/2 [==============================] - 0s 22ms/step - loss: 250.5508 - mean_squared_error: 250.5508 - val_loss: 895.5844 - val_mean_squared_error: 895.5844\n",
            "\n",
            "Epoch 00060: val_loss did not improve from 345.24023\n",
            "Epoch 61/500\n",
            "2/2 [==============================] - 0s 24ms/step - loss: 277.0725 - mean_squared_error: 277.0725 - val_loss: 722.8635 - val_mean_squared_error: 722.8635\n",
            "\n",
            "Epoch 00061: val_loss did not improve from 345.24023\n",
            "Epoch 62/500\n",
            "2/2 [==============================] - 0s 22ms/step - loss: 244.6383 - mean_squared_error: 244.6383 - val_loss: 460.4839 - val_mean_squared_error: 460.4839\n",
            "\n",
            "Epoch 00062: val_loss did not improve from 345.24023\n",
            "Epoch 63/500\n",
            "2/2 [==============================] - 0s 21ms/step - loss: 284.6455 - mean_squared_error: 284.6455 - val_loss: 482.8563 - val_mean_squared_error: 482.8563\n",
            "\n",
            "Epoch 00063: val_loss did not improve from 345.24023\n",
            "Epoch 64/500\n",
            "2/2 [==============================] - 0s 24ms/step - loss: 274.1744 - mean_squared_error: 274.1744 - val_loss: 731.4271 - val_mean_squared_error: 731.4271\n",
            "\n",
            "Epoch 00064: val_loss did not improve from 345.24023\n",
            "Epoch 65/500\n",
            "2/2 [==============================] - 0s 20ms/step - loss: 249.9346 - mean_squared_error: 249.9346 - val_loss: 858.9415 - val_mean_squared_error: 858.9415\n",
            "\n",
            "Epoch 00065: val_loss did not improve from 345.24023\n",
            "Epoch 66/500\n",
            "2/2 [==============================] - 0s 25ms/step - loss: 265.3072 - mean_squared_error: 265.3072 - val_loss: 748.4345 - val_mean_squared_error: 748.4345\n",
            "\n",
            "Epoch 00066: val_loss did not improve from 345.24023\n",
            "Epoch 67/500\n",
            "2/2 [==============================] - 0s 21ms/step - loss: 249.1230 - mean_squared_error: 249.1230 - val_loss: 614.0468 - val_mean_squared_error: 614.0468\n",
            "\n",
            "Epoch 00067: val_loss did not improve from 345.24023\n",
            "Epoch 68/500\n",
            "2/2 [==============================] - 0s 23ms/step - loss: 249.3801 - mean_squared_error: 249.3801 - val_loss: 545.2466 - val_mean_squared_error: 545.2466\n",
            "\n",
            "Epoch 00068: val_loss did not improve from 345.24023\n",
            "Epoch 69/500\n",
            "2/2 [==============================] - 0s 23ms/step - loss: 256.0778 - mean_squared_error: 256.0778 - val_loss: 624.0202 - val_mean_squared_error: 624.0202\n",
            "\n",
            "Epoch 00069: val_loss did not improve from 345.24023\n",
            "Epoch 70/500\n",
            "2/2 [==============================] - 0s 24ms/step - loss: 251.4740 - mean_squared_error: 251.4740 - val_loss: 768.0326 - val_mean_squared_error: 768.0326\n",
            "\n",
            "Epoch 00070: val_loss did not improve from 345.24023\n",
            "Epoch 71/500\n",
            "2/2 [==============================] - 0s 21ms/step - loss: 249.9148 - mean_squared_error: 249.9148 - val_loss: 705.7748 - val_mean_squared_error: 705.7748\n",
            "\n",
            "Epoch 00071: val_loss did not improve from 345.24023\n",
            "Epoch 72/500\n",
            "2/2 [==============================] - 0s 20ms/step - loss: 245.8456 - mean_squared_error: 245.8456 - val_loss: 613.8806 - val_mean_squared_error: 613.8806\n",
            "\n",
            "Epoch 00072: val_loss did not improve from 345.24023\n",
            "Epoch 73/500\n",
            "2/2 [==============================] - 0s 21ms/step - loss: 254.4521 - mean_squared_error: 254.4521 - val_loss: 570.9798 - val_mean_squared_error: 570.9798\n",
            "\n",
            "Epoch 00073: val_loss did not improve from 345.24023\n",
            "Epoch 74/500\n",
            "2/2 [==============================] - 0s 23ms/step - loss: 257.9072 - mean_squared_error: 257.9072 - val_loss: 712.2675 - val_mean_squared_error: 712.2675\n",
            "\n",
            "Epoch 00074: val_loss did not improve from 345.24023\n",
            "Epoch 75/500\n",
            "2/2 [==============================] - 0s 23ms/step - loss: 245.6132 - mean_squared_error: 245.6132 - val_loss: 742.7464 - val_mean_squared_error: 742.7464\n",
            "\n",
            "Epoch 00075: val_loss did not improve from 345.24023\n",
            "Epoch 76/500\n",
            "2/2 [==============================] - 0s 23ms/step - loss: 246.3004 - mean_squared_error: 246.3004 - val_loss: 677.1113 - val_mean_squared_error: 677.1113\n",
            "\n",
            "Epoch 00076: val_loss did not improve from 345.24023\n",
            "Epoch 77/500\n",
            "2/2 [==============================] - 0s 23ms/step - loss: 243.5648 - mean_squared_error: 243.5648 - val_loss: 608.1165 - val_mean_squared_error: 608.1165\n",
            "\n",
            "Epoch 00077: val_loss did not improve from 345.24023\n",
            "Epoch 78/500\n",
            "2/2 [==============================] - 0s 22ms/step - loss: 248.6134 - mean_squared_error: 248.6134 - val_loss: 652.6774 - val_mean_squared_error: 652.6774\n",
            "\n",
            "Epoch 00078: val_loss did not improve from 345.24023\n",
            "Epoch 79/500\n",
            "2/2 [==============================] - 0s 21ms/step - loss: 252.6739 - mean_squared_error: 252.6739 - val_loss: 735.0667 - val_mean_squared_error: 735.0667\n",
            "\n",
            "Epoch 00079: val_loss did not improve from 345.24023\n",
            "Epoch 80/500\n",
            "2/2 [==============================] - 0s 26ms/step - loss: 242.1957 - mean_squared_error: 242.1957 - val_loss: 915.2218 - val_mean_squared_error: 915.2218\n",
            "\n",
            "Epoch 00080: val_loss did not improve from 345.24023\n",
            "Epoch 81/500\n",
            "2/2 [==============================] - 0s 23ms/step - loss: 256.8004 - mean_squared_error: 256.8004 - val_loss: 695.7774 - val_mean_squared_error: 695.7774\n",
            "\n",
            "Epoch 00081: val_loss did not improve from 345.24023\n",
            "Epoch 82/500\n",
            "2/2 [==============================] - 0s 21ms/step - loss: 235.6824 - mean_squared_error: 235.6824 - val_loss: 529.2361 - val_mean_squared_error: 529.2361\n",
            "\n",
            "Epoch 00082: val_loss did not improve from 345.24023\n",
            "Epoch 83/500\n",
            "2/2 [==============================] - 0s 25ms/step - loss: 259.0948 - mean_squared_error: 259.0948 - val_loss: 578.1657 - val_mean_squared_error: 578.1657\n",
            "\n",
            "Epoch 00083: val_loss did not improve from 345.24023\n",
            "Epoch 84/500\n",
            "2/2 [==============================] - 0s 26ms/step - loss: 244.2305 - mean_squared_error: 244.2305 - val_loss: 744.2406 - val_mean_squared_error: 744.2406\n",
            "\n",
            "Epoch 00084: val_loss did not improve from 345.24023\n",
            "Epoch 85/500\n",
            "2/2 [==============================] - 0s 25ms/step - loss: 239.4654 - mean_squared_error: 239.4654 - val_loss: 825.5569 - val_mean_squared_error: 825.5569\n",
            "\n",
            "Epoch 00085: val_loss did not improve from 345.24023\n",
            "Epoch 86/500\n",
            "2/2 [==============================] - 0s 21ms/step - loss: 243.3345 - mean_squared_error: 243.3345 - val_loss: 682.2855 - val_mean_squared_error: 682.2855\n",
            "\n",
            "Epoch 00086: val_loss did not improve from 345.24023\n",
            "Epoch 87/500\n",
            "2/2 [==============================] - 0s 24ms/step - loss: 236.8954 - mean_squared_error: 236.8954 - val_loss: 596.6702 - val_mean_squared_error: 596.6702\n",
            "\n",
            "Epoch 00087: val_loss did not improve from 345.24023\n",
            "Epoch 88/500\n",
            "2/2 [==============================] - 0s 20ms/step - loss: 241.7060 - mean_squared_error: 241.7060 - val_loss: 596.0034 - val_mean_squared_error: 596.0034\n",
            "\n",
            "Epoch 00088: val_loss did not improve from 345.24023\n",
            "Epoch 89/500\n",
            "2/2 [==============================] - 0s 23ms/step - loss: 241.0626 - mean_squared_error: 241.0626 - val_loss: 724.4554 - val_mean_squared_error: 724.4554\n",
            "\n",
            "Epoch 00089: val_loss did not improve from 345.24023\n",
            "Epoch 90/500\n",
            "2/2 [==============================] - 0s 22ms/step - loss: 234.2682 - mean_squared_error: 234.2682 - val_loss: 802.6956 - val_mean_squared_error: 802.6956\n",
            "\n",
            "Epoch 00090: val_loss did not improve from 345.24023\n",
            "Epoch 91/500\n",
            "2/2 [==============================] - 0s 22ms/step - loss: 239.1118 - mean_squared_error: 239.1118 - val_loss: 741.5101 - val_mean_squared_error: 741.5101\n",
            "\n",
            "Epoch 00091: val_loss did not improve from 345.24023\n",
            "Epoch 92/500\n",
            "2/2 [==============================] - 0s 20ms/step - loss: 239.7482 - mean_squared_error: 239.7482 - val_loss: 598.7029 - val_mean_squared_error: 598.7029\n",
            "\n",
            "Epoch 00092: val_loss did not improve from 345.24023\n",
            "Epoch 93/500\n",
            "2/2 [==============================] - 0s 29ms/step - loss: 233.9010 - mean_squared_error: 233.9010 - val_loss: 820.1155 - val_mean_squared_error: 820.1155\n",
            "\n",
            "Epoch 00093: val_loss did not improve from 345.24023\n",
            "Epoch 94/500\n",
            "2/2 [==============================] - 0s 21ms/step - loss: 235.3083 - mean_squared_error: 235.3083 - val_loss: 932.4823 - val_mean_squared_error: 932.4823\n",
            "\n",
            "Epoch 00094: val_loss did not improve from 345.24023\n",
            "Epoch 95/500\n",
            "2/2 [==============================] - 0s 22ms/step - loss: 244.6399 - mean_squared_error: 244.6399 - val_loss: 663.1431 - val_mean_squared_error: 663.1431\n",
            "\n",
            "Epoch 00095: val_loss did not improve from 345.24023\n",
            "Epoch 96/500\n",
            "2/2 [==============================] - 0s 23ms/step - loss: 239.7870 - mean_squared_error: 239.7870 - val_loss: 586.1039 - val_mean_squared_error: 586.1039\n",
            "\n",
            "Epoch 00096: val_loss did not improve from 345.24023\n",
            "Epoch 97/500\n",
            "2/2 [==============================] - 0s 20ms/step - loss: 232.7361 - mean_squared_error: 232.7361 - val_loss: 830.6271 - val_mean_squared_error: 830.6271\n",
            "\n",
            "Epoch 00097: val_loss did not improve from 345.24023\n",
            "Epoch 98/500\n",
            "2/2 [==============================] - 0s 22ms/step - loss: 233.3385 - mean_squared_error: 233.3385 - val_loss: 759.7484 - val_mean_squared_error: 759.7484\n",
            "\n",
            "Epoch 00098: val_loss did not improve from 345.24023\n",
            "Epoch 99/500\n",
            "2/2 [==============================] - 0s 21ms/step - loss: 234.3826 - mean_squared_error: 234.3826 - val_loss: 633.6215 - val_mean_squared_error: 633.6215\n",
            "\n",
            "Epoch 00099: val_loss did not improve from 345.24023\n",
            "Epoch 100/500\n",
            "2/2 [==============================] - 0s 27ms/step - loss: 226.1244 - mean_squared_error: 226.1244 - val_loss: 746.0657 - val_mean_squared_error: 746.0657\n",
            "\n",
            "Epoch 00100: val_loss did not improve from 345.24023\n",
            "Epoch 101/500\n",
            "2/2 [==============================] - 0s 21ms/step - loss: 224.7910 - mean_squared_error: 224.7910 - val_loss: 738.2588 - val_mean_squared_error: 738.2588\n",
            "\n",
            "Epoch 00101: val_loss did not improve from 345.24023\n",
            "Epoch 102/500\n",
            "2/2 [==============================] - 0s 20ms/step - loss: 222.7689 - mean_squared_error: 222.7689 - val_loss: 669.5840 - val_mean_squared_error: 669.5840\n",
            "\n",
            "Epoch 00102: val_loss did not improve from 345.24023\n",
            "Epoch 103/500\n",
            "2/2 [==============================] - 0s 23ms/step - loss: 227.8716 - mean_squared_error: 227.8716 - val_loss: 621.1754 - val_mean_squared_error: 621.1754\n",
            "\n",
            "Epoch 00103: val_loss did not improve from 345.24023\n",
            "Epoch 104/500\n",
            "2/2 [==============================] - 0s 22ms/step - loss: 225.3771 - mean_squared_error: 225.3771 - val_loss: 619.3888 - val_mean_squared_error: 619.3888\n",
            "\n",
            "Epoch 00104: val_loss did not improve from 345.24023\n",
            "Epoch 105/500\n",
            "2/2 [==============================] - 0s 28ms/step - loss: 222.6025 - mean_squared_error: 222.6025 - val_loss: 760.8340 - val_mean_squared_error: 760.8340\n",
            "\n",
            "Epoch 00105: val_loss did not improve from 345.24023\n",
            "Epoch 106/500\n",
            "2/2 [==============================] - 0s 24ms/step - loss: 221.9677 - mean_squared_error: 221.9677 - val_loss: 816.7798 - val_mean_squared_error: 816.7798\n",
            "\n",
            "Epoch 00106: val_loss did not improve from 345.24023\n",
            "Epoch 107/500\n",
            "2/2 [==============================] - 0s 28ms/step - loss: 225.2270 - mean_squared_error: 225.2270 - val_loss: 744.3969 - val_mean_squared_error: 744.3969\n",
            "\n",
            "Epoch 00107: val_loss did not improve from 345.24023\n",
            "Epoch 108/500\n",
            "2/2 [==============================] - 0s 20ms/step - loss: 225.9852 - mean_squared_error: 225.9852 - val_loss: 605.4937 - val_mean_squared_error: 605.4937\n",
            "\n",
            "Epoch 00108: val_loss did not improve from 345.24023\n",
            "Epoch 109/500\n",
            "2/2 [==============================] - 0s 22ms/step - loss: 226.7016 - mean_squared_error: 226.7016 - val_loss: 589.9280 - val_mean_squared_error: 589.9280\n",
            "\n",
            "Epoch 00109: val_loss did not improve from 345.24023\n",
            "Epoch 110/500\n",
            "2/2 [==============================] - 0s 23ms/step - loss: 212.6753 - mean_squared_error: 212.6753 - val_loss: 962.7881 - val_mean_squared_error: 962.7881\n",
            "\n",
            "Epoch 00110: val_loss did not improve from 345.24023\n",
            "Epoch 111/500\n",
            "2/2 [==============================] - 0s 25ms/step - loss: 237.5136 - mean_squared_error: 237.5136 - val_loss: 789.8969 - val_mean_squared_error: 789.8969\n",
            "\n",
            "Epoch 00111: val_loss did not improve from 345.24023\n",
            "Epoch 112/500\n",
            "2/2 [==============================] - 0s 25ms/step - loss: 227.7211 - mean_squared_error: 227.7211 - val_loss: 625.2016 - val_mean_squared_error: 625.2016\n",
            "\n",
            "Epoch 00112: val_loss did not improve from 345.24023\n",
            "Epoch 113/500\n",
            "2/2 [==============================] - 0s 25ms/step - loss: 212.2650 - mean_squared_error: 212.2650 - val_loss: 823.0319 - val_mean_squared_error: 823.0319\n",
            "\n",
            "Epoch 00113: val_loss did not improve from 345.24023\n",
            "Epoch 114/500\n",
            "2/2 [==============================] - 0s 23ms/step - loss: 240.4520 - mean_squared_error: 240.4520 - val_loss: 560.5750 - val_mean_squared_error: 560.5750\n",
            "\n",
            "Epoch 00114: val_loss did not improve from 345.24023\n",
            "Epoch 115/500\n",
            "2/2 [==============================] - 0s 40ms/step - loss: 240.4611 - mean_squared_error: 240.4611 - val_loss: 451.0487 - val_mean_squared_error: 451.0487\n",
            "\n",
            "Epoch 00115: val_loss did not improve from 345.24023\n",
            "Epoch 116/500\n",
            "2/2 [==============================] - 0s 21ms/step - loss: 235.7362 - mean_squared_error: 235.7362 - val_loss: 923.9899 - val_mean_squared_error: 923.9899\n",
            "\n",
            "Epoch 00116: val_loss did not improve from 345.24023\n",
            "Epoch 117/500\n",
            "2/2 [==============================] - 0s 20ms/step - loss: 242.7318 - mean_squared_error: 242.7318 - val_loss: 687.2537 - val_mean_squared_error: 687.2537\n",
            "\n",
            "Epoch 00117: val_loss did not improve from 345.24023\n",
            "Epoch 118/500\n",
            "2/2 [==============================] - 0s 22ms/step - loss: 242.8043 - mean_squared_error: 242.8043 - val_loss: 517.1270 - val_mean_squared_error: 517.1270\n",
            "\n",
            "Epoch 00118: val_loss did not improve from 345.24023\n",
            "Epoch 119/500\n",
            "2/2 [==============================] - 0s 21ms/step - loss: 225.2974 - mean_squared_error: 225.2974 - val_loss: 820.7939 - val_mean_squared_error: 820.7939\n",
            "\n",
            "Epoch 00119: val_loss did not improve from 345.24023\n",
            "Epoch 120/500\n",
            "2/2 [==============================] - 0s 23ms/step - loss: 222.8660 - mean_squared_error: 222.8660 - val_loss: 691.3021 - val_mean_squared_error: 691.3021\n",
            "\n",
            "Epoch 00120: val_loss did not improve from 345.24023\n",
            "Epoch 121/500\n",
            "2/2 [==============================] - 0s 21ms/step - loss: 211.7516 - mean_squared_error: 211.7516 - val_loss: 515.8661 - val_mean_squared_error: 515.8661\n",
            "\n",
            "Epoch 00121: val_loss did not improve from 345.24023\n",
            "Epoch 122/500\n",
            "2/2 [==============================] - 0s 40ms/step - loss: 221.5072 - mean_squared_error: 221.5072 - val_loss: 692.1794 - val_mean_squared_error: 692.1794\n",
            "\n",
            "Epoch 00122: val_loss did not improve from 345.24023\n",
            "Epoch 123/500\n",
            "2/2 [==============================] - 0s 22ms/step - loss: 212.3889 - mean_squared_error: 212.3889 - val_loss: 881.3969 - val_mean_squared_error: 881.3969\n",
            "\n",
            "Epoch 00123: val_loss did not improve from 345.24023\n",
            "Epoch 124/500\n",
            "2/2 [==============================] - 0s 22ms/step - loss: 222.2242 - mean_squared_error: 222.2242 - val_loss: 586.9824 - val_mean_squared_error: 586.9824\n",
            "\n",
            "Epoch 00124: val_loss did not improve from 345.24023\n",
            "Epoch 125/500\n",
            "2/2 [==============================] - 0s 41ms/step - loss: 213.1524 - mean_squared_error: 213.1524 - val_loss: 472.1118 - val_mean_squared_error: 472.1118\n",
            "\n",
            "Epoch 00125: val_loss did not improve from 345.24023\n",
            "Epoch 126/500\n",
            "2/2 [==============================] - 0s 23ms/step - loss: 238.5531 - mean_squared_error: 238.5531 - val_loss: 728.0509 - val_mean_squared_error: 728.0509\n",
            "\n",
            "Epoch 00126: val_loss did not improve from 345.24023\n",
            "Epoch 127/500\n",
            "2/2 [==============================] - 0s 40ms/step - loss: 204.5319 - mean_squared_error: 204.5319 - val_loss: 994.6624 - val_mean_squared_error: 994.6624\n",
            "\n",
            "Epoch 00127: val_loss did not improve from 345.24023\n",
            "Epoch 128/500\n",
            "2/2 [==============================] - 0s 29ms/step - loss: 234.6037 - mean_squared_error: 234.6037 - val_loss: 681.3130 - val_mean_squared_error: 681.3130\n",
            "\n",
            "Epoch 00128: val_loss did not improve from 345.24023\n",
            "Epoch 129/500\n",
            "2/2 [==============================] - 0s 26ms/step - loss: 208.4951 - mean_squared_error: 208.4951 - val_loss: 536.6824 - val_mean_squared_error: 536.6824\n",
            "\n",
            "Epoch 00129: val_loss did not improve from 345.24023\n",
            "Epoch 130/500\n",
            "2/2 [==============================] - 0s 21ms/step - loss: 227.3150 - mean_squared_error: 227.3150 - val_loss: 696.9128 - val_mean_squared_error: 696.9128\n",
            "\n",
            "Epoch 00130: val_loss did not improve from 345.24023\n",
            "Epoch 131/500\n",
            "2/2 [==============================] - 0s 29ms/step - loss: 208.9390 - mean_squared_error: 208.9390 - val_loss: 690.3177 - val_mean_squared_error: 690.3177\n",
            "\n",
            "Epoch 00131: val_loss did not improve from 345.24023\n",
            "Epoch 132/500\n",
            "2/2 [==============================] - 0s 21ms/step - loss: 200.2862 - mean_squared_error: 200.2862 - val_loss: 594.8412 - val_mean_squared_error: 594.8412\n",
            "\n",
            "Epoch 00132: val_loss did not improve from 345.24023\n",
            "Epoch 133/500\n",
            "2/2 [==============================] - 0s 22ms/step - loss: 212.8503 - mean_squared_error: 212.8503 - val_loss: 754.0610 - val_mean_squared_error: 754.0610\n",
            "\n",
            "Epoch 00133: val_loss did not improve from 345.24023\n",
            "Epoch 134/500\n",
            "2/2 [==============================] - 0s 20ms/step - loss: 202.8162 - mean_squared_error: 202.8162 - val_loss: 957.7504 - val_mean_squared_error: 957.7504\n",
            "\n",
            "Epoch 00134: val_loss did not improve from 345.24023\n",
            "Epoch 135/500\n",
            "2/2 [==============================] - 0s 22ms/step - loss: 220.3412 - mean_squared_error: 220.3412 - val_loss: 677.7418 - val_mean_squared_error: 677.7418\n",
            "\n",
            "Epoch 00135: val_loss did not improve from 345.24023\n",
            "Epoch 136/500\n",
            "2/2 [==============================] - 0s 24ms/step - loss: 203.4791 - mean_squared_error: 203.4791 - val_loss: 697.4697 - val_mean_squared_error: 697.4697\n",
            "\n",
            "Epoch 00136: val_loss did not improve from 345.24023\n",
            "Epoch 137/500\n",
            "2/2 [==============================] - 0s 30ms/step - loss: 195.1546 - mean_squared_error: 195.1546 - val_loss: 869.8796 - val_mean_squared_error: 869.8796\n",
            "\n",
            "Epoch 00137: val_loss did not improve from 345.24023\n",
            "Epoch 138/500\n",
            "2/2 [==============================] - 0s 22ms/step - loss: 214.2916 - mean_squared_error: 214.2916 - val_loss: 696.9128 - val_mean_squared_error: 696.9128\n",
            "\n",
            "Epoch 00138: val_loss did not improve from 345.24023\n",
            "Epoch 139/500\n",
            "2/2 [==============================] - 0s 20ms/step - loss: 191.0150 - mean_squared_error: 191.0150 - val_loss: 508.8345 - val_mean_squared_error: 508.8345\n",
            "\n",
            "Epoch 00139: val_loss did not improve from 345.24023\n",
            "Epoch 140/500\n",
            "2/2 [==============================] - 0s 21ms/step - loss: 219.4062 - mean_squared_error: 219.4062 - val_loss: 800.3304 - val_mean_squared_error: 800.3304\n",
            "\n",
            "Epoch 00140: val_loss did not improve from 345.24023\n",
            "Epoch 141/500\n",
            "2/2 [==============================] - 0s 21ms/step - loss: 192.5169 - mean_squared_error: 192.5169 - val_loss: 1073.1810 - val_mean_squared_error: 1073.1810\n",
            "\n",
            "Epoch 00141: val_loss did not improve from 345.24023\n",
            "Epoch 142/500\n",
            "2/2 [==============================] - 0s 22ms/step - loss: 236.1285 - mean_squared_error: 236.1285 - val_loss: 783.6659 - val_mean_squared_error: 783.6659\n",
            "\n",
            "Epoch 00142: val_loss did not improve from 345.24023\n",
            "Epoch 143/500\n",
            "2/2 [==============================] - 0s 22ms/step - loss: 189.1291 - mean_squared_error: 189.1291 - val_loss: 642.9145 - val_mean_squared_error: 642.9145\n",
            "\n",
            "Epoch 00143: val_loss did not improve from 345.24023\n",
            "Epoch 144/500\n",
            "2/2 [==============================] - 0s 23ms/step - loss: 190.7637 - mean_squared_error: 190.7637 - val_loss: 722.7188 - val_mean_squared_error: 722.7188\n",
            "\n",
            "Epoch 00144: val_loss did not improve from 345.24023\n",
            "Epoch 145/500\n",
            "2/2 [==============================] - 0s 23ms/step - loss: 203.6181 - mean_squared_error: 203.6181 - val_loss: 665.1956 - val_mean_squared_error: 665.1956\n",
            "\n",
            "Epoch 00145: val_loss did not improve from 345.24023\n",
            "Epoch 146/500\n",
            "2/2 [==============================] - 0s 22ms/step - loss: 190.2530 - mean_squared_error: 190.2530 - val_loss: 610.2397 - val_mean_squared_error: 610.2397\n",
            "\n",
            "Epoch 00146: val_loss did not improve from 345.24023\n",
            "Epoch 147/500\n",
            "2/2 [==============================] - 0s 29ms/step - loss: 196.2404 - mean_squared_error: 196.2404 - val_loss: 799.2653 - val_mean_squared_error: 799.2653\n",
            "\n",
            "Epoch 00147: val_loss did not improve from 345.24023\n",
            "Epoch 148/500\n",
            "2/2 [==============================] - 0s 23ms/step - loss: 190.6144 - mean_squared_error: 190.6144 - val_loss: 713.3113 - val_mean_squared_error: 713.3113\n",
            "\n",
            "Epoch 00148: val_loss did not improve from 345.24023\n",
            "Epoch 149/500\n",
            "2/2 [==============================] - 0s 24ms/step - loss: 187.3211 - mean_squared_error: 187.3211 - val_loss: 660.1788 - val_mean_squared_error: 660.1788\n",
            "\n",
            "Epoch 00149: val_loss did not improve from 345.24023\n",
            "Epoch 150/500\n",
            "2/2 [==============================] - 0s 27ms/step - loss: 180.5093 - mean_squared_error: 180.5093 - val_loss: 561.6487 - val_mean_squared_error: 561.6487\n",
            "\n",
            "Epoch 00150: val_loss did not improve from 345.24023\n",
            "Epoch 151/500\n",
            "2/2 [==============================] - 0s 22ms/step - loss: 204.3099 - mean_squared_error: 204.3099 - val_loss: 667.1364 - val_mean_squared_error: 667.1364\n",
            "\n",
            "Epoch 00151: val_loss did not improve from 345.24023\n",
            "Epoch 152/500\n",
            "2/2 [==============================] - 0s 22ms/step - loss: 176.9147 - mean_squared_error: 176.9147 - val_loss: 556.0972 - val_mean_squared_error: 556.0972\n",
            "\n",
            "Epoch 00152: val_loss did not improve from 345.24023\n",
            "Epoch 153/500\n",
            "2/2 [==============================] - 0s 23ms/step - loss: 184.4835 - mean_squared_error: 184.4835 - val_loss: 773.4855 - val_mean_squared_error: 773.4855\n",
            "\n",
            "Epoch 00153: val_loss did not improve from 345.24023\n",
            "Epoch 154/500\n",
            "2/2 [==============================] - 0s 25ms/step - loss: 178.5960 - mean_squared_error: 178.5960 - val_loss: 597.5254 - val_mean_squared_error: 597.5254\n",
            "\n",
            "Epoch 00154: val_loss did not improve from 345.24023\n",
            "Epoch 155/500\n",
            "2/2 [==============================] - 0s 23ms/step - loss: 175.3412 - mean_squared_error: 175.3412 - val_loss: 581.7872 - val_mean_squared_error: 581.7872\n",
            "\n",
            "Epoch 00155: val_loss did not improve from 345.24023\n",
            "Epoch 156/500\n",
            "2/2 [==============================] - 0s 25ms/step - loss: 172.9685 - mean_squared_error: 172.9685 - val_loss: 706.0646 - val_mean_squared_error: 706.0646\n",
            "\n",
            "Epoch 00156: val_loss did not improve from 345.24023\n",
            "Epoch 157/500\n",
            "2/2 [==============================] - 0s 23ms/step - loss: 174.5385 - mean_squared_error: 174.5385 - val_loss: 512.7043 - val_mean_squared_error: 512.7043\n",
            "\n",
            "Epoch 00157: val_loss did not improve from 345.24023\n",
            "Epoch 158/500\n",
            "2/2 [==============================] - 0s 23ms/step - loss: 180.9107 - mean_squared_error: 180.9107 - val_loss: 577.8724 - val_mean_squared_error: 577.8724\n",
            "\n",
            "Epoch 00158: val_loss did not improve from 345.24023\n",
            "Epoch 159/500\n",
            "2/2 [==============================] - 0s 22ms/step - loss: 172.1493 - mean_squared_error: 172.1493 - val_loss: 986.0297 - val_mean_squared_error: 986.0297\n",
            "\n",
            "Epoch 00159: val_loss did not improve from 345.24023\n",
            "Epoch 160/500\n",
            "2/2 [==============================] - 0s 23ms/step - loss: 200.5192 - mean_squared_error: 200.5192 - val_loss: 427.4601 - val_mean_squared_error: 427.4601\n",
            "\n",
            "Epoch 00160: val_loss did not improve from 345.24023\n",
            "Epoch 161/500\n",
            "2/2 [==============================] - 0s 21ms/step - loss: 226.4815 - mean_squared_error: 226.4815 - val_loss: 1084.6515 - val_mean_squared_error: 1084.6515\n",
            "\n",
            "Epoch 00161: val_loss did not improve from 345.24023\n",
            "Epoch 162/500\n",
            "2/2 [==============================] - 0s 26ms/step - loss: 239.1163 - mean_squared_error: 239.1163 - val_loss: 578.3382 - val_mean_squared_error: 578.3382\n",
            "\n",
            "Epoch 00162: val_loss did not improve from 345.24023\n",
            "Epoch 163/500\n",
            "2/2 [==============================] - 0s 20ms/step - loss: 195.1416 - mean_squared_error: 195.1416 - val_loss: 367.1369 - val_mean_squared_error: 367.1369\n",
            "\n",
            "Epoch 00163: val_loss did not improve from 345.24023\n",
            "Epoch 164/500\n",
            "2/2 [==============================] - 0s 21ms/step - loss: 201.9046 - mean_squared_error: 201.9046 - val_loss: 937.7627 - val_mean_squared_error: 937.7627\n",
            "\n",
            "Epoch 00164: val_loss did not improve from 345.24023\n",
            "Epoch 165/500\n",
            "2/2 [==============================] - 0s 30ms/step - loss: 216.5203 - mean_squared_error: 216.5203 - val_loss: 368.6819 - val_mean_squared_error: 368.6819\n",
            "\n",
            "Epoch 00165: val_loss did not improve from 345.24023\n",
            "Epoch 166/500\n",
            "2/2 [==============================] - 0s 33ms/step - loss: 223.3284 - mean_squared_error: 223.3284 - val_loss: 594.4572 - val_mean_squared_error: 594.4572\n",
            "\n",
            "Epoch 00166: val_loss did not improve from 345.24023\n",
            "Epoch 167/500\n",
            "2/2 [==============================] - 0s 25ms/step - loss: 214.0620 - mean_squared_error: 214.0620 - val_loss: 828.1700 - val_mean_squared_error: 828.1700\n",
            "\n",
            "Epoch 00167: val_loss did not improve from 345.24023\n",
            "Epoch 168/500\n",
            "2/2 [==============================] - 0s 26ms/step - loss: 220.2028 - mean_squared_error: 220.2028 - val_loss: 483.5337 - val_mean_squared_error: 483.5337\n",
            "\n",
            "Epoch 00168: val_loss did not improve from 345.24023\n",
            "Epoch 169/500\n",
            "2/2 [==============================] - 0s 23ms/step - loss: 178.5223 - mean_squared_error: 178.5223 - val_loss: 749.2043 - val_mean_squared_error: 749.2043\n",
            "\n",
            "Epoch 00169: val_loss did not improve from 345.24023\n",
            "Epoch 170/500\n",
            "2/2 [==============================] - 0s 25ms/step - loss: 187.4231 - mean_squared_error: 187.4231 - val_loss: 741.8116 - val_mean_squared_error: 741.8116\n",
            "\n",
            "Epoch 00170: val_loss did not improve from 345.24023\n",
            "Epoch 171/500\n",
            "2/2 [==============================] - 0s 22ms/step - loss: 182.1044 - mean_squared_error: 182.1044 - val_loss: 467.4386 - val_mean_squared_error: 467.4386\n",
            "\n",
            "Epoch 00171: val_loss did not improve from 345.24023\n",
            "Epoch 172/500\n",
            "2/2 [==============================] - 0s 21ms/step - loss: 179.9565 - mean_squared_error: 179.9565 - val_loss: 558.1336 - val_mean_squared_error: 558.1336\n",
            "\n",
            "Epoch 00172: val_loss did not improve from 345.24023\n",
            "Epoch 173/500\n",
            "2/2 [==============================] - 0s 22ms/step - loss: 180.5120 - mean_squared_error: 180.5120 - val_loss: 709.6215 - val_mean_squared_error: 709.6215\n",
            "\n",
            "Epoch 00173: val_loss did not improve from 345.24023\n",
            "Epoch 174/500\n",
            "2/2 [==============================] - 0s 25ms/step - loss: 181.9373 - mean_squared_error: 181.9373 - val_loss: 508.4948 - val_mean_squared_error: 508.4948\n",
            "\n",
            "Epoch 00174: val_loss did not improve from 345.24023\n",
            "Epoch 175/500\n",
            "2/2 [==============================] - 0s 26ms/step - loss: 170.5964 - mean_squared_error: 170.5964 - val_loss: 638.9439 - val_mean_squared_error: 638.9439\n",
            "\n",
            "Epoch 00175: val_loss did not improve from 345.24023\n",
            "Epoch 176/500\n",
            "2/2 [==============================] - 0s 24ms/step - loss: 170.9437 - mean_squared_error: 170.9437 - val_loss: 662.4343 - val_mean_squared_error: 662.4343\n",
            "\n",
            "Epoch 00176: val_loss did not improve from 345.24023\n",
            "Epoch 177/500\n",
            "2/2 [==============================] - 0s 24ms/step - loss: 164.7017 - mean_squared_error: 164.7017 - val_loss: 571.9047 - val_mean_squared_error: 571.9047\n",
            "\n",
            "Epoch 00177: val_loss did not improve from 345.24023\n",
            "Epoch 178/500\n",
            "2/2 [==============================] - 0s 22ms/step - loss: 175.6113 - mean_squared_error: 175.6113 - val_loss: 614.8938 - val_mean_squared_error: 614.8938\n",
            "\n",
            "Epoch 00178: val_loss did not improve from 345.24023\n",
            "Epoch 179/500\n",
            "2/2 [==============================] - 0s 24ms/step - loss: 160.7091 - mean_squared_error: 160.7091 - val_loss: 559.8168 - val_mean_squared_error: 559.8168\n",
            "\n",
            "Epoch 00179: val_loss did not improve from 345.24023\n",
            "Epoch 180/500\n",
            "2/2 [==============================] - 0s 24ms/step - loss: 157.8488 - mean_squared_error: 157.8488 - val_loss: 706.6104 - val_mean_squared_error: 706.6104\n",
            "\n",
            "Epoch 00180: val_loss did not improve from 345.24023\n",
            "Epoch 181/500\n",
            "2/2 [==============================] - 0s 24ms/step - loss: 157.3316 - mean_squared_error: 157.3316 - val_loss: 599.9529 - val_mean_squared_error: 599.9529\n",
            "\n",
            "Epoch 00181: val_loss did not improve from 345.24023\n",
            "Epoch 182/500\n",
            "2/2 [==============================] - 0s 24ms/step - loss: 150.9908 - mean_squared_error: 150.9908 - val_loss: 673.9554 - val_mean_squared_error: 673.9554\n",
            "\n",
            "Epoch 00182: val_loss did not improve from 345.24023\n",
            "Epoch 183/500\n",
            "2/2 [==============================] - 0s 23ms/step - loss: 155.1458 - mean_squared_error: 155.1458 - val_loss: 704.6604 - val_mean_squared_error: 704.6604\n",
            "\n",
            "Epoch 00183: val_loss did not improve from 345.24023\n",
            "Epoch 184/500\n",
            "2/2 [==============================] - 0s 24ms/step - loss: 153.7420 - mean_squared_error: 153.7420 - val_loss: 444.6932 - val_mean_squared_error: 444.6932\n",
            "\n",
            "Epoch 00184: val_loss did not improve from 345.24023\n",
            "Epoch 185/500\n",
            "2/2 [==============================] - 0s 33ms/step - loss: 162.7391 - mean_squared_error: 162.7391 - val_loss: 842.3113 - val_mean_squared_error: 842.3113\n",
            "\n",
            "Epoch 00185: val_loss did not improve from 345.24023\n",
            "Epoch 186/500\n",
            "2/2 [==============================] - 0s 24ms/step - loss: 175.1844 - mean_squared_error: 175.1844 - val_loss: 472.8055 - val_mean_squared_error: 472.8055\n",
            "\n",
            "Epoch 00186: val_loss did not improve from 345.24023\n",
            "Epoch 187/500\n",
            "2/2 [==============================] - 0s 28ms/step - loss: 193.0402 - mean_squared_error: 193.0402 - val_loss: 673.3177 - val_mean_squared_error: 673.3177\n",
            "\n",
            "Epoch 00187: val_loss did not improve from 345.24023\n",
            "Epoch 188/500\n",
            "2/2 [==============================] - 0s 27ms/step - loss: 194.1086 - mean_squared_error: 194.1086 - val_loss: 612.2255 - val_mean_squared_error: 612.2255\n",
            "\n",
            "Epoch 00188: val_loss did not improve from 345.24023\n",
            "Epoch 189/500\n",
            "2/2 [==============================] - 0s 27ms/step - loss: 153.5814 - mean_squared_error: 153.5814 - val_loss: 312.3711 - val_mean_squared_error: 312.3711\n",
            "\n",
            "Epoch 00189: val_loss improved from 345.24023 to 312.37106, saving model to Weights-189--312.37106.hdf5\n",
            "Epoch 190/500\n",
            "2/2 [==============================] - 0s 22ms/step - loss: 193.2218 - mean_squared_error: 193.2218 - val_loss: 772.5273 - val_mean_squared_error: 772.5273\n",
            "\n",
            "Epoch 00190: val_loss did not improve from 312.37106\n",
            "Epoch 191/500\n",
            "2/2 [==============================] - 0s 24ms/step - loss: 187.7121 - mean_squared_error: 187.7121 - val_loss: 566.3081 - val_mean_squared_error: 566.3081\n",
            "\n",
            "Epoch 00191: val_loss did not improve from 312.37106\n",
            "Epoch 192/500\n",
            "2/2 [==============================] - 0s 23ms/step - loss: 144.9142 - mean_squared_error: 144.9142 - val_loss: 442.3747 - val_mean_squared_error: 442.3747\n",
            "\n",
            "Epoch 00192: val_loss did not improve from 312.37106\n",
            "Epoch 193/500\n",
            "2/2 [==============================] - 0s 26ms/step - loss: 143.1126 - mean_squared_error: 143.1126 - val_loss: 471.8189 - val_mean_squared_error: 471.8189\n",
            "\n",
            "Epoch 00193: val_loss did not improve from 312.37106\n",
            "Epoch 194/500\n",
            "2/2 [==============================] - 0s 22ms/step - loss: 147.2079 - mean_squared_error: 147.2079 - val_loss: 476.7012 - val_mean_squared_error: 476.7012\n",
            "\n",
            "Epoch 00194: val_loss did not improve from 312.37106\n",
            "Epoch 195/500\n",
            "2/2 [==============================] - 0s 23ms/step - loss: 139.9577 - mean_squared_error: 139.9577 - val_loss: 428.0027 - val_mean_squared_error: 428.0027\n",
            "\n",
            "Epoch 00195: val_loss did not improve from 312.37106\n",
            "Epoch 196/500\n",
            "2/2 [==============================] - 0s 23ms/step - loss: 139.5107 - mean_squared_error: 139.5107 - val_loss: 515.7695 - val_mean_squared_error: 515.7695\n",
            "\n",
            "Epoch 00196: val_loss did not improve from 312.37106\n",
            "Epoch 197/500\n",
            "2/2 [==============================] - 0s 27ms/step - loss: 136.5025 - mean_squared_error: 136.5025 - val_loss: 413.3576 - val_mean_squared_error: 413.3576\n",
            "\n",
            "Epoch 00197: val_loss did not improve from 312.37106\n",
            "Epoch 198/500\n",
            "2/2 [==============================] - 0s 23ms/step - loss: 128.0310 - mean_squared_error: 128.0310 - val_loss: 530.2523 - val_mean_squared_error: 530.2523\n",
            "\n",
            "Epoch 00198: val_loss did not improve from 312.37106\n",
            "Epoch 199/500\n",
            "2/2 [==============================] - 0s 22ms/step - loss: 137.5179 - mean_squared_error: 137.5179 - val_loss: 478.4022 - val_mean_squared_error: 478.4022\n",
            "\n",
            "Epoch 00199: val_loss did not improve from 312.37106\n",
            "Epoch 200/500\n",
            "2/2 [==============================] - 0s 27ms/step - loss: 126.3282 - mean_squared_error: 126.3282 - val_loss: 307.4318 - val_mean_squared_error: 307.4318\n",
            "\n",
            "Epoch 00200: val_loss improved from 312.37106 to 307.43176, saving model to Weights-200--307.43176.hdf5\n",
            "Epoch 201/500\n",
            "2/2 [==============================] - 0s 24ms/step - loss: 127.0282 - mean_squared_error: 127.0282 - val_loss: 339.7728 - val_mean_squared_error: 339.7728\n",
            "\n",
            "Epoch 00201: val_loss did not improve from 307.43176\n",
            "Epoch 202/500\n",
            "2/2 [==============================] - 0s 28ms/step - loss: 123.8413 - mean_squared_error: 123.8413 - val_loss: 287.8902 - val_mean_squared_error: 287.8902\n",
            "\n",
            "Epoch 00202: val_loss improved from 307.43176 to 287.89017, saving model to Weights-202--287.89017.hdf5\n",
            "Epoch 203/500\n",
            "2/2 [==============================] - 0s 24ms/step - loss: 123.1785 - mean_squared_error: 123.1785 - val_loss: 414.6483 - val_mean_squared_error: 414.6483\n",
            "\n",
            "Epoch 00203: val_loss did not improve from 287.89017\n",
            "Epoch 204/500\n",
            "2/2 [==============================] - 0s 31ms/step - loss: 126.3593 - mean_squared_error: 126.3593 - val_loss: 223.6754 - val_mean_squared_error: 223.6754\n",
            "\n",
            "Epoch 00204: val_loss improved from 287.89017 to 223.67537, saving model to Weights-204--223.67537.hdf5\n",
            "Epoch 205/500\n",
            "2/2 [==============================] - 0s 27ms/step - loss: 132.3473 - mean_squared_error: 132.3473 - val_loss: 523.1321 - val_mean_squared_error: 523.1321\n",
            "\n",
            "Epoch 00205: val_loss did not improve from 223.67537\n",
            "Epoch 206/500\n",
            "2/2 [==============================] - 0s 30ms/step - loss: 145.4495 - mean_squared_error: 145.4495 - val_loss: 263.0055 - val_mean_squared_error: 263.0055\n",
            "\n",
            "Epoch 00206: val_loss did not improve from 223.67537\n",
            "Epoch 207/500\n",
            "2/2 [==============================] - 0s 28ms/step - loss: 123.8053 - mean_squared_error: 123.8053 - val_loss: 473.6387 - val_mean_squared_error: 473.6387\n",
            "\n",
            "Epoch 00207: val_loss did not improve from 223.67537\n",
            "Epoch 208/500\n",
            "2/2 [==============================] - 0s 25ms/step - loss: 142.9368 - mean_squared_error: 142.9368 - val_loss: 128.5721 - val_mean_squared_error: 128.5721\n",
            "\n",
            "Epoch 00208: val_loss improved from 223.67537 to 128.57208, saving model to Weights-208--128.57208.hdf5\n",
            "Epoch 209/500\n",
            "2/2 [==============================] - 0s 46ms/step - loss: 173.2421 - mean_squared_error: 173.2421 - val_loss: 364.9126 - val_mean_squared_error: 364.9126\n",
            "\n",
            "Epoch 00209: val_loss did not improve from 128.57208\n",
            "Epoch 210/500\n",
            "2/2 [==============================] - 0s 24ms/step - loss: 142.4129 - mean_squared_error: 142.4129 - val_loss: 126.6316 - val_mean_squared_error: 126.6316\n",
            "\n",
            "Epoch 00210: val_loss improved from 128.57208 to 126.63161, saving model to Weights-210--126.63161.hdf5\n",
            "Epoch 211/500\n",
            "2/2 [==============================] - 0s 22ms/step - loss: 132.3597 - mean_squared_error: 132.3597 - val_loss: 460.0056 - val_mean_squared_error: 460.0056\n",
            "\n",
            "Epoch 00211: val_loss did not improve from 126.63161\n",
            "Epoch 212/500\n",
            "2/2 [==============================] - 0s 27ms/step - loss: 143.9620 - mean_squared_error: 143.9620 - val_loss: 352.1460 - val_mean_squared_error: 352.1460\n",
            "\n",
            "Epoch 00212: val_loss did not improve from 126.63161\n",
            "Epoch 213/500\n",
            "2/2 [==============================] - 0s 21ms/step - loss: 115.6358 - mean_squared_error: 115.6358 - val_loss: 136.9206 - val_mean_squared_error: 136.9206\n",
            "\n",
            "Epoch 00213: val_loss did not improve from 126.63161\n",
            "Epoch 214/500\n",
            "2/2 [==============================] - 0s 32ms/step - loss: 137.1510 - mean_squared_error: 137.1510 - val_loss: 322.1121 - val_mean_squared_error: 322.1121\n",
            "\n",
            "Epoch 00214: val_loss did not improve from 126.63161\n",
            "Epoch 215/500\n",
            "2/2 [==============================] - 0s 25ms/step - loss: 147.9326 - mean_squared_error: 147.9326 - val_loss: 110.0440 - val_mean_squared_error: 110.0440\n",
            "\n",
            "Epoch 00215: val_loss improved from 126.63161 to 110.04398, saving model to Weights-215--110.04398.hdf5\n",
            "Epoch 216/500\n",
            "2/2 [==============================] - 0s 42ms/step - loss: 189.7591 - mean_squared_error: 189.7591 - val_loss: 530.0593 - val_mean_squared_error: 530.0593\n",
            "\n",
            "Epoch 00216: val_loss did not improve from 110.04398\n",
            "Epoch 217/500\n",
            "2/2 [==============================] - 0s 23ms/step - loss: 182.3059 - mean_squared_error: 182.3059 - val_loss: 222.1690 - val_mean_squared_error: 222.1690\n",
            "\n",
            "Epoch 00217: val_loss did not improve from 110.04398\n",
            "Epoch 218/500\n",
            "2/2 [==============================] - 0s 23ms/step - loss: 130.8087 - mean_squared_error: 130.8087 - val_loss: 221.1215 - val_mean_squared_error: 221.1215\n",
            "\n",
            "Epoch 00218: val_loss did not improve from 110.04398\n",
            "Epoch 219/500\n",
            "2/2 [==============================] - 0s 28ms/step - loss: 121.6966 - mean_squared_error: 121.6966 - val_loss: 398.3666 - val_mean_squared_error: 398.3666\n",
            "\n",
            "Epoch 00219: val_loss did not improve from 110.04398\n",
            "Epoch 220/500\n",
            "2/2 [==============================] - 0s 23ms/step - loss: 131.1052 - mean_squared_error: 131.1052 - val_loss: 140.0731 - val_mean_squared_error: 140.0731\n",
            "\n",
            "Epoch 00220: val_loss did not improve from 110.04398\n",
            "Epoch 221/500\n",
            "2/2 [==============================] - 0s 22ms/step - loss: 131.1359 - mean_squared_error: 131.1359 - val_loss: 454.9878 - val_mean_squared_error: 454.9878\n",
            "\n",
            "Epoch 00221: val_loss did not improve from 110.04398\n",
            "Epoch 222/500\n",
            "2/2 [==============================] - 0s 23ms/step - loss: 141.2133 - mean_squared_error: 141.2133 - val_loss: 149.0800 - val_mean_squared_error: 149.0800\n",
            "\n",
            "Epoch 00222: val_loss did not improve from 110.04398\n",
            "Epoch 223/500\n",
            "2/2 [==============================] - 0s 24ms/step - loss: 127.3900 - mean_squared_error: 127.3900 - val_loss: 218.2008 - val_mean_squared_error: 218.2008\n",
            "\n",
            "Epoch 00223: val_loss did not improve from 110.04398\n",
            "Epoch 224/500\n",
            "2/2 [==============================] - 0s 23ms/step - loss: 128.7129 - mean_squared_error: 128.7129 - val_loss: 280.2013 - val_mean_squared_error: 280.2013\n",
            "\n",
            "Epoch 00224: val_loss did not improve from 110.04398\n",
            "Epoch 225/500\n",
            "2/2 [==============================] - 0s 22ms/step - loss: 143.3408 - mean_squared_error: 143.3408 - val_loss: 213.1151 - val_mean_squared_error: 213.1151\n",
            "\n",
            "Epoch 00225: val_loss did not improve from 110.04398\n",
            "Epoch 226/500\n",
            "2/2 [==============================] - 0s 24ms/step - loss: 97.2946 - mean_squared_error: 97.2946 - val_loss: 493.8823 - val_mean_squared_error: 493.8823\n",
            "\n",
            "Epoch 00226: val_loss did not improve from 110.04398\n",
            "Epoch 227/500\n",
            "2/2 [==============================] - 0s 23ms/step - loss: 135.8779 - mean_squared_error: 135.8779 - val_loss: 143.5181 - val_mean_squared_error: 143.5181\n",
            "\n",
            "Epoch 00227: val_loss did not improve from 110.04398\n",
            "Epoch 228/500\n",
            "2/2 [==============================] - 0s 26ms/step - loss: 143.6717 - mean_squared_error: 143.6717 - val_loss: 388.4061 - val_mean_squared_error: 388.4061\n",
            "\n",
            "Epoch 00228: val_loss did not improve from 110.04398\n",
            "Epoch 229/500\n",
            "2/2 [==============================] - 0s 25ms/step - loss: 126.0121 - mean_squared_error: 126.0121 - val_loss: 321.1634 - val_mean_squared_error: 321.1634\n",
            "\n",
            "Epoch 00229: val_loss did not improve from 110.04398\n",
            "Epoch 230/500\n",
            "2/2 [==============================] - 0s 29ms/step - loss: 109.8392 - mean_squared_error: 109.8392 - val_loss: 151.8527 - val_mean_squared_error: 151.8527\n",
            "\n",
            "Epoch 00230: val_loss did not improve from 110.04398\n",
            "Epoch 231/500\n",
            "2/2 [==============================] - 0s 29ms/step - loss: 116.6242 - mean_squared_error: 116.6242 - val_loss: 536.4083 - val_mean_squared_error: 536.4083\n",
            "\n",
            "Epoch 00231: val_loss did not improve from 110.04398\n",
            "Epoch 232/500\n",
            "2/2 [==============================] - 0s 28ms/step - loss: 185.7568 - mean_squared_error: 185.7568 - val_loss: 169.5168 - val_mean_squared_error: 169.5168\n",
            "\n",
            "Epoch 00232: val_loss did not improve from 110.04398\n",
            "Epoch 233/500\n",
            "2/2 [==============================] - 0s 24ms/step - loss: 143.3232 - mean_squared_error: 143.3232 - val_loss: 211.4422 - val_mean_squared_error: 211.4422\n",
            "\n",
            "Epoch 00233: val_loss did not improve from 110.04398\n",
            "Epoch 234/500\n",
            "2/2 [==============================] - 0s 24ms/step - loss: 119.6174 - mean_squared_error: 119.6174 - val_loss: 353.0036 - val_mean_squared_error: 353.0036\n",
            "\n",
            "Epoch 00234: val_loss did not improve from 110.04398\n",
            "Epoch 235/500\n",
            "2/2 [==============================] - 0s 21ms/step - loss: 111.0894 - mean_squared_error: 111.0894 - val_loss: 124.9306 - val_mean_squared_error: 124.9306\n",
            "\n",
            "Epoch 00235: val_loss did not improve from 110.04398\n",
            "Epoch 236/500\n",
            "2/2 [==============================] - 0s 46ms/step - loss: 159.3717 - mean_squared_error: 159.3717 - val_loss: 370.5538 - val_mean_squared_error: 370.5538\n",
            "\n",
            "Epoch 00236: val_loss did not improve from 110.04398\n",
            "Epoch 237/500\n",
            "2/2 [==============================] - 0s 24ms/step - loss: 120.5720 - mean_squared_error: 120.5720 - val_loss: 267.6894 - val_mean_squared_error: 267.6894\n",
            "\n",
            "Epoch 00237: val_loss did not improve from 110.04398\n",
            "Epoch 238/500\n",
            "2/2 [==============================] - 0s 23ms/step - loss: 112.3978 - mean_squared_error: 112.3978 - val_loss: 221.2631 - val_mean_squared_error: 221.2631\n",
            "\n",
            "Epoch 00238: val_loss did not improve from 110.04398\n",
            "Epoch 239/500\n",
            "2/2 [==============================] - 0s 21ms/step - loss: 104.2346 - mean_squared_error: 104.2346 - val_loss: 281.7531 - val_mean_squared_error: 281.7531\n",
            "\n",
            "Epoch 00239: val_loss did not improve from 110.04398\n",
            "Epoch 240/500\n",
            "2/2 [==============================] - 0s 31ms/step - loss: 122.4211 - mean_squared_error: 122.4211 - val_loss: 217.0207 - val_mean_squared_error: 217.0207\n",
            "\n",
            "Epoch 00240: val_loss did not improve from 110.04398\n",
            "Epoch 241/500\n",
            "2/2 [==============================] - 0s 26ms/step - loss: 97.4573 - mean_squared_error: 97.4573 - val_loss: 282.4348 - val_mean_squared_error: 282.4348\n",
            "\n",
            "Epoch 00241: val_loss did not improve from 110.04398\n",
            "Epoch 242/500\n",
            "2/2 [==============================] - 0s 28ms/step - loss: 104.7855 - mean_squared_error: 104.7855 - val_loss: 144.2671 - val_mean_squared_error: 144.2671\n",
            "\n",
            "Epoch 00242: val_loss did not improve from 110.04398\n",
            "Epoch 243/500\n",
            "2/2 [==============================] - 0s 26ms/step - loss: 101.3546 - mean_squared_error: 101.3546 - val_loss: 214.0196 - val_mean_squared_error: 214.0196\n",
            "\n",
            "Epoch 00243: val_loss did not improve from 110.04398\n",
            "Epoch 244/500\n",
            "2/2 [==============================] - 0s 29ms/step - loss: 110.3608 - mean_squared_error: 110.3608 - val_loss: 224.4335 - val_mean_squared_error: 224.4335\n",
            "\n",
            "Epoch 00244: val_loss did not improve from 110.04398\n",
            "Epoch 245/500\n",
            "2/2 [==============================] - 0s 23ms/step - loss: 123.2516 - mean_squared_error: 123.2516 - val_loss: 138.6942 - val_mean_squared_error: 138.6942\n",
            "\n",
            "Epoch 00245: val_loss did not improve from 110.04398\n",
            "Epoch 246/500\n",
            "2/2 [==============================] - 0s 23ms/step - loss: 119.8134 - mean_squared_error: 119.8134 - val_loss: 149.9816 - val_mean_squared_error: 149.9816\n",
            "\n",
            "Epoch 00246: val_loss did not improve from 110.04398\n",
            "Epoch 247/500\n",
            "2/2 [==============================] - 0s 27ms/step - loss: 95.6608 - mean_squared_error: 95.6608 - val_loss: 294.9365 - val_mean_squared_error: 294.9365\n",
            "\n",
            "Epoch 00247: val_loss did not improve from 110.04398\n",
            "Epoch 248/500\n",
            "2/2 [==============================] - 0s 28ms/step - loss: 95.4198 - mean_squared_error: 95.4198 - val_loss: 112.5063 - val_mean_squared_error: 112.5063\n",
            "\n",
            "Epoch 00248: val_loss did not improve from 110.04398\n",
            "Epoch 249/500\n",
            "2/2 [==============================] - 0s 24ms/step - loss: 128.0903 - mean_squared_error: 128.0903 - val_loss: 258.1362 - val_mean_squared_error: 258.1362\n",
            "\n",
            "Epoch 00249: val_loss did not improve from 110.04398\n",
            "Epoch 250/500\n",
            "2/2 [==============================] - 0s 23ms/step - loss: 96.1368 - mean_squared_error: 96.1368 - val_loss: 247.8913 - val_mean_squared_error: 247.8913\n",
            "\n",
            "Epoch 00250: val_loss did not improve from 110.04398\n",
            "Epoch 251/500\n",
            "2/2 [==============================] - 0s 29ms/step - loss: 87.3697 - mean_squared_error: 87.3697 - val_loss: 116.5540 - val_mean_squared_error: 116.5540\n",
            "\n",
            "Epoch 00251: val_loss did not improve from 110.04398\n",
            "Epoch 252/500\n",
            "2/2 [==============================] - 0s 43ms/step - loss: 114.9487 - mean_squared_error: 114.9487 - val_loss: 215.0016 - val_mean_squared_error: 215.0016\n",
            "\n",
            "Epoch 00252: val_loss did not improve from 110.04398\n",
            "Epoch 253/500\n",
            "2/2 [==============================] - 0s 32ms/step - loss: 89.1161 - mean_squared_error: 89.1161 - val_loss: 162.5309 - val_mean_squared_error: 162.5309\n",
            "\n",
            "Epoch 00253: val_loss did not improve from 110.04398\n",
            "Epoch 254/500\n",
            "2/2 [==============================] - 0s 22ms/step - loss: 105.7145 - mean_squared_error: 105.7145 - val_loss: 259.0949 - val_mean_squared_error: 259.0949\n",
            "\n",
            "Epoch 00254: val_loss did not improve from 110.04398\n",
            "Epoch 255/500\n",
            "2/2 [==============================] - 0s 26ms/step - loss: 124.8333 - mean_squared_error: 124.8333 - val_loss: 126.6058 - val_mean_squared_error: 126.6058\n",
            "\n",
            "Epoch 00255: val_loss did not improve from 110.04398\n",
            "Epoch 256/500\n",
            "2/2 [==============================] - 0s 26ms/step - loss: 176.6095 - mean_squared_error: 176.6095 - val_loss: 274.0830 - val_mean_squared_error: 274.0830\n",
            "\n",
            "Epoch 00256: val_loss did not improve from 110.04398\n",
            "Epoch 257/500\n",
            "2/2 [==============================] - 0s 26ms/step - loss: 176.8558 - mean_squared_error: 176.8558 - val_loss: 192.3067 - val_mean_squared_error: 192.3067\n",
            "\n",
            "Epoch 00257: val_loss did not improve from 110.04398\n",
            "Epoch 258/500\n",
            "2/2 [==============================] - 0s 23ms/step - loss: 148.4222 - mean_squared_error: 148.4222 - val_loss: 116.0851 - val_mean_squared_error: 116.0851\n",
            "\n",
            "Epoch 00258: val_loss did not improve from 110.04398\n",
            "Epoch 259/500\n",
            "2/2 [==============================] - 0s 29ms/step - loss: 174.1338 - mean_squared_error: 174.1338 - val_loss: 424.6817 - val_mean_squared_error: 424.6817\n",
            "\n",
            "Epoch 00259: val_loss did not improve from 110.04398\n",
            "Epoch 260/500\n",
            "2/2 [==============================] - 0s 24ms/step - loss: 165.4593 - mean_squared_error: 165.4593 - val_loss: 141.6758 - val_mean_squared_error: 141.6758\n",
            "\n",
            "Epoch 00260: val_loss did not improve from 110.04398\n",
            "Epoch 261/500\n",
            "2/2 [==============================] - 0s 26ms/step - loss: 122.3908 - mean_squared_error: 122.3908 - val_loss: 129.7199 - val_mean_squared_error: 129.7199\n",
            "\n",
            "Epoch 00261: val_loss did not improve from 110.04398\n",
            "Epoch 262/500\n",
            "2/2 [==============================] - 0s 22ms/step - loss: 142.3880 - mean_squared_error: 142.3880 - val_loss: 349.8704 - val_mean_squared_error: 349.8704\n",
            "\n",
            "Epoch 00262: val_loss did not improve from 110.04398\n",
            "Epoch 263/500\n",
            "2/2 [==============================] - 0s 23ms/step - loss: 126.7722 - mean_squared_error: 126.7722 - val_loss: 234.4761 - val_mean_squared_error: 234.4761\n",
            "\n",
            "Epoch 00263: val_loss did not improve from 110.04398\n",
            "Epoch 264/500\n",
            "2/2 [==============================] - 0s 27ms/step - loss: 92.0829 - mean_squared_error: 92.0829 - val_loss: 132.0070 - val_mean_squared_error: 132.0070\n",
            "\n",
            "Epoch 00264: val_loss did not improve from 110.04398\n",
            "Epoch 265/500\n",
            "2/2 [==============================] - 0s 33ms/step - loss: 129.3438 - mean_squared_error: 129.3438 - val_loss: 284.6912 - val_mean_squared_error: 284.6912\n",
            "\n",
            "Epoch 00265: val_loss did not improve from 110.04398\n",
            "Epoch 266/500\n",
            "2/2 [==============================] - 0s 25ms/step - loss: 127.1219 - mean_squared_error: 127.1219 - val_loss: 348.4471 - val_mean_squared_error: 348.4471\n",
            "\n",
            "Epoch 00266: val_loss did not improve from 110.04398\n",
            "Epoch 267/500\n",
            "2/2 [==============================] - 0s 28ms/step - loss: 123.5683 - mean_squared_error: 123.5683 - val_loss: 121.0640 - val_mean_squared_error: 121.0640\n",
            "\n",
            "Epoch 00267: val_loss did not improve from 110.04398\n",
            "Epoch 268/500\n",
            "2/2 [==============================] - 0s 29ms/step - loss: 134.4966 - mean_squared_error: 134.4966 - val_loss: 234.9067 - val_mean_squared_error: 234.9067\n",
            "\n",
            "Epoch 00268: val_loss did not improve from 110.04398\n",
            "Epoch 269/500\n",
            "2/2 [==============================] - 0s 23ms/step - loss: 111.1352 - mean_squared_error: 111.1352 - val_loss: 225.0381 - val_mean_squared_error: 225.0381\n",
            "\n",
            "Epoch 00269: val_loss did not improve from 110.04398\n",
            "Epoch 270/500\n",
            "2/2 [==============================] - 0s 24ms/step - loss: 88.4356 - mean_squared_error: 88.4356 - val_loss: 109.0466 - val_mean_squared_error: 109.0466\n",
            "\n",
            "Epoch 00270: val_loss improved from 110.04398 to 109.04664, saving model to Weights-270--109.04664.hdf5\n",
            "Epoch 271/500\n",
            "2/2 [==============================] - 0s 26ms/step - loss: 116.8334 - mean_squared_error: 116.8334 - val_loss: 213.2256 - val_mean_squared_error: 213.2256\n",
            "\n",
            "Epoch 00271: val_loss did not improve from 109.04664\n",
            "Epoch 272/500\n",
            "2/2 [==============================] - 0s 23ms/step - loss: 91.2434 - mean_squared_error: 91.2434 - val_loss: 258.5381 - val_mean_squared_error: 258.5381\n",
            "\n",
            "Epoch 00272: val_loss did not improve from 109.04664\n",
            "Epoch 273/500\n",
            "2/2 [==============================] - 0s 26ms/step - loss: 91.3601 - mean_squared_error: 91.3601 - val_loss: 137.7318 - val_mean_squared_error: 137.7318\n",
            "\n",
            "Epoch 00273: val_loss did not improve from 109.04664\n",
            "Epoch 274/500\n",
            "2/2 [==============================] - 0s 23ms/step - loss: 95.4625 - mean_squared_error: 95.4625 - val_loss: 155.5464 - val_mean_squared_error: 155.5464\n",
            "\n",
            "Epoch 00274: val_loss did not improve from 109.04664\n",
            "Epoch 275/500\n",
            "2/2 [==============================] - 0s 25ms/step - loss: 82.2325 - mean_squared_error: 82.2325 - val_loss: 199.9173 - val_mean_squared_error: 199.9173\n",
            "\n",
            "Epoch 00275: val_loss did not improve from 109.04664\n",
            "Epoch 276/500\n",
            "2/2 [==============================] - 0s 26ms/step - loss: 85.5349 - mean_squared_error: 85.5349 - val_loss: 169.4588 - val_mean_squared_error: 169.4588\n",
            "\n",
            "Epoch 00276: val_loss did not improve from 109.04664\n",
            "Epoch 277/500\n",
            "2/2 [==============================] - 0s 24ms/step - loss: 77.0551 - mean_squared_error: 77.0551 - val_loss: 191.9359 - val_mean_squared_error: 191.9359\n",
            "\n",
            "Epoch 00277: val_loss did not improve from 109.04664\n",
            "Epoch 278/500\n",
            "2/2 [==============================] - 0s 25ms/step - loss: 81.1050 - mean_squared_error: 81.1050 - val_loss: 189.2969 - val_mean_squared_error: 189.2969\n",
            "\n",
            "Epoch 00278: val_loss did not improve from 109.04664\n",
            "Epoch 279/500\n",
            "2/2 [==============================] - 0s 26ms/step - loss: 78.3076 - mean_squared_error: 78.3076 - val_loss: 144.8741 - val_mean_squared_error: 144.8741\n",
            "\n",
            "Epoch 00279: val_loss did not improve from 109.04664\n",
            "Epoch 280/500\n",
            "2/2 [==============================] - 0s 27ms/step - loss: 98.4591 - mean_squared_error: 98.4591 - val_loss: 231.1011 - val_mean_squared_error: 231.1011\n",
            "\n",
            "Epoch 00280: val_loss did not improve from 109.04664\n",
            "Epoch 281/500\n",
            "2/2 [==============================] - 0s 28ms/step - loss: 134.2691 - mean_squared_error: 134.2691 - val_loss: 127.1803 - val_mean_squared_error: 127.1803\n",
            "\n",
            "Epoch 00281: val_loss did not improve from 109.04664\n",
            "Epoch 282/500\n",
            "2/2 [==============================] - 0s 26ms/step - loss: 113.9192 - mean_squared_error: 113.9192 - val_loss: 126.1966 - val_mean_squared_error: 126.1966\n",
            "\n",
            "Epoch 00282: val_loss did not improve from 109.04664\n",
            "Epoch 283/500\n",
            "2/2 [==============================] - 0s 29ms/step - loss: 95.7700 - mean_squared_error: 95.7700 - val_loss: 412.4307 - val_mean_squared_error: 412.4307\n",
            "\n",
            "Epoch 00283: val_loss did not improve from 109.04664\n",
            "Epoch 284/500\n",
            "2/2 [==============================] - 0s 29ms/step - loss: 154.2618 - mean_squared_error: 154.2618 - val_loss: 117.7159 - val_mean_squared_error: 117.7159\n",
            "\n",
            "Epoch 00284: val_loss did not improve from 109.04664\n",
            "Epoch 285/500\n",
            "2/2 [==============================] - 0s 26ms/step - loss: 147.4677 - mean_squared_error: 147.4677 - val_loss: 245.3291 - val_mean_squared_error: 245.3291\n",
            "\n",
            "Epoch 00285: val_loss did not improve from 109.04664\n",
            "Epoch 286/500\n",
            "2/2 [==============================] - 0s 22ms/step - loss: 138.3628 - mean_squared_error: 138.3628 - val_loss: 320.9742 - val_mean_squared_error: 320.9742\n",
            "\n",
            "Epoch 00286: val_loss did not improve from 109.04664\n",
            "Epoch 287/500\n",
            "2/2 [==============================] - 0s 25ms/step - loss: 139.8917 - mean_squared_error: 139.8917 - val_loss: 115.7775 - val_mean_squared_error: 115.7775\n",
            "\n",
            "Epoch 00287: val_loss did not improve from 109.04664\n",
            "Epoch 288/500\n",
            "2/2 [==============================] - 0s 25ms/step - loss: 185.8605 - mean_squared_error: 185.8605 - val_loss: 273.2685 - val_mean_squared_error: 273.2685\n",
            "\n",
            "Epoch 00288: val_loss did not improve from 109.04664\n",
            "Epoch 289/500\n",
            "2/2 [==============================] - 0s 23ms/step - loss: 152.7997 - mean_squared_error: 152.7997 - val_loss: 262.8780 - val_mean_squared_error: 262.8780\n",
            "\n",
            "Epoch 00289: val_loss did not improve from 109.04664\n",
            "Epoch 290/500\n",
            "2/2 [==============================] - 0s 27ms/step - loss: 103.1826 - mean_squared_error: 103.1826 - val_loss: 120.2505 - val_mean_squared_error: 120.2505\n",
            "\n",
            "Epoch 00290: val_loss did not improve from 109.04664\n",
            "Epoch 291/500\n",
            "2/2 [==============================] - 0s 23ms/step - loss: 153.0593 - mean_squared_error: 153.0593 - val_loss: 211.2218 - val_mean_squared_error: 211.2218\n",
            "\n",
            "Epoch 00291: val_loss did not improve from 109.04664\n",
            "Epoch 292/500\n",
            "2/2 [==============================] - 0s 27ms/step - loss: 90.3359 - mean_squared_error: 90.3359 - val_loss: 376.9843 - val_mean_squared_error: 376.9843\n",
            "\n",
            "Epoch 00292: val_loss did not improve from 109.04664\n",
            "Epoch 293/500\n",
            "2/2 [==============================] - 0s 25ms/step - loss: 127.7999 - mean_squared_error: 127.7999 - val_loss: 138.9799 - val_mean_squared_error: 138.9799\n",
            "\n",
            "Epoch 00293: val_loss did not improve from 109.04664\n",
            "Epoch 294/500\n",
            "2/2 [==============================] - 0s 22ms/step - loss: 100.3182 - mean_squared_error: 100.3182 - val_loss: 150.2356 - val_mean_squared_error: 150.2356\n",
            "\n",
            "Epoch 00294: val_loss did not improve from 109.04664\n",
            "Epoch 295/500\n",
            "2/2 [==============================] - 0s 21ms/step - loss: 99.8699 - mean_squared_error: 99.8699 - val_loss: 238.8886 - val_mean_squared_error: 238.8886\n",
            "\n",
            "Epoch 00295: val_loss did not improve from 109.04664\n",
            "Epoch 296/500\n",
            "2/2 [==============================] - 0s 25ms/step - loss: 83.3791 - mean_squared_error: 83.3791 - val_loss: 139.0673 - val_mean_squared_error: 139.0673\n",
            "\n",
            "Epoch 00296: val_loss did not improve from 109.04664\n",
            "Epoch 297/500\n",
            "2/2 [==============================] - 0s 26ms/step - loss: 109.8167 - mean_squared_error: 109.8167 - val_loss: 168.9085 - val_mean_squared_error: 168.9085\n",
            "\n",
            "Epoch 00297: val_loss did not improve from 109.04664\n",
            "Epoch 298/500\n",
            "2/2 [==============================] - 0s 24ms/step - loss: 92.0441 - mean_squared_error: 92.0441 - val_loss: 309.7573 - val_mean_squared_error: 309.7573\n",
            "\n",
            "Epoch 00298: val_loss did not improve from 109.04664\n",
            "Epoch 299/500\n",
            "2/2 [==============================] - 0s 24ms/step - loss: 97.8584 - mean_squared_error: 97.8584 - val_loss: 117.3061 - val_mean_squared_error: 117.3061\n",
            "\n",
            "Epoch 00299: val_loss did not improve from 109.04664\n",
            "Epoch 300/500\n",
            "2/2 [==============================] - 0s 22ms/step - loss: 120.1535 - mean_squared_error: 120.1535 - val_loss: 144.6257 - val_mean_squared_error: 144.6257\n",
            "\n",
            "Epoch 00300: val_loss did not improve from 109.04664\n",
            "Epoch 301/500\n",
            "2/2 [==============================] - 0s 23ms/step - loss: 67.9904 - mean_squared_error: 67.9904 - val_loss: 396.6997 - val_mean_squared_error: 396.6997\n",
            "\n",
            "Epoch 00301: val_loss did not improve from 109.04664\n",
            "Epoch 302/500\n",
            "2/2 [==============================] - 0s 25ms/step - loss: 132.6685 - mean_squared_error: 132.6685 - val_loss: 143.0241 - val_mean_squared_error: 143.0241\n",
            "\n",
            "Epoch 00302: val_loss did not improve from 109.04664\n",
            "Epoch 303/500\n",
            "2/2 [==============================] - 0s 28ms/step - loss: 102.8198 - mean_squared_error: 102.8198 - val_loss: 124.5784 - val_mean_squared_error: 124.5784\n",
            "\n",
            "Epoch 00303: val_loss did not improve from 109.04664\n",
            "Epoch 304/500\n",
            "2/2 [==============================] - 0s 24ms/step - loss: 94.0298 - mean_squared_error: 94.0298 - val_loss: 321.7676 - val_mean_squared_error: 321.7676\n",
            "\n",
            "Epoch 00304: val_loss did not improve from 109.04664\n",
            "Epoch 305/500\n",
            "2/2 [==============================] - 0s 24ms/step - loss: 105.7028 - mean_squared_error: 105.7028 - val_loss: 161.4937 - val_mean_squared_error: 161.4937\n",
            "\n",
            "Epoch 00305: val_loss did not improve from 109.04664\n",
            "Epoch 306/500\n",
            "2/2 [==============================] - 0s 25ms/step - loss: 79.2769 - mean_squared_error: 79.2769 - val_loss: 129.7228 - val_mean_squared_error: 129.7228\n",
            "\n",
            "Epoch 00306: val_loss did not improve from 109.04664\n",
            "Epoch 307/500\n",
            "2/2 [==============================] - 0s 22ms/step - loss: 75.6616 - mean_squared_error: 75.6616 - val_loss: 257.8813 - val_mean_squared_error: 257.8813\n",
            "\n",
            "Epoch 00307: val_loss did not improve from 109.04664\n",
            "Epoch 308/500\n",
            "2/2 [==============================] - 0s 25ms/step - loss: 91.0437 - mean_squared_error: 91.0437 - val_loss: 187.5348 - val_mean_squared_error: 187.5348\n",
            "\n",
            "Epoch 00308: val_loss did not improve from 109.04664\n",
            "Epoch 309/500\n",
            "2/2 [==============================] - 0s 22ms/step - loss: 76.2055 - mean_squared_error: 76.2055 - val_loss: 144.2440 - val_mean_squared_error: 144.2440\n",
            "\n",
            "Epoch 00309: val_loss did not improve from 109.04664\n",
            "Epoch 310/500\n",
            "2/2 [==============================] - 0s 31ms/step - loss: 69.8008 - mean_squared_error: 69.8008 - val_loss: 231.2914 - val_mean_squared_error: 231.2914\n",
            "\n",
            "Epoch 00310: val_loss did not improve from 109.04664\n",
            "Epoch 311/500\n",
            "2/2 [==============================] - 0s 23ms/step - loss: 76.6666 - mean_squared_error: 76.6666 - val_loss: 178.8960 - val_mean_squared_error: 178.8960\n",
            "\n",
            "Epoch 00311: val_loss did not improve from 109.04664\n",
            "Epoch 312/500\n",
            "2/2 [==============================] - 0s 33ms/step - loss: 68.5330 - mean_squared_error: 68.5330 - val_loss: 187.6233 - val_mean_squared_error: 187.6233\n",
            "\n",
            "Epoch 00312: val_loss did not improve from 109.04664\n",
            "Epoch 313/500\n",
            "2/2 [==============================] - 0s 24ms/step - loss: 64.9593 - mean_squared_error: 64.9593 - val_loss: 221.5260 - val_mean_squared_error: 221.5260\n",
            "\n",
            "Epoch 00313: val_loss did not improve from 109.04664\n",
            "Epoch 314/500\n",
            "2/2 [==============================] - 0s 30ms/step - loss: 74.3993 - mean_squared_error: 74.3993 - val_loss: 150.9613 - val_mean_squared_error: 150.9613\n",
            "\n",
            "Epoch 00314: val_loss did not improve from 109.04664\n",
            "Epoch 315/500\n",
            "2/2 [==============================] - 0s 48ms/step - loss: 86.5392 - mean_squared_error: 86.5392 - val_loss: 207.9479 - val_mean_squared_error: 207.9479\n",
            "\n",
            "Epoch 00315: val_loss did not improve from 109.04664\n",
            "Epoch 316/500\n",
            "2/2 [==============================] - 0s 28ms/step - loss: 76.7732 - mean_squared_error: 76.7732 - val_loss: 197.8560 - val_mean_squared_error: 197.8560\n",
            "\n",
            "Epoch 00316: val_loss did not improve from 109.04664\n",
            "Epoch 317/500\n",
            "2/2 [==============================] - 0s 28ms/step - loss: 72.6889 - mean_squared_error: 72.6889 - val_loss: 132.2629 - val_mean_squared_error: 132.2629\n",
            "\n",
            "Epoch 00317: val_loss did not improve from 109.04664\n",
            "Epoch 318/500\n",
            "2/2 [==============================] - 0s 25ms/step - loss: 83.3794 - mean_squared_error: 83.3794 - val_loss: 285.3085 - val_mean_squared_error: 285.3085\n",
            "\n",
            "Epoch 00318: val_loss did not improve from 109.04664\n",
            "Epoch 319/500\n",
            "2/2 [==============================] - 0s 31ms/step - loss: 92.6470 - mean_squared_error: 92.6470 - val_loss: 174.6113 - val_mean_squared_error: 174.6113\n",
            "\n",
            "Epoch 00319: val_loss did not improve from 109.04664\n",
            "Epoch 320/500\n",
            "2/2 [==============================] - 0s 27ms/step - loss: 64.8472 - mean_squared_error: 64.8472 - val_loss: 158.7535 - val_mean_squared_error: 158.7535\n",
            "\n",
            "Epoch 00320: val_loss did not improve from 109.04664\n",
            "Epoch 321/500\n",
            "2/2 [==============================] - 0s 27ms/step - loss: 65.6512 - mean_squared_error: 65.6512 - val_loss: 265.0822 - val_mean_squared_error: 265.0822\n",
            "\n",
            "Epoch 00321: val_loss did not improve from 109.04664\n",
            "Epoch 322/500\n",
            "2/2 [==============================] - 0s 26ms/step - loss: 79.7915 - mean_squared_error: 79.7915 - val_loss: 161.0995 - val_mean_squared_error: 161.0995\n",
            "\n",
            "Epoch 00322: val_loss did not improve from 109.04664\n",
            "Epoch 323/500\n",
            "2/2 [==============================] - 0s 29ms/step - loss: 67.0351 - mean_squared_error: 67.0351 - val_loss: 182.4366 - val_mean_squared_error: 182.4366\n",
            "\n",
            "Epoch 00323: val_loss did not improve from 109.04664\n",
            "Epoch 324/500\n",
            "2/2 [==============================] - 0s 26ms/step - loss: 65.0297 - mean_squared_error: 65.0297 - val_loss: 225.5517 - val_mean_squared_error: 225.5517\n",
            "\n",
            "Epoch 00324: val_loss did not improve from 109.04664\n",
            "Epoch 325/500\n",
            "2/2 [==============================] - 0s 31ms/step - loss: 62.0149 - mean_squared_error: 62.0149 - val_loss: 179.1820 - val_mean_squared_error: 179.1820\n",
            "\n",
            "Epoch 00325: val_loss did not improve from 109.04664\n",
            "Epoch 326/500\n",
            "2/2 [==============================] - 0s 26ms/step - loss: 66.9756 - mean_squared_error: 66.9756 - val_loss: 201.7106 - val_mean_squared_error: 201.7106\n",
            "\n",
            "Epoch 00326: val_loss did not improve from 109.04664\n",
            "Epoch 327/500\n",
            "2/2 [==============================] - 0s 24ms/step - loss: 60.4548 - mean_squared_error: 60.4548 - val_loss: 174.9373 - val_mean_squared_error: 174.9373\n",
            "\n",
            "Epoch 00327: val_loss did not improve from 109.04664\n",
            "Epoch 328/500\n",
            "2/2 [==============================] - 0s 25ms/step - loss: 58.6161 - mean_squared_error: 58.6161 - val_loss: 245.8493 - val_mean_squared_error: 245.8493\n",
            "\n",
            "Epoch 00328: val_loss did not improve from 109.04664\n",
            "Epoch 329/500\n",
            "2/2 [==============================] - 0s 31ms/step - loss: 63.0692 - mean_squared_error: 63.0692 - val_loss: 203.2884 - val_mean_squared_error: 203.2884\n",
            "\n",
            "Epoch 00329: val_loss did not improve from 109.04664\n",
            "Epoch 330/500\n",
            "2/2 [==============================] - 0s 26ms/step - loss: 62.4388 - mean_squared_error: 62.4388 - val_loss: 216.8912 - val_mean_squared_error: 216.8912\n",
            "\n",
            "Epoch 00330: val_loss did not improve from 109.04664\n",
            "Epoch 331/500\n",
            "2/2 [==============================] - 0s 28ms/step - loss: 55.5060 - mean_squared_error: 55.5060 - val_loss: 203.5296 - val_mean_squared_error: 203.5296\n",
            "\n",
            "Epoch 00331: val_loss did not improve from 109.04664\n",
            "Epoch 332/500\n",
            "2/2 [==============================] - 0s 29ms/step - loss: 55.0999 - mean_squared_error: 55.0999 - val_loss: 202.3651 - val_mean_squared_error: 202.3651\n",
            "\n",
            "Epoch 00332: val_loss did not improve from 109.04664\n",
            "Epoch 333/500\n",
            "2/2 [==============================] - 0s 30ms/step - loss: 52.7084 - mean_squared_error: 52.7084 - val_loss: 264.7168 - val_mean_squared_error: 264.7168\n",
            "\n",
            "Epoch 00333: val_loss did not improve from 109.04664\n",
            "Epoch 334/500\n",
            "2/2 [==============================] - 0s 28ms/step - loss: 63.2919 - mean_squared_error: 63.2919 - val_loss: 193.6091 - val_mean_squared_error: 193.6091\n",
            "\n",
            "Epoch 00334: val_loss did not improve from 109.04664\n",
            "Epoch 335/500\n",
            "2/2 [==============================] - 0s 27ms/step - loss: 65.0083 - mean_squared_error: 65.0083 - val_loss: 246.1969 - val_mean_squared_error: 246.1969\n",
            "\n",
            "Epoch 00335: val_loss did not improve from 109.04664\n",
            "Epoch 336/500\n",
            "2/2 [==============================] - 0s 27ms/step - loss: 60.2541 - mean_squared_error: 60.2541 - val_loss: 266.2643 - val_mean_squared_error: 266.2643\n",
            "\n",
            "Epoch 00336: val_loss did not improve from 109.04664\n",
            "Epoch 337/500\n",
            "2/2 [==============================] - 0s 25ms/step - loss: 62.2363 - mean_squared_error: 62.2363 - val_loss: 206.2274 - val_mean_squared_error: 206.2274\n",
            "\n",
            "Epoch 00337: val_loss did not improve from 109.04664\n",
            "Epoch 338/500\n",
            "2/2 [==============================] - 0s 27ms/step - loss: 55.7406 - mean_squared_error: 55.7406 - val_loss: 286.8755 - val_mean_squared_error: 286.8755\n",
            "\n",
            "Epoch 00338: val_loss did not improve from 109.04664\n",
            "Epoch 339/500\n",
            "2/2 [==============================] - 0s 26ms/step - loss: 65.0422 - mean_squared_error: 65.0422 - val_loss: 198.9127 - val_mean_squared_error: 198.9127\n",
            "\n",
            "Epoch 00339: val_loss did not improve from 109.04664\n",
            "Epoch 340/500\n",
            "2/2 [==============================] - 0s 32ms/step - loss: 67.4768 - mean_squared_error: 67.4768 - val_loss: 232.7739 - val_mean_squared_error: 232.7739\n",
            "\n",
            "Epoch 00340: val_loss did not improve from 109.04664\n",
            "Epoch 341/500\n",
            "2/2 [==============================] - 0s 37ms/step - loss: 70.4009 - mean_squared_error: 70.4009 - val_loss: 203.5698 - val_mean_squared_error: 203.5698\n",
            "\n",
            "Epoch 00341: val_loss did not improve from 109.04664\n",
            "Epoch 342/500\n",
            "2/2 [==============================] - 0s 28ms/step - loss: 68.7380 - mean_squared_error: 68.7380 - val_loss: 213.4922 - val_mean_squared_error: 213.4922\n",
            "\n",
            "Epoch 00342: val_loss did not improve from 109.04664\n",
            "Epoch 343/500\n",
            "2/2 [==============================] - 0s 26ms/step - loss: 58.5480 - mean_squared_error: 58.5480 - val_loss: 256.7980 - val_mean_squared_error: 256.7980\n",
            "\n",
            "Epoch 00343: val_loss did not improve from 109.04664\n",
            "Epoch 344/500\n",
            "2/2 [==============================] - 0s 25ms/step - loss: 55.5382 - mean_squared_error: 55.5382 - val_loss: 168.0680 - val_mean_squared_error: 168.0680\n",
            "\n",
            "Epoch 00344: val_loss did not improve from 109.04664\n",
            "Epoch 345/500\n",
            "2/2 [==============================] - 0s 28ms/step - loss: 76.7976 - mean_squared_error: 76.7976 - val_loss: 239.9106 - val_mean_squared_error: 239.9106\n",
            "\n",
            "Epoch 00345: val_loss did not improve from 109.04664\n",
            "Epoch 346/500\n",
            "2/2 [==============================] - 0s 28ms/step - loss: 59.3803 - mean_squared_error: 59.3803 - val_loss: 199.5473 - val_mean_squared_error: 199.5473\n",
            "\n",
            "Epoch 00346: val_loss did not improve from 109.04664\n",
            "Epoch 347/500\n",
            "2/2 [==============================] - 0s 29ms/step - loss: 54.7053 - mean_squared_error: 54.7053 - val_loss: 220.3540 - val_mean_squared_error: 220.3540\n",
            "\n",
            "Epoch 00347: val_loss did not improve from 109.04664\n",
            "Epoch 348/500\n",
            "2/2 [==============================] - 0s 28ms/step - loss: 52.7845 - mean_squared_error: 52.7845 - val_loss: 226.1343 - val_mean_squared_error: 226.1343\n",
            "\n",
            "Epoch 00348: val_loss did not improve from 109.04664\n",
            "Epoch 349/500\n",
            "2/2 [==============================] - 0s 25ms/step - loss: 52.1589 - mean_squared_error: 52.1589 - val_loss: 225.4783 - val_mean_squared_error: 225.4783\n",
            "\n",
            "Epoch 00349: val_loss did not improve from 109.04664\n",
            "Epoch 350/500\n",
            "2/2 [==============================] - 0s 28ms/step - loss: 57.0203 - mean_squared_error: 57.0203 - val_loss: 203.9793 - val_mean_squared_error: 203.9793\n",
            "\n",
            "Epoch 00350: val_loss did not improve from 109.04664\n",
            "Epoch 351/500\n",
            "2/2 [==============================] - 0s 38ms/step - loss: 63.2242 - mean_squared_error: 63.2242 - val_loss: 256.0471 - val_mean_squared_error: 256.0471\n",
            "\n",
            "Epoch 00351: val_loss did not improve from 109.04664\n",
            "Epoch 352/500\n",
            "2/2 [==============================] - 0s 33ms/step - loss: 64.1781 - mean_squared_error: 64.1781 - val_loss: 227.3538 - val_mean_squared_error: 227.3538\n",
            "\n",
            "Epoch 00352: val_loss did not improve from 109.04664\n",
            "Epoch 353/500\n",
            "2/2 [==============================] - 0s 31ms/step - loss: 70.7755 - mean_squared_error: 70.7755 - val_loss: 250.6164 - val_mean_squared_error: 250.6164\n",
            "\n",
            "Epoch 00353: val_loss did not improve from 109.04664\n",
            "Epoch 354/500\n",
            "2/2 [==============================] - 0s 31ms/step - loss: 64.3204 - mean_squared_error: 64.3204 - val_loss: 255.2759 - val_mean_squared_error: 255.2759\n",
            "\n",
            "Epoch 00354: val_loss did not improve from 109.04664\n",
            "Epoch 355/500\n",
            "2/2 [==============================] - 0s 29ms/step - loss: 51.8165 - mean_squared_error: 51.8165 - val_loss: 208.3999 - val_mean_squared_error: 208.3999\n",
            "\n",
            "Epoch 00355: val_loss did not improve from 109.04664\n",
            "Epoch 356/500\n",
            "2/2 [==============================] - 0s 24ms/step - loss: 64.5149 - mean_squared_error: 64.5149 - val_loss: 307.6678 - val_mean_squared_error: 307.6678\n",
            "\n",
            "Epoch 00356: val_loss did not improve from 109.04664\n",
            "Epoch 357/500\n",
            "2/2 [==============================] - 0s 23ms/step - loss: 62.1974 - mean_squared_error: 62.1974 - val_loss: 202.1814 - val_mean_squared_error: 202.1814\n",
            "\n",
            "Epoch 00357: val_loss did not improve from 109.04664\n",
            "Epoch 358/500\n",
            "2/2 [==============================] - 0s 27ms/step - loss: 68.4959 - mean_squared_error: 68.4959 - val_loss: 299.5757 - val_mean_squared_error: 299.5757\n",
            "\n",
            "Epoch 00358: val_loss did not improve from 109.04664\n",
            "Epoch 359/500\n",
            "2/2 [==============================] - 0s 30ms/step - loss: 73.9994 - mean_squared_error: 73.9994 - val_loss: 211.8522 - val_mean_squared_error: 211.8522\n",
            "\n",
            "Epoch 00359: val_loss did not improve from 109.04664\n",
            "Epoch 360/500\n",
            "2/2 [==============================] - 0s 32ms/step - loss: 59.6444 - mean_squared_error: 59.6444 - val_loss: 213.7523 - val_mean_squared_error: 213.7523\n",
            "\n",
            "Epoch 00360: val_loss did not improve from 109.04664\n",
            "Epoch 361/500\n",
            "2/2 [==============================] - 0s 28ms/step - loss: 55.9337 - mean_squared_error: 55.9337 - val_loss: 252.7057 - val_mean_squared_error: 252.7057\n",
            "\n",
            "Epoch 00361: val_loss did not improve from 109.04664\n",
            "Epoch 362/500\n",
            "2/2 [==============================] - 0s 29ms/step - loss: 63.5944 - mean_squared_error: 63.5944 - val_loss: 212.8883 - val_mean_squared_error: 212.8883\n",
            "\n",
            "Epoch 00362: val_loss did not improve from 109.04664\n",
            "Epoch 363/500\n",
            "2/2 [==============================] - 0s 31ms/step - loss: 46.0179 - mean_squared_error: 46.0179 - val_loss: 295.6987 - val_mean_squared_error: 295.6987\n",
            "\n",
            "Epoch 00363: val_loss did not improve from 109.04664\n",
            "Epoch 364/500\n",
            "2/2 [==============================] - 0s 26ms/step - loss: 70.7949 - mean_squared_error: 70.7949 - val_loss: 209.1387 - val_mean_squared_error: 209.1387\n",
            "\n",
            "Epoch 00364: val_loss did not improve from 109.04664\n",
            "Epoch 365/500\n",
            "2/2 [==============================] - 0s 30ms/step - loss: 61.7560 - mean_squared_error: 61.7560 - val_loss: 260.5524 - val_mean_squared_error: 260.5524\n",
            "\n",
            "Epoch 00365: val_loss did not improve from 109.04664\n",
            "Epoch 366/500\n",
            "2/2 [==============================] - 0s 37ms/step - loss: 62.8686 - mean_squared_error: 62.8686 - val_loss: 245.3906 - val_mean_squared_error: 245.3906\n",
            "\n",
            "Epoch 00366: val_loss did not improve from 109.04664\n",
            "Epoch 367/500\n",
            "2/2 [==============================] - 0s 30ms/step - loss: 59.9563 - mean_squared_error: 59.9563 - val_loss: 255.3309 - val_mean_squared_error: 255.3309\n",
            "\n",
            "Epoch 00367: val_loss did not improve from 109.04664\n",
            "Epoch 368/500\n",
            "2/2 [==============================] - 0s 26ms/step - loss: 48.1963 - mean_squared_error: 48.1963 - val_loss: 285.7660 - val_mean_squared_error: 285.7660\n",
            "\n",
            "Epoch 00368: val_loss did not improve from 109.04664\n",
            "Epoch 369/500\n",
            "2/2 [==============================] - 0s 25ms/step - loss: 70.7123 - mean_squared_error: 70.7123 - val_loss: 212.7115 - val_mean_squared_error: 212.7115\n",
            "\n",
            "Epoch 00369: val_loss did not improve from 109.04664\n",
            "Epoch 370/500\n",
            "2/2 [==============================] - 0s 30ms/step - loss: 50.7059 - mean_squared_error: 50.7059 - val_loss: 311.5227 - val_mean_squared_error: 311.5227\n",
            "\n",
            "Epoch 00370: val_loss did not improve from 109.04664\n",
            "Epoch 371/500\n",
            "2/2 [==============================] - 0s 27ms/step - loss: 70.8335 - mean_squared_error: 70.8335 - val_loss: 197.7211 - val_mean_squared_error: 197.7211\n",
            "\n",
            "Epoch 00371: val_loss did not improve from 109.04664\n",
            "Epoch 372/500\n",
            "2/2 [==============================] - 0s 26ms/step - loss: 64.4755 - mean_squared_error: 64.4755 - val_loss: 249.6247 - val_mean_squared_error: 249.6247\n",
            "\n",
            "Epoch 00372: val_loss did not improve from 109.04664\n",
            "Epoch 373/500\n",
            "2/2 [==============================] - 0s 28ms/step - loss: 59.9821 - mean_squared_error: 59.9821 - val_loss: 236.7488 - val_mean_squared_error: 236.7488\n",
            "\n",
            "Epoch 00373: val_loss did not improve from 109.04664\n",
            "Epoch 374/500\n",
            "2/2 [==============================] - 0s 29ms/step - loss: 64.7129 - mean_squared_error: 64.7129 - val_loss: 227.1732 - val_mean_squared_error: 227.1732\n",
            "\n",
            "Epoch 00374: val_loss did not improve from 109.04664\n",
            "Epoch 375/500\n",
            "2/2 [==============================] - 0s 29ms/step - loss: 45.1255 - mean_squared_error: 45.1255 - val_loss: 282.8799 - val_mean_squared_error: 282.8799\n",
            "\n",
            "Epoch 00375: val_loss did not improve from 109.04664\n",
            "Epoch 376/500\n",
            "2/2 [==============================] - 0s 25ms/step - loss: 62.6281 - mean_squared_error: 62.6281 - val_loss: 206.2557 - val_mean_squared_error: 206.2557\n",
            "\n",
            "Epoch 00376: val_loss did not improve from 109.04664\n",
            "Epoch 377/500\n",
            "2/2 [==============================] - 0s 27ms/step - loss: 62.9139 - mean_squared_error: 62.9139 - val_loss: 290.5010 - val_mean_squared_error: 290.5010\n",
            "\n",
            "Epoch 00377: val_loss did not improve from 109.04664\n",
            "Epoch 378/500\n",
            "2/2 [==============================] - 0s 26ms/step - loss: 57.1252 - mean_squared_error: 57.1252 - val_loss: 198.9565 - val_mean_squared_error: 198.9565\n",
            "\n",
            "Epoch 00378: val_loss did not improve from 109.04664\n",
            "Epoch 379/500\n",
            "2/2 [==============================] - 0s 27ms/step - loss: 82.1503 - mean_squared_error: 82.1503 - val_loss: 326.3746 - val_mean_squared_error: 326.3746\n",
            "\n",
            "Epoch 00379: val_loss did not improve from 109.04664\n",
            "Epoch 380/500\n",
            "2/2 [==============================] - 0s 31ms/step - loss: 94.9441 - mean_squared_error: 94.9441 - val_loss: 232.9321 - val_mean_squared_error: 232.9321\n",
            "\n",
            "Epoch 00380: val_loss did not improve from 109.04664\n",
            "Epoch 381/500\n",
            "2/2 [==============================] - 0s 42ms/step - loss: 52.0554 - mean_squared_error: 52.0554 - val_loss: 198.0936 - val_mean_squared_error: 198.0936\n",
            "\n",
            "Epoch 00381: val_loss did not improve from 109.04664\n",
            "Epoch 382/500\n",
            "2/2 [==============================] - 0s 32ms/step - loss: 76.2940 - mean_squared_error: 76.2940 - val_loss: 330.9261 - val_mean_squared_error: 330.9261\n",
            "\n",
            "Epoch 00382: val_loss did not improve from 109.04664\n",
            "Epoch 383/500\n",
            "2/2 [==============================] - 0s 25ms/step - loss: 58.7594 - mean_squared_error: 58.7594 - val_loss: 185.9643 - val_mean_squared_error: 185.9643\n",
            "\n",
            "Epoch 00383: val_loss did not improve from 109.04664\n",
            "Epoch 384/500\n",
            "2/2 [==============================] - 0s 37ms/step - loss: 99.5667 - mean_squared_error: 99.5667 - val_loss: 284.8161 - val_mean_squared_error: 284.8161\n",
            "\n",
            "Epoch 00384: val_loss did not improve from 109.04664\n",
            "Epoch 385/500\n",
            "2/2 [==============================] - 0s 29ms/step - loss: 90.0772 - mean_squared_error: 90.0772 - val_loss: 247.2755 - val_mean_squared_error: 247.2755\n",
            "\n",
            "Epoch 00385: val_loss did not improve from 109.04664\n",
            "Epoch 386/500\n",
            "2/2 [==============================] - 0s 27ms/step - loss: 79.7503 - mean_squared_error: 79.7503 - val_loss: 191.0425 - val_mean_squared_error: 191.0425\n",
            "\n",
            "Epoch 00386: val_loss did not improve from 109.04664\n",
            "Epoch 387/500\n",
            "2/2 [==============================] - 0s 31ms/step - loss: 69.2100 - mean_squared_error: 69.2100 - val_loss: 332.6504 - val_mean_squared_error: 332.6504\n",
            "\n",
            "Epoch 00387: val_loss did not improve from 109.04664\n",
            "Epoch 388/500\n",
            "2/2 [==============================] - 0s 28ms/step - loss: 102.5265 - mean_squared_error: 102.5265 - val_loss: 179.3106 - val_mean_squared_error: 179.3106\n",
            "\n",
            "Epoch 00388: val_loss did not improve from 109.04664\n",
            "Epoch 389/500\n",
            "2/2 [==============================] - 0s 29ms/step - loss: 86.5872 - mean_squared_error: 86.5872 - val_loss: 261.0331 - val_mean_squared_error: 261.0331\n",
            "\n",
            "Epoch 00389: val_loss did not improve from 109.04664\n",
            "Epoch 390/500\n",
            "2/2 [==============================] - 0s 37ms/step - loss: 104.7563 - mean_squared_error: 104.7563 - val_loss: 199.1852 - val_mean_squared_error: 199.1852\n",
            "\n",
            "Epoch 00390: val_loss did not improve from 109.04664\n",
            "Epoch 391/500\n",
            "2/2 [==============================] - 0s 48ms/step - loss: 61.5153 - mean_squared_error: 61.5153 - val_loss: 165.5532 - val_mean_squared_error: 165.5532\n",
            "\n",
            "Epoch 00391: val_loss did not improve from 109.04664\n",
            "Epoch 392/500\n",
            "2/2 [==============================] - 0s 26ms/step - loss: 89.4936 - mean_squared_error: 89.4936 - val_loss: 252.1760 - val_mean_squared_error: 252.1760\n",
            "\n",
            "Epoch 00392: val_loss did not improve from 109.04664\n",
            "Epoch 393/500\n",
            "2/2 [==============================] - 0s 28ms/step - loss: 78.0046 - mean_squared_error: 78.0046 - val_loss: 183.5362 - val_mean_squared_error: 183.5362\n",
            "\n",
            "Epoch 00393: val_loss did not improve from 109.04664\n",
            "Epoch 394/500\n",
            "2/2 [==============================] - 0s 24ms/step - loss: 63.7687 - mean_squared_error: 63.7687 - val_loss: 195.7129 - val_mean_squared_error: 195.7129\n",
            "\n",
            "Epoch 00394: val_loss did not improve from 109.04664\n",
            "Epoch 395/500\n",
            "2/2 [==============================] - 0s 26ms/step - loss: 50.4024 - mean_squared_error: 50.4024 - val_loss: 263.4772 - val_mean_squared_error: 263.4772\n",
            "\n",
            "Epoch 00395: val_loss did not improve from 109.04664\n",
            "Epoch 396/500\n",
            "2/2 [==============================] - 0s 28ms/step - loss: 60.6044 - mean_squared_error: 60.6044 - val_loss: 188.6216 - val_mean_squared_error: 188.6216\n",
            "\n",
            "Epoch 00396: val_loss did not improve from 109.04664\n",
            "Epoch 397/500\n",
            "2/2 [==============================] - 0s 32ms/step - loss: 57.2818 - mean_squared_error: 57.2818 - val_loss: 223.3788 - val_mean_squared_error: 223.3788\n",
            "\n",
            "Epoch 00397: val_loss did not improve from 109.04664\n",
            "Epoch 398/500\n",
            "2/2 [==============================] - 0s 26ms/step - loss: 46.9522 - mean_squared_error: 46.9522 - val_loss: 262.6130 - val_mean_squared_error: 262.6130\n",
            "\n",
            "Epoch 00398: val_loss did not improve from 109.04664\n",
            "Epoch 399/500\n",
            "2/2 [==============================] - 0s 26ms/step - loss: 51.6550 - mean_squared_error: 51.6550 - val_loss: 209.4233 - val_mean_squared_error: 209.4233\n",
            "\n",
            "Epoch 00399: val_loss did not improve from 109.04664\n",
            "Epoch 400/500\n",
            "2/2 [==============================] - 0s 31ms/step - loss: 58.6931 - mean_squared_error: 58.6931 - val_loss: 275.5190 - val_mean_squared_error: 275.5190\n",
            "\n",
            "Epoch 00400: val_loss did not improve from 109.04664\n",
            "Epoch 401/500\n",
            "2/2 [==============================] - 0s 32ms/step - loss: 57.5720 - mean_squared_error: 57.5720 - val_loss: 255.1992 - val_mean_squared_error: 255.1992\n",
            "\n",
            "Epoch 00401: val_loss did not improve from 109.04664\n",
            "Epoch 402/500\n",
            "2/2 [==============================] - 0s 27ms/step - loss: 52.6481 - mean_squared_error: 52.6481 - val_loss: 231.7456 - val_mean_squared_error: 231.7456\n",
            "\n",
            "Epoch 00402: val_loss did not improve from 109.04664\n",
            "Epoch 403/500\n",
            "2/2 [==============================] - 0s 29ms/step - loss: 54.1851 - mean_squared_error: 54.1851 - val_loss: 247.1144 - val_mean_squared_error: 247.1144\n",
            "\n",
            "Epoch 00403: val_loss did not improve from 109.04664\n",
            "Epoch 404/500\n",
            "2/2 [==============================] - 0s 28ms/step - loss: 49.1486 - mean_squared_error: 49.1486 - val_loss: 277.4005 - val_mean_squared_error: 277.4005\n",
            "\n",
            "Epoch 00404: val_loss did not improve from 109.04664\n",
            "Epoch 405/500\n",
            "2/2 [==============================] - 0s 34ms/step - loss: 49.3868 - mean_squared_error: 49.3868 - val_loss: 288.9096 - val_mean_squared_error: 288.9096\n",
            "\n",
            "Epoch 00405: val_loss did not improve from 109.04664\n",
            "Epoch 406/500\n",
            "2/2 [==============================] - 0s 31ms/step - loss: 45.9539 - mean_squared_error: 45.9539 - val_loss: 268.2326 - val_mean_squared_error: 268.2326\n",
            "\n",
            "Epoch 00406: val_loss did not improve from 109.04664\n",
            "Epoch 407/500\n",
            "2/2 [==============================] - 0s 25ms/step - loss: 57.1735 - mean_squared_error: 57.1735 - val_loss: 304.6142 - val_mean_squared_error: 304.6142\n",
            "\n",
            "Epoch 00407: val_loss did not improve from 109.04664\n",
            "Epoch 408/500\n",
            "2/2 [==============================] - 0s 36ms/step - loss: 55.5917 - mean_squared_error: 55.5917 - val_loss: 285.3189 - val_mean_squared_error: 285.3189\n",
            "\n",
            "Epoch 00408: val_loss did not improve from 109.04664\n",
            "Epoch 409/500\n",
            "2/2 [==============================] - 0s 27ms/step - loss: 41.4676 - mean_squared_error: 41.4676 - val_loss: 260.3379 - val_mean_squared_error: 260.3379\n",
            "\n",
            "Epoch 00409: val_loss did not improve from 109.04664\n",
            "Epoch 410/500\n",
            "2/2 [==============================] - 0s 25ms/step - loss: 51.8427 - mean_squared_error: 51.8427 - val_loss: 290.6366 - val_mean_squared_error: 290.6366\n",
            "\n",
            "Epoch 00410: val_loss did not improve from 109.04664\n",
            "Epoch 411/500\n",
            "2/2 [==============================] - 0s 24ms/step - loss: 47.8752 - mean_squared_error: 47.8752 - val_loss: 253.4845 - val_mean_squared_error: 253.4845\n",
            "\n",
            "Epoch 00411: val_loss did not improve from 109.04664\n",
            "Epoch 412/500\n",
            "2/2 [==============================] - 0s 32ms/step - loss: 53.5005 - mean_squared_error: 53.5005 - val_loss: 252.4656 - val_mean_squared_error: 252.4656\n",
            "\n",
            "Epoch 00412: val_loss did not improve from 109.04664\n",
            "Epoch 413/500\n",
            "2/2 [==============================] - 0s 31ms/step - loss: 44.5472 - mean_squared_error: 44.5472 - val_loss: 287.2304 - val_mean_squared_error: 287.2304\n",
            "\n",
            "Epoch 00413: val_loss did not improve from 109.04664\n",
            "Epoch 414/500\n",
            "2/2 [==============================] - 0s 38ms/step - loss: 52.2766 - mean_squared_error: 52.2766 - val_loss: 319.5958 - val_mean_squared_error: 319.5958\n",
            "\n",
            "Epoch 00414: val_loss did not improve from 109.04664\n",
            "Epoch 415/500\n",
            "2/2 [==============================] - 0s 26ms/step - loss: 52.9117 - mean_squared_error: 52.9117 - val_loss: 277.0597 - val_mean_squared_error: 277.0597\n",
            "\n",
            "Epoch 00415: val_loss did not improve from 109.04664\n",
            "Epoch 416/500\n",
            "2/2 [==============================] - 0s 26ms/step - loss: 54.7792 - mean_squared_error: 54.7792 - val_loss: 274.8171 - val_mean_squared_error: 274.8171\n",
            "\n",
            "Epoch 00416: val_loss did not improve from 109.04664\n",
            "Epoch 417/500\n",
            "2/2 [==============================] - 0s 25ms/step - loss: 73.6297 - mean_squared_error: 73.6297 - val_loss: 345.6064 - val_mean_squared_error: 345.6064\n",
            "\n",
            "Epoch 00417: val_loss did not improve from 109.04664\n",
            "Epoch 418/500\n",
            "2/2 [==============================] - 0s 28ms/step - loss: 53.8436 - mean_squared_error: 53.8436 - val_loss: 268.7189 - val_mean_squared_error: 268.7189\n",
            "\n",
            "Epoch 00418: val_loss did not improve from 109.04664\n",
            "Epoch 419/500\n",
            "2/2 [==============================] - 0s 30ms/step - loss: 68.5619 - mean_squared_error: 68.5619 - val_loss: 297.8618 - val_mean_squared_error: 297.8618\n",
            "\n",
            "Epoch 00419: val_loss did not improve from 109.04664\n",
            "Epoch 420/500\n",
            "2/2 [==============================] - 0s 31ms/step - loss: 54.8835 - mean_squared_error: 54.8835 - val_loss: 288.3685 - val_mean_squared_error: 288.3685\n",
            "\n",
            "Epoch 00420: val_loss did not improve from 109.04664\n",
            "Epoch 421/500\n",
            "2/2 [==============================] - 0s 29ms/step - loss: 43.7763 - mean_squared_error: 43.7763 - val_loss: 238.7587 - val_mean_squared_error: 238.7587\n",
            "\n",
            "Epoch 00421: val_loss did not improve from 109.04664\n",
            "Epoch 422/500\n",
            "2/2 [==============================] - 0s 30ms/step - loss: 62.1238 - mean_squared_error: 62.1238 - val_loss: 281.7917 - val_mean_squared_error: 281.7917\n",
            "\n",
            "Epoch 00422: val_loss did not improve from 109.04664\n",
            "Epoch 423/500\n",
            "2/2 [==============================] - 0s 28ms/step - loss: 58.4600 - mean_squared_error: 58.4600 - val_loss: 262.2120 - val_mean_squared_error: 262.2120\n",
            "\n",
            "Epoch 00423: val_loss did not improve from 109.04664\n",
            "Epoch 424/500\n",
            "2/2 [==============================] - 0s 28ms/step - loss: 59.0343 - mean_squared_error: 59.0343 - val_loss: 255.2970 - val_mean_squared_error: 255.2970\n",
            "\n",
            "Epoch 00424: val_loss did not improve from 109.04664\n",
            "Epoch 425/500\n",
            "2/2 [==============================] - 0s 27ms/step - loss: 65.6854 - mean_squared_error: 65.6854 - val_loss: 349.0638 - val_mean_squared_error: 349.0638\n",
            "\n",
            "Epoch 00425: val_loss did not improve from 109.04664\n",
            "Epoch 426/500\n",
            "2/2 [==============================] - 0s 34ms/step - loss: 63.9943 - mean_squared_error: 63.9943 - val_loss: 250.2360 - val_mean_squared_error: 250.2360\n",
            "\n",
            "Epoch 00426: val_loss did not improve from 109.04664\n",
            "Epoch 427/500\n",
            "2/2 [==============================] - 0s 27ms/step - loss: 50.6988 - mean_squared_error: 50.6988 - val_loss: 281.1598 - val_mean_squared_error: 281.1598\n",
            "\n",
            "Epoch 00427: val_loss did not improve from 109.04664\n",
            "Epoch 428/500\n",
            "2/2 [==============================] - 0s 29ms/step - loss: 43.7278 - mean_squared_error: 43.7278 - val_loss: 294.2603 - val_mean_squared_error: 294.2603\n",
            "\n",
            "Epoch 00428: val_loss did not improve from 109.04664\n",
            "Epoch 429/500\n",
            "2/2 [==============================] - 0s 29ms/step - loss: 50.9433 - mean_squared_error: 50.9433 - val_loss: 276.5963 - val_mean_squared_error: 276.5963\n",
            "\n",
            "Epoch 00429: val_loss did not improve from 109.04664\n",
            "Epoch 430/500\n",
            "2/2 [==============================] - 0s 31ms/step - loss: 35.2904 - mean_squared_error: 35.2904 - val_loss: 326.4661 - val_mean_squared_error: 326.4661\n",
            "\n",
            "Epoch 00430: val_loss did not improve from 109.04664\n",
            "Epoch 431/500\n",
            "2/2 [==============================] - 0s 34ms/step - loss: 56.3638 - mean_squared_error: 56.3638 - val_loss: 277.3572 - val_mean_squared_error: 277.3572\n",
            "\n",
            "Epoch 00431: val_loss did not improve from 109.04664\n",
            "Epoch 432/500\n",
            "2/2 [==============================] - 0s 27ms/step - loss: 39.6364 - mean_squared_error: 39.6364 - val_loss: 295.9771 - val_mean_squared_error: 295.9771\n",
            "\n",
            "Epoch 00432: val_loss did not improve from 109.04664\n",
            "Epoch 433/500\n",
            "2/2 [==============================] - 0s 29ms/step - loss: 42.6157 - mean_squared_error: 42.6157 - val_loss: 298.6664 - val_mean_squared_error: 298.6664\n",
            "\n",
            "Epoch 00433: val_loss did not improve from 109.04664\n",
            "Epoch 434/500\n",
            "2/2 [==============================] - 0s 31ms/step - loss: 37.4398 - mean_squared_error: 37.4398 - val_loss: 285.7188 - val_mean_squared_error: 285.7188\n",
            "\n",
            "Epoch 00434: val_loss did not improve from 109.04664\n",
            "Epoch 435/500\n",
            "2/2 [==============================] - 0s 28ms/step - loss: 51.4784 - mean_squared_error: 51.4784 - val_loss: 331.7280 - val_mean_squared_error: 331.7280\n",
            "\n",
            "Epoch 00435: val_loss did not improve from 109.04664\n",
            "Epoch 436/500\n",
            "2/2 [==============================] - 0s 31ms/step - loss: 59.0552 - mean_squared_error: 59.0552 - val_loss: 301.2672 - val_mean_squared_error: 301.2672\n",
            "\n",
            "Epoch 00436: val_loss did not improve from 109.04664\n",
            "Epoch 437/500\n",
            "2/2 [==============================] - 0s 27ms/step - loss: 43.9645 - mean_squared_error: 43.9645 - val_loss: 302.6182 - val_mean_squared_error: 302.6182\n",
            "\n",
            "Epoch 00437: val_loss did not improve from 109.04664\n",
            "Epoch 438/500\n",
            "2/2 [==============================] - 0s 26ms/step - loss: 37.4426 - mean_squared_error: 37.4426 - val_loss: 364.0867 - val_mean_squared_error: 364.0867\n",
            "\n",
            "Epoch 00438: val_loss did not improve from 109.04664\n",
            "Epoch 439/500\n",
            "2/2 [==============================] - 0s 31ms/step - loss: 54.7550 - mean_squared_error: 54.7550 - val_loss: 302.1817 - val_mean_squared_error: 302.1817\n",
            "\n",
            "Epoch 00439: val_loss did not improve from 109.04664\n",
            "Epoch 440/500\n",
            "2/2 [==============================] - 0s 31ms/step - loss: 58.9904 - mean_squared_error: 58.9904 - val_loss: 315.2635 - val_mean_squared_error: 315.2635\n",
            "\n",
            "Epoch 00440: val_loss did not improve from 109.04664\n",
            "Epoch 441/500\n",
            "2/2 [==============================] - 0s 32ms/step - loss: 62.5410 - mean_squared_error: 62.5410 - val_loss: 302.6723 - val_mean_squared_error: 302.6723\n",
            "\n",
            "Epoch 00441: val_loss did not improve from 109.04664\n",
            "Epoch 442/500\n",
            "2/2 [==============================] - 0s 26ms/step - loss: 52.4926 - mean_squared_error: 52.4926 - val_loss: 296.8618 - val_mean_squared_error: 296.8618\n",
            "\n",
            "Epoch 00442: val_loss did not improve from 109.04664\n",
            "Epoch 443/500\n",
            "2/2 [==============================] - 0s 31ms/step - loss: 51.8761 - mean_squared_error: 51.8761 - val_loss: 339.9103 - val_mean_squared_error: 339.9103\n",
            "\n",
            "Epoch 00443: val_loss did not improve from 109.04664\n",
            "Epoch 444/500\n",
            "2/2 [==============================] - 0s 28ms/step - loss: 56.3031 - mean_squared_error: 56.3031 - val_loss: 303.7545 - val_mean_squared_error: 303.7545\n",
            "\n",
            "Epoch 00444: val_loss did not improve from 109.04664\n",
            "Epoch 445/500\n",
            "2/2 [==============================] - 0s 30ms/step - loss: 82.6301 - mean_squared_error: 82.6301 - val_loss: 294.9383 - val_mean_squared_error: 294.9383\n",
            "\n",
            "Epoch 00445: val_loss did not improve from 109.04664\n",
            "Epoch 446/500\n",
            "2/2 [==============================] - 0s 26ms/step - loss: 45.9807 - mean_squared_error: 45.9807 - val_loss: 342.5440 - val_mean_squared_error: 342.5440\n",
            "\n",
            "Epoch 00446: val_loss did not improve from 109.04664\n",
            "Epoch 447/500\n",
            "2/2 [==============================] - 0s 25ms/step - loss: 66.0010 - mean_squared_error: 66.0010 - val_loss: 257.3616 - val_mean_squared_error: 257.3616\n",
            "\n",
            "Epoch 00447: val_loss did not improve from 109.04664\n",
            "Epoch 448/500\n",
            "2/2 [==============================] - 0s 25ms/step - loss: 80.2914 - mean_squared_error: 80.2914 - val_loss: 290.9523 - val_mean_squared_error: 290.9523\n",
            "\n",
            "Epoch 00448: val_loss did not improve from 109.04664\n",
            "Epoch 449/500\n",
            "2/2 [==============================] - 0s 26ms/step - loss: 43.9089 - mean_squared_error: 43.9089 - val_loss: 339.3820 - val_mean_squared_error: 339.3820\n",
            "\n",
            "Epoch 00449: val_loss did not improve from 109.04664\n",
            "Epoch 450/500\n",
            "2/2 [==============================] - 0s 27ms/step - loss: 60.6653 - mean_squared_error: 60.6653 - val_loss: 285.5314 - val_mean_squared_error: 285.5314\n",
            "\n",
            "Epoch 00450: val_loss did not improve from 109.04664\n",
            "Epoch 451/500\n",
            "2/2 [==============================] - 0s 30ms/step - loss: 48.1990 - mean_squared_error: 48.1990 - val_loss: 300.2742 - val_mean_squared_error: 300.2742\n",
            "\n",
            "Epoch 00451: val_loss did not improve from 109.04664\n",
            "Epoch 452/500\n",
            "2/2 [==============================] - 0s 35ms/step - loss: 47.5128 - mean_squared_error: 47.5128 - val_loss: 286.5388 - val_mean_squared_error: 286.5388\n",
            "\n",
            "Epoch 00452: val_loss did not improve from 109.04664\n",
            "Epoch 453/500\n",
            "2/2 [==============================] - 0s 35ms/step - loss: 40.6865 - mean_squared_error: 40.6865 - val_loss: 281.6050 - val_mean_squared_error: 281.6050\n",
            "\n",
            "Epoch 00453: val_loss did not improve from 109.04664\n",
            "Epoch 454/500\n",
            "2/2 [==============================] - 0s 26ms/step - loss: 63.5068 - mean_squared_error: 63.5068 - val_loss: 319.9839 - val_mean_squared_error: 319.9839\n",
            "\n",
            "Epoch 00454: val_loss did not improve from 109.04664\n",
            "Epoch 455/500\n",
            "2/2 [==============================] - 0s 26ms/step - loss: 62.8259 - mean_squared_error: 62.8259 - val_loss: 286.2820 - val_mean_squared_error: 286.2820\n",
            "\n",
            "Epoch 00455: val_loss did not improve from 109.04664\n",
            "Epoch 456/500\n",
            "2/2 [==============================] - 0s 27ms/step - loss: 54.0990 - mean_squared_error: 54.0990 - val_loss: 269.7947 - val_mean_squared_error: 269.7947\n",
            "\n",
            "Epoch 00456: val_loss did not improve from 109.04664\n",
            "Epoch 457/500\n",
            "2/2 [==============================] - 0s 26ms/step - loss: 65.7850 - mean_squared_error: 65.7850 - val_loss: 304.6097 - val_mean_squared_error: 304.6097\n",
            "\n",
            "Epoch 00457: val_loss did not improve from 109.04664\n",
            "Epoch 458/500\n",
            "2/2 [==============================] - 0s 27ms/step - loss: 46.3969 - mean_squared_error: 46.3969 - val_loss: 278.1776 - val_mean_squared_error: 278.1776\n",
            "\n",
            "Epoch 00458: val_loss did not improve from 109.04664\n",
            "Epoch 459/500\n",
            "2/2 [==============================] - 0s 34ms/step - loss: 44.9184 - mean_squared_error: 44.9184 - val_loss: 282.2102 - val_mean_squared_error: 282.2102\n",
            "\n",
            "Epoch 00459: val_loss did not improve from 109.04664\n",
            "Epoch 460/500\n",
            "2/2 [==============================] - 0s 31ms/step - loss: 44.7184 - mean_squared_error: 44.7184 - val_loss: 288.0202 - val_mean_squared_error: 288.0202\n",
            "\n",
            "Epoch 00460: val_loss did not improve from 109.04664\n",
            "Epoch 461/500\n",
            "2/2 [==============================] - 0s 26ms/step - loss: 37.0739 - mean_squared_error: 37.0739 - val_loss: 298.4496 - val_mean_squared_error: 298.4496\n",
            "\n",
            "Epoch 00461: val_loss did not improve from 109.04664\n",
            "Epoch 462/500\n",
            "2/2 [==============================] - 0s 26ms/step - loss: 37.7259 - mean_squared_error: 37.7259 - val_loss: 305.8013 - val_mean_squared_error: 305.8013\n",
            "\n",
            "Epoch 00462: val_loss did not improve from 109.04664\n",
            "Epoch 463/500\n",
            "2/2 [==============================] - 0s 44ms/step - loss: 40.6740 - mean_squared_error: 40.6740 - val_loss: 313.6093 - val_mean_squared_error: 313.6093\n",
            "\n",
            "Epoch 00463: val_loss did not improve from 109.04664\n",
            "Epoch 464/500\n",
            "2/2 [==============================] - 0s 33ms/step - loss: 37.5891 - mean_squared_error: 37.5891 - val_loss: 338.1705 - val_mean_squared_error: 338.1705\n",
            "\n",
            "Epoch 00464: val_loss did not improve from 109.04664\n",
            "Epoch 465/500\n",
            "2/2 [==============================] - 0s 33ms/step - loss: 35.5839 - mean_squared_error: 35.5839 - val_loss: 353.4754 - val_mean_squared_error: 353.4754\n",
            "\n",
            "Epoch 00465: val_loss did not improve from 109.04664\n",
            "Epoch 466/500\n",
            "2/2 [==============================] - 0s 28ms/step - loss: 35.0408 - mean_squared_error: 35.0408 - val_loss: 399.2299 - val_mean_squared_error: 399.2299\n",
            "\n",
            "Epoch 00466: val_loss did not improve from 109.04664\n",
            "Epoch 467/500\n",
            "2/2 [==============================] - 0s 27ms/step - loss: 37.7510 - mean_squared_error: 37.7510 - val_loss: 384.9742 - val_mean_squared_error: 384.9742\n",
            "\n",
            "Epoch 00467: val_loss did not improve from 109.04664\n",
            "Epoch 468/500\n",
            "2/2 [==============================] - 0s 27ms/step - loss: 42.7511 - mean_squared_error: 42.7511 - val_loss: 385.6431 - val_mean_squared_error: 385.6431\n",
            "\n",
            "Epoch 00468: val_loss did not improve from 109.04664\n",
            "Epoch 469/500\n",
            "2/2 [==============================] - 0s 27ms/step - loss: 43.5888 - mean_squared_error: 43.5888 - val_loss: 371.5266 - val_mean_squared_error: 371.5266\n",
            "\n",
            "Epoch 00469: val_loss did not improve from 109.04664\n",
            "Epoch 470/500\n",
            "2/2 [==============================] - 0s 28ms/step - loss: 35.7206 - mean_squared_error: 35.7206 - val_loss: 365.4874 - val_mean_squared_error: 365.4874\n",
            "\n",
            "Epoch 00470: val_loss did not improve from 109.04664\n",
            "Epoch 471/500\n",
            "2/2 [==============================] - 0s 26ms/step - loss: 47.3813 - mean_squared_error: 47.3813 - val_loss: 351.2217 - val_mean_squared_error: 351.2217\n",
            "\n",
            "Epoch 00471: val_loss did not improve from 109.04664\n",
            "Epoch 472/500\n",
            "2/2 [==============================] - 0s 36ms/step - loss: 34.3525 - mean_squared_error: 34.3525 - val_loss: 353.7853 - val_mean_squared_error: 353.7853\n",
            "\n",
            "Epoch 00472: val_loss did not improve from 109.04664\n",
            "Epoch 473/500\n",
            "2/2 [==============================] - 0s 24ms/step - loss: 39.9564 - mean_squared_error: 39.9564 - val_loss: 362.7098 - val_mean_squared_error: 362.7098\n",
            "\n",
            "Epoch 00473: val_loss did not improve from 109.04664\n",
            "Epoch 474/500\n",
            "2/2 [==============================] - 0s 37ms/step - loss: 39.5290 - mean_squared_error: 39.5290 - val_loss: 379.5186 - val_mean_squared_error: 379.5186\n",
            "\n",
            "Epoch 00474: val_loss did not improve from 109.04664\n",
            "Epoch 475/500\n",
            "2/2 [==============================] - 0s 28ms/step - loss: 44.5561 - mean_squared_error: 44.5561 - val_loss: 384.6870 - val_mean_squared_error: 384.6870\n",
            "\n",
            "Epoch 00475: val_loss did not improve from 109.04664\n",
            "Epoch 476/500\n",
            "2/2 [==============================] - 0s 30ms/step - loss: 36.2544 - mean_squared_error: 36.2544 - val_loss: 396.6699 - val_mean_squared_error: 396.6699\n",
            "\n",
            "Epoch 00476: val_loss did not improve from 109.04664\n",
            "Epoch 477/500\n",
            "2/2 [==============================] - 0s 41ms/step - loss: 38.6877 - mean_squared_error: 38.6877 - val_loss: 427.7094 - val_mean_squared_error: 427.7094\n",
            "\n",
            "Epoch 00477: val_loss did not improve from 109.04664\n",
            "Epoch 478/500\n",
            "2/2 [==============================] - 0s 45ms/step - loss: 39.6190 - mean_squared_error: 39.6190 - val_loss: 440.8896 - val_mean_squared_error: 440.8896\n",
            "\n",
            "Epoch 00478: val_loss did not improve from 109.04664\n",
            "Epoch 479/500\n",
            "2/2 [==============================] - 0s 27ms/step - loss: 46.0228 - mean_squared_error: 46.0228 - val_loss: 405.2800 - val_mean_squared_error: 405.2800\n",
            "\n",
            "Epoch 00479: val_loss did not improve from 109.04664\n",
            "Epoch 480/500\n",
            "2/2 [==============================] - 0s 30ms/step - loss: 41.4044 - mean_squared_error: 41.4044 - val_loss: 373.6437 - val_mean_squared_error: 373.6437\n",
            "\n",
            "Epoch 00480: val_loss did not improve from 109.04664\n",
            "Epoch 481/500\n",
            "2/2 [==============================] - 0s 36ms/step - loss: 31.0275 - mean_squared_error: 31.0275 - val_loss: 394.7023 - val_mean_squared_error: 394.7023\n",
            "\n",
            "Epoch 00481: val_loss did not improve from 109.04664\n",
            "Epoch 482/500\n",
            "2/2 [==============================] - 0s 31ms/step - loss: 49.3040 - mean_squared_error: 49.3040 - val_loss: 400.3208 - val_mean_squared_error: 400.3208\n",
            "\n",
            "Epoch 00482: val_loss did not improve from 109.04664\n",
            "Epoch 483/500\n",
            "2/2 [==============================] - 0s 29ms/step - loss: 43.0598 - mean_squared_error: 43.0598 - val_loss: 403.2840 - val_mean_squared_error: 403.2840\n",
            "\n",
            "Epoch 00483: val_loss did not improve from 109.04664\n",
            "Epoch 484/500\n",
            "2/2 [==============================] - 0s 30ms/step - loss: 38.6204 - mean_squared_error: 38.6204 - val_loss: 398.1699 - val_mean_squared_error: 398.1699\n",
            "\n",
            "Epoch 00484: val_loss did not improve from 109.04664\n",
            "Epoch 485/500\n",
            "2/2 [==============================] - 0s 25ms/step - loss: 34.4686 - mean_squared_error: 34.4686 - val_loss: 407.2233 - val_mean_squared_error: 407.2233\n",
            "\n",
            "Epoch 00485: val_loss did not improve from 109.04664\n",
            "Epoch 486/500\n",
            "2/2 [==============================] - 0s 26ms/step - loss: 43.5836 - mean_squared_error: 43.5836 - val_loss: 422.3166 - val_mean_squared_error: 422.3166\n",
            "\n",
            "Epoch 00486: val_loss did not improve from 109.04664\n",
            "Epoch 487/500\n",
            "2/2 [==============================] - 0s 41ms/step - loss: 35.8935 - mean_squared_error: 35.8935 - val_loss: 408.3651 - val_mean_squared_error: 408.3651\n",
            "\n",
            "Epoch 00487: val_loss did not improve from 109.04664\n",
            "Epoch 488/500\n",
            "2/2 [==============================] - 0s 26ms/step - loss: 36.6465 - mean_squared_error: 36.6465 - val_loss: 436.3014 - val_mean_squared_error: 436.3014\n",
            "\n",
            "Epoch 00488: val_loss did not improve from 109.04664\n",
            "Epoch 489/500\n",
            "2/2 [==============================] - 0s 25ms/step - loss: 43.8448 - mean_squared_error: 43.8448 - val_loss: 422.5184 - val_mean_squared_error: 422.5184\n",
            "\n",
            "Epoch 00489: val_loss did not improve from 109.04664\n",
            "Epoch 490/500\n",
            "2/2 [==============================] - 0s 26ms/step - loss: 37.6855 - mean_squared_error: 37.6855 - val_loss: 391.1229 - val_mean_squared_error: 391.1229\n",
            "\n",
            "Epoch 00490: val_loss did not improve from 109.04664\n",
            "Epoch 491/500\n",
            "2/2 [==============================] - 0s 32ms/step - loss: 33.4434 - mean_squared_error: 33.4434 - val_loss: 397.9364 - val_mean_squared_error: 397.9364\n",
            "\n",
            "Epoch 00491: val_loss did not improve from 109.04664\n",
            "Epoch 492/500\n",
            "2/2 [==============================] - 0s 34ms/step - loss: 51.8410 - mean_squared_error: 51.8410 - val_loss: 404.0723 - val_mean_squared_error: 404.0723\n",
            "\n",
            "Epoch 00492: val_loss did not improve from 109.04664\n",
            "Epoch 493/500\n",
            "2/2 [==============================] - 0s 29ms/step - loss: 42.7132 - mean_squared_error: 42.7132 - val_loss: 409.0156 - val_mean_squared_error: 409.0156\n",
            "\n",
            "Epoch 00493: val_loss did not improve from 109.04664\n",
            "Epoch 494/500\n",
            "2/2 [==============================] - 0s 27ms/step - loss: 33.6438 - mean_squared_error: 33.6438 - val_loss: 426.5464 - val_mean_squared_error: 426.5464\n",
            "\n",
            "Epoch 00494: val_loss did not improve from 109.04664\n",
            "Epoch 495/500\n",
            "2/2 [==============================] - 0s 27ms/step - loss: 49.1474 - mean_squared_error: 49.1474 - val_loss: 406.8521 - val_mean_squared_error: 406.8521\n",
            "\n",
            "Epoch 00495: val_loss did not improve from 109.04664\n",
            "Epoch 496/500\n",
            "2/2 [==============================] - 0s 27ms/step - loss: 41.7386 - mean_squared_error: 41.7386 - val_loss: 445.3324 - val_mean_squared_error: 445.3324\n",
            "\n",
            "Epoch 00496: val_loss did not improve from 109.04664\n",
            "Epoch 497/500\n",
            "2/2 [==============================] - 0s 31ms/step - loss: 41.8372 - mean_squared_error: 41.8372 - val_loss: 429.6852 - val_mean_squared_error: 429.6852\n",
            "\n",
            "Epoch 00497: val_loss did not improve from 109.04664\n",
            "Epoch 498/500\n",
            "2/2 [==============================] - 0s 28ms/step - loss: 40.2585 - mean_squared_error: 40.2585 - val_loss: 380.0690 - val_mean_squared_error: 380.0690\n",
            "\n",
            "Epoch 00498: val_loss did not improve from 109.04664\n",
            "Epoch 499/500\n",
            "2/2 [==============================] - 0s 26ms/step - loss: 50.2789 - mean_squared_error: 50.2789 - val_loss: 375.9012 - val_mean_squared_error: 375.9012\n",
            "\n",
            "Epoch 00499: val_loss did not improve from 109.04664\n",
            "Epoch 500/500\n",
            "2/2 [==============================] - 0s 27ms/step - loss: 38.9423 - mean_squared_error: 38.9423 - val_loss: 414.0301 - val_mean_squared_error: 414.0301\n",
            "\n",
            "Epoch 00500: val_loss did not improve from 109.04664\n"
          ],
          "name": "stdout"
        },
        {
          "output_type": "execute_result",
          "data": {
            "text/plain": [
              "<keras.callbacks.History at 0x7feaec7dce50>"
            ]
          },
          "metadata": {},
          "execution_count": 348
        }
      ]
    },
    {
      "cell_type": "code",
      "metadata": {
        "id": "S0TQpD-vdTtb",
        "colab": {
          "base_uri": "https://localhost:8080/"
        },
        "outputId": "e0d76a4b-9b75-4ece-d395-b17fe9567365"
      },
      "source": [
        "np.sqrt(414.0301)"
      ],
      "execution_count": null,
      "outputs": [
        {
          "output_type": "execute_result",
          "data": {
            "text/plain": [
              "20.34772960307857"
            ]
          },
          "metadata": {},
          "execution_count": 349
        }
      ]
    },
    {
      "cell_type": "markdown",
      "metadata": {
        "id": "YYQ2zXOG2imb"
      },
      "source": [
        "## Linear Regression"
      ]
    },
    {
      "cell_type": "code",
      "metadata": {
        "id": "7RThGCtyFgN8"
      },
      "source": [
        "X = features \n",
        "y = labels"
      ],
      "execution_count": null,
      "outputs": []
    },
    {
      "cell_type": "code",
      "metadata": {
        "colab": {
          "base_uri": "https://localhost:8080/"
        },
        "id": "hCAugkocujlO",
        "outputId": "d61c9c04-f578-467b-d402-14422e216a97"
      },
      "source": [
        "from sklearn.linear_model import LinearRegression\n",
        "X_train, X_test, y_train, y_test = train_test_split(X,y,test_size=.2, random_state=42)\n",
        "reg = LinearRegression().fit(X_train, y_train)\n",
        "reg.score(X_train, y_train)"
      ],
      "execution_count": null,
      "outputs": [
        {
          "output_type": "execute_result",
          "data": {
            "text/plain": [
              "0.6822066275868999"
            ]
          },
          "metadata": {},
          "execution_count": 504
        }
      ]
    },
    {
      "cell_type": "code",
      "metadata": {
        "id": "GCunjy1_NcXL"
      },
      "source": [
        "import pandas as pd\n",
        "import xgboost as xgb\n",
        "import numpy as np\n",
        "from sklearn.experimental import enable_iterative_imputer\n",
        "from sklearn.impute import IterativeImputer\n",
        "from sklearn.preprocessing import StandardScaler\n",
        "from sklearn.model_selection import cross_validate, GridSearchCV, KFold\n",
        "from sklearn.metrics import mean_squared_error"
      ],
      "execution_count": null,
      "outputs": []
    },
    {
      "cell_type": "code",
      "metadata": {
        "colab": {
          "base_uri": "https://localhost:8080/"
        },
        "id": "QzZAJXEkNoAl",
        "outputId": "9b874b77-f946-4977-ff90-8fb1a34a7d99"
      },
      "source": [
        "### Linear Regression\n",
        "from sklearn.linear_model import LinearRegression\n",
        "clf = LinearRegression()\n",
        "scores = cross_validate(clf, features, labels, cv=5, scoring=['neg_root_mean_squared_error'])['test_neg_root_mean_squared_error']\n",
        "print(np.mean(scores))"
      ],
      "execution_count": null,
      "outputs": [
        {
          "output_type": "stream",
          "text": [
            "-0.008612578244648407\n"
          ],
          "name": "stdout"
        }
      ]
    },
    {
      "cell_type": "code",
      "metadata": {
        "colab": {
          "base_uri": "https://localhost:8080/"
        },
        "id": "kAl4_ZhmNvP6",
        "outputId": "fb8f97b4-b8b5-40ea-cb54-cb942773d0db"
      },
      "source": [
        "np.std(scores)"
      ],
      "execution_count": null,
      "outputs": [
        {
          "output_type": "execute_result",
          "data": {
            "text/plain": [
              "0.0033938618435147582"
            ]
          },
          "metadata": {},
          "execution_count": 508
        }
      ]
    },
    {
      "cell_type": "code",
      "metadata": {
        "colab": {
          "base_uri": "https://localhost:8080/"
        },
        "id": "i2RyyVQnN1e7",
        "outputId": "9730ce8e-e46e-4e28-a1d3-efc2faa694d2"
      },
      "source": [
        "0.0086/range"
      ],
      "execution_count": null,
      "outputs": [
        {
          "output_type": "execute_result",
          "data": {
            "text/plain": [
              "0.4223996334044814"
            ]
          },
          "metadata": {},
          "execution_count": 510
        }
      ]
    }
  ]
}
