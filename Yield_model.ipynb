{
  "nbformat": 4,
  "nbformat_minor": 0,
  "metadata": {
    "colab": {
      "name": "Yield_prediction_model.ipynb",
      "provenance": [],
      "collapsed_sections": []
    },
    "kernelspec": {
      "display_name": "Python 3",
      "name": "python3"
    },
    "language_info": {
      "name": "python"
    }
  },
  "cells": [
    {
      "cell_type": "code",
      "metadata": {
        "id": "YeL8OsjKB5Bl"
      },
      "source": [
        "import numpy as np # array operations\n",
        "import pandas as pd # dataframe operations\n",
        "from scipy.stats import norm\n",
        "\n",
        "# plotting\n",
        "import matplotlib.pyplot as plt \n",
        "from matplotlib.ticker import (MultipleLocator,FormatStrFormatter,AutoMinorLocator)\n",
        "from mpl_toolkits.mplot3d import Axes3D\n",
        "\n",
        "# Machine learning related functions\n",
        "from sklearn.preprocessing import StandardScaler #normalizing inputs\n",
        "from sklearn.decomposition import PCA  # principal component analysis\n",
        "from sklearn.gaussian_process import GaussianProcessRegressor \n",
        "from sklearn.preprocessing import StandardScaler\n",
        "from sklearn.metrics import r2_score,mean_squared_error\n",
        "from sklearn.ensemble import RandomForestRegressor\n",
        "from sklearn.model_selection import train_test_split\n",
        "\n",
        "from numpy import mean\n",
        "from numpy import std\n",
        "from sklearn.datasets import make_classification\n",
        "from sklearn.model_selection import KFold\n",
        "from sklearn.model_selection import cross_val_score\n",
        "\n",
        "from tqdm.auto import tqdm #progress bar \n",
        "from warnings import filterwarnings #disable warnings\n",
        "filterwarnings('ignore')\n",
        "from IPython import display \n",
        "%matplotlib inline"
      ],
      "execution_count": 1,
      "outputs": []
    },
    {
      "cell_type": "code",
      "metadata": {
        "colab": {
          "resources": {
            "http://localhost:8080/nbextensions/google.colab/files.js": {
              "data": "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",
              "ok": true,
              "headers": [
                [
                  "content-type",
                  "application/javascript"
                ]
              ],
              "status": 200,
              "status_text": ""
            }
          },
          "base_uri": "https://localhost:8080/",
          "height": 73
        },
        "id": "KXD8T5_gDV6i",
        "outputId": "560a4c6b-7e66-475a-f542-abb108014172"
      },
      "source": [
        "from google.colab import files\n",
        "uploaded = files.upload()"
      ],
      "execution_count": 2,
      "outputs": [
        {
          "output_type": "display_data",
          "data": {
            "text/html": [
              "\n",
              "     <input type=\"file\" id=\"files-a6d9e788-dd8f-4944-9ded-3b8a3335583e\" name=\"files[]\" multiple disabled\n",
              "        style=\"border:none\" />\n",
              "     <output id=\"result-a6d9e788-dd8f-4944-9ded-3b8a3335583e\">\n",
              "      Upload widget is only available when the cell has been executed in the\n",
              "      current browser session. Please rerun this cell to enable.\n",
              "      </output>\n",
              "      <script src=\"/nbextensions/google.colab/files.js\"></script> "
            ],
            "text/plain": [
              "<IPython.core.display.HTML object>"
            ]
          },
          "metadata": {}
        },
        {
          "output_type": "stream",
          "text": [
            "Saving Yield_dataset_cleaned.csv to Yield_dataset_cleaned.csv\n"
          ],
          "name": "stdout"
        }
      ]
    },
    {
      "cell_type": "markdown",
      "metadata": {
        "id": "hUiS62FtDmkr"
      },
      "source": [
        "\n",
        "\n",
        "## Data preprocessing"
      ]
    },
    {
      "cell_type": "code",
      "metadata": {
        "colab": {
          "base_uri": "https://localhost:8080/"
        },
        "id": "MaWeIt-U1dF4",
        "outputId": "6fbc87b5-bafa-42ca-9344-116d04f0574a"
      },
      "source": [
        "# mount drive\n",
        "from google.colab import drive\n",
        "drive.mount('/content/gdrive')"
      ],
      "execution_count": null,
      "outputs": [
        {
          "output_type": "stream",
          "text": [
            "Mounted at /content/gdrive\n"
          ],
          "name": "stdout"
        }
      ]
    },
    {
      "cell_type": "code",
      "metadata": {
        "id": "3mQmAU0XDXvB"
      },
      "source": [
        "# reading the data\n",
        "df = pd.read_csv('Yield_dataset_cleaned.csv', sep=\",\")\n",
        "df['Catalyst'] = df['Catalyst ']\n",
        "#df= df.drop(columns=['Catalyst ','Time (min)','V(pore) (cm3/g)'])\n",
        "df= df.drop(columns=['Catalyst '])\n",
        "pd.set_option(\"display.max_rows\", None, \"display.max_columns\", None)"
      ],
      "execution_count": 3,
      "outputs": []
    },
    {
      "cell_type": "code",
      "metadata": {
        "colab": {
          "base_uri": "https://localhost:8080/"
        },
        "id": "-ffGt-jZaRVJ",
        "outputId": "82646370-78f1-4325-f1ca-5fbc9233fe01"
      },
      "source": [
        "# removing DMSO from the dataset (outliers)\n",
        "df_3 =df.loc[df['phase_2']=='DMSO']\n",
        "df_4 =df.loc[df['phase_1']=='DMSO']\n",
        "print(df_3.shape,df_4.shape)\n",
        "df = df[df.phase_2 !='DMSO']\n",
        "df = df[df.phase_1 !='DMSO']"
      ],
      "execution_count": null,
      "outputs": [
        {
          "output_type": "stream",
          "text": [
            "(16, 28) (0, 28)\n"
          ],
          "name": "stdout"
        }
      ]
    },
    {
      "cell_type": "code",
      "metadata": {
        "id": "Z3G736UuDpb5"
      },
      "source": [
        "#Handling typos\n",
        "df.loc[df['Type of catalyst'] =='Transition Metal Zolite','Type of catalyst'] = 'Transition Metal Zeolite'\n",
        "df.loc[df['Type of catalyst'] =='Protonated Zeolites','Type of catalyst'] = 'Protonated Zeolite'\n",
        "df.loc[df['Substrate'] =='Fructose ','Substrate'] = 'Fructose'\n",
        "df.loc[df['Solvent system'] =='Single Phase','Solvent system'] = 'Single phase'\n",
        "df.loc[df['Solvent system'] =='Biphasic ','Solvent system'] = 'Biphasic'\n",
        "df.loc[df['phase_1'] =='water','phase_1'] = 'Water'\n",
        "df.loc[df['phase_1'] =='Water ','phase_1'] = 'Water'\n",
        "df.loc[df['phase_1'] =='THF ','phase_1'] = 'THF'\n",
        "df.loc[df['phase_2'] =='THF ','phase_2'] = 'THF'"
      ],
      "execution_count": null,
      "outputs": []
    },
    {
      "cell_type": "code",
      "metadata": {
        "id": "Y0xe7DLkD33l"
      },
      "source": [
        "#handling Nan\n",
        "df['phase_2'] = df['phase_2'].fillna(\"one_phase\")\n",
        "for i in ['Surface area (m2/g) BET','V(mic) (cm3/g)','TPD (NH3) (micmol/g)','V(pore) (cm3/g)']:\n",
        "    df[i] = df[i].fillna(df.groupby('Catalyst')[i].transform('mean'))"
      ],
      "execution_count": null,
      "outputs": []
    },
    {
      "cell_type": "code",
      "metadata": {
        "id": "4oAGUbsZD8t5"
      },
      "source": [
        "df =df.loc[df['Substrate']=='Fructose']\n",
        "# remove mesopore vol because of high correlation\n",
        "df = df.drop(columns=['Substrate','M/Al (ie Sn, Cu..)','Lewis/Brosnted  acid Sites','Flow/Batch','Heating'])\n",
        "df = df[df['Si/Al'].notna()]"
      ],
      "execution_count": null,
      "outputs": []
    },
    {
      "cell_type": "code",
      "metadata": {
        "colab": {
          "base_uri": "https://localhost:8080/"
        },
        "id": "-hluJWxNECpA",
        "outputId": "9ba49851-e903-42d6-ca8b-86ed44492c33"
      },
      "source": [
        "df.shape"
      ],
      "execution_count": null,
      "outputs": [
        {
          "output_type": "execute_result",
          "data": {
            "text/plain": [
              "(108, 23)"
            ]
          },
          "metadata": {},
          "execution_count": 9
        }
      ]
    },
    {
      "cell_type": "code",
      "metadata": {
        "id": "JDwwlCeOtLze"
      },
      "source": [
        "df['Catalyst'] = df['Catalyst'].astype('category')\n",
        "cat_dict =dict(enumerate(df['Catalyst'].cat.categories ))"
      ],
      "execution_count": null,
      "outputs": []
    },
    {
      "cell_type": "code",
      "metadata": {
        "colab": {
          "base_uri": "https://localhost:8080/"
        },
        "id": "rq7zXqRAEEYs",
        "outputId": "04c3da69-228c-4394-a7e5-99eab9f2d863"
      },
      "source": [
        "#label encoding\n",
        "for i in ['Type of catalyst','Catalyst','Solvent system','phase_1','phase_2']:\n",
        "    df[i] = df[i].astype('category')\n",
        "    df[i] = df[i].cat.codes\n",
        "df.dtypes"
      ],
      "execution_count": null,
      "outputs": [
        {
          "output_type": "execute_result",
          "data": {
            "text/plain": [
              "Type of catalyst                   int8\n",
              "Si/Al                           float64\n",
              "Surface area (m2/g) BET         float64\n",
              "Avg_pore_diameter(nm)           float64\n",
              "V(pore) (cm3/g)                 float64\n",
              "V(mic) (cm3/g)                  float64\n",
              "V(mesopore) (cm3/g)             float64\n",
              "TPD (NH3) (micmol/g)            float64\n",
              "Catalyst/Substrate loading\\n    float64\n",
              "Solvent system                     int8\n",
              "phase_1                            int8\n",
              "phase_2                            int8\n",
              "phase_2/phase_1                 float64\n",
              "organic solvent                   int64\n",
              "Total dipole moment(D)          float64\n",
              "Organic dipole                  float64\n",
              "Temperature ( °C)                 int64\n",
              "Time (min)                        int64\n",
              "HMF Yield                       float64\n",
              "Fructose Conversion             float64\n",
              "HMF Selectivity                 float64\n",
              "Unnamed: 27                     float64\n",
              "Catalyst                           int8\n",
              "dtype: object"
            ]
          },
          "metadata": {},
          "execution_count": 11
        }
      ]
    },
    {
      "cell_type": "code",
      "metadata": {
        "id": "c2IIncscJ092"
      },
      "source": [
        "#df= df.drop(columns=['Type of catalyst','Solvent system','phase_1','phase_2','Catalyst','organic solvent','Organic dipole','Time (min)','V(mesopore) (cm3/g)'])\n",
        "df= df.drop(columns=['organic solvent','Organic dipole','Time (min)','V(mesopore) (cm3/g)','Type of catalyst','Catalyst','Fructose Conversion','HMF Selectivity','Unnamed: 27'])"
      ],
      "execution_count": 4,
      "outputs": []
    },
    {
      "cell_type": "code",
      "metadata": {
        "colab": {
          "base_uri": "https://localhost:8080/"
        },
        "id": "uRcG6anXEHG7",
        "outputId": "23ad4ccb-a33c-4b2a-fec1-b08dc6e9af90"
      },
      "source": [
        "# based on feature importance: \n",
        "#df = df.drop(columns=['inorganic solvent','Surface area (m2/g) BET','Type of catalyst','Catalyst','V(mesopore) (cm3/g)','V(pore) (cm3/g)','V(mic) (cm3/g)'])\n",
        "#df_2 = df[df['V(pore) (cm3/g)'].isna()]\n",
        "df = df.dropna()\n",
        "#df = df.fillna(df.mean())  \n",
        "df.shape"
      ],
      "execution_count": null,
      "outputs": [
        {
          "output_type": "execute_result",
          "data": {
            "text/plain": [
              "(103, 14)"
            ]
          },
          "metadata": {},
          "execution_count": 14
        }
      ]
    },
    {
      "cell_type": "code",
      "metadata": {
        "id": "GUf1RJXKwwVk"
      },
      "source": [
        "# figure(figsize=(18, 8), dpi=120)\n",
        "# plt.plot(df['Catalyst'],df['TPD (NH3) (micmol/g)'],'o')\n",
        "# positions = (0, 1, 2, 3, 4, 5, 6, 7, 8, 9, 10, 11, 12)\n",
        "# labels = ('Al-SBA15', 'BEA(modified) ', 'H-BEA', 'H-MCM-22', 'H-MOR', 'H-USY', 'H-ZSM-5', 'KL', 'KL (modified) *', 'USY (modified) ', 'USY (modified) *', 'ZSM-5 (modified)', 'ZSM-5 (modified) *')\n",
        "# plt.xticks(positions, labels)\n",
        "# plt.show()"
      ],
      "execution_count": null,
      "outputs": []
    },
    {
      "cell_type": "code",
      "metadata": {
        "colab": {
          "base_uri": "https://localhost:8080/",
          "height": 349
        },
        "id": "40kS2DnQ-_Gb",
        "outputId": "eeafc77e-c8c9-4f8f-c867-bc56145ee880"
      },
      "source": [
        "df.describe()"
      ],
      "execution_count": null,
      "outputs": [
        {
          "output_type": "execute_result",
          "data": {
            "text/html": [
              "<div>\n",
              "<style scoped>\n",
              "    .dataframe tbody tr th:only-of-type {\n",
              "        vertical-align: middle;\n",
              "    }\n",
              "\n",
              "    .dataframe tbody tr th {\n",
              "        vertical-align: top;\n",
              "    }\n",
              "\n",
              "    .dataframe thead th {\n",
              "        text-align: right;\n",
              "    }\n",
              "</style>\n",
              "<table border=\"1\" class=\"dataframe\">\n",
              "  <thead>\n",
              "    <tr style=\"text-align: right;\">\n",
              "      <th></th>\n",
              "      <th>Si/Al</th>\n",
              "      <th>Surface area (m2/g) BET</th>\n",
              "      <th>Avg_pore_diameter(nm)</th>\n",
              "      <th>V(pore) (cm3/g)</th>\n",
              "      <th>V(mic) (cm3/g)</th>\n",
              "      <th>TPD (NH3) (micmol/g)</th>\n",
              "      <th>Catalyst/Substrate loading\\n</th>\n",
              "      <th>Solvent system</th>\n",
              "      <th>phase_1</th>\n",
              "      <th>phase_2</th>\n",
              "      <th>phase_2/phase_1</th>\n",
              "      <th>Total dipole moment(D)</th>\n",
              "      <th>Temperature ( °C)</th>\n",
              "      <th>HMF Yield</th>\n",
              "    </tr>\n",
              "  </thead>\n",
              "  <tbody>\n",
              "    <tr>\n",
              "      <th>count</th>\n",
              "      <td>103.000000</td>\n",
              "      <td>103.000000</td>\n",
              "      <td>103.000000</td>\n",
              "      <td>103.000000</td>\n",
              "      <td>103.000000</td>\n",
              "      <td>103.000000</td>\n",
              "      <td>103.000000</td>\n",
              "      <td>103.000000</td>\n",
              "      <td>103.000000</td>\n",
              "      <td>103.000000</td>\n",
              "      <td>103.000000</td>\n",
              "      <td>103.000000</td>\n",
              "      <td>103.000000</td>\n",
              "      <td>103.000000</td>\n",
              "    </tr>\n",
              "    <tr>\n",
              "      <th>mean</th>\n",
              "      <td>23.527282</td>\n",
              "      <td>623.868551</td>\n",
              "      <td>0.656602</td>\n",
              "      <td>0.405317</td>\n",
              "      <td>0.204961</td>\n",
              "      <td>682.672350</td>\n",
              "      <td>0.369027</td>\n",
              "      <td>0.378641</td>\n",
              "      <td>0.592233</td>\n",
              "      <td>10.815534</td>\n",
              "      <td>22.508091</td>\n",
              "      <td>2.960323</td>\n",
              "      <td>151.067961</td>\n",
              "      <td>25.933759</td>\n",
              "    </tr>\n",
              "    <tr>\n",
              "      <th>std</th>\n",
              "      <td>19.356391</td>\n",
              "      <td>189.364672</td>\n",
              "      <td>0.073131</td>\n",
              "      <td>0.174966</td>\n",
              "      <td>0.061227</td>\n",
              "      <td>399.432041</td>\n",
              "      <td>0.282209</td>\n",
              "      <td>0.487420</td>\n",
              "      <td>0.797507</td>\n",
              "      <td>4.545516</td>\n",
              "      <td>38.346995</td>\n",
              "      <td>1.640932</td>\n",
              "      <td>16.769055</td>\n",
              "      <td>19.496235</td>\n",
              "    </tr>\n",
              "    <tr>\n",
              "      <th>min</th>\n",
              "      <td>2.600000</td>\n",
              "      <td>299.000000</td>\n",
              "      <td>0.550000</td>\n",
              "      <td>0.178000</td>\n",
              "      <td>0.090780</td>\n",
              "      <td>120.000000</td>\n",
              "      <td>0.100000</td>\n",
              "      <td>0.000000</td>\n",
              "      <td>-1.000000</td>\n",
              "      <td>0.000000</td>\n",
              "      <td>0.000000</td>\n",
              "      <td>0.450000</td>\n",
              "      <td>100.000000</td>\n",
              "      <td>0.240000</td>\n",
              "    </tr>\n",
              "    <tr>\n",
              "      <th>25%</th>\n",
              "      <td>12.250000</td>\n",
              "      <td>482.714286</td>\n",
              "      <td>0.590000</td>\n",
              "      <td>0.300000</td>\n",
              "      <td>0.154880</td>\n",
              "      <td>328.000000</td>\n",
              "      <td>0.200000</td>\n",
              "      <td>0.000000</td>\n",
              "      <td>1.000000</td>\n",
              "      <td>8.500000</td>\n",
              "      <td>1.000000</td>\n",
              "      <td>1.850000</td>\n",
              "      <td>150.000000</td>\n",
              "      <td>9.850000</td>\n",
              "    </tr>\n",
              "    <tr>\n",
              "      <th>50%</th>\n",
              "      <td>15.600000</td>\n",
              "      <td>528.000000</td>\n",
              "      <td>0.670000</td>\n",
              "      <td>0.352000</td>\n",
              "      <td>0.198500</td>\n",
              "      <td>580.000000</td>\n",
              "      <td>0.285714</td>\n",
              "      <td>0.000000</td>\n",
              "      <td>1.000000</td>\n",
              "      <td>10.000000</td>\n",
              "      <td>5.000000</td>\n",
              "      <td>2.641667</td>\n",
              "      <td>160.000000</td>\n",
              "      <td>20.000000</td>\n",
              "    </tr>\n",
              "    <tr>\n",
              "      <th>75%</th>\n",
              "      <td>26.635000</td>\n",
              "      <td>780.000000</td>\n",
              "      <td>0.740000</td>\n",
              "      <td>0.537600</td>\n",
              "      <td>0.270000</td>\n",
              "      <td>923.000000</td>\n",
              "      <td>0.400000</td>\n",
              "      <td>1.000000</td>\n",
              "      <td>1.000000</td>\n",
              "      <td>12.500000</td>\n",
              "      <td>10.000000</td>\n",
              "      <td>3.425000</td>\n",
              "      <td>165.000000</td>\n",
              "      <td>40.135000</td>\n",
              "    </tr>\n",
              "    <tr>\n",
              "      <th>max</th>\n",
              "      <td>103.000000</td>\n",
              "      <td>1219.000000</td>\n",
              "      <td>0.740000</td>\n",
              "      <td>1.301000</td>\n",
              "      <td>0.359000</td>\n",
              "      <td>1603.000000</td>\n",
              "      <td>1.333333</td>\n",
              "      <td>1.000000</td>\n",
              "      <td>1.000000</td>\n",
              "      <td>18.000000</td>\n",
              "      <td>100.000000</td>\n",
              "      <td>10.295000</td>\n",
              "      <td>195.000000</td>\n",
              "      <td>81.134200</td>\n",
              "    </tr>\n",
              "  </tbody>\n",
              "</table>\n",
              "</div>"
            ],
            "text/plain": [
              "            Si/Al  Surface area (m2/g) BET  Avg_pore_diameter(nm)  \\\n",
              "count  103.000000               103.000000             103.000000   \n",
              "mean    23.527282               623.868551               0.656602   \n",
              "std     19.356391               189.364672               0.073131   \n",
              "min      2.600000               299.000000               0.550000   \n",
              "25%     12.250000               482.714286               0.590000   \n",
              "50%     15.600000               528.000000               0.670000   \n",
              "75%     26.635000               780.000000               0.740000   \n",
              "max    103.000000              1219.000000               0.740000   \n",
              "\n",
              "       V(pore) (cm3/g)  V(mic) (cm3/g)  TPD (NH3) (micmol/g)  \\\n",
              "count       103.000000      103.000000            103.000000   \n",
              "mean          0.405317        0.204961            682.672350   \n",
              "std           0.174966        0.061227            399.432041   \n",
              "min           0.178000        0.090780            120.000000   \n",
              "25%           0.300000        0.154880            328.000000   \n",
              "50%           0.352000        0.198500            580.000000   \n",
              "75%           0.537600        0.270000            923.000000   \n",
              "max           1.301000        0.359000           1603.000000   \n",
              "\n",
              "       Catalyst/Substrate loading\\n  Solvent system     phase_1     phase_2  \\\n",
              "count                    103.000000      103.000000  103.000000  103.000000   \n",
              "mean                       0.369027        0.378641    0.592233   10.815534   \n",
              "std                        0.282209        0.487420    0.797507    4.545516   \n",
              "min                        0.100000        0.000000   -1.000000    0.000000   \n",
              "25%                        0.200000        0.000000    1.000000    8.500000   \n",
              "50%                        0.285714        0.000000    1.000000   10.000000   \n",
              "75%                        0.400000        1.000000    1.000000   12.500000   \n",
              "max                        1.333333        1.000000    1.000000   18.000000   \n",
              "\n",
              "       phase_2/phase_1  Total dipole moment(D)  Temperature ( °C)   HMF Yield  \n",
              "count       103.000000              103.000000         103.000000  103.000000  \n",
              "mean         22.508091                2.960323         151.067961   25.933759  \n",
              "std          38.346995                1.640932          16.769055   19.496235  \n",
              "min           0.000000                0.450000         100.000000    0.240000  \n",
              "25%           1.000000                1.850000         150.000000    9.850000  \n",
              "50%           5.000000                2.641667         160.000000   20.000000  \n",
              "75%          10.000000                3.425000         165.000000   40.135000  \n",
              "max         100.000000               10.295000         195.000000   81.134200  "
            ]
          },
          "metadata": {},
          "execution_count": 17
        }
      ]
    },
    {
      "cell_type": "markdown",
      "metadata": {
        "id": "-VsAEsRHELwr"
      },
      "source": [
        "# Random Forest model"
      ]
    },
    {
      "cell_type": "code",
      "metadata": {
        "id": "y5j_iCuTEMTj"
      },
      "source": [
        "# features = df.drop(columns = ['HMF Yield']).values\n",
        "# feature_list = list(df.drop(columns = ['HMF Yield']).columns)\n",
        "# labels = df['HMF Yield'].values"
      ],
      "execution_count": null,
      "outputs": []
    },
    {
      "cell_type": "code",
      "metadata": {
        "id": "KcSXr3OyE1wX"
      },
      "source": [
        "df =df.drop(columns=['phase_1', 'phase_2'])"
      ],
      "execution_count": null,
      "outputs": []
    },
    {
      "cell_type": "code",
      "metadata": {
        "id": "81PHnXCMl-br"
      },
      "source": [
        "# #Removing outliers\n",
        "# import scipy.stats as stats\n",
        "# z_scores = stats.zscore(features)\n",
        "# abs_z_scores = np.abs(z_scores)\n",
        "# filtered_entries = (abs_z_scores < 4).all(axis=1)\n",
        "# df = df[filtered_entries]"
      ],
      "execution_count": null,
      "outputs": []
    },
    {
      "cell_type": "code",
      "metadata": {
        "colab": {
          "base_uri": "https://localhost:8080/"
        },
        "id": "HV2_9WIt2Cn8",
        "outputId": "5643a944-0401-4fb1-c9c0-aaf725a57e48"
      },
      "source": [
        "df.shape"
      ],
      "execution_count": null,
      "outputs": [
        {
          "output_type": "execute_result",
          "data": {
            "text/plain": [
              "(103, 12)"
            ]
          },
          "metadata": {},
          "execution_count": 22
        }
      ]
    },
    {
      "cell_type": "code",
      "metadata": {
        "id": "DK_o9MOIHWaQ"
      },
      "source": [
        "features = df.drop(columns = ['HMF Yield']).values\n",
        "feature_list = list(df.drop(columns = ['HMF Yield']).columns)\n",
        "labels = df['HMF Yield'].values"
      ],
      "execution_count": null,
      "outputs": []
    },
    {
      "cell_type": "code",
      "metadata": {
        "id": "XDsnM11WHdfZ"
      },
      "source": [
        "# import pandas as pd\n",
        "# from sklearn import preprocessing\n",
        "# min_max_scaler = preprocessing.MinMaxScaler()\n",
        "# features = min_max_scaler.fit_transform(features)"
      ],
      "execution_count": null,
      "outputs": []
    },
    {
      "cell_type": "code",
      "metadata": {
        "colab": {
          "base_uri": "https://localhost:8080/",
          "height": 282
        },
        "id": "5QhAgCWjTTNm",
        "outputId": "d17fcaa4-6028-4c60-f180-c667ba925956"
      },
      "source": [
        "plt.plot(df['TPD (NH3) (micmol/g)'],df['HMF Yield'],'o')"
      ],
      "execution_count": null,
      "outputs": [
        {
          "output_type": "execute_result",
          "data": {
            "text/plain": [
              "[<matplotlib.lines.Line2D at 0x7fa962d4bd50>]"
            ]
          },
          "metadata": {},
          "execution_count": 23
        },
        {
          "output_type": "display_data",
          "data": {
            "image/png": "[encoded data removed]",
            "text/plain": [
              "<Figure size 432x288 with 1 Axes>"
            ]
          },
          "metadata": {
            "needs_background": "light"
          }
        }
      ]
    },
    {
      "cell_type": "code",
      "metadata": {
        "id": "KniiEs5eEOWc"
      },
      "source": [
        "# Using Skicit-learn to split data into training and testing sets\n",
        "from sklearn.model_selection import train_test_split\n",
        "# Split the data into training and testing sets\n",
        "train_features, test_features, train_labels, test_labels = train_test_split(features, labels, test_size = 0.2, random_state = 50)"
      ],
      "execution_count": null,
      "outputs": []
    },
    {
      "cell_type": "code",
      "metadata": {
        "colab": {
          "base_uri": "https://localhost:8080/"
        },
        "id": "OTb0e9vRERFW",
        "outputId": "f9666dae-52e1-47be-b59e-344f9eac9b74"
      },
      "source": [
        "print('Training Features Shape:', train_features.shape)\n",
        "print('Training Labels Shape:', train_labels.shape)\n",
        "print('Testing Features Shape:', test_features.shape)\n",
        "print('Testing Labels Shape:', test_labels.shape)"
      ],
      "execution_count": null,
      "outputs": [
        {
          "output_type": "stream",
          "text": [
            "Training Features Shape: (82, 11)\n",
            "Training Labels Shape: (82,)\n",
            "Testing Features Shape: (21, 11)\n",
            "Testing Labels Shape: (21,)\n"
          ],
          "name": "stdout"
        }
      ]
    },
    {
      "cell_type": "code",
      "metadata": {
        "colab": {
          "base_uri": "https://localhost:8080/"
        },
        "id": "H3Mc6uFLESvM",
        "outputId": "89f921fd-0bba-47d0-a665-6919d7f388e8"
      },
      "source": [
        "# The baseline predictions are the historical averages\n",
        "baseline_preds = np.mean(test_labels)\n",
        "# Baseline errors, and display average baseline error\n",
        "baseline_errors = abs(baseline_preds - test_labels)\n",
        "print('Average baseline error: ', round(np.mean(baseline_errors), 2))"
      ],
      "execution_count": null,
      "outputs": [
        {
          "output_type": "stream",
          "text": [
            "Average baseline error:  14.93\n"
          ],
          "name": "stdout"
        }
      ]
    },
    {
      "cell_type": "markdown",
      "metadata": {
        "id": "TKXH_E_gFFFI"
      },
      "source": [
        "## Random hyperparameter search"
      ]
    },
    {
      "cell_type": "code",
      "metadata": {
        "id": "hRpUMEgnFILD"
      },
      "source": [
        "# use random research to find the best hyperparameters for RF\n",
        "from sklearn.model_selection import RandomizedSearchCV\n",
        "# Number of trees in random forest\n",
        "n_estimators = [int(x) for x in np.linspace(start = 200, stop = 2000, num = 10)]\n",
        "# Number of features to consider at every split\n",
        "max_features = ['auto', 'sqrt']\n",
        "# Maximum number of levels in tree\n",
        "max_depth = [int(x) for x in np.linspace(10, 110, num = 11)]\n",
        "max_depth.append(None)\n",
        "# Minimum number of samples required to split a node\n",
        "min_samples_split = [2, 5, 10]\n",
        "# Minimum number of samples required at each leaf node\n",
        "min_samples_leaf = [1, 2, 4]\n",
        "# Method of selecting samples for training each tree\n",
        "bootstrap = [True, False]\n",
        "# Create the random grid\n",
        "random_grid = {'n_estimators': n_estimators,\n",
        "               'max_features': max_features,\n",
        "               'max_depth': max_depth,\n",
        "               'min_samples_split': min_samples_split,\n",
        "               'min_samples_leaf': min_samples_leaf,\n",
        "               'bootstrap': bootstrap}"
      ],
      "execution_count": null,
      "outputs": []
    },
    {
      "cell_type": "code",
      "metadata": {
        "colab": {
          "base_uri": "https://localhost:8080/"
        },
        "id": "fksj9ssSFJwp",
        "outputId": "eb29449c-c441-45de-ce5c-1a1ebd4ded16"
      },
      "source": [
        "# Use the random grid to search for best hyperparameters\n",
        "# First create the base model to tune\n",
        "rf = RandomForestRegressor()\n",
        "# Random search of parameters, using 3 fold cross validation, \n",
        "# search across 100 different combinations, and use all available cores\n",
        "rf_random = RandomizedSearchCV(estimator = rf, param_distributions = random_grid, n_iter = 100, cv = 3, verbose=2, random_state=42, n_jobs = -1)\n",
        "# Fit the random search model\n",
        "rf_random.fit(features, labels)"
      ],
      "execution_count": null,
      "outputs": [
        {
          "metadata": {
            "tags": null
          },
          "name": "stdout",
          "output_type": "stream",
          "text": [
            "Fitting 3 folds for each of 100 candidates, totalling 300 fits\n"
          ]
        },
        {
          "output_type": "stream",
          "text": [
            "[Parallel(n_jobs=-1)]: Using backend LokyBackend with 2 concurrent workers.\n",
            "[Parallel(n_jobs=-1)]: Done  37 tasks      | elapsed:   39.9s\n",
            "[Parallel(n_jobs=-1)]: Done 158 tasks      | elapsed:  2.7min\n",
            "[Parallel(n_jobs=-1)]: Done 300 out of 300 | elapsed:  5.2min finished\n"
          ],
          "name": "stderr"
        },
        {
          "output_type": "execute_result",
          "data": {
            "text/plain": [
              "RandomizedSearchCV(cv=3, error_score=nan,\n",
              "                   estimator=RandomForestRegressor(bootstrap=True,\n",
              "                                                   ccp_alpha=0.0,\n",
              "                                                   criterion='mse',\n",
              "                                                   max_depth=None,\n",
              "                                                   max_features='auto',\n",
              "                                                   max_leaf_nodes=None,\n",
              "                                                   max_samples=None,\n",
              "                                                   min_impurity_decrease=0.0,\n",
              "                                                   min_impurity_split=None,\n",
              "                                                   min_samples_leaf=1,\n",
              "                                                   min_samples_split=2,\n",
              "                                                   min_weight_fraction_leaf=0.0,\n",
              "                                                   n_estimators=100,\n",
              "                                                   n_jobs=None, oob_score=Fals...\n",
              "                   param_distributions={'bootstrap': [True, False],\n",
              "                                        'max_depth': [10, 20, 30, 40, 50, 60,\n",
              "                                                      70, 80, 90, 100, 110,\n",
              "                                                      None],\n",
              "                                        'max_features': ['auto', 'sqrt'],\n",
              "                                        'min_samples_leaf': [1, 2, 4],\n",
              "                                        'min_samples_split': [2, 5, 10],\n",
              "                                        'n_estimators': [200, 400, 600, 800,\n",
              "                                                         1000, 1200, 1400, 1600,\n",
              "                                                         1800, 2000]},\n",
              "                   pre_dispatch='2*n_jobs', random_state=42, refit=True,\n",
              "                   return_train_score=False, scoring=None, verbose=2)"
            ]
          },
          "metadata": {},
          "execution_count": 28
        }
      ]
    },
    {
      "cell_type": "code",
      "metadata": {
        "colab": {
          "base_uri": "https://localhost:8080/"
        },
        "id": "0XbUcvYI1L2H",
        "outputId": "9735acac-387a-4d3a-835e-40356ade05de"
      },
      "source": [
        "rf_random.best_estimator_"
      ],
      "execution_count": null,
      "outputs": [
        {
          "output_type": "execute_result",
          "data": {
            "text/plain": [
              "RandomForestRegressor(bootstrap=False, ccp_alpha=0.0, criterion='mse',\n",
              "                      max_depth=30, max_features='auto', max_leaf_nodes=None,\n",
              "                      max_samples=None, min_impurity_decrease=0.0,\n",
              "                      min_impurity_split=None, min_samples_leaf=4,\n",
              "                      min_samples_split=5, min_weight_fraction_leaf=0.0,\n",
              "                      n_estimators=1000, n_jobs=None, oob_score=False,\n",
              "                      random_state=None, verbose=0, warm_start=False)"
            ]
          },
          "metadata": {},
          "execution_count": 29
        }
      ]
    },
    {
      "cell_type": "code",
      "metadata": {
        "id": "fRkRa0pRFQty"
      },
      "source": [
        "base_model = RandomForestRegressor(n_estimators = 100, random_state = 50)\n",
        "base_model.fit(train_features, train_labels)\n",
        "base_accuracy = base_model.score(test_features, test_labels)"
      ],
      "execution_count": null,
      "outputs": []
    },
    {
      "cell_type": "code",
      "metadata": {
        "id": "eVWtrm82xwiX"
      },
      "source": [
        "best_random = rf_random.best_estimator_"
      ],
      "execution_count": null,
      "outputs": []
    },
    {
      "cell_type": "code",
      "metadata": {
        "id": "bVs3QkHaFVA7"
      },
      "source": [
        "best_random.fit(train_features, train_labels)\n",
        "random_accuracy = best_random.score(test_features, test_labels)"
      ],
      "execution_count": null,
      "outputs": []
    },
    {
      "cell_type": "markdown",
      "metadata": {
        "id": "cHTc3dsDFaaU"
      },
      "source": [
        "## Evaluation"
      ]
    },
    {
      "cell_type": "code",
      "metadata": {
        "colab": {
          "base_uri": "https://localhost:8080/"
        },
        "id": "exRVRjy1FYkc",
        "outputId": "985788a6-3669-45d3-eb2d-1ad16b40d9bb"
      },
      "source": [
        "print('Improvement of {:0.2f}%.'.format( 100 * (random_accuracy - base_accuracy) / base_accuracy))"
      ],
      "execution_count": null,
      "outputs": [
        {
          "output_type": "stream",
          "text": [
            "Improvement of 2.26%.\n"
          ],
          "name": "stdout"
        }
      ]
    },
    {
      "cell_type": "code",
      "metadata": {
        "id": "GPOi49H6uFVf"
      },
      "source": [
        "rf  = best_random\n",
        "rf.fit(train_features, train_labels);"
      ],
      "execution_count": null,
      "outputs": []
    },
    {
      "cell_type": "code",
      "metadata": {
        "id": "UEWHkTKmOtQY"
      },
      "source": [
        "# rf.fit(features, labels)"
      ],
      "execution_count": null,
      "outputs": []
    },
    {
      "cell_type": "code",
      "metadata": {
        "colab": {
          "base_uri": "https://localhost:8080/"
        },
        "id": "zO9TlvTvMY7k",
        "outputId": "0ad76b82-4acb-400b-a84e-4386ae53c04d"
      },
      "source": [
        "rf.score(train_features, train_labels)"
      ],
      "execution_count": null,
      "outputs": [
        {
          "output_type": "execute_result",
          "data": {
            "text/plain": [
              "0.668668198710771"
            ]
          },
          "metadata": {},
          "execution_count": 36
        }
      ]
    },
    {
      "cell_type": "code",
      "metadata": {
        "colab": {
          "base_uri": "https://localhost:8080/"
        },
        "id": "QDAtDzRlO0Fs",
        "outputId": "2ae3c3e1-1127-47a1-efd0-46a0a88d70d9"
      },
      "source": [
        "rf.score(test_features, test_labels)"
      ],
      "execution_count": null,
      "outputs": [
        {
          "output_type": "execute_result",
          "data": {
            "text/plain": [
              "0.35435590921068083"
            ]
          },
          "metadata": {},
          "execution_count": 37
        }
      ]
    },
    {
      "cell_type": "code",
      "metadata": {
        "colab": {
          "base_uri": "https://localhost:8080/"
        },
        "id": "x76tIn-wD4xd",
        "outputId": "93f087ad-21b7-4603-d98b-e9410b32db27"
      },
      "source": [
        "df.columns"
      ],
      "execution_count": null,
      "outputs": [
        {
          "output_type": "execute_result",
          "data": {
            "text/plain": [
              "Index(['Si/Al', 'Surface area (m2/g) BET', 'Avg_pore_diameter(nm)',\n",
              "       'V(pore) (cm3/g)', 'V(mic) (cm3/g)', 'TPD (NH3) (micmol/g)',\n",
              "       'Catalyst/Substrate loading\\n', 'Solvent system', 'phase_2/phase_1',\n",
              "       'Total dipole moment(D)', 'Temperature ( °C)', 'HMF Yield'],\n",
              "      dtype='object')"
            ]
          },
          "metadata": {},
          "execution_count": 40
        }
      ]
    },
    {
      "cell_type": "code",
      "metadata": {
        "colab": {
          "base_uri": "https://localhost:8080/"
        },
        "id": "4PbuDhKrOX3J",
        "outputId": "b3e08e98-13ce-4d91-ba69-8da3c8c8f698"
      },
      "source": [
        "x = np.array([20,400,0.55,0.3,0.22,1000,0.33,1, 5.000000,2.46, 170])\n",
        "rf.predict(x.reshape(1,-1))"
      ],
      "execution_count": null,
      "outputs": [
        {
          "output_type": "execute_result",
          "data": {
            "text/plain": [
              "array([28.6])"
            ]
          },
          "metadata": {},
          "execution_count": 90
        }
      ]
    },
    {
      "cell_type": "code",
      "metadata": {
        "colab": {
          "base_uri": "https://localhost:8080/"
        },
        "id": "F7GPQLgMClBZ",
        "outputId": "8dc9d651-940a-405d-d4ff-64032b988e26"
      },
      "source": [
        "df.columns"
      ],
      "execution_count": null,
      "outputs": [
        {
          "output_type": "execute_result",
          "data": {
            "text/plain": [
              "Index(['Si/Al', 'Surface area (m2/g) BET', 'Avg_pore_diameter(nm)',\n",
              "       'V(pore) (cm3/g)', 'V(mic) (cm3/g)', 'TPD (NH3) (micmol/g)',\n",
              "       'Catalyst/Substrate loading\\n', 'phase_2/phase_1',\n",
              "       'Total dipole moment(D)', 'Temperature ( °C)', 'HMF Yield'],\n",
              "      dtype='object')"
            ]
          },
          "metadata": {
            "tags": []
          },
          "execution_count": 244
        }
      ]
    },
    {
      "cell_type": "code",
      "metadata": {
        "colab": {
          "base_uri": "https://localhost:8080/"
        },
        "id": "-vZAWlsekBLF",
        "outputId": "40126f66-a089-4bb5-980e-b8e7b9d250f8"
      },
      "source": [
        "# mount drive\n",
        "from google.colab import drive\n",
        "drive.mount('/content/gdrive')"
      ],
      "execution_count": null,
      "outputs": [
        {
          "output_type": "stream",
          "text": [
            "Mounted at /content/gdrive\n"
          ],
          "name": "stdout"
        }
      ]
    },
    {
      "cell_type": "code",
      "metadata": {
        "colab": {
          "base_uri": "https://localhost:8080/"
        },
        "id": "TkTZUfk62QHa",
        "outputId": "54b4ceed-b837-419a-f047-fa15bca74ae7"
      },
      "source": [
        "# Use the forest's predict method on the test data\n",
        "train_pred = rf.predict(train_features)\n",
        "# Use the forest's predict method on the test data\n",
        "predictions = rf.predict(test_features)\n",
        "# Calculate the absolute errors\n",
        "errors_train = (train_pred - train_labels)**2\n",
        "errors = (predictions - test_labels)**2\n",
        "# Print out the mean absolute error (mae)\n",
        "print('Mean Absolute Error(train):', round(np.sqrt(np.mean(errors_train)), 2), 'degrees.')\n",
        "print('Mean Absolute Error(test):', round(np.sqrt(np.mean(errors)), 2), 'degrees.')"
      ],
      "execution_count": null,
      "outputs": [
        {
          "output_type": "stream",
          "text": [
            "Mean Absolute Error(train): 11.12 degrees.\n",
            "Mean Absolute Error(test): 11.94 degrees.\n"
          ],
          "name": "stdout"
        }
      ]
    },
    {
      "cell_type": "code",
      "metadata": {
        "colab": {
          "base_uri": "https://localhost:8080/",
          "height": 303
        },
        "id": "bS_SHZYLOifp",
        "outputId": "f8a143cb-ff7a-48c2-d6d3-6f6fc0ff5a29"
      },
      "source": [
        "plt.plot(train_labels, train_labels, '-',linewidth=0.2,color = '#1f77b4')\n",
        "plt.plot(train_labels,train_pred , 'o',color = '#ff7f0e', label='train_predictions')\n",
        "plt.plot(test_labels,predictions , 'o',color = '#2ca02c', label ='test_prediction')\n",
        "plt.text(min(train_labels) , max(train_labels) - 21,'CV RMSE= 14.1 ± 5 (17.4%)')\n",
        "plt.style.use('seaborn-pastel')\n",
        "\n",
        "plt.title('Yield Model', fontsize= 14)\n",
        "plt.xlabel('Yield Experimental (%)', fontsize= 14)\n",
        "plt.ylabel('Yield Prediction (%)',fontsize= 14)\n",
        "plt.xticks(fontsize=12)\n",
        "plt.yticks(fontsize=12)\n",
        "plt.legend(fontsize=12)\n",
        "images_dir = '/content/gdrive/My Drive'\n",
        "plt.savefig(f\"{images_dir}/test_yield_final.png\", bbox_inches='tight', dpi = 160)"
      ],
      "execution_count": null,
      "outputs": [
        {
          "output_type": "display_data",
          "data": {
            "image/png": "[encoded data removed]",
            "text/plain": [
              "<Figure size 432x288 with 1 Axes>"
            ]
          },
          "metadata": {
            "tags": [],
            "needs_background": "light"
          }
        }
      ]
    },
    {
      "cell_type": "markdown",
      "metadata": {
        "id": "A9QHslv_3dS7"
      },
      "source": [
        "## Feature importance"
      ]
    },
    {
      "cell_type": "code",
      "metadata": {
        "id": "TDmh0pN2D5fS"
      },
      "source": [
        "from sklearn.feature_selection import SelectFromModel\n",
        "model = SelectFromModel(rf, prefit= True)"
      ],
      "execution_count": null,
      "outputs": []
    },
    {
      "cell_type": "code",
      "metadata": {
        "colab": {
          "base_uri": "https://localhost:8080/"
        },
        "id": "eQf25c-9D-k8",
        "outputId": "b1f7dc4f-c3ab-43e1-fa6f-e844e13c9cb1"
      },
      "source": [
        "# Get numerical feature importances\n",
        "importances = list(base_model.feature_importances_)\n",
        "# List of tuples with variable and importance\n",
        "feature_importances = [(feature, round(importance, 2)) for feature, importance in zip(feature_list, importances)]\n",
        "# Sort the feature importances by most important first\n",
        "feature_importances = sorted(feature_importances, key = lambda x: x[1], reverse = True)\n",
        "# Print out the feature and importances \n",
        "[print('Variable: {:20} Importance: {}'.format(*pair)) for pair in feature_importances];"
      ],
      "execution_count": null,
      "outputs": [
        {
          "output_type": "stream",
          "text": [
            "Variable: TPD (NH3) (micmol/g) Importance: 0.25\n",
            "Variable: Total dipole moment(D) Importance: 0.21\n",
            "Variable: Temperature ( °C)    Importance: 0.2\n",
            "Variable: phase_2/phase_1      Importance: 0.12\n",
            "Variable: Si/Al                Importance: 0.06\n",
            "Variable: Surface area (m2/g) BET Importance: 0.05\n",
            "Variable: Catalyst/Substrate loading\n",
            " Importance: 0.04\n",
            "Variable: V(mic) (cm3/g)       Importance: 0.03\n",
            "Variable: Avg_pore_diameter(nm) Importance: 0.02\n",
            "Variable: V(pore) (cm3/g)      Importance: 0.02\n"
          ],
          "name": "stdout"
        }
      ]
    },
    {
      "cell_type": "code",
      "metadata": {
        "colab": {
          "base_uri": "https://localhost:8080/",
          "height": 297
        },
        "id": "NrnlFqL9I_cQ",
        "outputId": "f43226d8-0769-403a-f5d7-ad3f1340562c"
      },
      "source": [
        "labels= [\"TPD\",  \"Dipole Moment\", \"Temperature\", \"Phases Ratio\",  \"Si/Al\", \"BET Surface Area\"]\n",
        "sizes = [0.25,0.21,0.2,0.12,0.06,0.05]\n",
        "#colors\n",
        "#colors = ['#ff9999','#66b3ff','#99ff99','#ffcc99']\n",
        "#explsion\n",
        "explode = (0.05,0.05,0.05,0.05, 0.05,0.05)\n",
        "plt.pie(sizes, labels=labels, autopct='%1.1f%%', startangle=90, pctdistance=0.85, explode = explode)\n",
        "plt.title(\"Yield prediction feature importance\", size = 16)\n",
        "#draw circle\n",
        "centre_circle = plt.Circle((0,0),0.70,fc='white')\n",
        "fig = plt.gcf()\n",
        "fig.patch.set_facecolor('white')\n",
        "fig.gca().add_artist(centre_circle)\n",
        "# Equal aspect ratio ensures that pie is drawn as a circle\n",
        "#ax1.axis('equal')  \n",
        "plt.tight_layout()\n",
        "images_dir = '/content/gdrive/My Drive'\n",
        "plt.savefig(f\"{images_dir}/feature_importance_3.png\", dpi = 160)"
      ],
      "execution_count": null,
      "outputs": [
        {
          "output_type": "display_data",
          "data": {
            "image/png": "[encoded data removed]",
            "text/plain": [
              "<Figure size 432x288 with 1 Axes>"
            ]
          },
          "metadata": {
            "tags": []
          }
        }
      ]
    },
    {
      "cell_type": "markdown",
      "metadata": {
        "id": "Gu4SsjpFiZ6n"
      },
      "source": [
        "# Outliers Detection "
      ]
    },
    {
      "cell_type": "code",
      "metadata": {
        "id": "lUqNPCVBiZTo"
      },
      "source": [
        "# # identifying and removing outliers\n",
        "# for i, j in zip(errors_train,train_labels):\n",
        "#     if i>=20 : \n",
        "#         print( 'outlier yield is {:.2f}'.format(j))\n",
        "#         df = df[df['HMF Yield'] !=j]       \n",
        "# print(df.shape)"
      ],
      "execution_count": null,
      "outputs": []
    },
    {
      "cell_type": "markdown",
      "metadata": {
        "id": "gc9zPJcNOa_9"
      },
      "source": [
        "# K-Fold "
      ]
    },
    {
      "cell_type": "code",
      "metadata": {
        "id": "enBy2W1aOdQq",
        "colab": {
          "base_uri": "https://localhost:8080/"
        },
        "outputId": "a6d5cf04-4b47-4550-e5cb-9451a35d6462"
      },
      "source": [
        "# New random forest with only the two most important variables\n",
        "model = best_random\n",
        "df_2 = df.drop(columns = ['HMF Yield'])\n",
        "df_2=(df_2-df_2.mean())/df_2.std()\n",
        "features = df_2.values\n",
        "feature_list = list(df.drop(columns = ['HMF Yield']).columns)\n",
        "labels = df['HMF Yield'].values\n",
        "X  = features\n",
        "y = labels\n",
        "cv = KFold(n_splits=5, random_state=1, shuffle=True)\n",
        "scores = cross_val_score(model, X, y, scoring='neg_root_mean_squared_error', cv=cv, n_jobs=-1)\n",
        "# report performance\n",
        "print('MAE: %.3f (%.3f)' % (np.abs(mean(scores)), std(scores)))\n",
        "#print('accuracy %.3f (%.3f)' % (np.abs(mean(model.score)), std(scores)))"
      ],
      "execution_count": null,
      "outputs": [
        {
          "output_type": "stream",
          "text": [
            "MAE: 14.714 (2.531)\n"
          ],
          "name": "stdout"
        }
      ]
    },
    {
      "cell_type": "code",
      "metadata": {
        "colab": {
          "base_uri": "https://localhost:8080/"
        },
        "id": "zfDsJ0LqTfNR",
        "outputId": "f46c13ca-4243-4a47-b1d0-0c4568761e3e"
      },
      "source": [
        "# spanning range scaled error\n",
        "range = np.max(labels)-np.min(labels)\n",
        "print(\"scaled error: %.1f\" % (np.abs(mean(scores))/range*100),\"%\")"
      ],
      "execution_count": null,
      "outputs": [
        {
          "output_type": "stream",
          "text": [
            "scaled error: 18.2 %\n"
          ],
          "name": "stdout"
        }
      ]
    },
    {
      "cell_type": "markdown",
      "metadata": {
        "id": "uGdgGBOsuMnq"
      },
      "source": [
        "# XGB"
      ]
    },
    {
      "cell_type": "code",
      "metadata": {
        "id": "h2COzUY_qTa9"
      },
      "source": [
        "import matplotlib.pyplot as plt\n",
        "import numpy as np\n",
        "from sklearn import datasets, ensemble\n",
        "from sklearn.inspection import permutation_importance\n",
        "from sklearn.metrics import mean_squared_error\n",
        "from sklearn.model_selection import train_test_split\n",
        "import xgboost as xgb\n",
        "from sklearn.metrics import mean_absolute_error"
      ],
      "execution_count": null,
      "outputs": []
    },
    {
      "cell_type": "code",
      "metadata": {
        "id": "c3eWgSRzuQ1R"
      },
      "source": [
        "from sklearn.model_selection import train_test_split\n",
        "X  = features\n",
        "y = labels\n",
        "X_train, X_test, y_train, y_test = train_test_split(X,y,test_size=.2, random_state=42)"
      ],
      "execution_count": null,
      "outputs": []
    },
    {
      "cell_type": "code",
      "metadata": {
        "id": "jqT5NMVXue3c"
      },
      "source": [
        "dtrain = xgb.DMatrix(X_train, label=y_train)\n",
        "dtest = xgb.DMatrix(X_test, label=y_test)"
      ],
      "execution_count": null,
      "outputs": []
    },
    {
      "cell_type": "code",
      "metadata": {
        "colab": {
          "base_uri": "https://localhost:8080/"
        },
        "id": "6eGcHs3QukjW",
        "outputId": "acd3f6ce-1241-4701-da98-983c9739a0dd"
      },
      "source": [
        "# # \"Learn\" the mean from the training data\n",
        "# mean_train = np.mean(y_train)\n",
        "# # Get predictions on the test set\n",
        "# baseline_predictions = np.ones(y_test.shape) * mean_train\n",
        "# # Compute MAE\n",
        "# mae_baseline = mean_absolute_error(y_test, baseline_predictions)\n",
        "# print(\"Baseline MAE is {:.2f}\".format(mae_baseline))"
      ],
      "execution_count": null,
      "outputs": [
        {
          "output_type": "stream",
          "text": [
            "Baseline MAE is 16.90\n"
          ],
          "name": "stdout"
        }
      ]
    },
    {
      "cell_type": "code",
      "metadata": {
        "id": "KrFi_Au_unbc"
      },
      "source": [
        "params = {\n",
        "    # Parameters that we are going to tune.\n",
        "    'max_depth':6,\n",
        "    'min_child_weight': 1,\n",
        "    'eta':.3,\n",
        "    'subsample': 1,\n",
        "    'colsample_bytree': 1,\n",
        "    # Other parameters\n",
        "    'objective':'reg:linear',\n",
        "    \n",
        "}"
      ],
      "execution_count": null,
      "outputs": []
    },
    {
      "cell_type": "code",
      "metadata": {
        "id": "OT8YdzaGupcE"
      },
      "source": [
        "params['eval_metric'] = \"rmse\"\n",
        "num_boost_round = 999"
      ],
      "execution_count": null,
      "outputs": []
    },
    {
      "cell_type": "code",
      "metadata": {
        "colab": {
          "base_uri": "https://localhost:8080/"
        },
        "id": "uTM034o6utsA",
        "outputId": "7ca73e2f-3852-48a5-b180-a6be697abfdb"
      },
      "source": [
        "model = xgb.train(\n",
        "    params,\n",
        "    dtrain,\n",
        "    num_boost_round=num_boost_round,\n",
        "    evals=[(dtest, \"Test\")],\n",
        "    early_stopping_rounds=5,\n",
        ")"
      ],
      "execution_count": null,
      "outputs": [
        {
          "output_type": "stream",
          "text": [
            "[17:44:14] WARNING: /workspace/src/objective/regression_obj.cu:152: reg:linear is now deprecated in favor of reg:squarederror.\n",
            "[0]\tTest-rmse:27.0108\n",
            "Will train until Test-rmse hasn't improved in 5 rounds.\n",
            "[1]\tTest-rmse:22.79\n",
            "[2]\tTest-rmse:20.139\n",
            "[3]\tTest-rmse:18.1078\n",
            "[4]\tTest-rmse:16.5327\n",
            "[5]\tTest-rmse:16.425\n",
            "[6]\tTest-rmse:15.7036\n",
            "[7]\tTest-rmse:16.1143\n",
            "[8]\tTest-rmse:16.0772\n",
            "[9]\tTest-rmse:16.7325\n",
            "[10]\tTest-rmse:17.0107\n",
            "[11]\tTest-rmse:17.4504\n",
            "Stopping. Best iteration:\n",
            "[6]\tTest-rmse:15.7036\n",
            "\n"
          ],
          "name": "stdout"
        }
      ]
    },
    {
      "cell_type": "markdown",
      "metadata": {
        "id": "xZCfP2YNjH_R"
      },
      "source": [
        "# K-Fold"
      ]
    },
    {
      "cell_type": "code",
      "metadata": {
        "id": "CVnMVKiP2SAZ"
      },
      "source": [
        "dtrain_full = xgb.DMatrix(features, label=labels)"
      ],
      "execution_count": null,
      "outputs": []
    },
    {
      "cell_type": "code",
      "metadata": {
        "colab": {
          "base_uri": "https://localhost:8080/",
          "height": 440
        },
        "id": "3_knmozn10bJ",
        "outputId": "7f50229f-dafe-4a0c-d96a-f356d484d962"
      },
      "source": [
        "cv_results = xgb.cv(\n",
        "    params,\n",
        "    dtrain_full,\n",
        "    num_boost_round=num_boost_round,\n",
        "    seed=42,\n",
        "    nfold=5,\n",
        "    metrics={'rmse'},\n",
        "    early_stopping_rounds=15\n",
        ")\n",
        "cv_results"
      ],
      "execution_count": null,
      "outputs": [
        {
          "output_type": "stream",
          "text": [
            "[17:44:16] WARNING: /workspace/src/objective/regression_obj.cu:152: reg:linear is now deprecated in favor of reg:squarederror.\n",
            "[17:44:16] WARNING: /workspace/src/objective/regression_obj.cu:152: reg:linear is now deprecated in favor of reg:squarederror.\n",
            "[17:44:16] WARNING: /workspace/src/objective/regression_obj.cu:152: reg:linear is now deprecated in favor of reg:squarederror.\n",
            "[17:44:16] WARNING: /workspace/src/objective/regression_obj.cu:152: reg:linear is now deprecated in favor of reg:squarederror.\n",
            "[17:44:16] WARNING: /workspace/src/objective/regression_obj.cu:152: reg:linear is now deprecated in favor of reg:squarederror.\n"
          ],
          "name": "stdout"
        },
        {
          "output_type": "execute_result",
          "data": {
            "text/html": [
              "<div>\n",
              "<style scoped>\n",
              "    .dataframe tbody tr th:only-of-type {\n",
              "        vertical-align: middle;\n",
              "    }\n",
              "\n",
              "    .dataframe tbody tr th {\n",
              "        vertical-align: top;\n",
              "    }\n",
              "\n",
              "    .dataframe thead th {\n",
              "        text-align: right;\n",
              "    }\n",
              "</style>\n",
              "<table border=\"1\" class=\"dataframe\">\n",
              "  <thead>\n",
              "    <tr style=\"text-align: right;\">\n",
              "      <th></th>\n",
              "      <th>train-rmse-mean</th>\n",
              "      <th>train-rmse-std</th>\n",
              "      <th>test-rmse-mean</th>\n",
              "      <th>test-rmse-std</th>\n",
              "    </tr>\n",
              "  </thead>\n",
              "  <tbody>\n",
              "    <tr>\n",
              "      <th>0</th>\n",
              "      <td>24.387408</td>\n",
              "      <td>0.726807</td>\n",
              "      <td>24.533344</td>\n",
              "      <td>3.328579</td>\n",
              "    </tr>\n",
              "    <tr>\n",
              "      <th>1</th>\n",
              "      <td>19.105369</td>\n",
              "      <td>0.790591</td>\n",
              "      <td>20.168034</td>\n",
              "      <td>3.628858</td>\n",
              "    </tr>\n",
              "    <tr>\n",
              "      <th>2</th>\n",
              "      <td>15.401000</td>\n",
              "      <td>0.822748</td>\n",
              "      <td>17.611794</td>\n",
              "      <td>3.459064</td>\n",
              "    </tr>\n",
              "    <tr>\n",
              "      <th>3</th>\n",
              "      <td>12.719746</td>\n",
              "      <td>0.906597</td>\n",
              "      <td>16.124206</td>\n",
              "      <td>3.174009</td>\n",
              "    </tr>\n",
              "    <tr>\n",
              "      <th>4</th>\n",
              "      <td>10.805109</td>\n",
              "      <td>1.017310</td>\n",
              "      <td>15.171125</td>\n",
              "      <td>3.068299</td>\n",
              "    </tr>\n",
              "    <tr>\n",
              "      <th>5</th>\n",
              "      <td>9.223178</td>\n",
              "      <td>1.080025</td>\n",
              "      <td>14.670818</td>\n",
              "      <td>3.110669</td>\n",
              "    </tr>\n",
              "    <tr>\n",
              "      <th>6</th>\n",
              "      <td>8.090905</td>\n",
              "      <td>1.167853</td>\n",
              "      <td>14.201674</td>\n",
              "      <td>3.155755</td>\n",
              "    </tr>\n",
              "    <tr>\n",
              "      <th>7</th>\n",
              "      <td>7.217172</td>\n",
              "      <td>1.217612</td>\n",
              "      <td>14.158894</td>\n",
              "      <td>3.153505</td>\n",
              "    </tr>\n",
              "    <tr>\n",
              "      <th>8</th>\n",
              "      <td>6.553488</td>\n",
              "      <td>1.267286</td>\n",
              "      <td>14.088585</td>\n",
              "      <td>3.079831</td>\n",
              "    </tr>\n",
              "    <tr>\n",
              "      <th>9</th>\n",
              "      <td>6.047449</td>\n",
              "      <td>1.303338</td>\n",
              "      <td>14.080380</td>\n",
              "      <td>3.237543</td>\n",
              "    </tr>\n",
              "  </tbody>\n",
              "</table>\n",
              "</div>"
            ],
            "text/plain": [
              "   train-rmse-mean  train-rmse-std  test-rmse-mean  test-rmse-std\n",
              "0        24.387408        0.726807       24.533344       3.328579\n",
              "1        19.105369        0.790591       20.168034       3.628858\n",
              "2        15.401000        0.822748       17.611794       3.459064\n",
              "3        12.719746        0.906597       16.124206       3.174009\n",
              "4        10.805109        1.017310       15.171125       3.068299\n",
              "5         9.223178        1.080025       14.670818       3.110669\n",
              "6         8.090905        1.167853       14.201674       3.155755\n",
              "7         7.217172        1.217612       14.158894       3.153505\n",
              "8         6.553488        1.267286       14.088585       3.079831\n",
              "9         6.047449        1.303338       14.080380       3.237543"
            ]
          },
          "metadata": {
            "tags": []
          },
          "execution_count": 312
        }
      ]
    },
    {
      "cell_type": "code",
      "metadata": {
        "colab": {
          "base_uri": "https://localhost:8080/"
        },
        "id": "sXS5LLFq5Qsm",
        "outputId": "b76b7be3-f53b-4f50-c2f2-7026b5ff731b"
      },
      "source": [
        "# spanning range scaled error\n",
        "range = np.max(labels)-np.min(labels)\n",
        "print(\"scaled error: %.1f\" % (np.abs(14.08)/range*100),\"%\")"
      ],
      "execution_count": null,
      "outputs": [
        {
          "output_type": "stream",
          "text": [
            "scaled error: 17.4 %\n"
          ],
          "name": "stdout"
        }
      ]
    },
    {
      "cell_type": "markdown",
      "metadata": {
        "id": "aDImUN3eZZSE"
      },
      "source": [
        "# Linear regression"
      ]
    },
    {
      "cell_type": "code",
      "metadata": {
        "id": "d1ou-zSE8wdr"
      },
      "source": [
        "import pandas as pd\n",
        "import xgboost as xgb\n",
        "import numpy as np\n",
        "from sklearn.experimental import enable_iterative_imputer\n",
        "from sklearn.impute import IterativeImputer\n",
        "from sklearn.preprocessing import StandardScaler\n",
        "from sklearn.model_selection import cross_validate, GridSearchCV, KFold\n",
        "from sklearn.metrics import mean_squared_error"
      ],
      "execution_count": null,
      "outputs": []
    },
    {
      "cell_type": "code",
      "metadata": {
        "id": "JZRV9WutZsKh"
      },
      "source": [
        "from sklearn.model_selection import train_test_split\n",
        "X = df.drop(columns = ['HMF Yield']) \n",
        "y = df['HMF Yield']\n",
        "X_train, X_test, y_train, y_test = train_test_split(X,y,test_size=.1, random_state=42)"
      ],
      "execution_count": null,
      "outputs": []
    },
    {
      "cell_type": "code",
      "metadata": {
        "id": "gDG7dCyJHzYH"
      },
      "source": [
        "X_train = features\n",
        "y_train = labels"
      ],
      "execution_count": null,
      "outputs": []
    },
    {
      "cell_type": "code",
      "metadata": {
        "colab": {
          "base_uri": "https://localhost:8080/"
        },
        "id": "IpGcpMmS8ng6",
        "outputId": "f25acf08-14d9-4f49-ed57-aea8f0f4dcf8"
      },
      "source": [
        "### Linear Regression\n",
        "from sklearn.linear_model import LinearRegression\n",
        "clf = LinearRegression()\n",
        "scores = cross_validate(clf, X_train, y_train, cv=5, scoring=['neg_root_mean_squared_error'])['test_neg_root_mean_squared_error']\n",
        "print(np.mean(scores))"
      ],
      "execution_count": null,
      "outputs": [
        {
          "output_type": "stream",
          "text": [
            "-21.890277602225147\n"
          ],
          "name": "stdout"
        }
      ]
    },
    {
      "cell_type": "code",
      "metadata": {
        "colab": {
          "base_uri": "https://localhost:8080/"
        },
        "id": "pkuyEuLY9TTd",
        "outputId": "385a4454-7f30-40a3-f612-b9a920395ebb"
      },
      "source": [
        "np.std(scores)"
      ],
      "execution_count": null,
      "outputs": [
        {
          "output_type": "execute_result",
          "data": {
            "text/plain": [
              "4.895918632090502"
            ]
          },
          "metadata": {
            "tags": []
          },
          "execution_count": 277
        }
      ]
    },
    {
      "cell_type": "code",
      "metadata": {
        "colab": {
          "base_uri": "https://localhost:8080/"
        },
        "id": "bpbMJP-m9gIB",
        "outputId": "e0aacd7a-5a2e-4342-e4ef-d5d2fd90ba5d"
      },
      "source": [
        "22.7/80.9"
      ],
      "execution_count": null,
      "outputs": [
        {
          "output_type": "execute_result",
          "data": {
            "text/plain": [
              "0.280593325092707"
            ]
          },
          "metadata": {
            "tags": []
          },
          "execution_count": 278
        }
      ]
    },
    {
      "cell_type": "code",
      "metadata": {
        "colab": {
          "base_uri": "https://localhost:8080/",
          "height": 299
        },
        "id": "iAm1SHx36TIv",
        "outputId": "2e187d3a-7159-4089-9998-1af579d8e79c"
      },
      "source": [
        "data = pd.DataFrame([[ 1.65902502e-01], [-3.08626109e-02],  [1.44355836e+01],  [8.88513889e+01],\n",
        "        [6.40320507e-03],  [1.05728911e+01],  [4.09591890e+00],  [1.99305277e+00],\n",
        "        [7.51073006e-01],  [1.68708882e-02]],\n",
        "                    index=['Si/Al', 'BET Surface Area', 'V(pore)', 'V(mic)',\n",
        "       'TPD (NH3)', 'Catalyst/Substrate loading',\n",
        "       'Phase Ratio', 'Dipole Moment', 'Temperature',\n",
        "       'Time'],\n",
        "                    columns=['values'])\n",
        "data['values'].plot(kind='barh', color= \"g\")\n"
      ],
      "execution_count": null,
      "outputs": [
        {
          "output_type": "execute_result",
          "data": {
            "text/plain": [
              "<matplotlib.axes._subplots.AxesSubplot at 0x7f1db97f2a90>"
            ]
          },
          "metadata": {
            "tags": []
          },
          "execution_count": 362
        },
        {
          "output_type": "display_data",
          "data": {
            "image/png": "[encoded data removed]",
            "text/plain": [
              "<Figure size 432x288 with 1 Axes>"
            ]
          },
          "metadata": {
            "tags": []
          }
        }
      ]
    },
    {
      "cell_type": "markdown",
      "metadata": {
        "id": "FlBdg4OH9ukt"
      },
      "source": [
        "## Lasso"
      ]
    },
    {
      "cell_type": "code",
      "metadata": {
        "colab": {
          "base_uri": "https://localhost:8080/"
        },
        "id": "4jwRS-ZX9xjl",
        "outputId": "423e2aa5-f0f5-4a14-bc1c-8a7f1b875f2f"
      },
      "source": [
        "### Grid Search for Lasso\n",
        "from sklearn.linear_model import Lasso\n",
        "parameters = {'alpha': np.arange(0.01, 0.9, 0.01)}\n",
        "clf = GridSearchCV(Lasso(), parameters, scoring='neg_mean_squared_error')\n",
        "clf.fit(X_train, y_train)\n",
        "clf.cv_results_['params'][np.argmax(clf.cv_results_['mean_test_score'])]"
      ],
      "execution_count": null,
      "outputs": [
        {
          "output_type": "execute_result",
          "data": {
            "text/plain": [
              "{'alpha': 0.89}"
            ]
          },
          "metadata": {
            "tags": []
          },
          "execution_count": 279
        }
      ]
    },
    {
      "cell_type": "code",
      "metadata": {
        "colab": {
          "base_uri": "https://localhost:8080/"
        },
        "id": "mMhJDb3L91Zc",
        "outputId": "10c1b66f-9d79-432c-b805-d5ec08349e0f"
      },
      "source": [
        "# from sklearn.linear_model import Lasso\n",
        "clf = Lasso(alpha =0.89 )\n",
        "scores = cross_validate(clf, X_train, y_train, cv=5, scoring=['neg_root_mean_squared_error'])['test_neg_root_mean_squared_error']\n",
        "np.mean(scores)"
      ],
      "execution_count": null,
      "outputs": [
        {
          "output_type": "execute_result",
          "data": {
            "text/plain": [
              "-21.082150366336705"
            ]
          },
          "metadata": {
            "tags": []
          },
          "execution_count": 280
        }
      ]
    },
    {
      "cell_type": "markdown",
      "metadata": {
        "id": "XOjxYWCf-CIq"
      },
      "source": [
        "## SVR"
      ]
    },
    {
      "cell_type": "code",
      "metadata": {
        "colab": {
          "base_uri": "https://localhost:8080/"
        },
        "id": "4MJ3VcRe-AVW",
        "outputId": "db80194f-a052-4c61-acd6-53deb73a366e"
      },
      "source": [
        "from sklearn.svm import SVR\n",
        "parameters = {'C':np.arange(5,10,1), 'epsilon':np.arange(0.01,0.1,0.02)}\n",
        "clf = GridSearchCV(SVR(), parameters, scoring='neg_mean_squared_error')\n",
        "clf.fit(X_train, y_train)\n",
        "clf.cv_results_['params'][np.argmax(clf.cv_results_['mean_test_score'])]"
      ],
      "execution_count": null,
      "outputs": [
        {
          "output_type": "execute_result",
          "data": {
            "text/plain": [
              "{'C': 5, 'epsilon': 0.01}"
            ]
          },
          "metadata": {
            "tags": []
          },
          "execution_count": 281
        }
      ]
    },
    {
      "cell_type": "code",
      "metadata": {
        "colab": {
          "base_uri": "https://localhost:8080/"
        },
        "id": "WzgpddqP-DyL",
        "outputId": "85a931fa-b5a7-4aad-f4af-8934d465b24c"
      },
      "source": [
        "from sklearn.svm import SVR\n",
        "clf = SVR(C= 8, epsilon = 0.01)\n",
        "scores = cross_validate(clf, X_train, y_train, cv=5, scoring=['neg_root_mean_squared_error'])['test_neg_root_mean_squared_error']\n",
        "np.mean(scores)"
      ],
      "execution_count": null,
      "outputs": [
        {
          "output_type": "execute_result",
          "data": {
            "text/plain": [
              "-20.166244229648026"
            ]
          },
          "metadata": {
            "tags": []
          },
          "execution_count": 282
        }
      ]
    },
    {
      "cell_type": "code",
      "metadata": {
        "colab": {
          "base_uri": "https://localhost:8080/"
        },
        "id": "dxvzDYN3-QRs",
        "outputId": "8b98e89a-f3d5-46f5-e346-513d4e3dbc11"
      },
      "source": [
        "np.std(scores)"
      ],
      "execution_count": null,
      "outputs": [
        {
          "output_type": "execute_result",
          "data": {
            "text/plain": [
              "1.5030128310841875"
            ]
          },
          "metadata": {
            "tags": []
          },
          "execution_count": 283
        }
      ]
    },
    {
      "cell_type": "markdown",
      "metadata": {
        "id": "6rkCIS8l-qAm"
      },
      "source": [
        "## GPR"
      ]
    },
    {
      "cell_type": "code",
      "metadata": {
        "id": "VBhLWA4m-sRO"
      },
      "source": [
        "from sklearn.gaussian_process import GaussianProcessRegressor\n",
        "from sklearn.gaussian_process.kernels import WhiteKernel, DotProduct, RBF\n",
        "import matplotlib.pyplot as plt\n",
        "import numpy as np\n",
        "from sklearn.gaussian_process.kernels import RBF, ConstantKernel as C"
      ],
      "execution_count": null,
      "outputs": []
    },
    {
      "cell_type": "code",
      "metadata": {
        "id": "QVRotZnG-ujA"
      },
      "source": [
        "# Random seeds\n",
        "np.random.seed(seed=0)  # Set seed for NumPy\n",
        "random_state = 0\n",
        "# Instantiate a Gaussian Process model\n",
        "kernel = C(1.0, (1e-3, 1e3)) * RBF(10, (1e-2, 1e2))\n",
        "\n",
        "gpr = GaussianProcessRegressor(kernel=kernel, n_restarts_optimizer=9, alpha= 0.05)"
      ],
      "execution_count": null,
      "outputs": []
    },
    {
      "cell_type": "code",
      "metadata": {
        "colab": {
          "base_uri": "https://localhost:8080/"
        },
        "id": "QQvJIB9d-wkV",
        "outputId": "5dfba198-ac40-411d-87a1-50b44dc0d4e3"
      },
      "source": [
        "# New random forest with only the two most important variables\n",
        "model = gpr \n",
        "X  = features\n",
        "y = labels\n",
        "cv = KFold(n_splits=5, random_state=1, shuffle=True)\n",
        "scores = cross_val_score(model, X, y, scoring='neg_root_mean_squared_error', cv=cv, n_jobs=-1)\n",
        "# report performance\n",
        "print('MAE: %.4f (%.4f)' % (np.abs(mean(scores)), np.std(scores)))\n",
        "#print('accuracy %.3f (%.3f)' % (np.abs(mean(model.score)), std(scores)))"
      ],
      "execution_count": null,
      "outputs": [
        {
          "output_type": "stream",
          "text": [
            "MAE: 30.0882 (4.0803)\n"
          ],
          "name": "stdout"
        }
      ]
    },
    {
      "cell_type": "markdown",
      "metadata": {
        "id": "5Sfb3nTUjNZX"
      },
      "source": [
        "# KRR"
      ]
    },
    {
      "cell_type": "code",
      "metadata": {
        "colab": {
          "base_uri": "https://localhost:8080/"
        },
        "id": "TCECM_ugEBmq",
        "outputId": "b3276428-8802-4a38-cc55-9450cdfa7ce2"
      },
      "source": [
        "from sklearn.kernel_ridge import KernelRidge\n",
        "clf = KernelRidge(alpha=1.0)\n",
        "scores = cross_validate(clf, X_train, y_train, cv=5, scoring=['neg_root_mean_squared_error'])['test_neg_root_mean_squared_error']\n",
        "np.mean(scores)"
      ],
      "execution_count": null,
      "outputs": [
        {
          "output_type": "execute_result",
          "data": {
            "text/plain": [
              "-38.1699184722158"
            ]
          },
          "metadata": {
            "tags": []
          },
          "execution_count": 316
        }
      ]
    },
    {
      "cell_type": "code",
      "metadata": {
        "colab": {
          "base_uri": "https://localhost:8080/"
        },
        "id": "0Jvxbli0_MQK",
        "outputId": "a432c7d1-26a1-4cd4-d6d0-a05de3713bf4"
      },
      "source": [
        "np.std(scores)"
      ],
      "execution_count": null,
      "outputs": [
        {
          "output_type": "execute_result",
          "data": {
            "text/plain": [
              "5.173280076818606"
            ]
          },
          "metadata": {
            "tags": []
          },
          "execution_count": 317
        }
      ]
    },
    {
      "cell_type": "code",
      "metadata": {
        "colab": {
          "base_uri": "https://localhost:8080/"
        },
        "id": "k41qf_5X_T1k",
        "outputId": "4603b9f6-f5da-49a8-be4e-f0a40ad61398"
      },
      "source": [
        "19.74/80.9"
      ],
      "execution_count": null,
      "outputs": [
        {
          "output_type": "execute_result",
          "data": {
            "text/plain": [
              "0.24400494437577253"
            ]
          },
          "metadata": {
            "tags": []
          },
          "execution_count": 289
        }
      ]
    },
    {
      "cell_type": "markdown",
      "metadata": {
        "id": "UdoGZBIrSyv5"
      },
      "source": [
        "# correlation matrix"
      ]
    },
    {
      "cell_type": "code",
      "metadata": {
        "colab": {
          "base_uri": "https://localhost:8080/",
          "height": 718
        },
        "id": "13HEItuCS1BH",
        "outputId": "14450966-fc95-48a9-cc11-8a0a2bad15cd"
      },
      "source": [
        "#Using Pearson Correlation\n",
        "import seaborn as sns\n",
        "plt.figure(figsize=(12,10))\n",
        "cor = df.corr()\n",
        "sns.heatmap(cor, annot=True, cmap=plt.cm.Reds)\n",
        "plt.show()"
      ],
      "execution_count": null,
      "outputs": [
        {
          "output_type": "display_data",
          "data": {
            "image/png": "[encoded data removed]",
            "text/plain": [
              "<Figure size 864x720 with 2 Axes>"
            ]
          },
          "metadata": {
            "tags": [],
            "needs_background": "light"
          }
        }
      ]
    },
    {
      "cell_type": "markdown",
      "metadata": {
        "id": "l3n9ZhSPS9Sn"
      },
      "source": [
        "# PCA "
      ]
    },
    {
      "cell_type": "code",
      "metadata": {
        "id": "XR_9tSkbBWIf"
      },
      "source": [
        "\n",
        "# Machine learning related functions\n",
        "from sklearn.preprocessing import StandardScaler #normalizing inputs\n",
        "from sklearn.decomposition import PCA  # principal component analysis\n",
        "from sklearn.gaussian_process import GaussianProcessRegressor \n",
        "from sklearn.preprocessing import StandardScaler\n"
      ],
      "execution_count": null,
      "outputs": []
    },
    {
      "cell_type": "code",
      "metadata": {
        "id": "FCj_30biBqWs"
      },
      "source": [
        "# Separating out the features\n",
        "x = df.drop(columns=['HMF Yield'])\n",
        "# Separating out the target\n",
        "y = df['HMF Yield']\n",
        "bins = [-0.00001,25,50,75,100]\n",
        "labels = ['<25','25-50','50-75','>75']\n",
        "y = pd.cut(y, bins=bins, labels=labels)\n",
        "#y =y.cat.codes\n",
        "#Standardizing the features\n",
        "x = StandardScaler().fit_transform(x.select_dtypes('float'))"
      ],
      "execution_count": null,
      "outputs": []
    },
    {
      "cell_type": "code",
      "metadata": {
        "colab": {
          "base_uri": "https://localhost:8080/"
        },
        "id": "9Yj4v9psBta1",
        "outputId": "931e67f2-c40e-4e90-871f-05b6f5de50b9"
      },
      "source": [
        "pca = PCA().fit(x)\n",
        "# plotting \n",
        "evr = np.cumsum(pca.explained_variance_ratio_)\n",
        "print('{:<20s}{:<80s}'.format('No. of PC', 'Cumulative explained varience'))\n",
        "print(50*'-')\n",
        "for i,a in enumerate(evr):\n",
        "    if a<=1:\n",
        "        print('{:<20d}{:<80f}'.format(i+1,a))"
      ],
      "execution_count": null,
      "outputs": [
        {
          "output_type": "stream",
          "text": [
            "No. of PC           Cumulative explained varience                                                   \n",
            "--------------------------------------------------\n",
            "1                   0.304394                                                                        \n",
            "2                   0.522251                                                                        \n",
            "3                   0.678017                                                                        \n",
            "4                   0.786996                                                                        \n",
            "5                   0.856405                                                                        \n",
            "6                   0.914497                                                                        \n",
            "7                   0.948832                                                                        \n",
            "8                   0.968979                                                                        \n",
            "9                   0.988746                                                                        \n"
          ],
          "name": "stdout"
        }
      ]
    },
    {
      "cell_type": "code",
      "metadata": {
        "id": "r5-l58PxBv9Z"
      },
      "source": [
        "pca = PCA(n_components=2)\n",
        "principalComponents = pca.fit_transform(x)\n",
        "principalDf = pd.DataFrame(data = principalComponents\n",
        "             , columns = ['principal component 1', 'principal component 2'])\n",
        "#principalDf = principalDf.drop(principalDf.index[[41,42,43,44]])\n",
        "#y = y.drop(y.index[[41,42,43,44]])"
      ],
      "execution_count": null,
      "outputs": []
    },
    {
      "cell_type": "code",
      "metadata": {
        "id": "c7YInIbcT4DM"
      },
      "source": [
        "#Removing outliers\n",
        "import scipy.stats as stats\n",
        "z_scores = stats.zscore(principalDf)\n",
        "abs_z_scores = np.abs(z_scores)\n",
        "filtered_entries = (abs_z_scores < 2).all(axis=1)\n",
        "principalDf = principalDf[filtered_entries]"
      ],
      "execution_count": null,
      "outputs": []
    },
    {
      "cell_type": "code",
      "metadata": {
        "colab": {
          "base_uri": "https://localhost:8080/",
          "height": 555
        },
        "id": "4FP8OY0cBzrc",
        "outputId": "8bce7edb-9fdb-4626-966a-bb9c7db15594"
      },
      "source": [
        "finalDf = pd.concat([principalDf, y], axis = 1)\n",
        "fig = plt.figure(figsize = (8,8))\n",
        "ax = fig.add_subplot(1,1,1) \n",
        "ax.set_xlabel('Principal Component 1', fontsize = 15)\n",
        "ax.set_ylabel('Principal Component 2', fontsize = 15)\n",
        "ax.set_title('2 component PCA', fontsize = 20)\n",
        "targets = ['<25','25-50','50-75','>75']\n",
        "colors = ['r', 'g', 'b','m']\n",
        "for target, color in zip(targets,colors):\n",
        "    indicesToKeep = finalDf['HMF Yield']== target\n",
        "    ax.scatter(finalDf.loc[indicesToKeep, 'principal component 1']\n",
        "               , finalDf.loc[indicesToKeep, 'principal component 2']\n",
        "               , c = color\n",
        "               , s = 50)\n",
        "ax.legend(targets)\n",
        "ax.grid()\n",
        "images_dir = '/content/gdrive/My Drive'\n",
        "plt.savefig(f\"{images_dir}/pca.png\", bbox_inches='tight', dpi = 160)"
      ],
      "execution_count": null,
      "outputs": [
        {
          "output_type": "display_data",
          "data": {
            "image/png": "[encoded data removed]",
            "text/plain": [
              "<Figure size 576x576 with 1 Axes>"
            ]
          },
          "metadata": {
            "tags": []
          }
        }
      ]
    },
    {
      "cell_type": "code",
      "metadata": {
        "id": "qnA3T0YNB37C"
      },
      "source": [
        "pca = PCA(n_components=3)\n",
        "principalComponents = pca.fit_transform(x)\n",
        "principalDf = pd.DataFrame(data = principalComponents\n",
        "             , columns = ['principal component 1', 'principal component 2', 'principal component 3'])"
      ],
      "execution_count": null,
      "outputs": []
    },
    {
      "cell_type": "code",
      "metadata": {
        "id": "DMOK_QyhUPjN"
      },
      "source": [
        "#Removing outliers\n",
        "import scipy.stats as stats\n",
        "z_scores = stats.zscore(principalDf)\n",
        "abs_z_scores = np.abs(z_scores)\n",
        "filtered_entries = (abs_z_scores < 3).all(axis=1)\n",
        "principalDf = principalDf[filtered_entries]"
      ],
      "execution_count": null,
      "outputs": []
    },
    {
      "cell_type": "code",
      "metadata": {
        "id": "kSmM14C7B5sA"
      },
      "source": [
        "#principalDf = principalDf.drop(principalDf.index[[41,42,43,44,61]])\n",
        "y = df['HMF Yield']\n",
        "bins = [-0.00001,25,50,75,100]\n",
        "labels = ['<25','25-50','50-75','>75']\n",
        "y = pd.cut(y, bins=bins, labels=labels)\n",
        "#y= y.drop(y.index[[41,42,43,44,61]])"
      ],
      "execution_count": null,
      "outputs": []
    },
    {
      "cell_type": "code",
      "metadata": {
        "colab": {
          "base_uri": "https://localhost:8080/"
        },
        "id": "uWFl7CqhY35K",
        "outputId": "04f12add-4559-4fc1-bd3b-1729b00b4edd"
      },
      "source": [
        "y[filtered_entries].shape"
      ],
      "execution_count": null,
      "outputs": [
        {
          "output_type": "execute_result",
          "data": {
            "text/plain": [
              "(96,)"
            ]
          },
          "metadata": {
            "tags": []
          },
          "execution_count": 322
        }
      ]
    },
    {
      "cell_type": "code",
      "metadata": {
        "id": "CmtefAqjTHfh"
      },
      "source": [
        "finalDf = pd.concat([principalDf,y], axis = 1)"
      ],
      "execution_count": null,
      "outputs": []
    },
    {
      "cell_type": "code",
      "metadata": {
        "colab": {
          "base_uri": "https://localhost:8080/",
          "height": 497
        },
        "id": "UsXLbBmeB82V",
        "outputId": "fb84c23d-207c-4641-be2c-ebca2d9ecf79"
      },
      "source": [
        "fig = plt.figure(figsize = (8,8))\n",
        "ax = fig.add_subplot(111, projection='3d')\n",
        "ax.set_xlabel('Principal Component 1', fontsize = 15)\n",
        "ax.set_ylabel('Principal Component 2', fontsize = 15)\n",
        "ax.set_zlabel('Principal Component 3', fontsize = 15)\n",
        "\n",
        "ax.set_title('Yield Classfication Accuracy = 72.4 %', fontsize = 16)\n",
        "targets = ['<25','25-50','50-75','>75']\n",
        "colors = ['r', 'g', 'b','m']\n",
        "for target, color in zip(targets,colors):\n",
        "    indicesToKeep = finalDf['HMF Yield']== target\n",
        "    ax.scatter(finalDf.loc[indicesToKeep, 'principal component 1']\n",
        "               , finalDf.loc[indicesToKeep, 'principal component 2']\n",
        "               , finalDf.loc[indicesToKeep, 'principal component 3']\n",
        "               , c = color\n",
        "               , s = 50)\n",
        "#ax.text(-4,4,1.5,\"Classfication Accuracy = 90 %\",fontsize=14)\n",
        "ax.legend(targets)\n",
        "#ax.grid()\n",
        "images_dir = '/content/gdrive/My Drive'\n",
        "plt.savefig(f\"{images_dir}/pca_final.png\", bbox_inches='tight', dpi = 160)"
      ],
      "execution_count": null,
      "outputs": [
        {
          "output_type": "display_data",
          "data": {
            "image/png": "[encoded data removed]",
            "text/plain": [
              "<Figure size 576x576 with 1 Axes>"
            ]
          },
          "metadata": {
            "tags": []
          }
        }
      ]
    },
    {
      "cell_type": "code",
      "metadata": {
        "id": "RRbC77rmYDLh"
      },
      "source": [
        "pca = PCA(n_components=7)\n",
        "principalComponents = pca.fit_transform(x)\n",
        "principalDf = pd.DataFrame(data = principalComponents\n",
        "             , columns = ['principal component 1', 'principal component 2', 'principal component 3','principal component 4','principal component 5','principal component 6','principal component 7'])"
      ],
      "execution_count": null,
      "outputs": []
    },
    {
      "cell_type": "code",
      "metadata": {
        "id": "0Zy1bHnOYcFA"
      },
      "source": [
        "#Removing outliers\n",
        "import scipy.stats as stats\n",
        "z_scores = stats.zscore(principalDf)\n",
        "abs_z_scores = np.abs(z_scores)\n",
        "filtered_entries = (abs_z_scores < 3).all(axis=1)\n",
        "principalDf = principalDf[filtered_entries]\n"
      ],
      "execution_count": null,
      "outputs": []
    },
    {
      "cell_type": "code",
      "metadata": {
        "id": "vBjNH2uyYqad"
      },
      "source": [
        "#principalDf = principalDf.drop(principalDf.index[[41,42,43,44,61]])\n",
        "y = df['HMF Yield']\n",
        "#y = y[filtered_entries]\n",
        "bins = [-0.00001,25,50,75,100]\n",
        "labels = ['<25','25-50','50-75','>75']\n",
        "y = pd.cut(y, bins=bins, labels=labels)\n",
        "#y= y.drop(y.index[[41,42,43,44,61]])"
      ],
      "execution_count": null,
      "outputs": []
    },
    {
      "cell_type": "code",
      "metadata": {
        "id": "_Z4zOokhZcqq"
      },
      "source": [
        "#label encoding\n",
        "y = y.astype('category')\n",
        "y = y.cat.codes\n",
        "#y[filtered_entries]"
      ],
      "execution_count": null,
      "outputs": []
    },
    {
      "cell_type": "markdown",
      "metadata": {
        "id": "-MzWKEJRU8BO"
      },
      "source": [
        "# Classification"
      ]
    },
    {
      "cell_type": "code",
      "metadata": {
        "id": "Hc7zhOnDVT-6"
      },
      "source": [
        "df_2=(df_2-df_2.mean())/df_2.std()\n",
        "features = df_2[['Si/Al','TPD (NH3) (micmol/g)','phase_2/phase_1', 'Total dipole moment(D)', 'Temperature ( °C)']].values\n",
        "feature_list = list(df.drop(columns = ['HMF Yield']).columns)\n",
        "labels = df['HMF Yield'].values"
      ],
      "execution_count": null,
      "outputs": []
    },
    {
      "cell_type": "code",
      "metadata": {
        "id": "kOpsCa0zbkaw"
      },
      "source": [
        "X = df.drop(columns = ['HMF Yield']).values"
      ],
      "execution_count": null,
      "outputs": []
    },
    {
      "cell_type": "code",
      "metadata": {
        "id": "sK64vTXlWIqi"
      },
      "source": [
        "X = features"
      ],
      "execution_count": null,
      "outputs": []
    },
    {
      "cell_type": "code",
      "metadata": {
        "id": "qVoL0HTBcG2Y"
      },
      "source": [
        "X_train, X_test, y_train, y_test = train_test_split(X,y,test_size=.1, random_state=50)"
      ],
      "execution_count": null,
      "outputs": []
    },
    {
      "cell_type": "code",
      "metadata": {
        "colab": {
          "base_uri": "https://localhost:8080/"
        },
        "id": "2avCrIexcSV2",
        "outputId": "f3bde9ab-6321-4607-ad24-ddf96649ddb3"
      },
      "source": [
        "from sklearn.svm import SVC\n",
        "from sklearn.model_selection import GridSearchCV\n",
        "from sklearn.metrics import accuracy_score, confusion_matrix, classification_report\n",
        "\n",
        "param_grid = {'C': [0.1,1, 10, 100], 'gamma': [1,0.1,0.01,0.001]} \n",
        "grid = GridSearchCV(SVC(),param_grid,refit=True,verbose=2)\n",
        "preds = grid.fit(X_train,y_train).predict(X_test)\n",
        "\n",
        "print('SVM Train accuracy %s' % grid.score(X_train, y_train)) \n",
        "print('SVM Test accuracy %s' % accuracy_score(preds, y_test)) \n",
        "\n",
        "print(confusion_matrix(y_test, preds)) \n",
        "print(classification_report(y_test, preds)) "
      ],
      "execution_count": null,
      "outputs": [
        {
          "output_type": "stream",
          "text": [
            "Fitting 5 folds for each of 16 candidates, totalling 80 fits\n",
            "[CV] C=0.1, gamma=1 ..................................................\n",
            "[CV] ................................... C=0.1, gamma=1, total=   0.0s\n",
            "[CV] C=0.1, gamma=1 ..................................................\n",
            "[CV] ................................... C=0.1, gamma=1, total=   0.0s\n",
            "[CV] C=0.1, gamma=1 ..................................................\n",
            "[CV] ................................... C=0.1, gamma=1, total=   0.0s\n",
            "[CV] C=0.1, gamma=1 ..................................................\n",
            "[CV] ................................... C=0.1, gamma=1, total=   0.0s\n",
            "[CV] C=0.1, gamma=1 ..................................................\n",
            "[CV] ................................... C=0.1, gamma=1, total=   0.0s\n",
            "[CV] C=0.1, gamma=0.1 ................................................\n",
            "[CV] ................................. C=0.1, gamma=0.1, total=   0.0s\n",
            "[CV] C=0.1, gamma=0.1 ................................................\n",
            "[CV] ................................. C=0.1, gamma=0.1, total=   0.0s\n",
            "[CV] C=0.1, gamma=0.1 ................................................\n",
            "[CV] ................................. C=0.1, gamma=0.1, total=   0.0s\n",
            "[CV] C=0.1, gamma=0.1 ................................................\n",
            "[CV] ................................. C=0.1, gamma=0.1, total=   0.0s\n",
            "[CV] C=0.1, gamma=0.1 ................................................\n",
            "[CV] ................................. C=0.1, gamma=0.1, total=   0.0s\n",
            "[CV] C=0.1, gamma=0.01 ...............................................\n",
            "[CV] ................................ C=0.1, gamma=0.01, total=   0.0s\n",
            "[CV] C=0.1, gamma=0.01 ...............................................\n",
            "[CV] ................................ C=0.1, gamma=0.01, total=   0.0s\n",
            "[CV] C=0.1, gamma=0.01 ...............................................\n",
            "[CV] ................................ C=0.1, gamma=0.01, total=   0.0s\n",
            "[CV] C=0.1, gamma=0.01 ...............................................\n",
            "[CV] ................................ C=0.1, gamma=0.01, total=   0.0s\n",
            "[CV] C=0.1, gamma=0.01 ...............................................\n",
            "[CV] ................................ C=0.1, gamma=0.01, total=   0.0s\n",
            "[CV] C=0.1, gamma=0.001 ..............................................\n",
            "[CV] ............................... C=0.1, gamma=0.001, total=   0.0s\n",
            "[CV] C=0.1, gamma=0.001 ..............................................\n",
            "[CV] ............................... C=0.1, gamma=0.001, total=   0.0s\n",
            "[CV] C=0.1, gamma=0.001 ..............................................\n",
            "[CV] ............................... C=0.1, gamma=0.001, total=   0.0s\n",
            "[CV] C=0.1, gamma=0.001 ..............................................\n",
            "[CV] ............................... C=0.1, gamma=0.001, total=   0.0s\n",
            "[CV] C=0.1, gamma=0.001 ..............................................\n",
            "[CV] ............................... C=0.1, gamma=0.001, total=   0.0s\n",
            "[CV] C=1, gamma=1 ....................................................\n",
            "[CV] ..................................... C=1, gamma=1, total=   0.0s\n",
            "[CV] C=1, gamma=1 ....................................................\n",
            "[CV] ..................................... C=1, gamma=1, total=   0.0s\n",
            "[CV] C=1, gamma=1 ....................................................\n",
            "[CV] ..................................... C=1, gamma=1, total=   0.0s\n",
            "[CV] C=1, gamma=1 ....................................................\n",
            "[CV] ..................................... C=1, gamma=1, total=   0.0s\n",
            "[CV] C=1, gamma=1 ....................................................\n",
            "[CV] ..................................... C=1, gamma=1, total=   0.0s\n",
            "[CV] C=1, gamma=0.1 ..................................................\n",
            "[CV] ................................... C=1, gamma=0.1, total=   0.0s\n",
            "[CV] C=1, gamma=0.1 ..................................................\n",
            "[CV] ................................... C=1, gamma=0.1, total=   0.0s\n",
            "[CV] C=1, gamma=0.1 ..................................................\n",
            "[CV] ................................... C=1, gamma=0.1, total=   0.0s\n",
            "[CV] C=1, gamma=0.1 ..................................................\n",
            "[CV] ................................... C=1, gamma=0.1, total=   0.0s\n",
            "[CV] C=1, gamma=0.1 ..................................................\n",
            "[CV] ................................... C=1, gamma=0.1, total=   0.0s\n",
            "[CV] C=1, gamma=0.01 .................................................\n",
            "[CV] .................................. C=1, gamma=0.01, total=   0.0s\n",
            "[CV] C=1, gamma=0.01 .................................................\n",
            "[CV] .................................. C=1, gamma=0.01, total=   0.0s\n",
            "[CV] C=1, gamma=0.01 .................................................\n",
            "[CV] .................................. C=1, gamma=0.01, total=   0.0s\n",
            "[CV] C=1, gamma=0.01 .................................................\n",
            "[CV] .................................. C=1, gamma=0.01, total=   0.0s\n",
            "[CV] C=1, gamma=0.01 .................................................\n",
            "[CV] .................................. C=1, gamma=0.01, total=   0.0s\n",
            "[CV] C=1, gamma=0.001 ................................................\n",
            "[CV] ................................. C=1, gamma=0.001, total=   0.0s\n",
            "[CV] C=1, gamma=0.001 ................................................\n",
            "[CV] ................................. C=1, gamma=0.001, total=   0.0s\n",
            "[CV] C=1, gamma=0.001 ................................................\n",
            "[CV] ................................. C=1, gamma=0.001, total=   0.0s\n",
            "[CV] C=1, gamma=0.001 ................................................\n",
            "[CV] ................................. C=1, gamma=0.001, total=   0.0s\n",
            "[CV] C=1, gamma=0.001 ................................................\n",
            "[CV] ................................. C=1, gamma=0.001, total=   0.0s\n",
            "[CV] C=10, gamma=1 ...................................................\n",
            "[CV] .................................... C=10, gamma=1, total=   0.0s\n",
            "[CV] C=10, gamma=1 ...................................................\n",
            "[CV] .................................... C=10, gamma=1, total=   0.0s\n",
            "[CV] C=10, gamma=1 ...................................................\n",
            "[CV] .................................... C=10, gamma=1, total=   0.0s\n",
            "[CV] C=10, gamma=1 ...................................................\n",
            "[CV] .................................... C=10, gamma=1, total=   0.0s\n",
            "[CV] C=10, gamma=1 ...................................................\n",
            "[CV] .................................... C=10, gamma=1, total=   0.0s\n",
            "[CV] C=10, gamma=0.1 .................................................\n",
            "[CV] .................................. C=10, gamma=0.1, total=   0.0s\n",
            "[CV] C=10, gamma=0.1 .................................................\n",
            "[CV] .................................. C=10, gamma=0.1, total=   0.0s\n",
            "[CV] C=10, gamma=0.1 .................................................\n",
            "[CV] .................................. C=10, gamma=0.1, total=   0.0s\n",
            "[CV] C=10, gamma=0.1 .................................................\n",
            "[CV] .................................. C=10, gamma=0.1, total=   0.0s\n",
            "[CV] C=10, gamma=0.1 .................................................\n",
            "[CV] .................................. C=10, gamma=0.1, total=   0.0s\n",
            "[CV] C=10, gamma=0.01 ................................................\n",
            "[CV] ................................. C=10, gamma=0.01, total=   0.0s\n",
            "[CV] C=10, gamma=0.01 ................................................\n",
            "[CV] ................................. C=10, gamma=0.01, total=   0.0s\n",
            "[CV] C=10, gamma=0.01 ................................................\n",
            "[CV] ................................. C=10, gamma=0.01, total=   0.0s\n",
            "[CV] C=10, gamma=0.01 ................................................\n",
            "[CV] ................................. C=10, gamma=0.01, total=   0.0s\n",
            "[CV] C=10, gamma=0.01 ................................................\n",
            "[CV] ................................. C=10, gamma=0.01, total=   0.0s\n",
            "[CV] C=10, gamma=0.001 ...............................................\n",
            "[CV] ................................ C=10, gamma=0.001, total=   0.0s\n",
            "[CV] C=10, gamma=0.001 ...............................................\n",
            "[CV] ................................ C=10, gamma=0.001, total=   0.0s\n",
            "[CV] C=10, gamma=0.001 ...............................................\n",
            "[CV] ................................ C=10, gamma=0.001, total=   0.0s\n",
            "[CV] C=10, gamma=0.001 ...............................................\n",
            "[CV] ................................ C=10, gamma=0.001, total=   0.0s\n",
            "[CV] C=10, gamma=0.001 ...............................................\n",
            "[CV] ................................ C=10, gamma=0.001, total=   0.0s\n",
            "[CV] C=100, gamma=1 ..................................................\n",
            "[CV] ................................... C=100, gamma=1, total=   0.0s\n",
            "[CV] C=100, gamma=1 ..................................................\n",
            "[CV] ................................... C=100, gamma=1, total=   0.0s\n",
            "[CV] C=100, gamma=1 ..................................................\n",
            "[CV] ................................... C=100, gamma=1, total=   0.0s\n",
            "[CV] C=100, gamma=1 ..................................................\n",
            "[CV] ................................... C=100, gamma=1, total=   0.0s\n",
            "[CV] C=100, gamma=1 ..................................................\n",
            "[CV] ................................... C=100, gamma=1, total=   0.0s\n",
            "[CV] C=100, gamma=0.1 ................................................\n",
            "[CV] ................................. C=100, gamma=0.1, total=   0.0s\n",
            "[CV] C=100, gamma=0.1 ................................................\n",
            "[CV] ................................. C=100, gamma=0.1, total=   0.0s\n",
            "[CV] C=100, gamma=0.1 ................................................\n",
            "[CV] ................................. C=100, gamma=0.1, total=   0.0s\n",
            "[CV] C=100, gamma=0.1 ................................................\n",
            "[CV] ................................. C=100, gamma=0.1, total=   0.0s\n",
            "[CV] C=100, gamma=0.1 ................................................\n",
            "[CV] ................................. C=100, gamma=0.1, total=   0.0s\n",
            "[CV] C=100, gamma=0.01 ...............................................\n",
            "[CV] ................................ C=100, gamma=0.01, total=   0.0s\n",
            "[CV] C=100, gamma=0.01 ...............................................\n",
            "[CV] ................................ C=100, gamma=0.01, total=   0.0s\n",
            "[CV] C=100, gamma=0.01 ...............................................\n"
          ],
          "name": "stdout"
        },
        {
          "output_type": "stream",
          "text": [
            "[Parallel(n_jobs=1)]: Using backend SequentialBackend with 1 concurrent workers.\n",
            "[Parallel(n_jobs=1)]: Done   1 out of   1 | elapsed:    0.0s remaining:    0.0s\n"
          ],
          "name": "stderr"
        },
        {
          "output_type": "stream",
          "text": [
            "[CV] ................................ C=100, gamma=0.01, total=   0.0s\n",
            "[CV] C=100, gamma=0.01 ...............................................\n",
            "[CV] ................................ C=100, gamma=0.01, total=   0.0s\n",
            "[CV] C=100, gamma=0.01 ...............................................\n",
            "[CV] ................................ C=100, gamma=0.01, total=   0.0s\n",
            "[CV] C=100, gamma=0.001 ..............................................\n",
            "[CV] ............................... C=100, gamma=0.001, total=   0.0s\n",
            "[CV] C=100, gamma=0.001 ..............................................\n",
            "[CV] ............................... C=100, gamma=0.001, total=   0.0s\n",
            "[CV] C=100, gamma=0.001 ..............................................\n",
            "[CV] ............................... C=100, gamma=0.001, total=   0.0s\n",
            "[CV] C=100, gamma=0.001 ..............................................\n",
            "[CV] ............................... C=100, gamma=0.001, total=   0.0s\n",
            "[CV] C=100, gamma=0.001 ..............................................\n",
            "[CV] ............................... C=100, gamma=0.001, total=   0.0s\n",
            "SVM Train accuracy 0.7586206896551724\n",
            "SVM Test accuracy 0.7\n",
            "[[5 3]\n",
            " [0 2]]\n",
            "              precision    recall  f1-score   support\n",
            "\n",
            "           0       1.00      0.62      0.77         8\n",
            "           1       0.40      1.00      0.57         2\n",
            "\n",
            "    accuracy                           0.70        10\n",
            "   macro avg       0.70      0.81      0.67        10\n",
            "weighted avg       0.88      0.70      0.73        10\n",
            "\n"
          ],
          "name": "stdout"
        },
        {
          "output_type": "stream",
          "text": [
            "[Parallel(n_jobs=1)]: Done  80 out of  80 | elapsed:    0.2s finished\n"
          ],
          "name": "stderr"
        }
      ]
    },
    {
      "cell_type": "code",
      "metadata": {
        "id": "Go8scobLdI4e"
      },
      "source": [
        "from sklearn.linear_model import LogisticRegression\n",
        "from sklearn.model_selection import train_test_split\n",
        "from sklearn.preprocessing import StandardScaler\n",
        "from sklearn.metrics import accuracy_score, confusion_matrix, classification_report"
      ],
      "execution_count": null,
      "outputs": []
    },
    {
      "cell_type": "code",
      "metadata": {
        "colab": {
          "base_uri": "https://localhost:8080/"
        },
        "id": "g0QjZbVDdaPQ",
        "outputId": "934669ae-c635-474e-d268-77a56be4e122"
      },
      "source": [
        "X_train, X_test, y_train, y_test = train_test_split(X, y, test_size = 0.1,random_state=100) \n",
        "lr = LogisticRegression(random_state=0)\n",
        "\n",
        "model = lr.fit(X_train, y_train)\n",
        "preds = model.predict(X_test)\n",
        "\n",
        "print('Logistic Regression Train accuracy %s' % model.score(X_train, y_train)) \n",
        "print('Logistic Regression Test accuracy %s' % accuracy_score(preds, y_test)) \n",
        "\n",
        "print(confusion_matrix(y_test, preds)) \n",
        "print(classification_report(y_test, preds)) "
      ],
      "execution_count": null,
      "outputs": [
        {
          "output_type": "stream",
          "text": [
            "Logistic Regression Train accuracy 0.7471264367816092\n",
            "Logistic Regression Test accuracy 0.8\n",
            "[[5 0 0]\n",
            " [1 3 0]\n",
            " [0 1 0]]\n",
            "              precision    recall  f1-score   support\n",
            "\n",
            "           0       0.83      1.00      0.91         5\n",
            "           1       0.75      0.75      0.75         4\n",
            "           2       0.00      0.00      0.00         1\n",
            "\n",
            "    accuracy                           0.80        10\n",
            "   macro avg       0.53      0.58      0.55        10\n",
            "weighted avg       0.72      0.80      0.75        10\n",
            "\n"
          ],
          "name": "stdout"
        }
      ]
    },
    {
      "cell_type": "code",
      "metadata": {
        "colab": {
          "base_uri": "https://localhost:8080/"
        },
        "id": "hRYqP1xRd6Oa",
        "outputId": "492bd182-2b53-428f-a57d-8d881d40e480"
      },
      "source": [
        "from sklearn.neighbors import KNeighborsClassifier\n",
        "model = KNeighborsClassifier(n_neighbors=15)\n",
        "preds = model.fit(X_train, y_train).predict(X_test)\n",
        "print('Forest Train accuracy %s' % model.score(X_train, y_train)) \n",
        "print('Trees Test accuracy %s' % accuracy_score(preds, y_test)) "
      ],
      "execution_count": null,
      "outputs": [
        {
          "output_type": "stream",
          "text": [
            "Forest Train accuracy 0.6436781609195402\n",
            "Trees Test accuracy 0.6\n"
          ],
          "name": "stdout"
        }
      ]
    },
    {
      "cell_type": "code",
      "metadata": {
        "colab": {
          "base_uri": "https://localhost:8080/"
        },
        "id": "K_iMkQz2eDzw",
        "outputId": "2d6956a7-d13f-494b-dbfc-d1442ce19fc0"
      },
      "source": [
        "from sklearn.tree import DecisionTreeClassifier\n",
        "from sklearn.ensemble import RandomForestClassifier\n",
        "\n",
        "trees = DecisionTreeClassifier(random_state=0)\n",
        "forest = RandomForestClassifier(n_estimators=15, random_state=42)\n",
        "preds_trees = trees.fit(X_train,y_train).predict(X_test)\n",
        "preds_forest = forest.fit(X_train,y_train).predict(X_test)\n",
        "print('Trees Train accuracy %s' % model.score(X_train, y_train)) \n",
        "print('Forest Train accuracy %s' % model.score(X_train, y_train)) \n",
        "\n",
        "print('Trees Test accuracy %s' % accuracy_score(preds_trees, y_test)) \n",
        "print('Forest Test accuracy %s' % accuracy_score(preds_forest, y_test)) "
      ],
      "execution_count": null,
      "outputs": [
        {
          "output_type": "stream",
          "text": [
            "Trees Train accuracy 0.6436781609195402\n",
            "Forest Train accuracy 0.6436781609195402\n",
            "Trees Test accuracy 0.6\n",
            "Forest Test accuracy 0.6\n"
          ],
          "name": "stdout"
        }
      ]
    },
    {
      "cell_type": "code",
      "metadata": {
        "id": "GGoGeX1DX1Oh"
      },
      "source": [
        "import pandas as pd\n",
        "import numpy as np\n",
        "from sklearn.model_selection import KFold, StratifiedKFold, cross_val_score\n",
        "from sklearn import linear_model, tree, ensemble"
      ],
      "execution_count": null,
      "outputs": []
    },
    {
      "cell_type": "code",
      "metadata": {
        "colab": {
          "base_uri": "https://localhost:8080/"
        },
        "id": "IvgwIlRzaRpR",
        "outputId": "ce6c5707-0999-4542-f0d3-0ef782f87646"
      },
      "source": [
        "kf =KFold(n_splits=5, shuffle=True, random_state=42)\n",
        "\n",
        "cnt = 1\n",
        "# split()  method generate indices to split data into training and test set.\n",
        "for train_index, test_index in kf.split(X, y):\n",
        "    print(f'Fold:{cnt}, Train set: {len(train_index)}, Test set:{len(test_index)}')\n",
        "    cnt += 1"
      ],
      "execution_count": null,
      "outputs": [
        {
          "output_type": "stream",
          "text": [
            "Fold:1, Train set: 77, Test set:20\n",
            "Fold:2, Train set: 77, Test set:20\n",
            "Fold:3, Train set: 78, Test set:19\n",
            "Fold:4, Train set: 78, Test set:19\n",
            "Fold:5, Train set: 78, Test set:19\n"
          ],
          "name": "stdout"
        }
      ]
    },
    {
      "cell_type": "code",
      "metadata": {
        "colab": {
          "base_uri": "https://localhost:8080/"
        },
        "id": "Vy-5ef-saYJM",
        "outputId": "b6363772-e56c-4e13-c40c-92e3a9a218ac"
      },
      "source": [
        "score = cross_val_score(linear_model.LogisticRegression(random_state= 42), X, y, cv= kf, scoring=\"accuracy\")\n",
        "print(f'Scores for each fold are: {score}')\n",
        "print(f'Average score: {\"{:.2f}\".format(score.mean())}')"
      ],
      "execution_count": null,
      "outputs": [
        {
          "output_type": "stream",
          "text": [
            "Scores for each fold are: [0.7        0.5        0.94736842 0.73684211 0.73684211]\n",
            "Average score: 0.72\n"
          ],
          "name": "stdout"
        }
      ]
    },
    {
      "cell_type": "code",
      "metadata": {
        "colab": {
          "base_uri": "https://localhost:8080/"
        },
        "id": "K5HhMiDwauvQ",
        "outputId": "91041b20-4169-4d30-9a71-c48f34974548"
      },
      "source": [
        "score = cross_val_score(tree.DecisionTreeClassifier(random_state= 42), X, y, cv= kf, scoring=\"accuracy\")\n",
        "print(f'Scores for each fold are: {score}')\n",
        "print(f'Average score: {\"{:.2f}\".format(score.mean())}')"
      ],
      "execution_count": null,
      "outputs": [
        {
          "output_type": "stream",
          "text": [
            "Scores for each fold are: [0.65       0.65       0.63157895 0.78947368 0.63157895]\n",
            "Average score: 0.67\n"
          ],
          "name": "stdout"
        }
      ]
    },
    {
      "cell_type": "code",
      "metadata": {
        "colab": {
          "base_uri": "https://localhost:8080/"
        },
        "id": "Xth372uWax13",
        "outputId": "80a5fc1e-8158-49dc-a0b6-4fde8fbf9ac1"
      },
      "source": [
        "score = cross_val_score(ensemble.RandomForestClassifier(random_state= 42), X, y, cv= kf, scoring=\"accuracy\")\n",
        "print(f'Scores for each fold are: {score}')\n",
        "print(f'Average score: {\"{:.2f}\".format(score.mean())}')"
      ],
      "execution_count": null,
      "outputs": [
        {
          "output_type": "stream",
          "text": [
            "Scores for each fold are: [0.65       0.7        0.68421053 0.73684211 0.57894737]\n",
            "Average score: 0.67\n"
          ],
          "name": "stdout"
        }
      ]
    },
    {
      "cell_type": "code",
      "metadata": {
        "colab": {
          "base_uri": "https://localhost:8080/"
        },
        "id": "MgrVFgora1p3",
        "outputId": "e3056c8d-81a4-41b2-b2d3-a5cc629a1d64"
      },
      "source": [
        "algorithms = ['newton-cg', 'lbfgs', 'liblinear', 'sag', 'saga']\n",
        "\n",
        "for algo in algorithms:\n",
        "    score = cross_val_score(linear_model.LogisticRegression(max_iter= 4000, solver= algo, random_state= 42), X, y, cv= kf, scoring=\"accuracy\")\n",
        "    print(f'Average score({algo}): {\"{:.3f}\".format(score.mean())}')"
      ],
      "execution_count": null,
      "outputs": [
        {
          "output_type": "stream",
          "text": [
            "Average score(newton-cg): 0.724\n",
            "Average score(lbfgs): 0.724\n",
            "Average score(liblinear): 0.724\n",
            "Average score(sag): 0.724\n",
            "Average score(saga): 0.724\n"
          ],
          "name": "stdout"
        }
      ]
    },
    {
      "cell_type": "code",
      "metadata": {
        "colab": {
          "base_uri": "https://localhost:8080/"
        },
        "id": "W1tZFEesa5Fr",
        "outputId": "a01b4d3a-b023-4f40-dcb5-300b3be6e994"
      },
      "source": [
        "max_depth = [1,2,3,4,5,6,7,8,9,10]\n",
        "\n",
        "for val in max_depth:\n",
        "    score = cross_val_score(tree.DecisionTreeClassifier(max_depth= val, random_state= 42), X, y, cv= kf, scoring=\"accuracy\")\n",
        "    print(f'Average score({val}): {\"{:.3f}\".format(score.mean())}')"
      ],
      "execution_count": null,
      "outputs": [
        {
          "output_type": "stream",
          "text": [
            "Average score(1): 0.743\n",
            "Average score(2): 0.723\n",
            "Average score(3): 0.692\n",
            "Average score(4): 0.681\n",
            "Average score(5): 0.682\n",
            "Average score(6): 0.671\n",
            "Average score(7): 0.681\n",
            "Average score(8): 0.671\n",
            "Average score(9): 0.671\n",
            "Average score(10): 0.671\n"
          ],
          "name": "stdout"
        }
      ]
    },
    {
      "cell_type": "code",
      "metadata": {
        "colab": {
          "base_uri": "https://localhost:8080/"
        },
        "id": "gsxDENHfa9Wz",
        "outputId": "2df6b733-3f62-4c87-e096-9afe3ad74e9b"
      },
      "source": [
        "n_estimators = [50, 100, 150, 200, 250, 300, 350]\n",
        "\n",
        "for val in n_estimators:\n",
        "    score = cross_val_score(ensemble.RandomForestClassifier(n_estimators= val, random_state= 42), X, y, cv= kf, scoring=\"accuracy\")\n",
        "    print(f'Average score({val}): {\"{:.3f}\".format(score.mean())}')"
      ],
      "execution_count": null,
      "outputs": [
        {
          "output_type": "stream",
          "text": [
            "Average score(50): 0.670\n",
            "Average score(100): 0.670\n",
            "Average score(150): 0.670\n",
            "Average score(200): 0.681\n",
            "Average score(250): 0.670\n",
            "Average score(300): 0.670\n",
            "Average score(350): 0.659\n"
          ],
          "name": "stdout"
        }
      ]
    },
    {
      "cell_type": "code",
      "metadata": {
        "colab": {
          "base_uri": "https://localhost:8080/"
        },
        "id": "E9DDwQPsemzq",
        "outputId": "c4bab167-45dd-45ec-cf40-fc6479d739fa"
      },
      "source": [
        "from xgboost import XGBClassifier\n",
        "model = XGBClassifier()\n",
        "preds = model.fit(X_train, y_train).predict(X_test)\n",
        "print('Forest Train accuracy %s' % model.score(X_train, y_train)) \n",
        "print('Trees Test accuracy %s' % accuracy_score(preds, y_test)) "
      ],
      "execution_count": null,
      "outputs": [
        {
          "output_type": "stream",
          "text": [
            "Forest Train accuracy 0.9425287356321839\n",
            "Trees Test accuracy 0.6\n"
          ],
          "name": "stdout"
        }
      ]
    }
  ]
}